{
  "nbformat": 4,
  "nbformat_minor": 0,
  "metadata": {
    "colab": {
      "provenance": [],
      "collapsed_sections": [],
      "toc_visible": true,
      "mount_file_id": "1unQDm2tYnnxj3WJ8AyRLNjPHsO5pIciN",
      "authorship_tag": "ABX9TyN1xBSo2w6lwoAqAUNaTrU8",
      "include_colab_link": true
    },
    "kernelspec": {
      "name": "python3",
      "display_name": "Python 3"
    },
    "language_info": {
      "name": "python"
    }
  },
  "cells": [
    {
      "cell_type": "markdown",
      "metadata": {
        "id": "view-in-github",
        "colab_type": "text"
      },
      "source": [
        "<a href=\"https://colab.research.google.com/github/danicardonaibz/molecular_equilibrium/blob/main/ML_Material_Science.ipynb\" target=\"_parent\"><img src=\"https://colab.research.google.com/assets/colab-badge.svg\" alt=\"Open In Colab\"/></a>"
      ]
    },
    {
      "cell_type": "markdown",
      "source": [
        "# Project in machine Learning for Materials Science"
      ],
      "metadata": {
        "id": "JMpfCNoter9S"
      }
    },
    {
      "cell_type": "markdown",
      "source": [
        "https://github.com/tonyreina/chemistry/blob/main/chemistry_predict_logP_tensorflow.ipynb"
      ],
      "metadata": {
        "id": "Xxq6Ek4qdCWW"
      }
    },
    {
      "cell_type": "code",
      "source": [
        "# First we will install some dependencies\n",
        "%pip install rdkit\n",
        "%pip install py3Dmol\n",
        "%pip install git+https://github.com/samoturk/mol2vec"
      ],
      "metadata": {
        "colab": {
          "base_uri": "https://localhost:8080/"
        },
        "id": "8D90uWoMn1f0",
        "outputId": "4fcb0e72-4d96-4956-ee63-c7a4de021f93"
      },
      "execution_count": 2,
      "outputs": [
        {
          "output_type": "stream",
          "name": "stdout",
          "text": [
            "Looking in indexes: https://pypi.org/simple, https://us-python.pkg.dev/colab-wheels/public/simple/\n",
            "Collecting rdkit\n",
            "  Downloading rdkit-2022.9.1-cp37-cp37m-manylinux_2_17_x86_64.manylinux2014_x86_64.whl (29.5 MB)\n",
            "\u001b[K     |████████████████████████████████| 29.5 MB 1.4 MB/s \n",
            "\u001b[?25hRequirement already satisfied: Pillow in /usr/local/lib/python3.7/dist-packages (from rdkit) (7.1.2)\n",
            "Requirement already satisfied: numpy in /usr/local/lib/python3.7/dist-packages (from rdkit) (1.21.6)\n",
            "Installing collected packages: rdkit\n",
            "Successfully installed rdkit-2022.9.1\n",
            "Looking in indexes: https://pypi.org/simple, https://us-python.pkg.dev/colab-wheels/public/simple/\n",
            "Collecting py3Dmol\n",
            "  Downloading py3Dmol-1.8.1-py2.py3-none-any.whl (6.5 kB)\n",
            "Installing collected packages: py3Dmol\n",
            "Successfully installed py3Dmol-1.8.1\n",
            "Looking in indexes: https://pypi.org/simple, https://us-python.pkg.dev/colab-wheels/public/simple/\n",
            "Collecting git+https://github.com/samoturk/mol2vec\n",
            "  Cloning https://github.com/samoturk/mol2vec to /tmp/pip-req-build-hpg3o_yk\n",
            "  Running command git clone -q https://github.com/samoturk/mol2vec /tmp/pip-req-build-hpg3o_yk\n",
            "Requirement already satisfied: numpy in /usr/local/lib/python3.7/dist-packages (from mol2vec==0.1) (1.21.6)\n",
            "Requirement already satisfied: gensim in /usr/local/lib/python3.7/dist-packages (from mol2vec==0.1) (3.6.0)\n",
            "Requirement already satisfied: tqdm in /usr/local/lib/python3.7/dist-packages (from mol2vec==0.1) (4.64.1)\n",
            "Requirement already satisfied: joblib in /usr/local/lib/python3.7/dist-packages (from mol2vec==0.1) (1.2.0)\n",
            "Requirement already satisfied: pandas in /usr/local/lib/python3.7/dist-packages (from mol2vec==0.1) (1.3.5)\n",
            "Requirement already satisfied: matplotlib in /usr/local/lib/python3.7/dist-packages (from mol2vec==0.1) (3.2.2)\n",
            "Requirement already satisfied: IPython in /usr/local/lib/python3.7/dist-packages (from mol2vec==0.1) (7.9.0)\n",
            "Requirement already satisfied: seaborn in /usr/local/lib/python3.7/dist-packages (from mol2vec==0.1) (0.11.2)\n",
            "Requirement already satisfied: six>=1.5.0 in /usr/local/lib/python3.7/dist-packages (from gensim->mol2vec==0.1) (1.15.0)\n",
            "Requirement already satisfied: scipy>=0.18.1 in /usr/local/lib/python3.7/dist-packages (from gensim->mol2vec==0.1) (1.7.3)\n",
            "Requirement already satisfied: smart-open>=1.2.1 in /usr/local/lib/python3.7/dist-packages (from gensim->mol2vec==0.1) (5.2.1)\n",
            "Requirement already satisfied: pygments in /usr/local/lib/python3.7/dist-packages (from IPython->mol2vec==0.1) (2.6.1)\n",
            "Requirement already satisfied: prompt-toolkit<2.1.0,>=2.0.0 in /usr/local/lib/python3.7/dist-packages (from IPython->mol2vec==0.1) (2.0.10)\n",
            "Collecting jedi>=0.10\n",
            "  Downloading jedi-0.18.1-py2.py3-none-any.whl (1.6 MB)\n",
            "\u001b[K     |████████████████████████████████| 1.6 MB 33.4 MB/s \n",
            "\u001b[?25hRequirement already satisfied: traitlets>=4.2 in /usr/local/lib/python3.7/dist-packages (from IPython->mol2vec==0.1) (5.1.1)\n",
            "Requirement already satisfied: backcall in /usr/local/lib/python3.7/dist-packages (from IPython->mol2vec==0.1) (0.2.0)\n",
            "Requirement already satisfied: pickleshare in /usr/local/lib/python3.7/dist-packages (from IPython->mol2vec==0.1) (0.7.5)\n",
            "Requirement already satisfied: decorator in /usr/local/lib/python3.7/dist-packages (from IPython->mol2vec==0.1) (4.4.2)\n",
            "Requirement already satisfied: pexpect in /usr/local/lib/python3.7/dist-packages (from IPython->mol2vec==0.1) (4.8.0)\n",
            "Requirement already satisfied: setuptools>=18.5 in /usr/local/lib/python3.7/dist-packages (from IPython->mol2vec==0.1) (57.4.0)\n",
            "Requirement already satisfied: parso<0.9.0,>=0.8.0 in /usr/local/lib/python3.7/dist-packages (from jedi>=0.10->IPython->mol2vec==0.1) (0.8.3)\n",
            "Requirement already satisfied: wcwidth in /usr/local/lib/python3.7/dist-packages (from prompt-toolkit<2.1.0,>=2.0.0->IPython->mol2vec==0.1) (0.2.5)\n",
            "Requirement already satisfied: cycler>=0.10 in /usr/local/lib/python3.7/dist-packages (from matplotlib->mol2vec==0.1) (0.11.0)\n",
            "Requirement already satisfied: pyparsing!=2.0.4,!=2.1.2,!=2.1.6,>=2.0.1 in /usr/local/lib/python3.7/dist-packages (from matplotlib->mol2vec==0.1) (3.0.9)\n",
            "Requirement already satisfied: python-dateutil>=2.1 in /usr/local/lib/python3.7/dist-packages (from matplotlib->mol2vec==0.1) (2.8.2)\n",
            "Requirement already satisfied: kiwisolver>=1.0.1 in /usr/local/lib/python3.7/dist-packages (from matplotlib->mol2vec==0.1) (1.4.4)\n",
            "Requirement already satisfied: typing-extensions in /usr/local/lib/python3.7/dist-packages (from kiwisolver>=1.0.1->matplotlib->mol2vec==0.1) (4.1.1)\n",
            "Requirement already satisfied: pytz>=2017.3 in /usr/local/lib/python3.7/dist-packages (from pandas->mol2vec==0.1) (2022.5)\n",
            "Requirement already satisfied: ptyprocess>=0.5 in /usr/local/lib/python3.7/dist-packages (from pexpect->IPython->mol2vec==0.1) (0.7.0)\n",
            "Building wheels for collected packages: mol2vec\n",
            "  Building wheel for mol2vec (setup.py) ... \u001b[?25l\u001b[?25hdone\n",
            "  Created wheel for mol2vec: filename=mol2vec-0.1-py3-none-any.whl size=14038 sha256=12d960f5303335d1ac312ea3098ea0b522f4cdff584336cfd7b87d8a3b0a12f7\n",
            "  Stored in directory: /tmp/pip-ephem-wheel-cache-f8o0655f/wheels/80/d5/e1/90dc211e4a17780f99eaec43328470a70284cd731ef2a77034\n",
            "Successfully built mol2vec\n",
            "Installing collected packages: jedi, mol2vec\n",
            "Successfully installed jedi-0.18.1 mol2vec-0.1\n"
          ]
        }
      ]
    },
    {
      "cell_type": "code",
      "execution_count": 3,
      "metadata": {
        "id": "1kJGF0dSXX1w"
      },
      "outputs": [],
      "source": [
        "import pandas as pd\n",
        "import numpy as np\n",
        "import re\n",
        "from google.colab import drive\n",
        "from itertools import zip_longest\n",
        "from collections import defaultdict\n",
        "\n",
        "import json\n",
        "from matplotlib import pyplot as plt\n",
        "import seaborn as sns\n",
        "from rdkit import Chem"
      ]
    },
    {
      "cell_type": "markdown",
      "source": [
        "## Step 1: Loading our data"
      ],
      "metadata": {
        "id": "baohp59He39L"
      }
    },
    {
      "cell_type": "code",
      "source": [
        "drive.mount('/content/drive')"
      ],
      "metadata": {
        "colab": {
          "base_uri": "https://localhost:8080/"
        },
        "id": "hEMCC_dnVFzX",
        "outputId": "70603a1b-9e6b-4bb6-9957-790e9285ec77"
      },
      "execution_count": 4,
      "outputs": [
        {
          "output_type": "stream",
          "name": "stdout",
          "text": [
            "Drive already mounted at /content/drive; to attempt to forcibly remount, call drive.mount(\"/content/drive\", force_remount=True).\n"
          ]
        }
      ]
    },
    {
      "cell_type": "code",
      "source": [
        "df = pd.read_json(\"/content/drive/MyDrive/m1507656/df_62k.json\", orient='split')"
      ],
      "metadata": {
        "id": "be_GNDhoXkH3"
      },
      "execution_count": 5,
      "outputs": []
    },
    {
      "cell_type": "code",
      "source": [
        "df.head(4)"
      ],
      "metadata": {
        "colab": {
          "base_uri": "https://localhost:8080/",
          "height": 476
        },
        "id": "cBv5o-ygYQl-",
        "outputId": "dc828ed4-bb54-4efb-8d42-fcd133bcb8be"
      },
      "execution_count": 6,
      "outputs": [
        {
          "output_type": "execute_result",
          "data": {
            "text/plain": [
              "  refcode_csd                                   canonical_smiles  \\\n",
              "0      ABAFEQ  Cc1ccc(cc1)S(=O)(=O)N[C@H](c1nnc(o1)SCc1ccc(cc...   \n",
              "1      ABEDOC  N#CC(=C(c1ccccc1)c1ccccc1)[C@H](c1ccccc1)NS(=O...   \n",
              "2      LODZOT                     n1ccc(cc1)c1nnc(o1)c1cccs1\\t\\n   \n",
              "3      LUSREW                CC/C=C(/S(=O)(=O)c1ccc(cc1)C)\\F\\t\\n   \n",
              "\n",
              "                                               inchi  number_of_atoms  \\\n",
              "0  InChI=1S/C18H18ClN3O3S2/c1-12-3-9-16(10-4-12)2...               45   \n",
              "1  InChI=1S/C28H22N2O2S/c29-21-26(27(22-13-5-1-6-...               55   \n",
              "2  InChI=1S/C11H7N3OS/c1-2-9(16-7-1)11-14-13-10(1...               23   \n",
              "3  InChI=1S/C11H13FO2S/c1-3-4-11(12)15(13,14)10-7...               28   \n",
              "\n",
              "                                     xyz_pbe_relaxed  \\\n",
              "0  45\\n\\nO      39.55724515      33.75271314     ...   \n",
              "1  55\\n\\nC       8.74281024      13.44863575     ...   \n",
              "2  23\\n\\nN      23.84904338      42.50577669     ...   \n",
              "3  28\\n\\nC      36.52340453      39.64067030     ...   \n",
              "\n",
              "                                    energies_occ_pbe  \\\n",
              "0  [-2759.71553, -2416.30896, -2412.55736, -513.9...   \n",
              "1  [-2416.32097, -510.97599, -510.93427, -382.106...   \n",
              "2  [-2412.75371, -513.88451, -382.11294, -382.041...   \n",
              "3  [-2416.01387, -662.1882, -510.96036, -510.9032...   \n",
              "\n",
              "                         energies_occ_pbe0_vac_tier2  \\\n",
              "0  [-2788.05127, -2443.36662, -2439.20276, -526.4...   \n",
              "1  [-2443.36734, -523.36541, -523.31866, -392.998...   \n",
              "2  [-2439.38001, -526.39732, -393.09445, -393.002...   \n",
              "3  [-2443.06569, -676.06906, -523.38098, -523.310...   \n",
              "\n",
              "                             energies_occ_pbe0_water  \\\n",
              "0                                               None   \n",
              "1                                               None   \n",
              "2                                               None   \n",
              "3  [-2443.54535, -676.3259, -523.94531, -523.9294...   \n",
              "\n",
              "  energies_occ_pbe0_vac_tzvp energies_occ_pbe0_vac_qzvp  ...  \\\n",
              "0                       None                       None  ...   \n",
              "1                       None                       None  ...   \n",
              "2                       None                       None  ...   \n",
              "3                       None                       None  ...   \n",
              "\n",
              "  energies_unocc_gw_qzvp cbs_unocc_gw total_energy_pbe  \\\n",
              "0                   None         None    -63908.261677   \n",
              "1                   None         None    -47344.131203   \n",
              "2                   None         None    -28915.979909   \n",
              "3                   None         None    -29310.525400   \n",
              "\n",
              "  total_energy_pbe0_vac_tier2 total_energy_pbe0_water  \\\n",
              "0               -63911.485930                     NaN   \n",
              "1               -47346.537633                     NaN   \n",
              "2               -28916.826630                     NaN   \n",
              "3               -29311.929019           -29312.152528   \n",
              "\n",
              "  total_energy_pbe0_vac_tzvp total_energy_pbe0_vac_qzvp  \\\n",
              "0                        NaN                        NaN   \n",
              "1                        NaN                        NaN   \n",
              "2                        NaN                        NaN   \n",
              "3                        NaN                        NaN   \n",
              "\n",
              "                                       hirshfeld_pbe  \\\n",
              "0  [-0.27470711000000003, 0.44228032, -0.26425776...   \n",
              "1  [-0.04383635, 0.0489517, -0.04317942, 0.049465...   \n",
              "2  [-0.15366001, 0.01755584, 0.05299325, -0.04774...   \n",
              "3  [-0.10553088000000001, 0.052016810000000004, 0...   \n",
              "\n",
              "                            hirshfeld_pbe0_vac_tier2  \\\n",
              "0  [-0.29802765000000003, 0.47691104, -0.28757556...   \n",
              "1  [-0.04511281, 0.05043578, -0.04467607, 0.05086...   \n",
              "2  [-0.16233532, 0.02121239, 0.05594731, -0.06621...   \n",
              "3  [-0.10641357, 0.053639570000000004, 0.05095191...   \n",
              "\n",
              "                                hirshfeld_pbe0_water  \n",
              "0                                               None  \n",
              "1                                               None  \n",
              "2                                               None  \n",
              "3  [-0.10396546, 0.06349725, 0.0567905, 0.0529875...  \n",
              "\n",
              "[4 rows x 29 columns]"
            ],
            "text/html": [
              "\n",
              "  <div id=\"df-a56e6862-8b02-4dfa-a4c6-12e1b4918208\">\n",
              "    <div class=\"colab-df-container\">\n",
              "      <div>\n",
              "<style scoped>\n",
              "    .dataframe tbody tr th:only-of-type {\n",
              "        vertical-align: middle;\n",
              "    }\n",
              "\n",
              "    .dataframe tbody tr th {\n",
              "        vertical-align: top;\n",
              "    }\n",
              "\n",
              "    .dataframe thead th {\n",
              "        text-align: right;\n",
              "    }\n",
              "</style>\n",
              "<table border=\"1\" class=\"dataframe\">\n",
              "  <thead>\n",
              "    <tr style=\"text-align: right;\">\n",
              "      <th></th>\n",
              "      <th>refcode_csd</th>\n",
              "      <th>canonical_smiles</th>\n",
              "      <th>inchi</th>\n",
              "      <th>number_of_atoms</th>\n",
              "      <th>xyz_pbe_relaxed</th>\n",
              "      <th>energies_occ_pbe</th>\n",
              "      <th>energies_occ_pbe0_vac_tier2</th>\n",
              "      <th>energies_occ_pbe0_water</th>\n",
              "      <th>energies_occ_pbe0_vac_tzvp</th>\n",
              "      <th>energies_occ_pbe0_vac_qzvp</th>\n",
              "      <th>...</th>\n",
              "      <th>energies_unocc_gw_qzvp</th>\n",
              "      <th>cbs_unocc_gw</th>\n",
              "      <th>total_energy_pbe</th>\n",
              "      <th>total_energy_pbe0_vac_tier2</th>\n",
              "      <th>total_energy_pbe0_water</th>\n",
              "      <th>total_energy_pbe0_vac_tzvp</th>\n",
              "      <th>total_energy_pbe0_vac_qzvp</th>\n",
              "      <th>hirshfeld_pbe</th>\n",
              "      <th>hirshfeld_pbe0_vac_tier2</th>\n",
              "      <th>hirshfeld_pbe0_water</th>\n",
              "    </tr>\n",
              "  </thead>\n",
              "  <tbody>\n",
              "    <tr>\n",
              "      <th>0</th>\n",
              "      <td>ABAFEQ</td>\n",
              "      <td>Cc1ccc(cc1)S(=O)(=O)N[C@H](c1nnc(o1)SCc1ccc(cc...</td>\n",
              "      <td>InChI=1S/C18H18ClN3O3S2/c1-12-3-9-16(10-4-12)2...</td>\n",
              "      <td>45</td>\n",
              "      <td>45\\n\\nO      39.55724515      33.75271314     ...</td>\n",
              "      <td>[-2759.71553, -2416.30896, -2412.55736, -513.9...</td>\n",
              "      <td>[-2788.05127, -2443.36662, -2439.20276, -526.4...</td>\n",
              "      <td>None</td>\n",
              "      <td>None</td>\n",
              "      <td>None</td>\n",
              "      <td>...</td>\n",
              "      <td>None</td>\n",
              "      <td>None</td>\n",
              "      <td>-63908.261677</td>\n",
              "      <td>-63911.485930</td>\n",
              "      <td>NaN</td>\n",
              "      <td>NaN</td>\n",
              "      <td>NaN</td>\n",
              "      <td>[-0.27470711000000003, 0.44228032, -0.26425776...</td>\n",
              "      <td>[-0.29802765000000003, 0.47691104, -0.28757556...</td>\n",
              "      <td>None</td>\n",
              "    </tr>\n",
              "    <tr>\n",
              "      <th>1</th>\n",
              "      <td>ABEDOC</td>\n",
              "      <td>N#CC(=C(c1ccccc1)c1ccccc1)[C@H](c1ccccc1)NS(=O...</td>\n",
              "      <td>InChI=1S/C28H22N2O2S/c29-21-26(27(22-13-5-1-6-...</td>\n",
              "      <td>55</td>\n",
              "      <td>55\\n\\nC       8.74281024      13.44863575     ...</td>\n",
              "      <td>[-2416.32097, -510.97599, -510.93427, -382.106...</td>\n",
              "      <td>[-2443.36734, -523.36541, -523.31866, -392.998...</td>\n",
              "      <td>None</td>\n",
              "      <td>None</td>\n",
              "      <td>None</td>\n",
              "      <td>...</td>\n",
              "      <td>None</td>\n",
              "      <td>None</td>\n",
              "      <td>-47344.131203</td>\n",
              "      <td>-47346.537633</td>\n",
              "      <td>NaN</td>\n",
              "      <td>NaN</td>\n",
              "      <td>NaN</td>\n",
              "      <td>[-0.04383635, 0.0489517, -0.04317942, 0.049465...</td>\n",
              "      <td>[-0.04511281, 0.05043578, -0.04467607, 0.05086...</td>\n",
              "      <td>None</td>\n",
              "    </tr>\n",
              "    <tr>\n",
              "      <th>2</th>\n",
              "      <td>LODZOT</td>\n",
              "      <td>n1ccc(cc1)c1nnc(o1)c1cccs1\\t\\n</td>\n",
              "      <td>InChI=1S/C11H7N3OS/c1-2-9(16-7-1)11-14-13-10(1...</td>\n",
              "      <td>23</td>\n",
              "      <td>23\\n\\nN      23.84904338      42.50577669     ...</td>\n",
              "      <td>[-2412.75371, -513.88451, -382.11294, -382.041...</td>\n",
              "      <td>[-2439.38001, -526.39732, -393.09445, -393.002...</td>\n",
              "      <td>None</td>\n",
              "      <td>None</td>\n",
              "      <td>None</td>\n",
              "      <td>...</td>\n",
              "      <td>None</td>\n",
              "      <td>None</td>\n",
              "      <td>-28915.979909</td>\n",
              "      <td>-28916.826630</td>\n",
              "      <td>NaN</td>\n",
              "      <td>NaN</td>\n",
              "      <td>NaN</td>\n",
              "      <td>[-0.15366001, 0.01755584, 0.05299325, -0.04774...</td>\n",
              "      <td>[-0.16233532, 0.02121239, 0.05594731, -0.06621...</td>\n",
              "      <td>None</td>\n",
              "    </tr>\n",
              "    <tr>\n",
              "      <th>3</th>\n",
              "      <td>LUSREW</td>\n",
              "      <td>CC/C=C(/S(=O)(=O)c1ccc(cc1)C)\\F\\t\\n</td>\n",
              "      <td>InChI=1S/C11H13FO2S/c1-3-4-11(12)15(13,14)10-7...</td>\n",
              "      <td>28</td>\n",
              "      <td>28\\n\\nC      36.52340453      39.64067030     ...</td>\n",
              "      <td>[-2416.01387, -662.1882, -510.96036, -510.9032...</td>\n",
              "      <td>[-2443.06569, -676.06906, -523.38098, -523.310...</td>\n",
              "      <td>[-2443.54535, -676.3259, -523.94531, -523.9294...</td>\n",
              "      <td>None</td>\n",
              "      <td>None</td>\n",
              "      <td>...</td>\n",
              "      <td>None</td>\n",
              "      <td>None</td>\n",
              "      <td>-29310.525400</td>\n",
              "      <td>-29311.929019</td>\n",
              "      <td>-29312.152528</td>\n",
              "      <td>NaN</td>\n",
              "      <td>NaN</td>\n",
              "      <td>[-0.10553088000000001, 0.052016810000000004, 0...</td>\n",
              "      <td>[-0.10641357, 0.053639570000000004, 0.05095191...</td>\n",
              "      <td>[-0.10396546, 0.06349725, 0.0567905, 0.0529875...</td>\n",
              "    </tr>\n",
              "  </tbody>\n",
              "</table>\n",
              "<p>4 rows × 29 columns</p>\n",
              "</div>\n",
              "      <button class=\"colab-df-convert\" onclick=\"convertToInteractive('df-a56e6862-8b02-4dfa-a4c6-12e1b4918208')\"\n",
              "              title=\"Convert this dataframe to an interactive table.\"\n",
              "              style=\"display:none;\">\n",
              "        \n",
              "  <svg xmlns=\"http://www.w3.org/2000/svg\" height=\"24px\"viewBox=\"0 0 24 24\"\n",
              "       width=\"24px\">\n",
              "    <path d=\"M0 0h24v24H0V0z\" fill=\"none\"/>\n",
              "    <path d=\"M18.56 5.44l.94 2.06.94-2.06 2.06-.94-2.06-.94-.94-2.06-.94 2.06-2.06.94zm-11 1L8.5 8.5l.94-2.06 2.06-.94-2.06-.94L8.5 2.5l-.94 2.06-2.06.94zm10 10l.94 2.06.94-2.06 2.06-.94-2.06-.94-.94-2.06-.94 2.06-2.06.94z\"/><path d=\"M17.41 7.96l-1.37-1.37c-.4-.4-.92-.59-1.43-.59-.52 0-1.04.2-1.43.59L10.3 9.45l-7.72 7.72c-.78.78-.78 2.05 0 2.83L4 21.41c.39.39.9.59 1.41.59.51 0 1.02-.2 1.41-.59l7.78-7.78 2.81-2.81c.8-.78.8-2.07 0-2.86zM5.41 20L4 18.59l7.72-7.72 1.47 1.35L5.41 20z\"/>\n",
              "  </svg>\n",
              "      </button>\n",
              "      \n",
              "  <style>\n",
              "    .colab-df-container {\n",
              "      display:flex;\n",
              "      flex-wrap:wrap;\n",
              "      gap: 12px;\n",
              "    }\n",
              "\n",
              "    .colab-df-convert {\n",
              "      background-color: #E8F0FE;\n",
              "      border: none;\n",
              "      border-radius: 50%;\n",
              "      cursor: pointer;\n",
              "      display: none;\n",
              "      fill: #1967D2;\n",
              "      height: 32px;\n",
              "      padding: 0 0 0 0;\n",
              "      width: 32px;\n",
              "    }\n",
              "\n",
              "    .colab-df-convert:hover {\n",
              "      background-color: #E2EBFA;\n",
              "      box-shadow: 0px 1px 2px rgba(60, 64, 67, 0.3), 0px 1px 3px 1px rgba(60, 64, 67, 0.15);\n",
              "      fill: #174EA6;\n",
              "    }\n",
              "\n",
              "    [theme=dark] .colab-df-convert {\n",
              "      background-color: #3B4455;\n",
              "      fill: #D2E3FC;\n",
              "    }\n",
              "\n",
              "    [theme=dark] .colab-df-convert:hover {\n",
              "      background-color: #434B5C;\n",
              "      box-shadow: 0px 1px 3px 1px rgba(0, 0, 0, 0.15);\n",
              "      filter: drop-shadow(0px 1px 2px rgba(0, 0, 0, 0.3));\n",
              "      fill: #FFFFFF;\n",
              "    }\n",
              "  </style>\n",
              "\n",
              "      <script>\n",
              "        const buttonEl =\n",
              "          document.querySelector('#df-a56e6862-8b02-4dfa-a4c6-12e1b4918208 button.colab-df-convert');\n",
              "        buttonEl.style.display =\n",
              "          google.colab.kernel.accessAllowed ? 'block' : 'none';\n",
              "\n",
              "        async function convertToInteractive(key) {\n",
              "          const element = document.querySelector('#df-a56e6862-8b02-4dfa-a4c6-12e1b4918208');\n",
              "          const dataTable =\n",
              "            await google.colab.kernel.invokeFunction('convertToInteractive',\n",
              "                                                     [key], {});\n",
              "          if (!dataTable) return;\n",
              "\n",
              "          const docLinkHtml = 'Like what you see? Visit the ' +\n",
              "            '<a target=\"_blank\" href=https://colab.research.google.com/notebooks/data_table.ipynb>data table notebook</a>'\n",
              "            + ' to learn more about interactive tables.';\n",
              "          element.innerHTML = '';\n",
              "          dataTable['output_type'] = 'display_data';\n",
              "          await google.colab.output.renderOutput(dataTable, element);\n",
              "          const docLink = document.createElement('div');\n",
              "          docLink.innerHTML = docLinkHtml;\n",
              "          element.appendChild(docLink);\n",
              "        }\n",
              "      </script>\n",
              "    </div>\n",
              "  </div>\n",
              "  "
            ]
          },
          "metadata": {},
          "execution_count": 6
        }
      ]
    },
    {
      "cell_type": "code",
      "source": [
        "df.reset_index(inplace=True, drop = True)"
      ],
      "metadata": {
        "id": "lCwpEqGdOnSg"
      },
      "execution_count": 7,
      "outputs": []
    },
    {
      "cell_type": "code",
      "source": [
        "df.columns.tolist()"
      ],
      "metadata": {
        "colab": {
          "base_uri": "https://localhost:8080/"
        },
        "id": "4OtcgTorVTuC",
        "outputId": "564d0499-1416-48f9-d973-0aea8eb4a5dc"
      },
      "execution_count": 8,
      "outputs": [
        {
          "output_type": "execute_result",
          "data": {
            "text/plain": [
              "['refcode_csd',\n",
              " 'canonical_smiles',\n",
              " 'inchi',\n",
              " 'number_of_atoms',\n",
              " 'xyz_pbe_relaxed',\n",
              " 'energies_occ_pbe',\n",
              " 'energies_occ_pbe0_vac_tier2',\n",
              " 'energies_occ_pbe0_water',\n",
              " 'energies_occ_pbe0_vac_tzvp',\n",
              " 'energies_occ_pbe0_vac_qzvp',\n",
              " 'energies_occ_gw_tzvp',\n",
              " 'energies_occ_gw_qzvp',\n",
              " 'cbs_occ_gw',\n",
              " 'energies_unocc_pbe',\n",
              " 'energies_unocc_pbe0_vac_tier2',\n",
              " 'energies_unocc_pbe0_water',\n",
              " 'energies_unocc_pbe0_vac_tzvp',\n",
              " 'energies_unocc_pbe0_vac_qzvp',\n",
              " 'energies_unocc_gw_tzvp',\n",
              " 'energies_unocc_gw_qzvp',\n",
              " 'cbs_unocc_gw',\n",
              " 'total_energy_pbe',\n",
              " 'total_energy_pbe0_vac_tier2',\n",
              " 'total_energy_pbe0_water',\n",
              " 'total_energy_pbe0_vac_tzvp',\n",
              " 'total_energy_pbe0_vac_qzvp',\n",
              " 'hirshfeld_pbe',\n",
              " 'hirshfeld_pbe0_vac_tier2',\n",
              " 'hirshfeld_pbe0_water']"
            ]
          },
          "metadata": {},
          "execution_count": 8
        }
      ]
    },
    {
      "cell_type": "markdown",
      "source": [
        "## Step 2: Preprocessing the data"
      ],
      "metadata": {
        "id": "RFyE8UaxwV36"
      }
    },
    {
      "cell_type": "markdown",
      "source": [
        "### 2.1: Subsetting the dataframe"
      ],
      "metadata": {
        "id": "Y5KcarQ_UZnI"
      }
    },
    {
      "cell_type": "code",
      "source": [
        "relevant_columns = ['refcode_csd', 'canonical_smiles', 'xyz_pbe_relaxed', 'total_energy_pbe']\n",
        "df_subset = df[relevant_columns]\n",
        "df_subset.head()"
      ],
      "metadata": {
        "colab": {
          "base_uri": "https://localhost:8080/",
          "height": 206
        },
        "id": "wf-hhMwQUfk9",
        "outputId": "513bcb27-e169-4d04-d367-5b8c837dd091"
      },
      "execution_count": 9,
      "outputs": [
        {
          "output_type": "execute_result",
          "data": {
            "text/plain": [
              "  refcode_csd                                   canonical_smiles  \\\n",
              "0      ABAFEQ  Cc1ccc(cc1)S(=O)(=O)N[C@H](c1nnc(o1)SCc1ccc(cc...   \n",
              "1      ABEDOC  N#CC(=C(c1ccccc1)c1ccccc1)[C@H](c1ccccc1)NS(=O...   \n",
              "2      LODZOT                     n1ccc(cc1)c1nnc(o1)c1cccs1\\t\\n   \n",
              "3      LUSREW                CC/C=C(/S(=O)(=O)c1ccc(cc1)C)\\F\\t\\n   \n",
              "4    NOMBEA01            OC(=O)c1cc(N(=O)=O)c(c(c1)N(=O)=O)C\\t\\n   \n",
              "\n",
              "                                     xyz_pbe_relaxed  total_energy_pbe  \n",
              "0  45\\n\\nO      39.55724515      33.75271314     ...     -63908.261677  \n",
              "1  55\\n\\nC       8.74281024      13.44863575     ...     -47344.131203  \n",
              "2  23\\n\\nN      23.84904338      42.50577669     ...     -28915.979909  \n",
              "3  28\\n\\nC      36.52340453      39.64067030     ...     -29310.525400  \n",
              "4  22\\n\\nC 3.95256786 17.67855833 24.82877401 \\nN...     -23659.206412  "
            ],
            "text/html": [
              "\n",
              "  <div id=\"df-4d64ea0b-19bc-4fc4-a4ea-045a7e4a5df6\">\n",
              "    <div class=\"colab-df-container\">\n",
              "      <div>\n",
              "<style scoped>\n",
              "    .dataframe tbody tr th:only-of-type {\n",
              "        vertical-align: middle;\n",
              "    }\n",
              "\n",
              "    .dataframe tbody tr th {\n",
              "        vertical-align: top;\n",
              "    }\n",
              "\n",
              "    .dataframe thead th {\n",
              "        text-align: right;\n",
              "    }\n",
              "</style>\n",
              "<table border=\"1\" class=\"dataframe\">\n",
              "  <thead>\n",
              "    <tr style=\"text-align: right;\">\n",
              "      <th></th>\n",
              "      <th>refcode_csd</th>\n",
              "      <th>canonical_smiles</th>\n",
              "      <th>xyz_pbe_relaxed</th>\n",
              "      <th>total_energy_pbe</th>\n",
              "    </tr>\n",
              "  </thead>\n",
              "  <tbody>\n",
              "    <tr>\n",
              "      <th>0</th>\n",
              "      <td>ABAFEQ</td>\n",
              "      <td>Cc1ccc(cc1)S(=O)(=O)N[C@H](c1nnc(o1)SCc1ccc(cc...</td>\n",
              "      <td>45\\n\\nO      39.55724515      33.75271314     ...</td>\n",
              "      <td>-63908.261677</td>\n",
              "    </tr>\n",
              "    <tr>\n",
              "      <th>1</th>\n",
              "      <td>ABEDOC</td>\n",
              "      <td>N#CC(=C(c1ccccc1)c1ccccc1)[C@H](c1ccccc1)NS(=O...</td>\n",
              "      <td>55\\n\\nC       8.74281024      13.44863575     ...</td>\n",
              "      <td>-47344.131203</td>\n",
              "    </tr>\n",
              "    <tr>\n",
              "      <th>2</th>\n",
              "      <td>LODZOT</td>\n",
              "      <td>n1ccc(cc1)c1nnc(o1)c1cccs1\\t\\n</td>\n",
              "      <td>23\\n\\nN      23.84904338      42.50577669     ...</td>\n",
              "      <td>-28915.979909</td>\n",
              "    </tr>\n",
              "    <tr>\n",
              "      <th>3</th>\n",
              "      <td>LUSREW</td>\n",
              "      <td>CC/C=C(/S(=O)(=O)c1ccc(cc1)C)\\F\\t\\n</td>\n",
              "      <td>28\\n\\nC      36.52340453      39.64067030     ...</td>\n",
              "      <td>-29310.525400</td>\n",
              "    </tr>\n",
              "    <tr>\n",
              "      <th>4</th>\n",
              "      <td>NOMBEA01</td>\n",
              "      <td>OC(=O)c1cc(N(=O)=O)c(c(c1)N(=O)=O)C\\t\\n</td>\n",
              "      <td>22\\n\\nC 3.95256786 17.67855833 24.82877401 \\nN...</td>\n",
              "      <td>-23659.206412</td>\n",
              "    </tr>\n",
              "  </tbody>\n",
              "</table>\n",
              "</div>\n",
              "      <button class=\"colab-df-convert\" onclick=\"convertToInteractive('df-4d64ea0b-19bc-4fc4-a4ea-045a7e4a5df6')\"\n",
              "              title=\"Convert this dataframe to an interactive table.\"\n",
              "              style=\"display:none;\">\n",
              "        \n",
              "  <svg xmlns=\"http://www.w3.org/2000/svg\" height=\"24px\"viewBox=\"0 0 24 24\"\n",
              "       width=\"24px\">\n",
              "    <path d=\"M0 0h24v24H0V0z\" fill=\"none\"/>\n",
              "    <path d=\"M18.56 5.44l.94 2.06.94-2.06 2.06-.94-2.06-.94-.94-2.06-.94 2.06-2.06.94zm-11 1L8.5 8.5l.94-2.06 2.06-.94-2.06-.94L8.5 2.5l-.94 2.06-2.06.94zm10 10l.94 2.06.94-2.06 2.06-.94-2.06-.94-.94-2.06-.94 2.06-2.06.94z\"/><path d=\"M17.41 7.96l-1.37-1.37c-.4-.4-.92-.59-1.43-.59-.52 0-1.04.2-1.43.59L10.3 9.45l-7.72 7.72c-.78.78-.78 2.05 0 2.83L4 21.41c.39.39.9.59 1.41.59.51 0 1.02-.2 1.41-.59l7.78-7.78 2.81-2.81c.8-.78.8-2.07 0-2.86zM5.41 20L4 18.59l7.72-7.72 1.47 1.35L5.41 20z\"/>\n",
              "  </svg>\n",
              "      </button>\n",
              "      \n",
              "  <style>\n",
              "    .colab-df-container {\n",
              "      display:flex;\n",
              "      flex-wrap:wrap;\n",
              "      gap: 12px;\n",
              "    }\n",
              "\n",
              "    .colab-df-convert {\n",
              "      background-color: #E8F0FE;\n",
              "      border: none;\n",
              "      border-radius: 50%;\n",
              "      cursor: pointer;\n",
              "      display: none;\n",
              "      fill: #1967D2;\n",
              "      height: 32px;\n",
              "      padding: 0 0 0 0;\n",
              "      width: 32px;\n",
              "    }\n",
              "\n",
              "    .colab-df-convert:hover {\n",
              "      background-color: #E2EBFA;\n",
              "      box-shadow: 0px 1px 2px rgba(60, 64, 67, 0.3), 0px 1px 3px 1px rgba(60, 64, 67, 0.15);\n",
              "      fill: #174EA6;\n",
              "    }\n",
              "\n",
              "    [theme=dark] .colab-df-convert {\n",
              "      background-color: #3B4455;\n",
              "      fill: #D2E3FC;\n",
              "    }\n",
              "\n",
              "    [theme=dark] .colab-df-convert:hover {\n",
              "      background-color: #434B5C;\n",
              "      box-shadow: 0px 1px 3px 1px rgba(0, 0, 0, 0.15);\n",
              "      filter: drop-shadow(0px 1px 2px rgba(0, 0, 0, 0.3));\n",
              "      fill: #FFFFFF;\n",
              "    }\n",
              "  </style>\n",
              "\n",
              "      <script>\n",
              "        const buttonEl =\n",
              "          document.querySelector('#df-4d64ea0b-19bc-4fc4-a4ea-045a7e4a5df6 button.colab-df-convert');\n",
              "        buttonEl.style.display =\n",
              "          google.colab.kernel.accessAllowed ? 'block' : 'none';\n",
              "\n",
              "        async function convertToInteractive(key) {\n",
              "          const element = document.querySelector('#df-4d64ea0b-19bc-4fc4-a4ea-045a7e4a5df6');\n",
              "          const dataTable =\n",
              "            await google.colab.kernel.invokeFunction('convertToInteractive',\n",
              "                                                     [key], {});\n",
              "          if (!dataTable) return;\n",
              "\n",
              "          const docLinkHtml = 'Like what you see? Visit the ' +\n",
              "            '<a target=\"_blank\" href=https://colab.research.google.com/notebooks/data_table.ipynb>data table notebook</a>'\n",
              "            + ' to learn more about interactive tables.';\n",
              "          element.innerHTML = '';\n",
              "          dataTable['output_type'] = 'display_data';\n",
              "          await google.colab.output.renderOutput(dataTable, element);\n",
              "          const docLink = document.createElement('div');\n",
              "          docLink.innerHTML = docLinkHtml;\n",
              "          element.appendChild(docLink);\n",
              "        }\n",
              "      </script>\n",
              "    </div>\n",
              "  </div>\n",
              "  "
            ]
          },
          "metadata": {},
          "execution_count": 9
        }
      ]
    },
    {
      "cell_type": "markdown",
      "source": [
        "### 2.2: Cleaning canonical SMILES\n",
        "They happen to have \\t\\n characters to indicate end of line. These are going to be removed using a regex expression to match the rest of the strings."
      ],
      "metadata": {
        "id": "7QxMGxSOUlnb"
      }
    },
    {
      "cell_type": "code",
      "source": [
        "df_subset[\"canonical_smiles\"]"
      ],
      "metadata": {
        "colab": {
          "base_uri": "https://localhost:8080/"
        },
        "id": "lnb8A9E9fUxM",
        "outputId": "127ec414-3320-4a90-b9e1-6104f7b258a5"
      },
      "execution_count": 10,
      "outputs": [
        {
          "output_type": "execute_result",
          "data": {
            "text/plain": [
              "0        Cc1ccc(cc1)S(=O)(=O)N[C@H](c1nnc(o1)SCc1ccc(cc...\n",
              "1        N#CC(=C(c1ccccc1)c1ccccc1)[C@H](c1ccccc1)NS(=O...\n",
              "2                           n1ccc(cc1)c1nnc(o1)c1cccs1\\t\\n\n",
              "3                      CC/C=C(/S(=O)(=O)c1ccc(cc1)C)\\F\\t\\n\n",
              "4                  OC(=O)c1cc(N(=O)=O)c(c(c1)N(=O)=O)C\\t\\n\n",
              "                               ...                        \n",
              "61484    COC(=O)c1c(c(C(=O)OC)c(c(c1C(C)(C)C)C(=O)OC)C(...\n",
              "61485             O=C(c1ccccc1O)N/N=C/c1ccc(c(c1)Cl)Cl\\t\\n\n",
              "61486         C1=CC=C2C[C]([CH]1)[C]1[CH]C=CC=C(C1)CC2\\t\\n\n",
              "61487    Cc1ccc(cc1)S(=O)(=O)N[C@H](C(=O)N1C(=O)OC[C@@H...\n",
              "61488    OC[C@H]1O[C@H]([C@@H]([C@@H]1O)O)c1n[nH]c2c1nc...\n",
              "Name: canonical_smiles, Length: 61489, dtype: object"
            ]
          },
          "metadata": {},
          "execution_count": 10
        }
      ]
    },
    {
      "cell_type": "code",
      "source": [
        "regex = \"\\\\t\\\\n\"\n",
        "df_subset[\"canonical_smiles\"]=df_subset[\"canonical_smiles\"].apply(lambda x: re.sub(regex, \"\", x))"
      ],
      "metadata": {
        "id": "8WMpNERkkHN0",
        "colab": {
          "base_uri": "https://localhost:8080/"
        },
        "outputId": "0c68b100-514c-4e47-a5b2-90b88e4d215b"
      },
      "execution_count": 11,
      "outputs": [
        {
          "output_type": "stream",
          "name": "stderr",
          "text": [
            "/usr/local/lib/python3.7/dist-packages/ipykernel_launcher.py:2: SettingWithCopyWarning: \n",
            "A value is trying to be set on a copy of a slice from a DataFrame.\n",
            "Try using .loc[row_indexer,col_indexer] = value instead\n",
            "\n",
            "See the caveats in the documentation: https://pandas.pydata.org/pandas-docs/stable/user_guide/indexing.html#returning-a-view-versus-a-copy\n",
            "  \n"
          ]
        }
      ]
    },
    {
      "cell_type": "code",
      "source": [
        "df_subset.head(2)"
      ],
      "metadata": {
        "colab": {
          "base_uri": "https://localhost:8080/",
          "height": 112
        },
        "id": "gdG_Q2pwk_L9",
        "outputId": "8e685474-180b-414a-9a16-31265121f6c8"
      },
      "execution_count": 12,
      "outputs": [
        {
          "output_type": "execute_result",
          "data": {
            "text/plain": [
              "  refcode_csd                                   canonical_smiles  \\\n",
              "0      ABAFEQ  Cc1ccc(cc1)S(=O)(=O)N[C@H](c1nnc(o1)SCc1ccc(cc...   \n",
              "1      ABEDOC  N#CC(=C(c1ccccc1)c1ccccc1)[C@H](c1ccccc1)NS(=O...   \n",
              "\n",
              "                                     xyz_pbe_relaxed  total_energy_pbe  \n",
              "0  45\\n\\nO      39.55724515      33.75271314     ...     -63908.261677  \n",
              "1  55\\n\\nC       8.74281024      13.44863575     ...     -47344.131203  "
            ],
            "text/html": [
              "\n",
              "  <div id=\"df-8fc3102c-bc5c-4634-ac1d-fb4a2f3a156a\">\n",
              "    <div class=\"colab-df-container\">\n",
              "      <div>\n",
              "<style scoped>\n",
              "    .dataframe tbody tr th:only-of-type {\n",
              "        vertical-align: middle;\n",
              "    }\n",
              "\n",
              "    .dataframe tbody tr th {\n",
              "        vertical-align: top;\n",
              "    }\n",
              "\n",
              "    .dataframe thead th {\n",
              "        text-align: right;\n",
              "    }\n",
              "</style>\n",
              "<table border=\"1\" class=\"dataframe\">\n",
              "  <thead>\n",
              "    <tr style=\"text-align: right;\">\n",
              "      <th></th>\n",
              "      <th>refcode_csd</th>\n",
              "      <th>canonical_smiles</th>\n",
              "      <th>xyz_pbe_relaxed</th>\n",
              "      <th>total_energy_pbe</th>\n",
              "    </tr>\n",
              "  </thead>\n",
              "  <tbody>\n",
              "    <tr>\n",
              "      <th>0</th>\n",
              "      <td>ABAFEQ</td>\n",
              "      <td>Cc1ccc(cc1)S(=O)(=O)N[C@H](c1nnc(o1)SCc1ccc(cc...</td>\n",
              "      <td>45\\n\\nO      39.55724515      33.75271314     ...</td>\n",
              "      <td>-63908.261677</td>\n",
              "    </tr>\n",
              "    <tr>\n",
              "      <th>1</th>\n",
              "      <td>ABEDOC</td>\n",
              "      <td>N#CC(=C(c1ccccc1)c1ccccc1)[C@H](c1ccccc1)NS(=O...</td>\n",
              "      <td>55\\n\\nC       8.74281024      13.44863575     ...</td>\n",
              "      <td>-47344.131203</td>\n",
              "    </tr>\n",
              "  </tbody>\n",
              "</table>\n",
              "</div>\n",
              "      <button class=\"colab-df-convert\" onclick=\"convertToInteractive('df-8fc3102c-bc5c-4634-ac1d-fb4a2f3a156a')\"\n",
              "              title=\"Convert this dataframe to an interactive table.\"\n",
              "              style=\"display:none;\">\n",
              "        \n",
              "  <svg xmlns=\"http://www.w3.org/2000/svg\" height=\"24px\"viewBox=\"0 0 24 24\"\n",
              "       width=\"24px\">\n",
              "    <path d=\"M0 0h24v24H0V0z\" fill=\"none\"/>\n",
              "    <path d=\"M18.56 5.44l.94 2.06.94-2.06 2.06-.94-2.06-.94-.94-2.06-.94 2.06-2.06.94zm-11 1L8.5 8.5l.94-2.06 2.06-.94-2.06-.94L8.5 2.5l-.94 2.06-2.06.94zm10 10l.94 2.06.94-2.06 2.06-.94-2.06-.94-.94-2.06-.94 2.06-2.06.94z\"/><path d=\"M17.41 7.96l-1.37-1.37c-.4-.4-.92-.59-1.43-.59-.52 0-1.04.2-1.43.59L10.3 9.45l-7.72 7.72c-.78.78-.78 2.05 0 2.83L4 21.41c.39.39.9.59 1.41.59.51 0 1.02-.2 1.41-.59l7.78-7.78 2.81-2.81c.8-.78.8-2.07 0-2.86zM5.41 20L4 18.59l7.72-7.72 1.47 1.35L5.41 20z\"/>\n",
              "  </svg>\n",
              "      </button>\n",
              "      \n",
              "  <style>\n",
              "    .colab-df-container {\n",
              "      display:flex;\n",
              "      flex-wrap:wrap;\n",
              "      gap: 12px;\n",
              "    }\n",
              "\n",
              "    .colab-df-convert {\n",
              "      background-color: #E8F0FE;\n",
              "      border: none;\n",
              "      border-radius: 50%;\n",
              "      cursor: pointer;\n",
              "      display: none;\n",
              "      fill: #1967D2;\n",
              "      height: 32px;\n",
              "      padding: 0 0 0 0;\n",
              "      width: 32px;\n",
              "    }\n",
              "\n",
              "    .colab-df-convert:hover {\n",
              "      background-color: #E2EBFA;\n",
              "      box-shadow: 0px 1px 2px rgba(60, 64, 67, 0.3), 0px 1px 3px 1px rgba(60, 64, 67, 0.15);\n",
              "      fill: #174EA6;\n",
              "    }\n",
              "\n",
              "    [theme=dark] .colab-df-convert {\n",
              "      background-color: #3B4455;\n",
              "      fill: #D2E3FC;\n",
              "    }\n",
              "\n",
              "    [theme=dark] .colab-df-convert:hover {\n",
              "      background-color: #434B5C;\n",
              "      box-shadow: 0px 1px 3px 1px rgba(0, 0, 0, 0.15);\n",
              "      filter: drop-shadow(0px 1px 2px rgba(0, 0, 0, 0.3));\n",
              "      fill: #FFFFFF;\n",
              "    }\n",
              "  </style>\n",
              "\n",
              "      <script>\n",
              "        const buttonEl =\n",
              "          document.querySelector('#df-8fc3102c-bc5c-4634-ac1d-fb4a2f3a156a button.colab-df-convert');\n",
              "        buttonEl.style.display =\n",
              "          google.colab.kernel.accessAllowed ? 'block' : 'none';\n",
              "\n",
              "        async function convertToInteractive(key) {\n",
              "          const element = document.querySelector('#df-8fc3102c-bc5c-4634-ac1d-fb4a2f3a156a');\n",
              "          const dataTable =\n",
              "            await google.colab.kernel.invokeFunction('convertToInteractive',\n",
              "                                                     [key], {});\n",
              "          if (!dataTable) return;\n",
              "\n",
              "          const docLinkHtml = 'Like what you see? Visit the ' +\n",
              "            '<a target=\"_blank\" href=https://colab.research.google.com/notebooks/data_table.ipynb>data table notebook</a>'\n",
              "            + ' to learn more about interactive tables.';\n",
              "          element.innerHTML = '';\n",
              "          dataTable['output_type'] = 'display_data';\n",
              "          await google.colab.output.renderOutput(dataTable, element);\n",
              "          const docLink = document.createElement('div');\n",
              "          docLink.innerHTML = docLinkHtml;\n",
              "          element.appendChild(docLink);\n",
              "        }\n",
              "      </script>\n",
              "    </div>\n",
              "  </div>\n",
              "  "
            ]
          },
          "metadata": {},
          "execution_count": 12
        }
      ]
    },
    {
      "cell_type": "markdown",
      "source": [
        "###2.2: Converting SMILES strings to RD-Kit molecules"
      ],
      "metadata": {
        "id": "tb17qHIOlVTH"
      }
    },
    {
      "cell_type": "code",
      "source": [
        "df_subset[\"mol\"] = df_subset[\"canonical_smiles\"].apply(lambda x: (Chem.MolFromSmiles(x)))"
      ],
      "metadata": {
        "id": "4DNutkrXoVxM",
        "colab": {
          "base_uri": "https://localhost:8080/"
        },
        "outputId": "6c6a287d-4e08-4638-db8c-affd27fd2275"
      },
      "execution_count": 13,
      "outputs": [
        {
          "output_type": "stream",
          "name": "stderr",
          "text": [
            "/usr/local/lib/python3.7/dist-packages/ipykernel_launcher.py:1: SettingWithCopyWarning: \n",
            "A value is trying to be set on a copy of a slice from a DataFrame.\n",
            "Try using .loc[row_indexer,col_indexer] = value instead\n",
            "\n",
            "See the caveats in the documentation: https://pandas.pydata.org/pandas-docs/stable/user_guide/indexing.html#returning-a-view-versus-a-copy\n",
            "  \"\"\"Entry point for launching an IPython kernel.\n"
          ]
        }
      ]
    },
    {
      "cell_type": "markdown",
      "source": [
        "RD-Kit outputs NoneType when fails to parse a SMILES string. Thus, to prevent exceptions when applying further transformations to the dataset, conflicting molecules are going to be removed."
      ],
      "metadata": {
        "id": "Bf0dXGEyQIJq"
      }
    },
    {
      "cell_type": "code",
      "source": [
        "df_subset_clean = df_subset[df_subset['mol'].apply(lambda x: x is not None)].reset_index(drop=True)\n",
        "len(df_subset), len(df_subset_clean)"
      ],
      "metadata": {
        "colab": {
          "base_uri": "https://localhost:8080/"
        },
        "id": "3KcSngunSug8",
        "outputId": "dde68144-98f7-4f19-9c4c-82da5c68bf26"
      },
      "execution_count": 14,
      "outputs": [
        {
          "output_type": "execute_result",
          "data": {
            "text/plain": [
              "(61489, 61037)"
            ]
          },
          "metadata": {},
          "execution_count": 14
        }
      ]
    },
    {
      "cell_type": "code",
      "source": [
        "# Adding hydrogen atoms to the molecules\n",
        "df_subset_clean['mol'] = df_subset_clean['mol'].apply(lambda x: Chem.AddHs(x))"
      ],
      "metadata": {
        "id": "biywfnWBQWnq"
      },
      "execution_count": 15,
      "outputs": []
    },
    {
      "cell_type": "code",
      "source": [
        "df_subset_clean.head(2)"
      ],
      "metadata": {
        "colab": {
          "base_uri": "https://localhost:8080/",
          "height": 112
        },
        "id": "bBb9qOfYojus",
        "outputId": "42cd20dc-3718-430b-fd7a-219ba0d1004a"
      },
      "execution_count": 16,
      "outputs": [
        {
          "output_type": "execute_result",
          "data": {
            "text/plain": [
              "  refcode_csd                                   canonical_smiles  \\\n",
              "0      ABAFEQ  Cc1ccc(cc1)S(=O)(=O)N[C@H](c1nnc(o1)SCc1ccc(cc...   \n",
              "1      ABEDOC  N#CC(=C(c1ccccc1)c1ccccc1)[C@H](c1ccccc1)NS(=O...   \n",
              "\n",
              "                                     xyz_pbe_relaxed  total_energy_pbe  \\\n",
              "0  45\\n\\nO      39.55724515      33.75271314     ...     -63908.261677   \n",
              "1  55\\n\\nC       8.74281024      13.44863575     ...     -47344.131203   \n",
              "\n",
              "                                                mol  \n",
              "0  <rdkit.Chem.rdchem.Mol object at 0x7f8c2d432940>  \n",
              "1  <rdkit.Chem.rdchem.Mol object at 0x7f8c2d432a30>  "
            ],
            "text/html": [
              "\n",
              "  <div id=\"df-5255d193-3db8-4e37-96e0-a9660a950415\">\n",
              "    <div class=\"colab-df-container\">\n",
              "      <div>\n",
              "<style scoped>\n",
              "    .dataframe tbody tr th:only-of-type {\n",
              "        vertical-align: middle;\n",
              "    }\n",
              "\n",
              "    .dataframe tbody tr th {\n",
              "        vertical-align: top;\n",
              "    }\n",
              "\n",
              "    .dataframe thead th {\n",
              "        text-align: right;\n",
              "    }\n",
              "</style>\n",
              "<table border=\"1\" class=\"dataframe\">\n",
              "  <thead>\n",
              "    <tr style=\"text-align: right;\">\n",
              "      <th></th>\n",
              "      <th>refcode_csd</th>\n",
              "      <th>canonical_smiles</th>\n",
              "      <th>xyz_pbe_relaxed</th>\n",
              "      <th>total_energy_pbe</th>\n",
              "      <th>mol</th>\n",
              "    </tr>\n",
              "  </thead>\n",
              "  <tbody>\n",
              "    <tr>\n",
              "      <th>0</th>\n",
              "      <td>ABAFEQ</td>\n",
              "      <td>Cc1ccc(cc1)S(=O)(=O)N[C@H](c1nnc(o1)SCc1ccc(cc...</td>\n",
              "      <td>45\\n\\nO      39.55724515      33.75271314     ...</td>\n",
              "      <td>-63908.261677</td>\n",
              "      <td>&lt;rdkit.Chem.rdchem.Mol object at 0x7f8c2d432940&gt;</td>\n",
              "    </tr>\n",
              "    <tr>\n",
              "      <th>1</th>\n",
              "      <td>ABEDOC</td>\n",
              "      <td>N#CC(=C(c1ccccc1)c1ccccc1)[C@H](c1ccccc1)NS(=O...</td>\n",
              "      <td>55\\n\\nC       8.74281024      13.44863575     ...</td>\n",
              "      <td>-47344.131203</td>\n",
              "      <td>&lt;rdkit.Chem.rdchem.Mol object at 0x7f8c2d432a30&gt;</td>\n",
              "    </tr>\n",
              "  </tbody>\n",
              "</table>\n",
              "</div>\n",
              "      <button class=\"colab-df-convert\" onclick=\"convertToInteractive('df-5255d193-3db8-4e37-96e0-a9660a950415')\"\n",
              "              title=\"Convert this dataframe to an interactive table.\"\n",
              "              style=\"display:none;\">\n",
              "        \n",
              "  <svg xmlns=\"http://www.w3.org/2000/svg\" height=\"24px\"viewBox=\"0 0 24 24\"\n",
              "       width=\"24px\">\n",
              "    <path d=\"M0 0h24v24H0V0z\" fill=\"none\"/>\n",
              "    <path d=\"M18.56 5.44l.94 2.06.94-2.06 2.06-.94-2.06-.94-.94-2.06-.94 2.06-2.06.94zm-11 1L8.5 8.5l.94-2.06 2.06-.94-2.06-.94L8.5 2.5l-.94 2.06-2.06.94zm10 10l.94 2.06.94-2.06 2.06-.94-2.06-.94-.94-2.06-.94 2.06-2.06.94z\"/><path d=\"M17.41 7.96l-1.37-1.37c-.4-.4-.92-.59-1.43-.59-.52 0-1.04.2-1.43.59L10.3 9.45l-7.72 7.72c-.78.78-.78 2.05 0 2.83L4 21.41c.39.39.9.59 1.41.59.51 0 1.02-.2 1.41-.59l7.78-7.78 2.81-2.81c.8-.78.8-2.07 0-2.86zM5.41 20L4 18.59l7.72-7.72 1.47 1.35L5.41 20z\"/>\n",
              "  </svg>\n",
              "      </button>\n",
              "      \n",
              "  <style>\n",
              "    .colab-df-container {\n",
              "      display:flex;\n",
              "      flex-wrap:wrap;\n",
              "      gap: 12px;\n",
              "    }\n",
              "\n",
              "    .colab-df-convert {\n",
              "      background-color: #E8F0FE;\n",
              "      border: none;\n",
              "      border-radius: 50%;\n",
              "      cursor: pointer;\n",
              "      display: none;\n",
              "      fill: #1967D2;\n",
              "      height: 32px;\n",
              "      padding: 0 0 0 0;\n",
              "      width: 32px;\n",
              "    }\n",
              "\n",
              "    .colab-df-convert:hover {\n",
              "      background-color: #E2EBFA;\n",
              "      box-shadow: 0px 1px 2px rgba(60, 64, 67, 0.3), 0px 1px 3px 1px rgba(60, 64, 67, 0.15);\n",
              "      fill: #174EA6;\n",
              "    }\n",
              "\n",
              "    [theme=dark] .colab-df-convert {\n",
              "      background-color: #3B4455;\n",
              "      fill: #D2E3FC;\n",
              "    }\n",
              "\n",
              "    [theme=dark] .colab-df-convert:hover {\n",
              "      background-color: #434B5C;\n",
              "      box-shadow: 0px 1px 3px 1px rgba(0, 0, 0, 0.15);\n",
              "      filter: drop-shadow(0px 1px 2px rgba(0, 0, 0, 0.3));\n",
              "      fill: #FFFFFF;\n",
              "    }\n",
              "  </style>\n",
              "\n",
              "      <script>\n",
              "        const buttonEl =\n",
              "          document.querySelector('#df-5255d193-3db8-4e37-96e0-a9660a950415 button.colab-df-convert');\n",
              "        buttonEl.style.display =\n",
              "          google.colab.kernel.accessAllowed ? 'block' : 'none';\n",
              "\n",
              "        async function convertToInteractive(key) {\n",
              "          const element = document.querySelector('#df-5255d193-3db8-4e37-96e0-a9660a950415');\n",
              "          const dataTable =\n",
              "            await google.colab.kernel.invokeFunction('convertToInteractive',\n",
              "                                                     [key], {});\n",
              "          if (!dataTable) return;\n",
              "\n",
              "          const docLinkHtml = 'Like what you see? Visit the ' +\n",
              "            '<a target=\"_blank\" href=https://colab.research.google.com/notebooks/data_table.ipynb>data table notebook</a>'\n",
              "            + ' to learn more about interactive tables.';\n",
              "          element.innerHTML = '';\n",
              "          dataTable['output_type'] = 'display_data';\n",
              "          await google.colab.output.renderOutput(dataTable, element);\n",
              "          const docLink = document.createElement('div');\n",
              "          docLink.innerHTML = docLinkHtml;\n",
              "          element.appendChild(docLink);\n",
              "        }\n",
              "      </script>\n",
              "    </div>\n",
              "  </div>\n",
              "  "
            ]
          },
          "metadata": {},
          "execution_count": 16
        }
      ]
    },
    {
      "cell_type": "markdown",
      "source": [
        "###2.3: Reshaping XYZ coordinates\n",
        "TODO: apply MBTR to xyz to make a proper descriptor out of the atomic positions\n"
      ],
      "metadata": {
        "id": "M-lkjnyVba9e"
      }
    },
    {
      "cell_type": "code",
      "source": [
        "df.iloc[0].xyz_pbe_relaxed"
      ],
      "metadata": {
        "colab": {
          "base_uri": "https://localhost:8080/",
          "height": 105
        },
        "id": "qNk8fHLz0Nn4",
        "outputId": "00a1f51f-5cdd-40cd-bdb0-50de66e96e60"
      },
      "execution_count": 41,
      "outputs": [
        {
          "output_type": "execute_result",
          "data": {
            "text/plain": [
              "'45\\n\\nO      39.55724515      33.75271314      38.40917207 \\nS      40.85906611      34.05164612      38.96498639 \\nO      42.08066828      33.95284000      38.19595313 \\nC      42.32571194      32.73322762      40.89834532 \\nH      43.19968501      32.99032401      40.30295436 \\nCl      45.20041227      29.36338131      46.43043646 \\nC      41.05184934      33.09086636      40.45377016 \\nC      42.45668317      32.04677947      42.10437138 \\nH      43.45084814      31.76806349      42.45397500 \\nC      41.33623713      31.70625411      42.87422993 \\nC      40.06720668      32.07018496      42.39744704 \\nH      39.18097405      31.80058002      42.97364913 \\nC      39.91665528      32.75758494      41.19816166 \\nH      38.92751728      33.01994634      40.82523353 \\nC      41.48361320      30.98558291      44.18381422 \\nH      42.41118162      30.40352859      44.22479339 \\nH      40.63985814      30.30766109      44.36544785 \\nH      41.51361125      31.70368231      45.01623603 \\nC      43.58355603      33.58567170      46.05760995 \\nC      44.50879591      33.09126273      45.12712202 \\nC      44.58735767      30.98663420      46.29469212 \\nC      43.67416047      31.45779258      47.23763178 \\nH      43.35738436      30.81675118      48.05804802 \\nC      43.18004488      32.75463873      47.11100991 \\nH      42.46723835      33.12401865      47.85020035 \\nN      40.75043902      35.65259391      39.44466891 \\nC      41.91357542      36.39938024      39.92718967 \\nH      42.74053298      36.18343665      39.23786748 \\nC      41.59554654      37.90036812      39.88819883 \\nH      41.31036592      38.18979620      38.87024230 \\nH      42.47497764      38.47941767      40.19408535 \\nS      41.54380622      35.14894837      44.87226222 \\nO      41.49789017      35.80019430      42.30624954 \\nC      42.31697189      35.46623386      43.35107789 \\nN      43.58095681      35.45930024      43.02499490 \\nN      43.62739090      35.79899291      41.66869043 \\nC      42.40412200      35.98540807      41.28539389 \\nH      39.87281191      35.84000620      39.92875742 \\nH      40.76971134      38.14771790      40.56964680 \\nC      43.04236454      34.98075809      45.94353203 \\nH      43.78224526      35.68390108      45.54521868 \\nH      42.69364229      35.35046375      46.91564229 \\nH      44.82329787      33.72815772      44.30050633 \\nC      45.01169104      31.79751710      45.24114695 \\nH      45.73147637      31.41638123      44.51869652 \\n'"
            ],
            "application/vnd.google.colaboratory.intrinsic+json": {
              "type": "string"
            }
          },
          "metadata": {},
          "execution_count": 41
        }
      ]
    },
    {
      "cell_type": "code",
      "source": [
        "df_subset_clean.iloc[0].xyz_pbe_relaxed.split()[1:9]"
      ],
      "metadata": {
        "colab": {
          "base_uri": "https://localhost:8080/"
        },
        "id": "rMYdwdI3Z9ES",
        "outputId": "7e7eb5cc-d2c3-4bd7-f0c4-264dab7c944e"
      },
      "execution_count": 17,
      "outputs": [
        {
          "output_type": "execute_result",
          "data": {
            "text/plain": [
              "['O',\n",
              " '39.55724515',\n",
              " '33.75271314',\n",
              " '38.40917207',\n",
              " 'S',\n",
              " '40.85906611',\n",
              " '34.05164612',\n",
              " '38.96498639']"
            ]
          },
          "metadata": {},
          "execution_count": 17
        }
      ]
    },
    {
      "cell_type": "code",
      "source": [
        "df_subset_clean.iloc[0].xyz_pbe_relaxed.split()[:10]"
      ],
      "metadata": {
        "colab": {
          "base_uri": "https://localhost:8080/"
        },
        "id": "UTsqU1uVeeFl",
        "outputId": "65bce86c-57e2-4711-85ea-abcda7f0722b"
      },
      "execution_count": 18,
      "outputs": [
        {
          "output_type": "execute_result",
          "data": {
            "text/plain": [
              "['45',\n",
              " 'O',\n",
              " '39.55724515',\n",
              " '33.75271314',\n",
              " '38.40917207',\n",
              " 'S',\n",
              " '40.85906611',\n",
              " '34.05164612',\n",
              " '38.96498639',\n",
              " 'O']"
            ]
          },
          "metadata": {},
          "execution_count": 18
        }
      ]
    },
    {
      "cell_type": "code",
      "source": [
        "def grouper(iterable, n, fillvalue=None):\n",
        "  \"\"\"\n",
        "  This function splits the xyz array into N groups of 3 components, where N is\n",
        "  the number of atoms in the molecule\n",
        "  \"\"\"\n",
        "  args = [iter(iterable)] * n\n",
        "  return list(zip_longest(*args, fillvalue=fillvalue))"
      ],
      "metadata": {
        "id": "GfCZGdTpinHI"
      },
      "execution_count": 19,
      "outputs": []
    },
    {
      "cell_type": "code",
      "source": [
        "def positions_to_dict(raw_xyz):\n",
        "  \"\"\"\n",
        "  Takes in a string of xyz atom positions and returns a dict of atom positions\n",
        "  \"\"\"\n",
        "  # We use defaultdict dict subclass because instead of raising a KeyError provides \n",
        "  # a default value for the key that does not exist. In this case, we want a list-like\n",
        "  # object\n",
        "  data_dict = defaultdict(list) # Specify what are the value types\n",
        "\n",
        "  iter_array =  [iter(raw_xyz.split()[1:])] * 4 # Multiplied by 4 because [atom name, x, y z]\n",
        "  grouped_xyz = list(zip_longest(*iter_array, fillvalue=None))\n",
        "\n",
        "  for i, element in enumerate(grouped_xyz):\n",
        "    data_dict[element[0]].append(list(element[1:]))\n",
        "  \n",
        "  return dict(data_dict)"
      ],
      "metadata": {
        "id": "HLZdU7jLCroc"
      },
      "execution_count": 20,
      "outputs": []
    },
    {
      "cell_type": "code",
      "source": [
        "df_subset_clean['xyz_pbe_relaxed'] = df_subset_clean['xyz_pbe_relaxed'].apply(positions_to_dict)"
      ],
      "metadata": {
        "id": "hGoFBQEKEGb1"
      },
      "execution_count": 21,
      "outputs": []
    },
    {
      "cell_type": "code",
      "source": [
        "df_subset_clean['xyz_pbe_relaxed'].iloc[1]"
      ],
      "metadata": {
        "colab": {
          "base_uri": "https://localhost:8080/"
        },
        "id": "Pu7T68cUwMUX",
        "outputId": "20a227e0-0df7-4a59-a67d-1c93535fff1d"
      },
      "execution_count": 22,
      "outputs": [
        {
          "output_type": "execute_result",
          "data": {
            "text/plain": [
              "{'C': [['8.74281024', '13.44863575', '23.16378372'],\n",
              "  ['10.11074978', '13.19356923', '23.08694135'],\n",
              "  ['10.78160584', '11.71087995', '26.56899447'],\n",
              "  ['10.09912389', '12.35237176', '25.36230584'],\n",
              "  ['8.72448552', '12.61600039', '25.43519330'],\n",
              "  ['8.05098811', '13.15651134', '24.34266310'],\n",
              "  ['10.78568512', '12.64534155', '24.18069782'],\n",
              "  ['11.67094309', '6.71025632', '26.43329001'],\n",
              "  ['10.61726558', '6.69117798', '25.51596520'],\n",
              "  ['10.31077367', '7.84372826', '24.79244796'],\n",
              "  ['11.03704148', '9.01628435', '24.99640142'],\n",
              "  ['12.07051104', '9.77255700', '29.68626470'],\n",
              "  ['13.29606260', '9.28321813', '30.13860887'],\n",
              "  ['14.23360836', '10.14988375', '30.70242936'],\n",
              "  ['13.95141000', '11.51436592', '30.81173061'],\n",
              "  ['12.73005466', '12.01524457', '30.36397898'],\n",
              "  ['11.79679134', '11.13595322', '29.80757459'],\n",
              "  ['12.28663726', '11.49056361', '26.40928961'],\n",
              "  ['13.05277476', '12.67860849', '26.58351282'],\n",
              "  ['12.87960329', '10.27851286', '26.18676214'],\n",
              "  ['12.08815605', '9.05331198', '25.92805742'],\n",
              "  ['12.40830039', '7.87434403', '26.62667609'],\n",
              "  ['14.35112342', '10.11150733', '26.21211626'],\n",
              "  ['15.13749944', '10.66707416', '27.23317940'],\n",
              "  ['16.51865116', '10.48684979', '27.23962420'],\n",
              "  ['17.13806951', '9.75669886', '26.22416317'],\n",
              "  ['16.36505018', '9.19427391', '25.20554335'],\n",
              "  ['14.98254861', '9.35857500', '25.20596312']],\n",
              " 'H': [['8.21599736', '13.87647342', '22.31102708'],\n",
              "  ['10.66156989', '13.42447181', '22.17529062'],\n",
              "  ['10.87854714', '13.41964366', '27.83814498'],\n",
              "  ['10.32214279', '10.72501353', '26.73204483'],\n",
              "  ['8.18799067', '12.39839884', '26.35887093'],\n",
              "  ['6.98099661', '13.35257331', '24.41152176'],\n",
              "  ['11.85534857', '12.44991740', '24.10691665'],\n",
              "  ['11.92121614', '5.81182324', '26.99721422'],\n",
              "  ['10.04340362', '5.77799765', '25.36028176'],\n",
              "  ['9.50273009', '7.83332750', '24.06143637'],\n",
              "  ['10.80034365', '9.90295816', '24.40974500'],\n",
              "  ['11.32170131', '9.11119469', '29.25464418'],\n",
              "  ['13.51605972', '8.21908850', '30.05537395'],\n",
              "  ['15.18882642', '9.76240207', '31.05576362'],\n",
              "  ['14.68251701', '12.19195350', '31.25161752'],\n",
              "  ['12.49305329', '13.07382062', '30.45871279'],\n",
              "  ['13.23691827', '7.88608851', '27.33359972'],\n",
              "  ['14.66261912', '11.22272948', '28.03817675'],\n",
              "  ['17.11239904', '10.91724659', '28.04585678'],\n",
              "  ['18.21939511', '9.62060894', '26.22885105'],\n",
              "  ['16.84111905', '8.62196334', '24.40960063'],\n",
              "  ['14.37993631', '8.91047544', '24.41607102']],\n",
              " 'S': [['10.21984476', '11.77007898', '29.24516565']],\n",
              " 'O': [['9.84042509', '12.85260020', '30.12674851'],\n",
              "  ['9.36376303', '10.62762033', '28.99958012']],\n",
              " 'N': [['10.46415466', '12.48990165', '27.77028383'],\n",
              "  ['13.56211038', '13.71711841', '26.74414499']]}"
            ]
          },
          "metadata": {},
          "execution_count": 22
        }
      ]
    },
    {
      "cell_type": "code",
      "source": [
        "df_subset_clean.head(2)"
      ],
      "metadata": {
        "colab": {
          "base_uri": "https://localhost:8080/",
          "height": 112
        },
        "id": "eb8Uh5SeE4CU",
        "outputId": "580a9ca4-b58c-4955-8c8d-49d30b32ac6d"
      },
      "execution_count": 23,
      "outputs": [
        {
          "output_type": "execute_result",
          "data": {
            "text/plain": [
              "  refcode_csd                                   canonical_smiles  \\\n",
              "0      ABAFEQ  Cc1ccc(cc1)S(=O)(=O)N[C@H](c1nnc(o1)SCc1ccc(cc...   \n",
              "1      ABEDOC  N#CC(=C(c1ccccc1)c1ccccc1)[C@H](c1ccccc1)NS(=O...   \n",
              "\n",
              "                                     xyz_pbe_relaxed  total_energy_pbe  \\\n",
              "0  {'O': [['39.55724515', '33.75271314', '38.4091...     -63908.261677   \n",
              "1  {'C': [['8.74281024', '13.44863575', '23.16378...     -47344.131203   \n",
              "\n",
              "                                                mol  \n",
              "0  <rdkit.Chem.rdchem.Mol object at 0x7f8c2d432940>  \n",
              "1  <rdkit.Chem.rdchem.Mol object at 0x7f8c2d432a30>  "
            ],
            "text/html": [
              "\n",
              "  <div id=\"df-63fdcc45-63cc-4311-8ca0-a7ea6e7d3130\">\n",
              "    <div class=\"colab-df-container\">\n",
              "      <div>\n",
              "<style scoped>\n",
              "    .dataframe tbody tr th:only-of-type {\n",
              "        vertical-align: middle;\n",
              "    }\n",
              "\n",
              "    .dataframe tbody tr th {\n",
              "        vertical-align: top;\n",
              "    }\n",
              "\n",
              "    .dataframe thead th {\n",
              "        text-align: right;\n",
              "    }\n",
              "</style>\n",
              "<table border=\"1\" class=\"dataframe\">\n",
              "  <thead>\n",
              "    <tr style=\"text-align: right;\">\n",
              "      <th></th>\n",
              "      <th>refcode_csd</th>\n",
              "      <th>canonical_smiles</th>\n",
              "      <th>xyz_pbe_relaxed</th>\n",
              "      <th>total_energy_pbe</th>\n",
              "      <th>mol</th>\n",
              "    </tr>\n",
              "  </thead>\n",
              "  <tbody>\n",
              "    <tr>\n",
              "      <th>0</th>\n",
              "      <td>ABAFEQ</td>\n",
              "      <td>Cc1ccc(cc1)S(=O)(=O)N[C@H](c1nnc(o1)SCc1ccc(cc...</td>\n",
              "      <td>{'O': [['39.55724515', '33.75271314', '38.4091...</td>\n",
              "      <td>-63908.261677</td>\n",
              "      <td>&lt;rdkit.Chem.rdchem.Mol object at 0x7f8c2d432940&gt;</td>\n",
              "    </tr>\n",
              "    <tr>\n",
              "      <th>1</th>\n",
              "      <td>ABEDOC</td>\n",
              "      <td>N#CC(=C(c1ccccc1)c1ccccc1)[C@H](c1ccccc1)NS(=O...</td>\n",
              "      <td>{'C': [['8.74281024', '13.44863575', '23.16378...</td>\n",
              "      <td>-47344.131203</td>\n",
              "      <td>&lt;rdkit.Chem.rdchem.Mol object at 0x7f8c2d432a30&gt;</td>\n",
              "    </tr>\n",
              "  </tbody>\n",
              "</table>\n",
              "</div>\n",
              "      <button class=\"colab-df-convert\" onclick=\"convertToInteractive('df-63fdcc45-63cc-4311-8ca0-a7ea6e7d3130')\"\n",
              "              title=\"Convert this dataframe to an interactive table.\"\n",
              "              style=\"display:none;\">\n",
              "        \n",
              "  <svg xmlns=\"http://www.w3.org/2000/svg\" height=\"24px\"viewBox=\"0 0 24 24\"\n",
              "       width=\"24px\">\n",
              "    <path d=\"M0 0h24v24H0V0z\" fill=\"none\"/>\n",
              "    <path d=\"M18.56 5.44l.94 2.06.94-2.06 2.06-.94-2.06-.94-.94-2.06-.94 2.06-2.06.94zm-11 1L8.5 8.5l.94-2.06 2.06-.94-2.06-.94L8.5 2.5l-.94 2.06-2.06.94zm10 10l.94 2.06.94-2.06 2.06-.94-2.06-.94-.94-2.06-.94 2.06-2.06.94z\"/><path d=\"M17.41 7.96l-1.37-1.37c-.4-.4-.92-.59-1.43-.59-.52 0-1.04.2-1.43.59L10.3 9.45l-7.72 7.72c-.78.78-.78 2.05 0 2.83L4 21.41c.39.39.9.59 1.41.59.51 0 1.02-.2 1.41-.59l7.78-7.78 2.81-2.81c.8-.78.8-2.07 0-2.86zM5.41 20L4 18.59l7.72-7.72 1.47 1.35L5.41 20z\"/>\n",
              "  </svg>\n",
              "      </button>\n",
              "      \n",
              "  <style>\n",
              "    .colab-df-container {\n",
              "      display:flex;\n",
              "      flex-wrap:wrap;\n",
              "      gap: 12px;\n",
              "    }\n",
              "\n",
              "    .colab-df-convert {\n",
              "      background-color: #E8F0FE;\n",
              "      border: none;\n",
              "      border-radius: 50%;\n",
              "      cursor: pointer;\n",
              "      display: none;\n",
              "      fill: #1967D2;\n",
              "      height: 32px;\n",
              "      padding: 0 0 0 0;\n",
              "      width: 32px;\n",
              "    }\n",
              "\n",
              "    .colab-df-convert:hover {\n",
              "      background-color: #E2EBFA;\n",
              "      box-shadow: 0px 1px 2px rgba(60, 64, 67, 0.3), 0px 1px 3px 1px rgba(60, 64, 67, 0.15);\n",
              "      fill: #174EA6;\n",
              "    }\n",
              "\n",
              "    [theme=dark] .colab-df-convert {\n",
              "      background-color: #3B4455;\n",
              "      fill: #D2E3FC;\n",
              "    }\n",
              "\n",
              "    [theme=dark] .colab-df-convert:hover {\n",
              "      background-color: #434B5C;\n",
              "      box-shadow: 0px 1px 3px 1px rgba(0, 0, 0, 0.15);\n",
              "      filter: drop-shadow(0px 1px 2px rgba(0, 0, 0, 0.3));\n",
              "      fill: #FFFFFF;\n",
              "    }\n",
              "  </style>\n",
              "\n",
              "      <script>\n",
              "        const buttonEl =\n",
              "          document.querySelector('#df-63fdcc45-63cc-4311-8ca0-a7ea6e7d3130 button.colab-df-convert');\n",
              "        buttonEl.style.display =\n",
              "          google.colab.kernel.accessAllowed ? 'block' : 'none';\n",
              "\n",
              "        async function convertToInteractive(key) {\n",
              "          const element = document.querySelector('#df-63fdcc45-63cc-4311-8ca0-a7ea6e7d3130');\n",
              "          const dataTable =\n",
              "            await google.colab.kernel.invokeFunction('convertToInteractive',\n",
              "                                                     [key], {});\n",
              "          if (!dataTable) return;\n",
              "\n",
              "          const docLinkHtml = 'Like what you see? Visit the ' +\n",
              "            '<a target=\"_blank\" href=https://colab.research.google.com/notebooks/data_table.ipynb>data table notebook</a>'\n",
              "            + ' to learn more about interactive tables.';\n",
              "          element.innerHTML = '';\n",
              "          dataTable['output_type'] = 'display_data';\n",
              "          await google.colab.output.renderOutput(dataTable, element);\n",
              "          const docLink = document.createElement('div');\n",
              "          docLink.innerHTML = docLinkHtml;\n",
              "          element.appendChild(docLink);\n",
              "        }\n",
              "      </script>\n",
              "    </div>\n",
              "  </div>\n",
              "  "
            ]
          },
          "metadata": {},
          "execution_count": 23
        }
      ]
    },
    {
      "cell_type": "markdown",
      "source": [
        "### 2.4: Enriching the data with more features"
      ],
      "metadata": {
        "id": "AJtt4WlOg1wg"
      }
    },
    {
      "cell_type": "code",
      "source": [
        "\n",
        "from rdkit.Chem import Descriptors\n",
        "\n",
        "df_subset_clean['tpsa'] = df_subset_clean['mol'].apply(lambda x: Descriptors.TPSA(x)) #https://en.wikipedia.org/wiki/Polar_surface_area\n",
        "df_subset_clean['mol_w'] = df_subset_clean['mol'].apply(lambda x: Descriptors.ExactMolWt(x)) # https://en.wikipedia.org/wiki/Molecular_mass\n",
        "df_subset_clean['num_valence_electrons'] = df_subset_clean['mol'].apply(lambda x: Descriptors.NumValenceElectrons(x)) # https://en.wikipedia.org/wiki/Valence_electron\n",
        "df_subset_clean['num_heteroatoms'] = df_subset_clean['mol'].apply(lambda x: Descriptors.NumHeteroatoms(x))"
      ],
      "metadata": {
        "id": "d8wWUKkDgJUo"
      },
      "execution_count": 24,
      "outputs": []
    },
    {
      "cell_type": "code",
      "source": [
        "df_subset_clean.head()"
      ],
      "metadata": {
        "colab": {
          "base_uri": "https://localhost:8080/",
          "height": 337
        },
        "id": "ggZude06gf1D",
        "outputId": "10eaa362-f60d-4236-cecf-3b63ed08bc34"
      },
      "execution_count": 25,
      "outputs": [
        {
          "output_type": "execute_result",
          "data": {
            "text/plain": [
              "  refcode_csd                                   canonical_smiles  \\\n",
              "0      ABAFEQ  Cc1ccc(cc1)S(=O)(=O)N[C@H](c1nnc(o1)SCc1ccc(cc...   \n",
              "1      ABEDOC  N#CC(=C(c1ccccc1)c1ccccc1)[C@H](c1ccccc1)NS(=O...   \n",
              "2      LODZOT                         n1ccc(cc1)c1nnc(o1)c1cccs1   \n",
              "3      LUSREW                    CC/C=C(/S(=O)(=O)c1ccc(cc1)C)\\F   \n",
              "4    NOMBEA01                OC(=O)c1cc(N(=O)=O)c(c(c1)N(=O)=O)C   \n",
              "\n",
              "                                     xyz_pbe_relaxed  total_energy_pbe  \\\n",
              "0  {'O': [['39.55724515', '33.75271314', '38.4091...     -63908.261677   \n",
              "1  {'C': [['8.74281024', '13.44863575', '23.16378...     -47344.131203   \n",
              "2  {'N': [['23.84904338', '42.50577669', '35.0388...     -28915.979909   \n",
              "3  {'C': [['36.52340453', '39.64067030', '25.1692...     -29310.525400   \n",
              "4  {'C': [['3.95256786', '17.67855833', '24.82877...     -23659.206412   \n",
              "\n",
              "                                                mol    tpsa       mol_w  \\\n",
              "0  <rdkit.Chem.rdchem.Mol object at 0x7f8c2d432940>   85.09  423.047811   \n",
              "1  <rdkit.Chem.rdchem.Mol object at 0x7f8c2d432a30>   69.96  450.140199   \n",
              "2  <rdkit.Chem.rdchem.Mol object at 0x7f8c2d4329e0>   51.81  229.030983   \n",
              "3  <rdkit.Chem.rdchem.Mol object at 0x7f8c2d4328f0>   34.14  228.062029   \n",
              "4  <rdkit.Chem.rdchem.Mol object at 0x7f8c2d432a80>  123.58  226.022586   \n",
              "\n",
              "   num_valence_electrons  num_heteroatoms  \n",
              "0                    142                9  \n",
              "1                    162                5  \n",
              "2                     78                5  \n",
              "3                     82                4  \n",
              "4                     84                8  "
            ],
            "text/html": [
              "\n",
              "  <div id=\"df-ac94373c-a22e-4f7e-b124-94413ae45f9c\">\n",
              "    <div class=\"colab-df-container\">\n",
              "      <div>\n",
              "<style scoped>\n",
              "    .dataframe tbody tr th:only-of-type {\n",
              "        vertical-align: middle;\n",
              "    }\n",
              "\n",
              "    .dataframe tbody tr th {\n",
              "        vertical-align: top;\n",
              "    }\n",
              "\n",
              "    .dataframe thead th {\n",
              "        text-align: right;\n",
              "    }\n",
              "</style>\n",
              "<table border=\"1\" class=\"dataframe\">\n",
              "  <thead>\n",
              "    <tr style=\"text-align: right;\">\n",
              "      <th></th>\n",
              "      <th>refcode_csd</th>\n",
              "      <th>canonical_smiles</th>\n",
              "      <th>xyz_pbe_relaxed</th>\n",
              "      <th>total_energy_pbe</th>\n",
              "      <th>mol</th>\n",
              "      <th>tpsa</th>\n",
              "      <th>mol_w</th>\n",
              "      <th>num_valence_electrons</th>\n",
              "      <th>num_heteroatoms</th>\n",
              "    </tr>\n",
              "  </thead>\n",
              "  <tbody>\n",
              "    <tr>\n",
              "      <th>0</th>\n",
              "      <td>ABAFEQ</td>\n",
              "      <td>Cc1ccc(cc1)S(=O)(=O)N[C@H](c1nnc(o1)SCc1ccc(cc...</td>\n",
              "      <td>{'O': [['39.55724515', '33.75271314', '38.4091...</td>\n",
              "      <td>-63908.261677</td>\n",
              "      <td>&lt;rdkit.Chem.rdchem.Mol object at 0x7f8c2d432940&gt;</td>\n",
              "      <td>85.09</td>\n",
              "      <td>423.047811</td>\n",
              "      <td>142</td>\n",
              "      <td>9</td>\n",
              "    </tr>\n",
              "    <tr>\n",
              "      <th>1</th>\n",
              "      <td>ABEDOC</td>\n",
              "      <td>N#CC(=C(c1ccccc1)c1ccccc1)[C@H](c1ccccc1)NS(=O...</td>\n",
              "      <td>{'C': [['8.74281024', '13.44863575', '23.16378...</td>\n",
              "      <td>-47344.131203</td>\n",
              "      <td>&lt;rdkit.Chem.rdchem.Mol object at 0x7f8c2d432a30&gt;</td>\n",
              "      <td>69.96</td>\n",
              "      <td>450.140199</td>\n",
              "      <td>162</td>\n",
              "      <td>5</td>\n",
              "    </tr>\n",
              "    <tr>\n",
              "      <th>2</th>\n",
              "      <td>LODZOT</td>\n",
              "      <td>n1ccc(cc1)c1nnc(o1)c1cccs1</td>\n",
              "      <td>{'N': [['23.84904338', '42.50577669', '35.0388...</td>\n",
              "      <td>-28915.979909</td>\n",
              "      <td>&lt;rdkit.Chem.rdchem.Mol object at 0x7f8c2d4329e0&gt;</td>\n",
              "      <td>51.81</td>\n",
              "      <td>229.030983</td>\n",
              "      <td>78</td>\n",
              "      <td>5</td>\n",
              "    </tr>\n",
              "    <tr>\n",
              "      <th>3</th>\n",
              "      <td>LUSREW</td>\n",
              "      <td>CC/C=C(/S(=O)(=O)c1ccc(cc1)C)\\F</td>\n",
              "      <td>{'C': [['36.52340453', '39.64067030', '25.1692...</td>\n",
              "      <td>-29310.525400</td>\n",
              "      <td>&lt;rdkit.Chem.rdchem.Mol object at 0x7f8c2d4328f0&gt;</td>\n",
              "      <td>34.14</td>\n",
              "      <td>228.062029</td>\n",
              "      <td>82</td>\n",
              "      <td>4</td>\n",
              "    </tr>\n",
              "    <tr>\n",
              "      <th>4</th>\n",
              "      <td>NOMBEA01</td>\n",
              "      <td>OC(=O)c1cc(N(=O)=O)c(c(c1)N(=O)=O)C</td>\n",
              "      <td>{'C': [['3.95256786', '17.67855833', '24.82877...</td>\n",
              "      <td>-23659.206412</td>\n",
              "      <td>&lt;rdkit.Chem.rdchem.Mol object at 0x7f8c2d432a80&gt;</td>\n",
              "      <td>123.58</td>\n",
              "      <td>226.022586</td>\n",
              "      <td>84</td>\n",
              "      <td>8</td>\n",
              "    </tr>\n",
              "  </tbody>\n",
              "</table>\n",
              "</div>\n",
              "      <button class=\"colab-df-convert\" onclick=\"convertToInteractive('df-ac94373c-a22e-4f7e-b124-94413ae45f9c')\"\n",
              "              title=\"Convert this dataframe to an interactive table.\"\n",
              "              style=\"display:none;\">\n",
              "        \n",
              "  <svg xmlns=\"http://www.w3.org/2000/svg\" height=\"24px\"viewBox=\"0 0 24 24\"\n",
              "       width=\"24px\">\n",
              "    <path d=\"M0 0h24v24H0V0z\" fill=\"none\"/>\n",
              "    <path d=\"M18.56 5.44l.94 2.06.94-2.06 2.06-.94-2.06-.94-.94-2.06-.94 2.06-2.06.94zm-11 1L8.5 8.5l.94-2.06 2.06-.94-2.06-.94L8.5 2.5l-.94 2.06-2.06.94zm10 10l.94 2.06.94-2.06 2.06-.94-2.06-.94-.94-2.06-.94 2.06-2.06.94z\"/><path d=\"M17.41 7.96l-1.37-1.37c-.4-.4-.92-.59-1.43-.59-.52 0-1.04.2-1.43.59L10.3 9.45l-7.72 7.72c-.78.78-.78 2.05 0 2.83L4 21.41c.39.39.9.59 1.41.59.51 0 1.02-.2 1.41-.59l7.78-7.78 2.81-2.81c.8-.78.8-2.07 0-2.86zM5.41 20L4 18.59l7.72-7.72 1.47 1.35L5.41 20z\"/>\n",
              "  </svg>\n",
              "      </button>\n",
              "      \n",
              "  <style>\n",
              "    .colab-df-container {\n",
              "      display:flex;\n",
              "      flex-wrap:wrap;\n",
              "      gap: 12px;\n",
              "    }\n",
              "\n",
              "    .colab-df-convert {\n",
              "      background-color: #E8F0FE;\n",
              "      border: none;\n",
              "      border-radius: 50%;\n",
              "      cursor: pointer;\n",
              "      display: none;\n",
              "      fill: #1967D2;\n",
              "      height: 32px;\n",
              "      padding: 0 0 0 0;\n",
              "      width: 32px;\n",
              "    }\n",
              "\n",
              "    .colab-df-convert:hover {\n",
              "      background-color: #E2EBFA;\n",
              "      box-shadow: 0px 1px 2px rgba(60, 64, 67, 0.3), 0px 1px 3px 1px rgba(60, 64, 67, 0.15);\n",
              "      fill: #174EA6;\n",
              "    }\n",
              "\n",
              "    [theme=dark] .colab-df-convert {\n",
              "      background-color: #3B4455;\n",
              "      fill: #D2E3FC;\n",
              "    }\n",
              "\n",
              "    [theme=dark] .colab-df-convert:hover {\n",
              "      background-color: #434B5C;\n",
              "      box-shadow: 0px 1px 3px 1px rgba(0, 0, 0, 0.15);\n",
              "      filter: drop-shadow(0px 1px 2px rgba(0, 0, 0, 0.3));\n",
              "      fill: #FFFFFF;\n",
              "    }\n",
              "  </style>\n",
              "\n",
              "      <script>\n",
              "        const buttonEl =\n",
              "          document.querySelector('#df-ac94373c-a22e-4f7e-b124-94413ae45f9c button.colab-df-convert');\n",
              "        buttonEl.style.display =\n",
              "          google.colab.kernel.accessAllowed ? 'block' : 'none';\n",
              "\n",
              "        async function convertToInteractive(key) {\n",
              "          const element = document.querySelector('#df-ac94373c-a22e-4f7e-b124-94413ae45f9c');\n",
              "          const dataTable =\n",
              "            await google.colab.kernel.invokeFunction('convertToInteractive',\n",
              "                                                     [key], {});\n",
              "          if (!dataTable) return;\n",
              "\n",
              "          const docLinkHtml = 'Like what you see? Visit the ' +\n",
              "            '<a target=\"_blank\" href=https://colab.research.google.com/notebooks/data_table.ipynb>data table notebook</a>'\n",
              "            + ' to learn more about interactive tables.';\n",
              "          element.innerHTML = '';\n",
              "          dataTable['output_type'] = 'display_data';\n",
              "          await google.colab.output.renderOutput(dataTable, element);\n",
              "          const docLink = document.createElement('div');\n",
              "          docLink.innerHTML = docLinkHtml;\n",
              "          element.appendChild(docLink);\n",
              "        }\n",
              "      </script>\n",
              "    </div>\n",
              "  </div>\n",
              "  "
            ]
          },
          "metadata": {},
          "execution_count": 25
        }
      ]
    },
    {
      "cell_type": "code",
      "source": [
        "from rdkit.Chem import Draw\n",
        "from rdkit.Chem.Draw import rdMolDraw2D\n",
        "\n",
        "import random"
      ],
      "metadata": {
        "id": "OT4gA_pdpZQt"
      },
      "execution_count": 26,
      "outputs": []
    },
    {
      "cell_type": "code",
      "source": [
        "# Plotting some random molecules of the dataset\n",
        "dopts = rdMolDraw2D.MolDrawOptions()\n",
        "filename = 'mymolecules'\n",
        "\n",
        "number_of_molecules = 6\n",
        "to_draw = random.sample(range(0, len(df_subset_clean)), number_of_molecules)\n",
        "\n",
        "mols = df_subset_clean[\"mol\"][to_draw]\n",
        "img = Draw.MolsToGridImage(mols, molsPerRow=3, useSVG=True,\n",
        "                           legends=list(df[\"canonical_smiles\"][to_draw].values),\n",
        "                           drawOptions=dopts)\n",
        "\n",
        "# Saving the file\n",
        "if filename is not None:\n",
        "    if not filename.endswith('.svg'):\n",
        "        filename += '.svg'\n",
        "    with open(filename, 'w') as f:\n",
        "        f.write(img)"
      ],
      "metadata": {
        "id": "aSKg8KHppcTs"
      },
      "execution_count": 27,
      "outputs": []
    },
    {
      "cell_type": "markdown",
      "source": [
        "## Step 3: Deep Learning"
      ],
      "metadata": {
        "id": "kvXDDaU4bsJ_"
      }
    },
    {
      "cell_type": "markdown",
      "source": [
        "### 3.1: Embedding SMILES for DL processing\n",
        "TODO: Put this process in a preprocessing Keras layer"
      ],
      "metadata": {
        "id": "PNUUZgMzIe1l"
      }
    },
    {
      "cell_type": "markdown",
      "source": [
        "First, we're going to embed the molecules using a pre-trained model"
      ],
      "metadata": {
        "id": "oHAZJUhCij-0"
      }
    },
    {
      "cell_type": "code",
      "source": [
        "import requests\n",
        "\n",
        "url = 'https://github.com/samoturk/mol2vec_notebooks/raw/master/Notebooks/model_300dim.pkl'\n",
        "file_to_download = requests.get(url, allow_redirects=True)\n",
        "\n",
        "open('model_300dim.pkl', 'wb').write(file_to_download.content)"
      ],
      "metadata": {
        "colab": {
          "base_uri": "https://localhost:8080/"
        },
        "id": "Ckima9lhjme-",
        "outputId": "0736ccd8-645c-4bb3-951e-42cae76ff35d"
      },
      "execution_count": 28,
      "outputs": [
        {
          "output_type": "execute_result",
          "data": {
            "text/plain": [
              "26567327"
            ]
          },
          "metadata": {},
          "execution_count": 28
        }
      ]
    },
    {
      "cell_type": "code",
      "source": [
        "from mol2vec.features import mol2alt_sentence, mol2sentence, MolSentence, DfVec, sentences2vec"
      ],
      "metadata": {
        "id": "QhILeKUWjsa2"
      },
      "execution_count": 29,
      "outputs": []
    },
    {
      "cell_type": "code",
      "source": [
        "#Loading pre-trained model via word2vec\n",
        "from gensim.models import word2vec  # https://radimrehurek.com/gensim/index.html#install\n",
        "w2vec_model = word2vec.Word2Vec.load('model_300dim.pkl') # Download from https://github.com/samoturk/mol2vec_notebo"
      ],
      "metadata": {
        "id": "DV8CMiAEjvvs"
      },
      "execution_count": 30,
      "outputs": []
    },
    {
      "cell_type": "code",
      "source": [
        "#Constructing sentences\n",
        "df_subset_clean['sentence'] = df_subset_clean.apply(lambda x: MolSentence(mol2alt_sentence(x['mol'], 1)), axis=1)\n",
        "\n",
        "#Extracting embeddings to a numpy.array\n",
        "#Note that we always should mark unseen='UNK' in sentence2vec() so that model is taught how to handle unknown substructures\n",
        "df_subset_clean['mol2vec'] = [DfVec(x) for x in sentences2vec(df_subset_clean['sentence'], w2vec_model, unseen='UNK')]"
      ],
      "metadata": {
        "id": "wKuIqDxwj_JL"
      },
      "execution_count": 31,
      "outputs": []
    },
    {
      "cell_type": "code",
      "source": [
        "df_subset_clean['mol2vec']=df_subset_clean['mol2vec'].apply(lambda x: x.vec)"
      ],
      "metadata": {
        "id": "iJxnw1FAkWwA"
      },
      "execution_count": 32,
      "outputs": []
    },
    {
      "cell_type": "code",
      "source": [
        "df_subset_clean.columns.values.tolist()"
      ],
      "metadata": {
        "colab": {
          "base_uri": "https://localhost:8080/"
        },
        "id": "FdG7qYEwkxdb",
        "outputId": "289ae87c-122f-4ae7-8a29-5ed1eed36d78"
      },
      "execution_count": 33,
      "outputs": [
        {
          "output_type": "execute_result",
          "data": {
            "text/plain": [
              "['refcode_csd',\n",
              " 'canonical_smiles',\n",
              " 'xyz_pbe_relaxed',\n",
              " 'total_energy_pbe',\n",
              " 'mol',\n",
              " 'tpsa',\n",
              " 'mol_w',\n",
              " 'num_valence_electrons',\n",
              " 'num_heteroatoms',\n",
              " 'sentence',\n",
              " 'mol2vec']"
            ]
          },
          "metadata": {},
          "execution_count": 33
        }
      ]
    },
    {
      "cell_type": "code",
      "source": [
        "final_dataset_columns=['refcode_csd',\n",
        " 'canonical_smiles',\n",
        " 'xyz_pbe_relaxed',\n",
        " 'tpsa',\n",
        " 'mol_w',\n",
        " 'num_valence_electrons',\n",
        " 'num_heteroatoms',\n",
        " 'mol2vec',\n",
        "'total_energy_pbe']\n",
        "\n",
        "final_dataset = df_subset_clean[final_dataset_columns]\n",
        "final_dataset"
      ],
      "metadata": {
        "colab": {
          "base_uri": "https://localhost:8080/",
          "height": 641
        },
        "id": "DnlpmwidlI2q",
        "outputId": "32ec8a9b-ab2d-4ee9-d0be-b43efe9b3c93"
      },
      "execution_count": 34,
      "outputs": [
        {
          "output_type": "execute_result",
          "data": {
            "text/plain": [
              "      refcode_csd                                   canonical_smiles  \\\n",
              "0          ABAFEQ  Cc1ccc(cc1)S(=O)(=O)N[C@H](c1nnc(o1)SCc1ccc(cc...   \n",
              "1          ABEDOC  N#CC(=C(c1ccccc1)c1ccccc1)[C@H](c1ccccc1)NS(=O...   \n",
              "2          LODZOT                         n1ccc(cc1)c1nnc(o1)c1cccs1   \n",
              "3          LUSREW                    CC/C=C(/S(=O)(=O)c1ccc(cc1)C)\\F   \n",
              "4        NOMBEA01                OC(=O)c1cc(N(=O)=O)c(c(c1)N(=O)=O)C   \n",
              "...           ...                                                ...   \n",
              "61032      VIGDOE  COC(=O)c1c(c(C(=O)OC)c(c(c1C(C)(C)C)C(=O)OC)C(...   \n",
              "61033      FOMSEG               O=C(c1ccccc1O)N/N=C/c1ccc(c(c1)Cl)Cl   \n",
              "61034      FOPCOC           C1=CC=C2C[C]([CH]1)[C]1[CH]C=CC=C(C1)CC2   \n",
              "61035      VINMOV  Cc1ccc(cc1)S(=O)(=O)N[C@H](C(=O)N1C(=O)OC[C@@H...   \n",
              "61036    FORMYB01  OC[C@H]1O[C@H]([C@@H]([C@@H]1O)O)c1n[nH]c2c1nc...   \n",
              "\n",
              "                                         xyz_pbe_relaxed    tpsa       mol_w  \\\n",
              "0      {'O': [['39.55724515', '33.75271314', '38.4091...   85.09  423.047811   \n",
              "1      {'C': [['8.74281024', '13.44863575', '23.16378...   69.96  450.140199   \n",
              "2      {'N': [['23.84904338', '42.50577669', '35.0388...   51.81  229.030983   \n",
              "3      {'C': [['36.52340453', '39.64067030', '25.1692...   34.14  228.062029   \n",
              "4      {'C': [['3.95256786', '17.67855833', '24.82877...  123.58  226.022586   \n",
              "...                                                  ...     ...         ...   \n",
              "61032  {'C': [['22.26969809', '41.92804704', '35.4693...   78.90  420.251189   \n",
              "61033  {'O': [['33.93699398', '43.81820335', '40.7349...   61.69  308.011933   \n",
              "61034  {'C': [['22.97323141', '39.02044458', '27.9314...    0.00  208.125201   \n",
              "61035  {'O': [['56.17414946', '59.56569287', '49.1532...   92.78  576.012133   \n",
              "61036  {'H': [['23.16403631', '26.06955118', '20.5328...  144.35  268.080769   \n",
              "\n",
              "       num_valence_electrons  num_heteroatoms  \\\n",
              "0                        142                9   \n",
              "1                        162                5   \n",
              "2                         78                5   \n",
              "3                         82                4   \n",
              "4                         84                8   \n",
              "...                      ...              ...   \n",
              "61032                    168                6   \n",
              "61033                    102                6   \n",
              "61034                     80                0   \n",
              "61035                    182               10   \n",
              "61036                    102                9   \n",
              "\n",
              "                                                 mol2vec  total_energy_pbe  \n",
              "0      [-9.885212, 7.283, -11.909391, 2.714392, -7.30...     -63908.261677  \n",
              "1      [-10.063227, 10.888024, -20.65452, 0.42244783,...     -47344.131203  \n",
              "2      [-5.338256, 3.8927343, -6.896216, -0.27919152,...     -28915.979909  \n",
              "3      [-4.85507, 5.27727, -9.770724, 2.1801903, -2.5...     -29310.525400  \n",
              "4      [-3.7424397, 6.9630003, -7.5874896, 3.2785816,...     -23659.206412  \n",
              "...                                                  ...               ...  \n",
              "61032  [-11.613864, 11.018429, -15.99478, 4.44409, -5...     -37759.078750  \n",
              "61033  [-6.1590996, 6.9757314, -8.373731, 0.45949158,...     -46914.426056  \n",
              "61034  [-10.404796, 8.853079, -10.362222, -3.2704961,...     -16847.126386  \n",
              "61035  [-10.337876, 9.518248, -17.89608, 0.178429, -7...    -134363.234235  \n",
              "61036  [-5.6385713, 7.807969, -10.580486, -2.2421367,...     -26766.630224  \n",
              "\n",
              "[61037 rows x 9 columns]"
            ],
            "text/html": [
              "\n",
              "  <div id=\"df-5ab9547f-61f3-4f19-96ca-971b49c34858\">\n",
              "    <div class=\"colab-df-container\">\n",
              "      <div>\n",
              "<style scoped>\n",
              "    .dataframe tbody tr th:only-of-type {\n",
              "        vertical-align: middle;\n",
              "    }\n",
              "\n",
              "    .dataframe tbody tr th {\n",
              "        vertical-align: top;\n",
              "    }\n",
              "\n",
              "    .dataframe thead th {\n",
              "        text-align: right;\n",
              "    }\n",
              "</style>\n",
              "<table border=\"1\" class=\"dataframe\">\n",
              "  <thead>\n",
              "    <tr style=\"text-align: right;\">\n",
              "      <th></th>\n",
              "      <th>refcode_csd</th>\n",
              "      <th>canonical_smiles</th>\n",
              "      <th>xyz_pbe_relaxed</th>\n",
              "      <th>tpsa</th>\n",
              "      <th>mol_w</th>\n",
              "      <th>num_valence_electrons</th>\n",
              "      <th>num_heteroatoms</th>\n",
              "      <th>mol2vec</th>\n",
              "      <th>total_energy_pbe</th>\n",
              "    </tr>\n",
              "  </thead>\n",
              "  <tbody>\n",
              "    <tr>\n",
              "      <th>0</th>\n",
              "      <td>ABAFEQ</td>\n",
              "      <td>Cc1ccc(cc1)S(=O)(=O)N[C@H](c1nnc(o1)SCc1ccc(cc...</td>\n",
              "      <td>{'O': [['39.55724515', '33.75271314', '38.4091...</td>\n",
              "      <td>85.09</td>\n",
              "      <td>423.047811</td>\n",
              "      <td>142</td>\n",
              "      <td>9</td>\n",
              "      <td>[-9.885212, 7.283, -11.909391, 2.714392, -7.30...</td>\n",
              "      <td>-63908.261677</td>\n",
              "    </tr>\n",
              "    <tr>\n",
              "      <th>1</th>\n",
              "      <td>ABEDOC</td>\n",
              "      <td>N#CC(=C(c1ccccc1)c1ccccc1)[C@H](c1ccccc1)NS(=O...</td>\n",
              "      <td>{'C': [['8.74281024', '13.44863575', '23.16378...</td>\n",
              "      <td>69.96</td>\n",
              "      <td>450.140199</td>\n",
              "      <td>162</td>\n",
              "      <td>5</td>\n",
              "      <td>[-10.063227, 10.888024, -20.65452, 0.42244783,...</td>\n",
              "      <td>-47344.131203</td>\n",
              "    </tr>\n",
              "    <tr>\n",
              "      <th>2</th>\n",
              "      <td>LODZOT</td>\n",
              "      <td>n1ccc(cc1)c1nnc(o1)c1cccs1</td>\n",
              "      <td>{'N': [['23.84904338', '42.50577669', '35.0388...</td>\n",
              "      <td>51.81</td>\n",
              "      <td>229.030983</td>\n",
              "      <td>78</td>\n",
              "      <td>5</td>\n",
              "      <td>[-5.338256, 3.8927343, -6.896216, -0.27919152,...</td>\n",
              "      <td>-28915.979909</td>\n",
              "    </tr>\n",
              "    <tr>\n",
              "      <th>3</th>\n",
              "      <td>LUSREW</td>\n",
              "      <td>CC/C=C(/S(=O)(=O)c1ccc(cc1)C)\\F</td>\n",
              "      <td>{'C': [['36.52340453', '39.64067030', '25.1692...</td>\n",
              "      <td>34.14</td>\n",
              "      <td>228.062029</td>\n",
              "      <td>82</td>\n",
              "      <td>4</td>\n",
              "      <td>[-4.85507, 5.27727, -9.770724, 2.1801903, -2.5...</td>\n",
              "      <td>-29310.525400</td>\n",
              "    </tr>\n",
              "    <tr>\n",
              "      <th>4</th>\n",
              "      <td>NOMBEA01</td>\n",
              "      <td>OC(=O)c1cc(N(=O)=O)c(c(c1)N(=O)=O)C</td>\n",
              "      <td>{'C': [['3.95256786', '17.67855833', '24.82877...</td>\n",
              "      <td>123.58</td>\n",
              "      <td>226.022586</td>\n",
              "      <td>84</td>\n",
              "      <td>8</td>\n",
              "      <td>[-3.7424397, 6.9630003, -7.5874896, 3.2785816,...</td>\n",
              "      <td>-23659.206412</td>\n",
              "    </tr>\n",
              "    <tr>\n",
              "      <th>...</th>\n",
              "      <td>...</td>\n",
              "      <td>...</td>\n",
              "      <td>...</td>\n",
              "      <td>...</td>\n",
              "      <td>...</td>\n",
              "      <td>...</td>\n",
              "      <td>...</td>\n",
              "      <td>...</td>\n",
              "      <td>...</td>\n",
              "    </tr>\n",
              "    <tr>\n",
              "      <th>61032</th>\n",
              "      <td>VIGDOE</td>\n",
              "      <td>COC(=O)c1c(c(C(=O)OC)c(c(c1C(C)(C)C)C(=O)OC)C(...</td>\n",
              "      <td>{'C': [['22.26969809', '41.92804704', '35.4693...</td>\n",
              "      <td>78.90</td>\n",
              "      <td>420.251189</td>\n",
              "      <td>168</td>\n",
              "      <td>6</td>\n",
              "      <td>[-11.613864, 11.018429, -15.99478, 4.44409, -5...</td>\n",
              "      <td>-37759.078750</td>\n",
              "    </tr>\n",
              "    <tr>\n",
              "      <th>61033</th>\n",
              "      <td>FOMSEG</td>\n",
              "      <td>O=C(c1ccccc1O)N/N=C/c1ccc(c(c1)Cl)Cl</td>\n",
              "      <td>{'O': [['33.93699398', '43.81820335', '40.7349...</td>\n",
              "      <td>61.69</td>\n",
              "      <td>308.011933</td>\n",
              "      <td>102</td>\n",
              "      <td>6</td>\n",
              "      <td>[-6.1590996, 6.9757314, -8.373731, 0.45949158,...</td>\n",
              "      <td>-46914.426056</td>\n",
              "    </tr>\n",
              "    <tr>\n",
              "      <th>61034</th>\n",
              "      <td>FOPCOC</td>\n",
              "      <td>C1=CC=C2C[C]([CH]1)[C]1[CH]C=CC=C(C1)CC2</td>\n",
              "      <td>{'C': [['22.97323141', '39.02044458', '27.9314...</td>\n",
              "      <td>0.00</td>\n",
              "      <td>208.125201</td>\n",
              "      <td>80</td>\n",
              "      <td>0</td>\n",
              "      <td>[-10.404796, 8.853079, -10.362222, -3.2704961,...</td>\n",
              "      <td>-16847.126386</td>\n",
              "    </tr>\n",
              "    <tr>\n",
              "      <th>61035</th>\n",
              "      <td>VINMOV</td>\n",
              "      <td>Cc1ccc(cc1)S(=O)(=O)N[C@H](C(=O)N1C(=O)OC[C@@H...</td>\n",
              "      <td>{'O': [['56.17414946', '59.56569287', '49.1532...</td>\n",
              "      <td>92.78</td>\n",
              "      <td>576.012133</td>\n",
              "      <td>182</td>\n",
              "      <td>10</td>\n",
              "      <td>[-10.337876, 9.518248, -17.89608, 0.178429, -7...</td>\n",
              "      <td>-134363.234235</td>\n",
              "    </tr>\n",
              "    <tr>\n",
              "      <th>61036</th>\n",
              "      <td>FORMYB01</td>\n",
              "      <td>OC[C@H]1O[C@H]([C@@H]([C@@H]1O)O)c1n[nH]c2c1nc...</td>\n",
              "      <td>{'H': [['23.16403631', '26.06955118', '20.5328...</td>\n",
              "      <td>144.35</td>\n",
              "      <td>268.080769</td>\n",
              "      <td>102</td>\n",
              "      <td>9</td>\n",
              "      <td>[-5.6385713, 7.807969, -10.580486, -2.2421367,...</td>\n",
              "      <td>-26766.630224</td>\n",
              "    </tr>\n",
              "  </tbody>\n",
              "</table>\n",
              "<p>61037 rows × 9 columns</p>\n",
              "</div>\n",
              "      <button class=\"colab-df-convert\" onclick=\"convertToInteractive('df-5ab9547f-61f3-4f19-96ca-971b49c34858')\"\n",
              "              title=\"Convert this dataframe to an interactive table.\"\n",
              "              style=\"display:none;\">\n",
              "        \n",
              "  <svg xmlns=\"http://www.w3.org/2000/svg\" height=\"24px\"viewBox=\"0 0 24 24\"\n",
              "       width=\"24px\">\n",
              "    <path d=\"M0 0h24v24H0V0z\" fill=\"none\"/>\n",
              "    <path d=\"M18.56 5.44l.94 2.06.94-2.06 2.06-.94-2.06-.94-.94-2.06-.94 2.06-2.06.94zm-11 1L8.5 8.5l.94-2.06 2.06-.94-2.06-.94L8.5 2.5l-.94 2.06-2.06.94zm10 10l.94 2.06.94-2.06 2.06-.94-2.06-.94-.94-2.06-.94 2.06-2.06.94z\"/><path d=\"M17.41 7.96l-1.37-1.37c-.4-.4-.92-.59-1.43-.59-.52 0-1.04.2-1.43.59L10.3 9.45l-7.72 7.72c-.78.78-.78 2.05 0 2.83L4 21.41c.39.39.9.59 1.41.59.51 0 1.02-.2 1.41-.59l7.78-7.78 2.81-2.81c.8-.78.8-2.07 0-2.86zM5.41 20L4 18.59l7.72-7.72 1.47 1.35L5.41 20z\"/>\n",
              "  </svg>\n",
              "      </button>\n",
              "      \n",
              "  <style>\n",
              "    .colab-df-container {\n",
              "      display:flex;\n",
              "      flex-wrap:wrap;\n",
              "      gap: 12px;\n",
              "    }\n",
              "\n",
              "    .colab-df-convert {\n",
              "      background-color: #E8F0FE;\n",
              "      border: none;\n",
              "      border-radius: 50%;\n",
              "      cursor: pointer;\n",
              "      display: none;\n",
              "      fill: #1967D2;\n",
              "      height: 32px;\n",
              "      padding: 0 0 0 0;\n",
              "      width: 32px;\n",
              "    }\n",
              "\n",
              "    .colab-df-convert:hover {\n",
              "      background-color: #E2EBFA;\n",
              "      box-shadow: 0px 1px 2px rgba(60, 64, 67, 0.3), 0px 1px 3px 1px rgba(60, 64, 67, 0.15);\n",
              "      fill: #174EA6;\n",
              "    }\n",
              "\n",
              "    [theme=dark] .colab-df-convert {\n",
              "      background-color: #3B4455;\n",
              "      fill: #D2E3FC;\n",
              "    }\n",
              "\n",
              "    [theme=dark] .colab-df-convert:hover {\n",
              "      background-color: #434B5C;\n",
              "      box-shadow: 0px 1px 3px 1px rgba(0, 0, 0, 0.15);\n",
              "      filter: drop-shadow(0px 1px 2px rgba(0, 0, 0, 0.3));\n",
              "      fill: #FFFFFF;\n",
              "    }\n",
              "  </style>\n",
              "\n",
              "      <script>\n",
              "        const buttonEl =\n",
              "          document.querySelector('#df-5ab9547f-61f3-4f19-96ca-971b49c34858 button.colab-df-convert');\n",
              "        buttonEl.style.display =\n",
              "          google.colab.kernel.accessAllowed ? 'block' : 'none';\n",
              "\n",
              "        async function convertToInteractive(key) {\n",
              "          const element = document.querySelector('#df-5ab9547f-61f3-4f19-96ca-971b49c34858');\n",
              "          const dataTable =\n",
              "            await google.colab.kernel.invokeFunction('convertToInteractive',\n",
              "                                                     [key], {});\n",
              "          if (!dataTable) return;\n",
              "\n",
              "          const docLinkHtml = 'Like what you see? Visit the ' +\n",
              "            '<a target=\"_blank\" href=https://colab.research.google.com/notebooks/data_table.ipynb>data table notebook</a>'\n",
              "            + ' to learn more about interactive tables.';\n",
              "          element.innerHTML = '';\n",
              "          dataTable['output_type'] = 'display_data';\n",
              "          await google.colab.output.renderOutput(dataTable, element);\n",
              "          const docLink = document.createElement('div');\n",
              "          docLink.innerHTML = docLinkHtml;\n",
              "          element.appendChild(docLink);\n",
              "        }\n",
              "      </script>\n",
              "    </div>\n",
              "  </div>\n",
              "  "
            ]
          },
          "metadata": {},
          "execution_count": 34
        }
      ]
    },
    {
      "cell_type": "markdown",
      "source": [
        "# DFT calculations are expensive, so we would like to built a model capable of infering the molecule energy from their atom positions and species"
      ],
      "metadata": {
        "id": "MEYgDXUtlwTO"
      }
    }
  ]
}