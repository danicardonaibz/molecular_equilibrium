{
  "nbformat": 4,
  "nbformat_minor": 0,
  "metadata": {
    "colab": {
      "provenance": [],
      "machine_shape": "hm",
      "collapsed_sections": [
        "tb17qHIOlVTH",
        "M-lkjnyVba9e",
        "7ZDWlZXnS07S",
        "AJtt4WlOg1wg",
        "PNUUZgMzIe1l",
        "z3la9lk7I8fm",
        "wXiKqbVdOld_"
      ],
      "toc_visible": true,
      "mount_file_id": "1unQDm2tYnnxj3WJ8AyRLNjPHsO5pIciN",
      "authorship_tag": "ABX9TyOV89C0vNTq1Hk1WSr4Ll8t",
      "include_colab_link": true
    },
    "kernelspec": {
      "name": "python3",
      "display_name": "Python 3"
    },
    "language_info": {
      "name": "python"
    },
    "gpuClass": "standard"
  },
  "cells": [
    {
      "cell_type": "markdown",
      "metadata": {
        "id": "view-in-github",
        "colab_type": "text"
      },
      "source": [
        "<a href=\"https://colab.research.google.com/github/danicardonaibz/molecular_equilibrium/blob/main/ML_Material_Science.ipynb\" target=\"_parent\"><img src=\"https://colab.research.google.com/assets/colab-badge.svg\" alt=\"Open In Colab\"/></a>"
      ]
    },
    {
      "cell_type": "markdown",
      "source": [
        "# Project in machine Learning for Materials Science"
      ],
      "metadata": {
        "id": "JMpfCNoter9S"
      }
    },
    {
      "cell_type": "markdown",
      "source": [
        "https://github.com/tonyreina/chemistry/blob/main/chemistry_predict_logP_tensorflow.ipynb"
      ],
      "metadata": {
        "id": "Xxq6Ek4qdCWW"
      }
    },
    {
      "cell_type": "code",
      "source": [
        "# First we will install some dependencies\n",
        "\n",
        "%pip install --upgrade py3Dmol\n",
        "%pip install --upgrade ase\n",
        "%pip install --upgrade pubchempy\n",
        "%pip install --upgrade dscribe\n",
        "%pip install git+https://github.com/samoturk/mol2vec\n",
        "%pip install --upgrade rdkit"
      ],
      "metadata": {
        "colab": {
          "base_uri": "https://localhost:8080/"
        },
        "id": "8D90uWoMn1f0",
        "outputId": "bd3f8a2c-6a6d-4a23-882c-f9afb82eabc2"
      },
      "execution_count": null,
      "outputs": [
        {
          "output_type": "stream",
          "name": "stdout",
          "text": [
            "Looking in indexes: https://pypi.org/simple, https://us-python.pkg.dev/colab-wheels/public/simple/\n",
            "Requirement already satisfied: py3Dmol in /usr/local/lib/python3.7/dist-packages (1.8.1)\n",
            "Looking in indexes: https://pypi.org/simple, https://us-python.pkg.dev/colab-wheels/public/simple/\n",
            "Requirement already satisfied: ase in /usr/local/lib/python3.7/dist-packages (3.22.1)\n",
            "Requirement already satisfied: matplotlib>=3.1.0 in /usr/local/lib/python3.7/dist-packages (from ase) (3.2.2)\n",
            "Requirement already satisfied: scipy>=1.1.0 in /usr/local/lib/python3.7/dist-packages (from ase) (1.7.3)\n",
            "Requirement already satisfied: numpy>=1.15.0 in /usr/local/lib/python3.7/dist-packages (from ase) (1.21.6)\n",
            "Requirement already satisfied: pyparsing!=2.0.4,!=2.1.2,!=2.1.6,>=2.0.1 in /usr/local/lib/python3.7/dist-packages (from matplotlib>=3.1.0->ase) (3.0.9)\n",
            "Requirement already satisfied: kiwisolver>=1.0.1 in /usr/local/lib/python3.7/dist-packages (from matplotlib>=3.1.0->ase) (1.4.4)\n",
            "Requirement already satisfied: python-dateutil>=2.1 in /usr/local/lib/python3.7/dist-packages (from matplotlib>=3.1.0->ase) (2.8.2)\n",
            "Requirement already satisfied: cycler>=0.10 in /usr/local/lib/python3.7/dist-packages (from matplotlib>=3.1.0->ase) (0.11.0)\n",
            "Requirement already satisfied: typing-extensions in /usr/local/lib/python3.7/dist-packages (from kiwisolver>=1.0.1->matplotlib>=3.1.0->ase) (4.1.1)\n",
            "Requirement already satisfied: six>=1.5 in /usr/local/lib/python3.7/dist-packages (from python-dateutil>=2.1->matplotlib>=3.1.0->ase) (1.15.0)\n",
            "Looking in indexes: https://pypi.org/simple, https://us-python.pkg.dev/colab-wheels/public/simple/\n",
            "Requirement already satisfied: pubchempy in /usr/local/lib/python3.7/dist-packages (1.0.4)\n",
            "Looking in indexes: https://pypi.org/simple, https://us-python.pkg.dev/colab-wheels/public/simple/\n",
            "Requirement already satisfied: dscribe in /usr/local/lib/python3.7/dist-packages (1.2.2)\n",
            "Requirement already satisfied: pybind11>=2.4 in /usr/local/lib/python3.7/dist-packages (from dscribe) (2.10.1)\n",
            "Requirement already satisfied: scikit-learn in /usr/local/lib/python3.7/dist-packages (from dscribe) (1.0.2)\n",
            "Requirement already satisfied: joblib>=1.0.0 in /usr/local/lib/python3.7/dist-packages (from dscribe) (1.2.0)\n",
            "Requirement already satisfied: numpy in /usr/local/lib/python3.7/dist-packages (from dscribe) (1.21.6)\n",
            "Requirement already satisfied: ase>=3.19.0 in /usr/local/lib/python3.7/dist-packages (from dscribe) (3.22.1)\n",
            "Requirement already satisfied: sparse in /usr/local/lib/python3.7/dist-packages (from dscribe) (0.13.0)\n",
            "Requirement already satisfied: scipy in /usr/local/lib/python3.7/dist-packages (from dscribe) (1.7.3)\n",
            "Requirement already satisfied: matplotlib>=3.1.0 in /usr/local/lib/python3.7/dist-packages (from ase>=3.19.0->dscribe) (3.2.2)\n",
            "Requirement already satisfied: kiwisolver>=1.0.1 in /usr/local/lib/python3.7/dist-packages (from matplotlib>=3.1.0->ase>=3.19.0->dscribe) (1.4.4)\n",
            "Requirement already satisfied: pyparsing!=2.0.4,!=2.1.2,!=2.1.6,>=2.0.1 in /usr/local/lib/python3.7/dist-packages (from matplotlib>=3.1.0->ase>=3.19.0->dscribe) (3.0.9)\n",
            "Requirement already satisfied: cycler>=0.10 in /usr/local/lib/python3.7/dist-packages (from matplotlib>=3.1.0->ase>=3.19.0->dscribe) (0.11.0)\n",
            "Requirement already satisfied: python-dateutil>=2.1 in /usr/local/lib/python3.7/dist-packages (from matplotlib>=3.1.0->ase>=3.19.0->dscribe) (2.8.2)\n",
            "Requirement already satisfied: typing-extensions in /usr/local/lib/python3.7/dist-packages (from kiwisolver>=1.0.1->matplotlib>=3.1.0->ase>=3.19.0->dscribe) (4.1.1)\n",
            "Requirement already satisfied: six>=1.5 in /usr/local/lib/python3.7/dist-packages (from python-dateutil>=2.1->matplotlib>=3.1.0->ase>=3.19.0->dscribe) (1.15.0)\n",
            "Requirement already satisfied: threadpoolctl>=2.0.0 in /usr/local/lib/python3.7/dist-packages (from scikit-learn->dscribe) (3.1.0)\n",
            "Requirement already satisfied: numba>=0.49 in /usr/local/lib/python3.7/dist-packages (from sparse->dscribe) (0.56.4)\n",
            "Requirement already satisfied: llvmlite<0.40,>=0.39.0dev0 in /usr/local/lib/python3.7/dist-packages (from numba>=0.49->sparse->dscribe) (0.39.1)\n",
            "Requirement already satisfied: setuptools in /usr/local/lib/python3.7/dist-packages (from numba>=0.49->sparse->dscribe) (57.4.0)\n",
            "Requirement already satisfied: importlib-metadata in /usr/local/lib/python3.7/dist-packages (from numba>=0.49->sparse->dscribe) (4.13.0)\n",
            "Requirement already satisfied: zipp>=0.5 in /usr/local/lib/python3.7/dist-packages (from importlib-metadata->numba>=0.49->sparse->dscribe) (3.10.0)\n",
            "Looking in indexes: https://pypi.org/simple, https://us-python.pkg.dev/colab-wheels/public/simple/\n",
            "Collecting git+https://github.com/samoturk/mol2vec\n",
            "  Cloning https://github.com/samoturk/mol2vec to /tmp/pip-req-build-y84urdch\n",
            "  Running command git clone -q https://github.com/samoturk/mol2vec /tmp/pip-req-build-y84urdch\n",
            "Requirement already satisfied: numpy in /usr/local/lib/python3.7/dist-packages (from mol2vec==0.1) (1.21.6)\n",
            "Requirement already satisfied: gensim in /usr/local/lib/python3.7/dist-packages (from mol2vec==0.1) (3.6.0)\n",
            "Requirement already satisfied: tqdm in /usr/local/lib/python3.7/dist-packages (from mol2vec==0.1) (4.64.1)\n",
            "Requirement already satisfied: joblib in /usr/local/lib/python3.7/dist-packages (from mol2vec==0.1) (1.2.0)\n",
            "Requirement already satisfied: pandas in /usr/local/lib/python3.7/dist-packages (from mol2vec==0.1) (1.3.5)\n",
            "Requirement already satisfied: matplotlib in /usr/local/lib/python3.7/dist-packages (from mol2vec==0.1) (3.2.2)\n",
            "Requirement already satisfied: IPython in /usr/local/lib/python3.7/dist-packages (from mol2vec==0.1) (7.9.0)\n",
            "Requirement already satisfied: seaborn in /usr/local/lib/python3.7/dist-packages (from mol2vec==0.1) (0.11.2)\n",
            "Requirement already satisfied: six>=1.5.0 in /usr/local/lib/python3.7/dist-packages (from gensim->mol2vec==0.1) (1.15.0)\n",
            "Requirement already satisfied: smart-open>=1.2.1 in /usr/local/lib/python3.7/dist-packages (from gensim->mol2vec==0.1) (5.2.1)\n",
            "Requirement already satisfied: scipy>=0.18.1 in /usr/local/lib/python3.7/dist-packages (from gensim->mol2vec==0.1) (1.7.3)\n",
            "Requirement already satisfied: traitlets>=4.2 in /usr/local/lib/python3.7/dist-packages (from IPython->mol2vec==0.1) (5.1.1)\n",
            "Requirement already satisfied: pygments in /usr/local/lib/python3.7/dist-packages (from IPython->mol2vec==0.1) (2.6.1)\n",
            "Requirement already satisfied: setuptools>=18.5 in /usr/local/lib/python3.7/dist-packages (from IPython->mol2vec==0.1) (57.4.0)\n",
            "Requirement already satisfied: pickleshare in /usr/local/lib/python3.7/dist-packages (from IPython->mol2vec==0.1) (0.7.5)\n",
            "Requirement already satisfied: jedi>=0.10 in /usr/local/lib/python3.7/dist-packages (from IPython->mol2vec==0.1) (0.18.2)\n",
            "Requirement already satisfied: prompt-toolkit<2.1.0,>=2.0.0 in /usr/local/lib/python3.7/dist-packages (from IPython->mol2vec==0.1) (2.0.10)\n",
            "Requirement already satisfied: decorator in /usr/local/lib/python3.7/dist-packages (from IPython->mol2vec==0.1) (4.4.2)\n",
            "Requirement already satisfied: backcall in /usr/local/lib/python3.7/dist-packages (from IPython->mol2vec==0.1) (0.2.0)\n",
            "Requirement already satisfied: pexpect in /usr/local/lib/python3.7/dist-packages (from IPython->mol2vec==0.1) (4.8.0)\n",
            "Requirement already satisfied: parso<0.9.0,>=0.8.0 in /usr/local/lib/python3.7/dist-packages (from jedi>=0.10->IPython->mol2vec==0.1) (0.8.3)\n",
            "Requirement already satisfied: wcwidth in /usr/local/lib/python3.7/dist-packages (from prompt-toolkit<2.1.0,>=2.0.0->IPython->mol2vec==0.1) (0.2.5)\n",
            "Requirement already satisfied: cycler>=0.10 in /usr/local/lib/python3.7/dist-packages (from matplotlib->mol2vec==0.1) (0.11.0)\n",
            "Requirement already satisfied: pyparsing!=2.0.4,!=2.1.2,!=2.1.6,>=2.0.1 in /usr/local/lib/python3.7/dist-packages (from matplotlib->mol2vec==0.1) (3.0.9)\n",
            "Requirement already satisfied: kiwisolver>=1.0.1 in /usr/local/lib/python3.7/dist-packages (from matplotlib->mol2vec==0.1) (1.4.4)\n",
            "Requirement already satisfied: python-dateutil>=2.1 in /usr/local/lib/python3.7/dist-packages (from matplotlib->mol2vec==0.1) (2.8.2)\n",
            "Requirement already satisfied: typing-extensions in /usr/local/lib/python3.7/dist-packages (from kiwisolver>=1.0.1->matplotlib->mol2vec==0.1) (4.1.1)\n",
            "Requirement already satisfied: pytz>=2017.3 in /usr/local/lib/python3.7/dist-packages (from pandas->mol2vec==0.1) (2022.6)\n",
            "Requirement already satisfied: ptyprocess>=0.5 in /usr/local/lib/python3.7/dist-packages (from pexpect->IPython->mol2vec==0.1) (0.7.0)\n",
            "Looking in indexes: https://pypi.org/simple, https://us-python.pkg.dev/colab-wheels/public/simple/\n",
            "Requirement already satisfied: rdkit in /usr/local/lib/python3.7/dist-packages (2022.9.2)\n",
            "Requirement already satisfied: numpy in /usr/local/lib/python3.7/dist-packages (from rdkit) (1.21.6)\n",
            "Requirement already satisfied: Pillow in /usr/local/lib/python3.7/dist-packages (from rdkit) (7.1.2)\n"
          ]
        }
      ]
    },
    {
      "cell_type": "code",
      "execution_count": null,
      "metadata": {
        "id": "1kJGF0dSXX1w"
      },
      "outputs": [],
      "source": [
        "import pandas as pd\n",
        "import numpy as np\n",
        "import re\n",
        "from google.colab import drive\n",
        "from itertools import zip_longest\n",
        "from collections import defaultdict\n",
        "\n",
        "import json\n",
        "from matplotlib import pyplot as plt\n",
        "import seaborn as sns\n",
        "from rdkit import Chem\n",
        "\n",
        "import ase\n",
        "from ase import Atoms\n",
        "from dscribe.descriptors import MBTR, CoulombMatrix\n",
        "from rdkit.Chem import Descriptors\n",
        "\n",
        "from rdkit.Chem import Draw\n",
        "from rdkit.Chem.Draw import rdMolDraw2D\n",
        "\n",
        "import random\n",
        "\n",
        "import tensorflow as tf"
      ]
    },
    {
      "cell_type": "markdown",
      "source": [
        "## Step 1: Loading our data"
      ],
      "metadata": {
        "id": "baohp59He39L"
      }
    },
    {
      "cell_type": "code",
      "source": [
        "drive.mount('/content/drive', force_remount = True)"
      ],
      "metadata": {
        "id": "hEMCC_dnVFzX",
        "colab": {
          "base_uri": "https://localhost:8080/"
        },
        "outputId": "86092de1-2135-4a68-a8e0-3d569fc1dda0"
      },
      "execution_count": null,
      "outputs": [
        {
          "output_type": "stream",
          "name": "stdout",
          "text": [
            "Mounted at /content/drive\n"
          ]
        }
      ]
    },
    {
      "cell_type": "code",
      "source": [
        "df = pd.read_json(\"/content/drive/MyDrive/m1507656/df_62k.json\", orient='split')"
      ],
      "metadata": {
        "id": "be_GNDhoXkH3"
      },
      "execution_count": null,
      "outputs": []
    },
    {
      "cell_type": "code",
      "source": [
        "df.head(4)"
      ],
      "metadata": {
        "colab": {
          "base_uri": "https://localhost:8080/",
          "height": 476
        },
        "id": "cBv5o-ygYQl-",
        "outputId": "2e52e8aa-41df-45f9-dbff-8e96a526c3e1"
      },
      "execution_count": null,
      "outputs": [
        {
          "output_type": "execute_result",
          "data": {
            "text/plain": [
              "  refcode_csd                                   canonical_smiles  \\\n",
              "0      ABAFEQ  Cc1ccc(cc1)S(=O)(=O)N[C@H](c1nnc(o1)SCc1ccc(cc...   \n",
              "1      ABEDOC  N#CC(=C(c1ccccc1)c1ccccc1)[C@H](c1ccccc1)NS(=O...   \n",
              "2      LODZOT                     n1ccc(cc1)c1nnc(o1)c1cccs1\\t\\n   \n",
              "3      LUSREW                CC/C=C(/S(=O)(=O)c1ccc(cc1)C)\\F\\t\\n   \n",
              "\n",
              "                                               inchi  number_of_atoms  \\\n",
              "0  InChI=1S/C18H18ClN3O3S2/c1-12-3-9-16(10-4-12)2...               45   \n",
              "1  InChI=1S/C28H22N2O2S/c29-21-26(27(22-13-5-1-6-...               55   \n",
              "2  InChI=1S/C11H7N3OS/c1-2-9(16-7-1)11-14-13-10(1...               23   \n",
              "3  InChI=1S/C11H13FO2S/c1-3-4-11(12)15(13,14)10-7...               28   \n",
              "\n",
              "                                     xyz_pbe_relaxed  \\\n",
              "0  45\\n\\nO      39.55724515      33.75271314     ...   \n",
              "1  55\\n\\nC       8.74281024      13.44863575     ...   \n",
              "2  23\\n\\nN      23.84904338      42.50577669     ...   \n",
              "3  28\\n\\nC      36.52340453      39.64067030     ...   \n",
              "\n",
              "                                    energies_occ_pbe  \\\n",
              "0  [-2759.71553, -2416.30896, -2412.55736, -513.9...   \n",
              "1  [-2416.32097, -510.97599, -510.93427, -382.106...   \n",
              "2  [-2412.75371, -513.88451, -382.11294, -382.041...   \n",
              "3  [-2416.01387, -662.1882, -510.96036, -510.9032...   \n",
              "\n",
              "                         energies_occ_pbe0_vac_tier2  \\\n",
              "0  [-2788.05127, -2443.36662, -2439.20276, -526.4...   \n",
              "1  [-2443.36734, -523.36541, -523.31866, -392.998...   \n",
              "2  [-2439.38001, -526.39732, -393.09445, -393.002...   \n",
              "3  [-2443.06569, -676.06906, -523.38098, -523.310...   \n",
              "\n",
              "                             energies_occ_pbe0_water  \\\n",
              "0                                               None   \n",
              "1                                               None   \n",
              "2                                               None   \n",
              "3  [-2443.54535, -676.3259, -523.94531, -523.9294...   \n",
              "\n",
              "  energies_occ_pbe0_vac_tzvp energies_occ_pbe0_vac_qzvp  ...  \\\n",
              "0                       None                       None  ...   \n",
              "1                       None                       None  ...   \n",
              "2                       None                       None  ...   \n",
              "3                       None                       None  ...   \n",
              "\n",
              "  energies_unocc_gw_qzvp cbs_unocc_gw total_energy_pbe  \\\n",
              "0                   None         None    -63908.261677   \n",
              "1                   None         None    -47344.131203   \n",
              "2                   None         None    -28915.979909   \n",
              "3                   None         None    -29310.525400   \n",
              "\n",
              "  total_energy_pbe0_vac_tier2 total_energy_pbe0_water  \\\n",
              "0               -63911.485930                     NaN   \n",
              "1               -47346.537633                     NaN   \n",
              "2               -28916.826630                     NaN   \n",
              "3               -29311.929019           -29312.152528   \n",
              "\n",
              "  total_energy_pbe0_vac_tzvp total_energy_pbe0_vac_qzvp  \\\n",
              "0                        NaN                        NaN   \n",
              "1                        NaN                        NaN   \n",
              "2                        NaN                        NaN   \n",
              "3                        NaN                        NaN   \n",
              "\n",
              "                                       hirshfeld_pbe  \\\n",
              "0  [-0.27470711000000003, 0.44228032, -0.26425776...   \n",
              "1  [-0.04383635, 0.0489517, -0.04317942, 0.049465...   \n",
              "2  [-0.15366001, 0.01755584, 0.05299325, -0.04774...   \n",
              "3  [-0.10553088000000001, 0.052016810000000004, 0...   \n",
              "\n",
              "                            hirshfeld_pbe0_vac_tier2  \\\n",
              "0  [-0.29802765000000003, 0.47691104, -0.28757556...   \n",
              "1  [-0.04511281, 0.05043578, -0.04467607, 0.05086...   \n",
              "2  [-0.16233532, 0.02121239, 0.05594731, -0.06621...   \n",
              "3  [-0.10641357, 0.053639570000000004, 0.05095191...   \n",
              "\n",
              "                                hirshfeld_pbe0_water  \n",
              "0                                               None  \n",
              "1                                               None  \n",
              "2                                               None  \n",
              "3  [-0.10396546, 0.06349725, 0.0567905, 0.0529875...  \n",
              "\n",
              "[4 rows x 29 columns]"
            ],
            "text/html": [
              "\n",
              "  <div id=\"df-66f75326-f00d-45ea-8d75-f1f3981cffe5\">\n",
              "    <div class=\"colab-df-container\">\n",
              "      <div>\n",
              "<style scoped>\n",
              "    .dataframe tbody tr th:only-of-type {\n",
              "        vertical-align: middle;\n",
              "    }\n",
              "\n",
              "    .dataframe tbody tr th {\n",
              "        vertical-align: top;\n",
              "    }\n",
              "\n",
              "    .dataframe thead th {\n",
              "        text-align: right;\n",
              "    }\n",
              "</style>\n",
              "<table border=\"1\" class=\"dataframe\">\n",
              "  <thead>\n",
              "    <tr style=\"text-align: right;\">\n",
              "      <th></th>\n",
              "      <th>refcode_csd</th>\n",
              "      <th>canonical_smiles</th>\n",
              "      <th>inchi</th>\n",
              "      <th>number_of_atoms</th>\n",
              "      <th>xyz_pbe_relaxed</th>\n",
              "      <th>energies_occ_pbe</th>\n",
              "      <th>energies_occ_pbe0_vac_tier2</th>\n",
              "      <th>energies_occ_pbe0_water</th>\n",
              "      <th>energies_occ_pbe0_vac_tzvp</th>\n",
              "      <th>energies_occ_pbe0_vac_qzvp</th>\n",
              "      <th>...</th>\n",
              "      <th>energies_unocc_gw_qzvp</th>\n",
              "      <th>cbs_unocc_gw</th>\n",
              "      <th>total_energy_pbe</th>\n",
              "      <th>total_energy_pbe0_vac_tier2</th>\n",
              "      <th>total_energy_pbe0_water</th>\n",
              "      <th>total_energy_pbe0_vac_tzvp</th>\n",
              "      <th>total_energy_pbe0_vac_qzvp</th>\n",
              "      <th>hirshfeld_pbe</th>\n",
              "      <th>hirshfeld_pbe0_vac_tier2</th>\n",
              "      <th>hirshfeld_pbe0_water</th>\n",
              "    </tr>\n",
              "  </thead>\n",
              "  <tbody>\n",
              "    <tr>\n",
              "      <th>0</th>\n",
              "      <td>ABAFEQ</td>\n",
              "      <td>Cc1ccc(cc1)S(=O)(=O)N[C@H](c1nnc(o1)SCc1ccc(cc...</td>\n",
              "      <td>InChI=1S/C18H18ClN3O3S2/c1-12-3-9-16(10-4-12)2...</td>\n",
              "      <td>45</td>\n",
              "      <td>45\\n\\nO      39.55724515      33.75271314     ...</td>\n",
              "      <td>[-2759.71553, -2416.30896, -2412.55736, -513.9...</td>\n",
              "      <td>[-2788.05127, -2443.36662, -2439.20276, -526.4...</td>\n",
              "      <td>None</td>\n",
              "      <td>None</td>\n",
              "      <td>None</td>\n",
              "      <td>...</td>\n",
              "      <td>None</td>\n",
              "      <td>None</td>\n",
              "      <td>-63908.261677</td>\n",
              "      <td>-63911.485930</td>\n",
              "      <td>NaN</td>\n",
              "      <td>NaN</td>\n",
              "      <td>NaN</td>\n",
              "      <td>[-0.27470711000000003, 0.44228032, -0.26425776...</td>\n",
              "      <td>[-0.29802765000000003, 0.47691104, -0.28757556...</td>\n",
              "      <td>None</td>\n",
              "    </tr>\n",
              "    <tr>\n",
              "      <th>1</th>\n",
              "      <td>ABEDOC</td>\n",
              "      <td>N#CC(=C(c1ccccc1)c1ccccc1)[C@H](c1ccccc1)NS(=O...</td>\n",
              "      <td>InChI=1S/C28H22N2O2S/c29-21-26(27(22-13-5-1-6-...</td>\n",
              "      <td>55</td>\n",
              "      <td>55\\n\\nC       8.74281024      13.44863575     ...</td>\n",
              "      <td>[-2416.32097, -510.97599, -510.93427, -382.106...</td>\n",
              "      <td>[-2443.36734, -523.36541, -523.31866, -392.998...</td>\n",
              "      <td>None</td>\n",
              "      <td>None</td>\n",
              "      <td>None</td>\n",
              "      <td>...</td>\n",
              "      <td>None</td>\n",
              "      <td>None</td>\n",
              "      <td>-47344.131203</td>\n",
              "      <td>-47346.537633</td>\n",
              "      <td>NaN</td>\n",
              "      <td>NaN</td>\n",
              "      <td>NaN</td>\n",
              "      <td>[-0.04383635, 0.0489517, -0.04317942, 0.049465...</td>\n",
              "      <td>[-0.04511281, 0.05043578, -0.04467607, 0.05086...</td>\n",
              "      <td>None</td>\n",
              "    </tr>\n",
              "    <tr>\n",
              "      <th>2</th>\n",
              "      <td>LODZOT</td>\n",
              "      <td>n1ccc(cc1)c1nnc(o1)c1cccs1\\t\\n</td>\n",
              "      <td>InChI=1S/C11H7N3OS/c1-2-9(16-7-1)11-14-13-10(1...</td>\n",
              "      <td>23</td>\n",
              "      <td>23\\n\\nN      23.84904338      42.50577669     ...</td>\n",
              "      <td>[-2412.75371, -513.88451, -382.11294, -382.041...</td>\n",
              "      <td>[-2439.38001, -526.39732, -393.09445, -393.002...</td>\n",
              "      <td>None</td>\n",
              "      <td>None</td>\n",
              "      <td>None</td>\n",
              "      <td>...</td>\n",
              "      <td>None</td>\n",
              "      <td>None</td>\n",
              "      <td>-28915.979909</td>\n",
              "      <td>-28916.826630</td>\n",
              "      <td>NaN</td>\n",
              "      <td>NaN</td>\n",
              "      <td>NaN</td>\n",
              "      <td>[-0.15366001, 0.01755584, 0.05299325, -0.04774...</td>\n",
              "      <td>[-0.16233532, 0.02121239, 0.05594731, -0.06621...</td>\n",
              "      <td>None</td>\n",
              "    </tr>\n",
              "    <tr>\n",
              "      <th>3</th>\n",
              "      <td>LUSREW</td>\n",
              "      <td>CC/C=C(/S(=O)(=O)c1ccc(cc1)C)\\F\\t\\n</td>\n",
              "      <td>InChI=1S/C11H13FO2S/c1-3-4-11(12)15(13,14)10-7...</td>\n",
              "      <td>28</td>\n",
              "      <td>28\\n\\nC      36.52340453      39.64067030     ...</td>\n",
              "      <td>[-2416.01387, -662.1882, -510.96036, -510.9032...</td>\n",
              "      <td>[-2443.06569, -676.06906, -523.38098, -523.310...</td>\n",
              "      <td>[-2443.54535, -676.3259, -523.94531, -523.9294...</td>\n",
              "      <td>None</td>\n",
              "      <td>None</td>\n",
              "      <td>...</td>\n",
              "      <td>None</td>\n",
              "      <td>None</td>\n",
              "      <td>-29310.525400</td>\n",
              "      <td>-29311.929019</td>\n",
              "      <td>-29312.152528</td>\n",
              "      <td>NaN</td>\n",
              "      <td>NaN</td>\n",
              "      <td>[-0.10553088000000001, 0.052016810000000004, 0...</td>\n",
              "      <td>[-0.10641357, 0.053639570000000004, 0.05095191...</td>\n",
              "      <td>[-0.10396546, 0.06349725, 0.0567905, 0.0529875...</td>\n",
              "    </tr>\n",
              "  </tbody>\n",
              "</table>\n",
              "<p>4 rows × 29 columns</p>\n",
              "</div>\n",
              "      <button class=\"colab-df-convert\" onclick=\"convertToInteractive('df-66f75326-f00d-45ea-8d75-f1f3981cffe5')\"\n",
              "              title=\"Convert this dataframe to an interactive table.\"\n",
              "              style=\"display:none;\">\n",
              "        \n",
              "  <svg xmlns=\"http://www.w3.org/2000/svg\" height=\"24px\"viewBox=\"0 0 24 24\"\n",
              "       width=\"24px\">\n",
              "    <path d=\"M0 0h24v24H0V0z\" fill=\"none\"/>\n",
              "    <path d=\"M18.56 5.44l.94 2.06.94-2.06 2.06-.94-2.06-.94-.94-2.06-.94 2.06-2.06.94zm-11 1L8.5 8.5l.94-2.06 2.06-.94-2.06-.94L8.5 2.5l-.94 2.06-2.06.94zm10 10l.94 2.06.94-2.06 2.06-.94-2.06-.94-.94-2.06-.94 2.06-2.06.94z\"/><path d=\"M17.41 7.96l-1.37-1.37c-.4-.4-.92-.59-1.43-.59-.52 0-1.04.2-1.43.59L10.3 9.45l-7.72 7.72c-.78.78-.78 2.05 0 2.83L4 21.41c.39.39.9.59 1.41.59.51 0 1.02-.2 1.41-.59l7.78-7.78 2.81-2.81c.8-.78.8-2.07 0-2.86zM5.41 20L4 18.59l7.72-7.72 1.47 1.35L5.41 20z\"/>\n",
              "  </svg>\n",
              "      </button>\n",
              "      \n",
              "  <style>\n",
              "    .colab-df-container {\n",
              "      display:flex;\n",
              "      flex-wrap:wrap;\n",
              "      gap: 12px;\n",
              "    }\n",
              "\n",
              "    .colab-df-convert {\n",
              "      background-color: #E8F0FE;\n",
              "      border: none;\n",
              "      border-radius: 50%;\n",
              "      cursor: pointer;\n",
              "      display: none;\n",
              "      fill: #1967D2;\n",
              "      height: 32px;\n",
              "      padding: 0 0 0 0;\n",
              "      width: 32px;\n",
              "    }\n",
              "\n",
              "    .colab-df-convert:hover {\n",
              "      background-color: #E2EBFA;\n",
              "      box-shadow: 0px 1px 2px rgba(60, 64, 67, 0.3), 0px 1px 3px 1px rgba(60, 64, 67, 0.15);\n",
              "      fill: #174EA6;\n",
              "    }\n",
              "\n",
              "    [theme=dark] .colab-df-convert {\n",
              "      background-color: #3B4455;\n",
              "      fill: #D2E3FC;\n",
              "    }\n",
              "\n",
              "    [theme=dark] .colab-df-convert:hover {\n",
              "      background-color: #434B5C;\n",
              "      box-shadow: 0px 1px 3px 1px rgba(0, 0, 0, 0.15);\n",
              "      filter: drop-shadow(0px 1px 2px rgba(0, 0, 0, 0.3));\n",
              "      fill: #FFFFFF;\n",
              "    }\n",
              "  </style>\n",
              "\n",
              "      <script>\n",
              "        const buttonEl =\n",
              "          document.querySelector('#df-66f75326-f00d-45ea-8d75-f1f3981cffe5 button.colab-df-convert');\n",
              "        buttonEl.style.display =\n",
              "          google.colab.kernel.accessAllowed ? 'block' : 'none';\n",
              "\n",
              "        async function convertToInteractive(key) {\n",
              "          const element = document.querySelector('#df-66f75326-f00d-45ea-8d75-f1f3981cffe5');\n",
              "          const dataTable =\n",
              "            await google.colab.kernel.invokeFunction('convertToInteractive',\n",
              "                                                     [key], {});\n",
              "          if (!dataTable) return;\n",
              "\n",
              "          const docLinkHtml = 'Like what you see? Visit the ' +\n",
              "            '<a target=\"_blank\" href=https://colab.research.google.com/notebooks/data_table.ipynb>data table notebook</a>'\n",
              "            + ' to learn more about interactive tables.';\n",
              "          element.innerHTML = '';\n",
              "          dataTable['output_type'] = 'display_data';\n",
              "          await google.colab.output.renderOutput(dataTable, element);\n",
              "          const docLink = document.createElement('div');\n",
              "          docLink.innerHTML = docLinkHtml;\n",
              "          element.appendChild(docLink);\n",
              "        }\n",
              "      </script>\n",
              "    </div>\n",
              "  </div>\n",
              "  "
            ]
          },
          "metadata": {},
          "execution_count": 5
        }
      ]
    },
    {
      "cell_type": "code",
      "source": [
        "df.reset_index(inplace=True, drop = True)"
      ],
      "metadata": {
        "id": "lCwpEqGdOnSg"
      },
      "execution_count": null,
      "outputs": []
    },
    {
      "cell_type": "code",
      "source": [
        "df.columns.tolist()"
      ],
      "metadata": {
        "colab": {
          "base_uri": "https://localhost:8080/"
        },
        "id": "4OtcgTorVTuC",
        "outputId": "e3653189-1e11-4bae-a925-87917ccd6d73"
      },
      "execution_count": null,
      "outputs": [
        {
          "output_type": "execute_result",
          "data": {
            "text/plain": [
              "['refcode_csd',\n",
              " 'canonical_smiles',\n",
              " 'inchi',\n",
              " 'number_of_atoms',\n",
              " 'xyz_pbe_relaxed',\n",
              " 'energies_occ_pbe',\n",
              " 'energies_occ_pbe0_vac_tier2',\n",
              " 'energies_occ_pbe0_water',\n",
              " 'energies_occ_pbe0_vac_tzvp',\n",
              " 'energies_occ_pbe0_vac_qzvp',\n",
              " 'energies_occ_gw_tzvp',\n",
              " 'energies_occ_gw_qzvp',\n",
              " 'cbs_occ_gw',\n",
              " 'energies_unocc_pbe',\n",
              " 'energies_unocc_pbe0_vac_tier2',\n",
              " 'energies_unocc_pbe0_water',\n",
              " 'energies_unocc_pbe0_vac_tzvp',\n",
              " 'energies_unocc_pbe0_vac_qzvp',\n",
              " 'energies_unocc_gw_tzvp',\n",
              " 'energies_unocc_gw_qzvp',\n",
              " 'cbs_unocc_gw',\n",
              " 'total_energy_pbe',\n",
              " 'total_energy_pbe0_vac_tier2',\n",
              " 'total_energy_pbe0_water',\n",
              " 'total_energy_pbe0_vac_tzvp',\n",
              " 'total_energy_pbe0_vac_qzvp',\n",
              " 'hirshfeld_pbe',\n",
              " 'hirshfeld_pbe0_vac_tier2',\n",
              " 'hirshfeld_pbe0_water']"
            ]
          },
          "metadata": {},
          "execution_count": 7
        }
      ]
    },
    {
      "cell_type": "markdown",
      "source": [
        "## Step 2: Preprocessing the data"
      ],
      "metadata": {
        "id": "RFyE8UaxwV36"
      }
    },
    {
      "cell_type": "markdown",
      "source": [
        "### 2.1: Subsetting the dataframe"
      ],
      "metadata": {
        "id": "Y5KcarQ_UZnI"
      }
    },
    {
      "cell_type": "code",
      "source": [
        "relevant_columns = ['refcode_csd', 'canonical_smiles',  'number_of_atoms', 'xyz_pbe_relaxed', 'total_energy_pbe']\n",
        "df_subset = df[relevant_columns]\n",
        "df_subset.head()"
      ],
      "metadata": {
        "colab": {
          "base_uri": "https://localhost:8080/",
          "height": 478
        },
        "id": "wf-hhMwQUfk9",
        "outputId": "0a10e228-8e8a-4fc9-b689-4230a04faadc"
      },
      "execution_count": null,
      "outputs": [
        {
          "output_type": "execute_result",
          "data": {
            "text/plain": [
              "  refcode_csd                                   canonical_smiles  \\\n",
              "0      ABAFEQ  Cc1ccc(cc1)S(=O)(=O)N[C@H](c1nnc(o1)SCc1ccc(cc...   \n",
              "1      ABEDOC  N#CC(=C(c1ccccc1)c1ccccc1)[C@H](c1ccccc1)NS(=O...   \n",
              "2      LODZOT                     n1ccc(cc1)c1nnc(o1)c1cccs1\\t\\n   \n",
              "3      LUSREW                CC/C=C(/S(=O)(=O)c1ccc(cc1)C)\\F\\t\\n   \n",
              "4    NOMBEA01            OC(=O)c1cc(N(=O)=O)c(c(c1)N(=O)=O)C\\t\\n   \n",
              "\n",
              "   number_of_atoms                                    xyz_pbe_relaxed  \\\n",
              "0               45  45\\n\\nO      39.55724515      33.75271314     ...   \n",
              "1               55  55\\n\\nC       8.74281024      13.44863575     ...   \n",
              "2               23  23\\n\\nN      23.84904338      42.50577669     ...   \n",
              "3               28  28\\n\\nC      36.52340453      39.64067030     ...   \n",
              "4               22  22\\n\\nC 3.95256786 17.67855833 24.82877401 \\nN...   \n",
              "\n",
              "   total_energy_pbe  \n",
              "0     -63908.261677  \n",
              "1     -47344.131203  \n",
              "2     -28915.979909  \n",
              "3     -29310.525400  \n",
              "4     -23659.206412  "
            ],
            "text/html": [
              "\n",
              "  <div id=\"df-fb8b1c05-06ed-49de-b311-330119dc44a4\">\n",
              "    <div class=\"colab-df-container\">\n",
              "      <div>\n",
              "<style scoped>\n",
              "    .dataframe tbody tr th:only-of-type {\n",
              "        vertical-align: middle;\n",
              "    }\n",
              "\n",
              "    .dataframe tbody tr th {\n",
              "        vertical-align: top;\n",
              "    }\n",
              "\n",
              "    .dataframe thead th {\n",
              "        text-align: right;\n",
              "    }\n",
              "</style>\n",
              "<table border=\"1\" class=\"dataframe\">\n",
              "  <thead>\n",
              "    <tr style=\"text-align: right;\">\n",
              "      <th></th>\n",
              "      <th>refcode_csd</th>\n",
              "      <th>canonical_smiles</th>\n",
              "      <th>number_of_atoms</th>\n",
              "      <th>xyz_pbe_relaxed</th>\n",
              "      <th>total_energy_pbe</th>\n",
              "    </tr>\n",
              "  </thead>\n",
              "  <tbody>\n",
              "    <tr>\n",
              "      <th>0</th>\n",
              "      <td>ABAFEQ</td>\n",
              "      <td>Cc1ccc(cc1)S(=O)(=O)N[C@H](c1nnc(o1)SCc1ccc(cc...</td>\n",
              "      <td>45</td>\n",
              "      <td>45\\n\\nO      39.55724515      33.75271314     ...</td>\n",
              "      <td>-63908.261677</td>\n",
              "    </tr>\n",
              "    <tr>\n",
              "      <th>1</th>\n",
              "      <td>ABEDOC</td>\n",
              "      <td>N#CC(=C(c1ccccc1)c1ccccc1)[C@H](c1ccccc1)NS(=O...</td>\n",
              "      <td>55</td>\n",
              "      <td>55\\n\\nC       8.74281024      13.44863575     ...</td>\n",
              "      <td>-47344.131203</td>\n",
              "    </tr>\n",
              "    <tr>\n",
              "      <th>2</th>\n",
              "      <td>LODZOT</td>\n",
              "      <td>n1ccc(cc1)c1nnc(o1)c1cccs1\\t\\n</td>\n",
              "      <td>23</td>\n",
              "      <td>23\\n\\nN      23.84904338      42.50577669     ...</td>\n",
              "      <td>-28915.979909</td>\n",
              "    </tr>\n",
              "    <tr>\n",
              "      <th>3</th>\n",
              "      <td>LUSREW</td>\n",
              "      <td>CC/C=C(/S(=O)(=O)c1ccc(cc1)C)\\F\\t\\n</td>\n",
              "      <td>28</td>\n",
              "      <td>28\\n\\nC      36.52340453      39.64067030     ...</td>\n",
              "      <td>-29310.525400</td>\n",
              "    </tr>\n",
              "    <tr>\n",
              "      <th>4</th>\n",
              "      <td>NOMBEA01</td>\n",
              "      <td>OC(=O)c1cc(N(=O)=O)c(c(c1)N(=O)=O)C\\t\\n</td>\n",
              "      <td>22</td>\n",
              "      <td>22\\n\\nC 3.95256786 17.67855833 24.82877401 \\nN...</td>\n",
              "      <td>-23659.206412</td>\n",
              "    </tr>\n",
              "  </tbody>\n",
              "</table>\n",
              "</div>\n",
              "      <button class=\"colab-df-convert\" onclick=\"convertToInteractive('df-fb8b1c05-06ed-49de-b311-330119dc44a4')\"\n",
              "              title=\"Convert this dataframe to an interactive table.\"\n",
              "              style=\"display:none;\">\n",
              "        \n",
              "  <svg xmlns=\"http://www.w3.org/2000/svg\" height=\"24px\"viewBox=\"0 0 24 24\"\n",
              "       width=\"24px\">\n",
              "    <path d=\"M0 0h24v24H0V0z\" fill=\"none\"/>\n",
              "    <path d=\"M18.56 5.44l.94 2.06.94-2.06 2.06-.94-2.06-.94-.94-2.06-.94 2.06-2.06.94zm-11 1L8.5 8.5l.94-2.06 2.06-.94-2.06-.94L8.5 2.5l-.94 2.06-2.06.94zm10 10l.94 2.06.94-2.06 2.06-.94-2.06-.94-.94-2.06-.94 2.06-2.06.94z\"/><path d=\"M17.41 7.96l-1.37-1.37c-.4-.4-.92-.59-1.43-.59-.52 0-1.04.2-1.43.59L10.3 9.45l-7.72 7.72c-.78.78-.78 2.05 0 2.83L4 21.41c.39.39.9.59 1.41.59.51 0 1.02-.2 1.41-.59l7.78-7.78 2.81-2.81c.8-.78.8-2.07 0-2.86zM5.41 20L4 18.59l7.72-7.72 1.47 1.35L5.41 20z\"/>\n",
              "  </svg>\n",
              "      </button>\n",
              "      \n",
              "  <style>\n",
              "    .colab-df-container {\n",
              "      display:flex;\n",
              "      flex-wrap:wrap;\n",
              "      gap: 12px;\n",
              "    }\n",
              "\n",
              "    .colab-df-convert {\n",
              "      background-color: #E8F0FE;\n",
              "      border: none;\n",
              "      border-radius: 50%;\n",
              "      cursor: pointer;\n",
              "      display: none;\n",
              "      fill: #1967D2;\n",
              "      height: 32px;\n",
              "      padding: 0 0 0 0;\n",
              "      width: 32px;\n",
              "    }\n",
              "\n",
              "    .colab-df-convert:hover {\n",
              "      background-color: #E2EBFA;\n",
              "      box-shadow: 0px 1px 2px rgba(60, 64, 67, 0.3), 0px 1px 3px 1px rgba(60, 64, 67, 0.15);\n",
              "      fill: #174EA6;\n",
              "    }\n",
              "\n",
              "    [theme=dark] .colab-df-convert {\n",
              "      background-color: #3B4455;\n",
              "      fill: #D2E3FC;\n",
              "    }\n",
              "\n",
              "    [theme=dark] .colab-df-convert:hover {\n",
              "      background-color: #434B5C;\n",
              "      box-shadow: 0px 1px 3px 1px rgba(0, 0, 0, 0.15);\n",
              "      filter: drop-shadow(0px 1px 2px rgba(0, 0, 0, 0.3));\n",
              "      fill: #FFFFFF;\n",
              "    }\n",
              "  </style>\n",
              "\n",
              "      <script>\n",
              "        const buttonEl =\n",
              "          document.querySelector('#df-fb8b1c05-06ed-49de-b311-330119dc44a4 button.colab-df-convert');\n",
              "        buttonEl.style.display =\n",
              "          google.colab.kernel.accessAllowed ? 'block' : 'none';\n",
              "\n",
              "        async function convertToInteractive(key) {\n",
              "          const element = document.querySelector('#df-fb8b1c05-06ed-49de-b311-330119dc44a4');\n",
              "          const dataTable =\n",
              "            await google.colab.kernel.invokeFunction('convertToInteractive',\n",
              "                                                     [key], {});\n",
              "          if (!dataTable) return;\n",
              "\n",
              "          const docLinkHtml = 'Like what you see? Visit the ' +\n",
              "            '<a target=\"_blank\" href=https://colab.research.google.com/notebooks/data_table.ipynb>data table notebook</a>'\n",
              "            + ' to learn more about interactive tables.';\n",
              "          element.innerHTML = '';\n",
              "          dataTable['output_type'] = 'display_data';\n",
              "          await google.colab.output.renderOutput(dataTable, element);\n",
              "          const docLink = document.createElement('div');\n",
              "          docLink.innerHTML = docLinkHtml;\n",
              "          element.appendChild(docLink);\n",
              "        }\n",
              "      </script>\n",
              "    </div>\n",
              "  </div>\n",
              "  "
            ]
          },
          "metadata": {},
          "execution_count": 8
        }
      ]
    },
    {
      "cell_type": "markdown",
      "source": [
        "### 2.2: Cleaning canonical SMILES\n",
        "They happen to have \\t\\n characters to indicate end of line. These are going to be removed using a regex expression to match the rest of the strings."
      ],
      "metadata": {
        "id": "7QxMGxSOUlnb"
      }
    },
    {
      "cell_type": "code",
      "source": [
        "df_subset[\"canonical_smiles\"]"
      ],
      "metadata": {
        "colab": {
          "base_uri": "https://localhost:8080/"
        },
        "id": "lnb8A9E9fUxM",
        "outputId": "29f2a2d2-2392-4a18-bbca-9fdb71cf4e41"
      },
      "execution_count": null,
      "outputs": [
        {
          "output_type": "execute_result",
          "data": {
            "text/plain": [
              "0        Cc1ccc(cc1)S(=O)(=O)N[C@H](c1nnc(o1)SCc1ccc(cc...\n",
              "1        N#CC(=C(c1ccccc1)c1ccccc1)[C@H](c1ccccc1)NS(=O...\n",
              "2                           n1ccc(cc1)c1nnc(o1)c1cccs1\\t\\n\n",
              "3                      CC/C=C(/S(=O)(=O)c1ccc(cc1)C)\\F\\t\\n\n",
              "4                  OC(=O)c1cc(N(=O)=O)c(c(c1)N(=O)=O)C\\t\\n\n",
              "                               ...                        \n",
              "61484    COC(=O)c1c(c(C(=O)OC)c(c(c1C(C)(C)C)C(=O)OC)C(...\n",
              "61485             O=C(c1ccccc1O)N/N=C/c1ccc(c(c1)Cl)Cl\\t\\n\n",
              "61486         C1=CC=C2C[C]([CH]1)[C]1[CH]C=CC=C(C1)CC2\\t\\n\n",
              "61487    Cc1ccc(cc1)S(=O)(=O)N[C@H](C(=O)N1C(=O)OC[C@@H...\n",
              "61488    OC[C@H]1O[C@H]([C@@H]([C@@H]1O)O)c1n[nH]c2c1nc...\n",
              "Name: canonical_smiles, Length: 61489, dtype: object"
            ]
          },
          "metadata": {},
          "execution_count": 9
        }
      ]
    },
    {
      "cell_type": "code",
      "source": [
        "regex = \"\\\\t\\\\n\"\n",
        "df_subset[\"canonical_smiles\"]=df_subset[\"canonical_smiles\"].apply(lambda x: re.sub(regex, \"\", x))"
      ],
      "metadata": {
        "id": "8WMpNERkkHN0",
        "colab": {
          "base_uri": "https://localhost:8080/"
        },
        "outputId": "109e12c4-7660-40a5-d4f1-ba67d7726dff"
      },
      "execution_count": null,
      "outputs": [
        {
          "output_type": "stream",
          "name": "stderr",
          "text": [
            "/usr/local/lib/python3.7/dist-packages/ipykernel_launcher.py:2: SettingWithCopyWarning: \n",
            "A value is trying to be set on a copy of a slice from a DataFrame.\n",
            "Try using .loc[row_indexer,col_indexer] = value instead\n",
            "\n",
            "See the caveats in the documentation: https://pandas.pydata.org/pandas-docs/stable/user_guide/indexing.html#returning-a-view-versus-a-copy\n",
            "  \n"
          ]
        }
      ]
    },
    {
      "cell_type": "code",
      "source": [
        "df_subset.head(2)"
      ],
      "metadata": {
        "colab": {
          "base_uri": "https://localhost:8080/",
          "height": 245
        },
        "id": "gdG_Q2pwk_L9",
        "outputId": "b5e67b63-86b0-4ad8-bea0-e61dcfdb5990"
      },
      "execution_count": null,
      "outputs": [
        {
          "output_type": "execute_result",
          "data": {
            "text/plain": [
              "  refcode_csd                                   canonical_smiles  \\\n",
              "0      ABAFEQ  Cc1ccc(cc1)S(=O)(=O)N[C@H](c1nnc(o1)SCc1ccc(cc...   \n",
              "1      ABEDOC  N#CC(=C(c1ccccc1)c1ccccc1)[C@H](c1ccccc1)NS(=O...   \n",
              "\n",
              "   number_of_atoms                                    xyz_pbe_relaxed  \\\n",
              "0               45  45\\n\\nO      39.55724515      33.75271314     ...   \n",
              "1               55  55\\n\\nC       8.74281024      13.44863575     ...   \n",
              "\n",
              "   total_energy_pbe  \n",
              "0     -63908.261677  \n",
              "1     -47344.131203  "
            ],
            "text/html": [
              "\n",
              "  <div id=\"df-e55d22d6-e39f-46be-833a-5d48914414e2\">\n",
              "    <div class=\"colab-df-container\">\n",
              "      <div>\n",
              "<style scoped>\n",
              "    .dataframe tbody tr th:only-of-type {\n",
              "        vertical-align: middle;\n",
              "    }\n",
              "\n",
              "    .dataframe tbody tr th {\n",
              "        vertical-align: top;\n",
              "    }\n",
              "\n",
              "    .dataframe thead th {\n",
              "        text-align: right;\n",
              "    }\n",
              "</style>\n",
              "<table border=\"1\" class=\"dataframe\">\n",
              "  <thead>\n",
              "    <tr style=\"text-align: right;\">\n",
              "      <th></th>\n",
              "      <th>refcode_csd</th>\n",
              "      <th>canonical_smiles</th>\n",
              "      <th>number_of_atoms</th>\n",
              "      <th>xyz_pbe_relaxed</th>\n",
              "      <th>total_energy_pbe</th>\n",
              "    </tr>\n",
              "  </thead>\n",
              "  <tbody>\n",
              "    <tr>\n",
              "      <th>0</th>\n",
              "      <td>ABAFEQ</td>\n",
              "      <td>Cc1ccc(cc1)S(=O)(=O)N[C@H](c1nnc(o1)SCc1ccc(cc...</td>\n",
              "      <td>45</td>\n",
              "      <td>45\\n\\nO      39.55724515      33.75271314     ...</td>\n",
              "      <td>-63908.261677</td>\n",
              "    </tr>\n",
              "    <tr>\n",
              "      <th>1</th>\n",
              "      <td>ABEDOC</td>\n",
              "      <td>N#CC(=C(c1ccccc1)c1ccccc1)[C@H](c1ccccc1)NS(=O...</td>\n",
              "      <td>55</td>\n",
              "      <td>55\\n\\nC       8.74281024      13.44863575     ...</td>\n",
              "      <td>-47344.131203</td>\n",
              "    </tr>\n",
              "  </tbody>\n",
              "</table>\n",
              "</div>\n",
              "      <button class=\"colab-df-convert\" onclick=\"convertToInteractive('df-e55d22d6-e39f-46be-833a-5d48914414e2')\"\n",
              "              title=\"Convert this dataframe to an interactive table.\"\n",
              "              style=\"display:none;\">\n",
              "        \n",
              "  <svg xmlns=\"http://www.w3.org/2000/svg\" height=\"24px\"viewBox=\"0 0 24 24\"\n",
              "       width=\"24px\">\n",
              "    <path d=\"M0 0h24v24H0V0z\" fill=\"none\"/>\n",
              "    <path d=\"M18.56 5.44l.94 2.06.94-2.06 2.06-.94-2.06-.94-.94-2.06-.94 2.06-2.06.94zm-11 1L8.5 8.5l.94-2.06 2.06-.94-2.06-.94L8.5 2.5l-.94 2.06-2.06.94zm10 10l.94 2.06.94-2.06 2.06-.94-2.06-.94-.94-2.06-.94 2.06-2.06.94z\"/><path d=\"M17.41 7.96l-1.37-1.37c-.4-.4-.92-.59-1.43-.59-.52 0-1.04.2-1.43.59L10.3 9.45l-7.72 7.72c-.78.78-.78 2.05 0 2.83L4 21.41c.39.39.9.59 1.41.59.51 0 1.02-.2 1.41-.59l7.78-7.78 2.81-2.81c.8-.78.8-2.07 0-2.86zM5.41 20L4 18.59l7.72-7.72 1.47 1.35L5.41 20z\"/>\n",
              "  </svg>\n",
              "      </button>\n",
              "      \n",
              "  <style>\n",
              "    .colab-df-container {\n",
              "      display:flex;\n",
              "      flex-wrap:wrap;\n",
              "      gap: 12px;\n",
              "    }\n",
              "\n",
              "    .colab-df-convert {\n",
              "      background-color: #E8F0FE;\n",
              "      border: none;\n",
              "      border-radius: 50%;\n",
              "      cursor: pointer;\n",
              "      display: none;\n",
              "      fill: #1967D2;\n",
              "      height: 32px;\n",
              "      padding: 0 0 0 0;\n",
              "      width: 32px;\n",
              "    }\n",
              "\n",
              "    .colab-df-convert:hover {\n",
              "      background-color: #E2EBFA;\n",
              "      box-shadow: 0px 1px 2px rgba(60, 64, 67, 0.3), 0px 1px 3px 1px rgba(60, 64, 67, 0.15);\n",
              "      fill: #174EA6;\n",
              "    }\n",
              "\n",
              "    [theme=dark] .colab-df-convert {\n",
              "      background-color: #3B4455;\n",
              "      fill: #D2E3FC;\n",
              "    }\n",
              "\n",
              "    [theme=dark] .colab-df-convert:hover {\n",
              "      background-color: #434B5C;\n",
              "      box-shadow: 0px 1px 3px 1px rgba(0, 0, 0, 0.15);\n",
              "      filter: drop-shadow(0px 1px 2px rgba(0, 0, 0, 0.3));\n",
              "      fill: #FFFFFF;\n",
              "    }\n",
              "  </style>\n",
              "\n",
              "      <script>\n",
              "        const buttonEl =\n",
              "          document.querySelector('#df-e55d22d6-e39f-46be-833a-5d48914414e2 button.colab-df-convert');\n",
              "        buttonEl.style.display =\n",
              "          google.colab.kernel.accessAllowed ? 'block' : 'none';\n",
              "\n",
              "        async function convertToInteractive(key) {\n",
              "          const element = document.querySelector('#df-e55d22d6-e39f-46be-833a-5d48914414e2');\n",
              "          const dataTable =\n",
              "            await google.colab.kernel.invokeFunction('convertToInteractive',\n",
              "                                                     [key], {});\n",
              "          if (!dataTable) return;\n",
              "\n",
              "          const docLinkHtml = 'Like what you see? Visit the ' +\n",
              "            '<a target=\"_blank\" href=https://colab.research.google.com/notebooks/data_table.ipynb>data table notebook</a>'\n",
              "            + ' to learn more about interactive tables.';\n",
              "          element.innerHTML = '';\n",
              "          dataTable['output_type'] = 'display_data';\n",
              "          await google.colab.output.renderOutput(dataTable, element);\n",
              "          const docLink = document.createElement('div');\n",
              "          docLink.innerHTML = docLinkHtml;\n",
              "          element.appendChild(docLink);\n",
              "        }\n",
              "      </script>\n",
              "    </div>\n",
              "  </div>\n",
              "  "
            ]
          },
          "metadata": {},
          "execution_count": 11
        }
      ]
    },
    {
      "cell_type": "markdown",
      "source": [
        "###2.2: Converting SMILES strings to RD-Kit molecules"
      ],
      "metadata": {
        "id": "tb17qHIOlVTH"
      }
    },
    {
      "cell_type": "code",
      "source": [
        "df_subset[\"mol\"] = df_subset[\"canonical_smiles\"].apply(lambda x: (Chem.MolFromSmiles(x)))"
      ],
      "metadata": {
        "id": "4DNutkrXoVxM",
        "colab": {
          "base_uri": "https://localhost:8080/"
        },
        "outputId": "e67d26e8-12c5-4060-c7b1-3c0b9282e405"
      },
      "execution_count": null,
      "outputs": [
        {
          "output_type": "stream",
          "name": "stderr",
          "text": [
            "/usr/local/lib/python3.7/dist-packages/ipykernel_launcher.py:1: SettingWithCopyWarning: \n",
            "A value is trying to be set on a copy of a slice from a DataFrame.\n",
            "Try using .loc[row_indexer,col_indexer] = value instead\n",
            "\n",
            "See the caveats in the documentation: https://pandas.pydata.org/pandas-docs/stable/user_guide/indexing.html#returning-a-view-versus-a-copy\n",
            "  \"\"\"Entry point for launching an IPython kernel.\n"
          ]
        }
      ]
    },
    {
      "cell_type": "markdown",
      "source": [
        "RD-Kit outputs NoneType when fails to parse a SMILES string. Thus, to prevent exceptions when applying further transformations to the dataset, conflicting molecules are going to be removed."
      ],
      "metadata": {
        "id": "Bf0dXGEyQIJq"
      }
    },
    {
      "cell_type": "code",
      "source": [
        "df_subset_clean = df_subset[df_subset['mol'].apply(lambda x: x is not None)].reset_index(drop=True)\n",
        "len(df_subset), len(df_subset_clean)"
      ],
      "metadata": {
        "colab": {
          "base_uri": "https://localhost:8080/"
        },
        "id": "3KcSngunSug8",
        "outputId": "88d0f2c5-0d72-4775-eec0-07d376f9eccc"
      },
      "execution_count": null,
      "outputs": [
        {
          "output_type": "execute_result",
          "data": {
            "text/plain": [
              "(61489, 61037)"
            ]
          },
          "metadata": {},
          "execution_count": 13
        }
      ]
    },
    {
      "cell_type": "code",
      "source": [
        "# Adding hydrogen atoms to the molecules\n",
        "df_subset_clean['mol'] = df_subset_clean['mol'].apply(lambda x: Chem.AddHs(x))"
      ],
      "metadata": {
        "id": "biywfnWBQWnq"
      },
      "execution_count": null,
      "outputs": []
    },
    {
      "cell_type": "code",
      "source": [
        "df_subset_clean.head(2)"
      ],
      "metadata": {
        "colab": {
          "base_uri": "https://localhost:8080/",
          "height": 245
        },
        "id": "bBb9qOfYojus",
        "outputId": "19ebab12-fcf1-4ff2-e990-29742f129387"
      },
      "execution_count": null,
      "outputs": [
        {
          "output_type": "execute_result",
          "data": {
            "text/plain": [
              "  refcode_csd                                   canonical_smiles  \\\n",
              "0      ABAFEQ  Cc1ccc(cc1)S(=O)(=O)N[C@H](c1nnc(o1)SCc1ccc(cc...   \n",
              "1      ABEDOC  N#CC(=C(c1ccccc1)c1ccccc1)[C@H](c1ccccc1)NS(=O...   \n",
              "\n",
              "   number_of_atoms                                    xyz_pbe_relaxed  \\\n",
              "0               45  45\\n\\nO      39.55724515      33.75271314     ...   \n",
              "1               55  55\\n\\nC       8.74281024      13.44863575     ...   \n",
              "\n",
              "   total_energy_pbe                                               mol  \n",
              "0     -63908.261677  <rdkit.Chem.rdchem.Mol object at 0x7f5aae12fc90>  \n",
              "1     -47344.131203  <rdkit.Chem.rdchem.Mol object at 0x7f5aae12fb10>  "
            ],
            "text/html": [
              "\n",
              "  <div id=\"df-67f80fe2-c71e-4c7a-9cac-652e84609a60\">\n",
              "    <div class=\"colab-df-container\">\n",
              "      <div>\n",
              "<style scoped>\n",
              "    .dataframe tbody tr th:only-of-type {\n",
              "        vertical-align: middle;\n",
              "    }\n",
              "\n",
              "    .dataframe tbody tr th {\n",
              "        vertical-align: top;\n",
              "    }\n",
              "\n",
              "    .dataframe thead th {\n",
              "        text-align: right;\n",
              "    }\n",
              "</style>\n",
              "<table border=\"1\" class=\"dataframe\">\n",
              "  <thead>\n",
              "    <tr style=\"text-align: right;\">\n",
              "      <th></th>\n",
              "      <th>refcode_csd</th>\n",
              "      <th>canonical_smiles</th>\n",
              "      <th>number_of_atoms</th>\n",
              "      <th>xyz_pbe_relaxed</th>\n",
              "      <th>total_energy_pbe</th>\n",
              "      <th>mol</th>\n",
              "    </tr>\n",
              "  </thead>\n",
              "  <tbody>\n",
              "    <tr>\n",
              "      <th>0</th>\n",
              "      <td>ABAFEQ</td>\n",
              "      <td>Cc1ccc(cc1)S(=O)(=O)N[C@H](c1nnc(o1)SCc1ccc(cc...</td>\n",
              "      <td>45</td>\n",
              "      <td>45\\n\\nO      39.55724515      33.75271314     ...</td>\n",
              "      <td>-63908.261677</td>\n",
              "      <td>&lt;rdkit.Chem.rdchem.Mol object at 0x7f5aae12fc90&gt;</td>\n",
              "    </tr>\n",
              "    <tr>\n",
              "      <th>1</th>\n",
              "      <td>ABEDOC</td>\n",
              "      <td>N#CC(=C(c1ccccc1)c1ccccc1)[C@H](c1ccccc1)NS(=O...</td>\n",
              "      <td>55</td>\n",
              "      <td>55\\n\\nC       8.74281024      13.44863575     ...</td>\n",
              "      <td>-47344.131203</td>\n",
              "      <td>&lt;rdkit.Chem.rdchem.Mol object at 0x7f5aae12fb10&gt;</td>\n",
              "    </tr>\n",
              "  </tbody>\n",
              "</table>\n",
              "</div>\n",
              "      <button class=\"colab-df-convert\" onclick=\"convertToInteractive('df-67f80fe2-c71e-4c7a-9cac-652e84609a60')\"\n",
              "              title=\"Convert this dataframe to an interactive table.\"\n",
              "              style=\"display:none;\">\n",
              "        \n",
              "  <svg xmlns=\"http://www.w3.org/2000/svg\" height=\"24px\"viewBox=\"0 0 24 24\"\n",
              "       width=\"24px\">\n",
              "    <path d=\"M0 0h24v24H0V0z\" fill=\"none\"/>\n",
              "    <path d=\"M18.56 5.44l.94 2.06.94-2.06 2.06-.94-2.06-.94-.94-2.06-.94 2.06-2.06.94zm-11 1L8.5 8.5l.94-2.06 2.06-.94-2.06-.94L8.5 2.5l-.94 2.06-2.06.94zm10 10l.94 2.06.94-2.06 2.06-.94-2.06-.94-.94-2.06-.94 2.06-2.06.94z\"/><path d=\"M17.41 7.96l-1.37-1.37c-.4-.4-.92-.59-1.43-.59-.52 0-1.04.2-1.43.59L10.3 9.45l-7.72 7.72c-.78.78-.78 2.05 0 2.83L4 21.41c.39.39.9.59 1.41.59.51 0 1.02-.2 1.41-.59l7.78-7.78 2.81-2.81c.8-.78.8-2.07 0-2.86zM5.41 20L4 18.59l7.72-7.72 1.47 1.35L5.41 20z\"/>\n",
              "  </svg>\n",
              "      </button>\n",
              "      \n",
              "  <style>\n",
              "    .colab-df-container {\n",
              "      display:flex;\n",
              "      flex-wrap:wrap;\n",
              "      gap: 12px;\n",
              "    }\n",
              "\n",
              "    .colab-df-convert {\n",
              "      background-color: #E8F0FE;\n",
              "      border: none;\n",
              "      border-radius: 50%;\n",
              "      cursor: pointer;\n",
              "      display: none;\n",
              "      fill: #1967D2;\n",
              "      height: 32px;\n",
              "      padding: 0 0 0 0;\n",
              "      width: 32px;\n",
              "    }\n",
              "\n",
              "    .colab-df-convert:hover {\n",
              "      background-color: #E2EBFA;\n",
              "      box-shadow: 0px 1px 2px rgba(60, 64, 67, 0.3), 0px 1px 3px 1px rgba(60, 64, 67, 0.15);\n",
              "      fill: #174EA6;\n",
              "    }\n",
              "\n",
              "    [theme=dark] .colab-df-convert {\n",
              "      background-color: #3B4455;\n",
              "      fill: #D2E3FC;\n",
              "    }\n",
              "\n",
              "    [theme=dark] .colab-df-convert:hover {\n",
              "      background-color: #434B5C;\n",
              "      box-shadow: 0px 1px 3px 1px rgba(0, 0, 0, 0.15);\n",
              "      filter: drop-shadow(0px 1px 2px rgba(0, 0, 0, 0.3));\n",
              "      fill: #FFFFFF;\n",
              "    }\n",
              "  </style>\n",
              "\n",
              "      <script>\n",
              "        const buttonEl =\n",
              "          document.querySelector('#df-67f80fe2-c71e-4c7a-9cac-652e84609a60 button.colab-df-convert');\n",
              "        buttonEl.style.display =\n",
              "          google.colab.kernel.accessAllowed ? 'block' : 'none';\n",
              "\n",
              "        async function convertToInteractive(key) {\n",
              "          const element = document.querySelector('#df-67f80fe2-c71e-4c7a-9cac-652e84609a60');\n",
              "          const dataTable =\n",
              "            await google.colab.kernel.invokeFunction('convertToInteractive',\n",
              "                                                     [key], {});\n",
              "          if (!dataTable) return;\n",
              "\n",
              "          const docLinkHtml = 'Like what you see? Visit the ' +\n",
              "            '<a target=\"_blank\" href=https://colab.research.google.com/notebooks/data_table.ipynb>data table notebook</a>'\n",
              "            + ' to learn more about interactive tables.';\n",
              "          element.innerHTML = '';\n",
              "          dataTable['output_type'] = 'display_data';\n",
              "          await google.colab.output.renderOutput(dataTable, element);\n",
              "          const docLink = document.createElement('div');\n",
              "          docLink.innerHTML = docLinkHtml;\n",
              "          element.appendChild(docLink);\n",
              "        }\n",
              "      </script>\n",
              "    </div>\n",
              "  </div>\n",
              "  "
            ]
          },
          "metadata": {},
          "execution_count": 15
        }
      ]
    },
    {
      "cell_type": "markdown",
      "source": [
        "###2.3: Reshaping XYZ coordinates\n",
        "TODO: apply MBTR to xyz to make a proper descriptor out of the atomic positions\n"
      ],
      "metadata": {
        "id": "M-lkjnyVba9e"
      }
    },
    {
      "cell_type": "code",
      "source": [
        "df.iloc[0].xyz_pbe_relaxed"
      ],
      "metadata": {
        "colab": {
          "base_uri": "https://localhost:8080/",
          "height": 244
        },
        "id": "qNk8fHLz0Nn4",
        "outputId": "97015420-6a2e-4266-8dd4-0f4d5077a408"
      },
      "execution_count": null,
      "outputs": [
        {
          "output_type": "execute_result",
          "data": {
            "text/plain": [
              "'45\\n\\nO      39.55724515      33.75271314      38.40917207 \\nS      40.85906611      34.05164612      38.96498639 \\nO      42.08066828      33.95284000      38.19595313 \\nC      42.32571194      32.73322762      40.89834532 \\nH      43.19968501      32.99032401      40.30295436 \\nCl      45.20041227      29.36338131      46.43043646 \\nC      41.05184934      33.09086636      40.45377016 \\nC      42.45668317      32.04677947      42.10437138 \\nH      43.45084814      31.76806349      42.45397500 \\nC      41.33623713      31.70625411      42.87422993 \\nC      40.06720668      32.07018496      42.39744704 \\nH      39.18097405      31.80058002      42.97364913 \\nC      39.91665528      32.75758494      41.19816166 \\nH      38.92751728      33.01994634      40.82523353 \\nC      41.48361320      30.98558291      44.18381422 \\nH      42.41118162      30.40352859      44.22479339 \\nH      40.63985814      30.30766109      44.36544785 \\nH      41.51361125      31.70368231      45.01623603 \\nC      43.58355603      33.58567170      46.05760995 \\nC      44.50879591      33.09126273      45.12712202 \\nC      44.58735767      30.98663420      46.29469212 \\nC      43.67416047      31.45779258      47.23763178 \\nH      43.35738436      30.81675118      48.05804802 \\nC      43.18004488      32.75463873      47.11100991 \\nH      42.46723835      33.12401865      47.85020035 \\nN      40.75043902      35.65259391      39.44466891 \\nC      41.91357542      36.39938024      39.92718967 \\nH      42.74053298      36.18343665      39.23786748 \\nC      41.59554654      37.90036812      39.88819883 \\nH      41.31036592      38.18979620      38.87024230 \\nH      42.47497764      38.47941767      40.19408535 \\nS      41.54380622      35.14894837      44.87226222 \\nO      41.49789017      35.80019430      42.30624954 \\nC      42.31697189      35.46623386      43.35107789 \\nN      43.58095681      35.45930024      43.02499490 \\nN      43.62739090      35.79899291      41.66869043 \\nC      42.40412200      35.98540807      41.28539389 \\nH      39.87281191      35.84000620      39.92875742 \\nH      40.76971134      38.14771790      40.56964680 \\nC      43.04236454      34.98075809      45.94353203 \\nH      43.78224526      35.68390108      45.54521868 \\nH      42.69364229      35.35046375      46.91564229 \\nH      44.82329787      33.72815772      44.30050633 \\nC      45.01169104      31.79751710      45.24114695 \\nH      45.73147637      31.41638123      44.51869652 \\n'"
            ],
            "application/vnd.google.colaboratory.intrinsic+json": {
              "type": "string"
            }
          },
          "metadata": {},
          "execution_count": 16
        }
      ]
    },
    {
      "cell_type": "code",
      "source": [
        "df_subset_clean.iloc[0].xyz_pbe_relaxed.split()[1:9]"
      ],
      "metadata": {
        "colab": {
          "base_uri": "https://localhost:8080/"
        },
        "id": "rMYdwdI3Z9ES",
        "outputId": "06de850e-7942-4ca8-b660-0b97afe95b72"
      },
      "execution_count": null,
      "outputs": [
        {
          "output_type": "execute_result",
          "data": {
            "text/plain": [
              "['O',\n",
              " '39.55724515',\n",
              " '33.75271314',\n",
              " '38.40917207',\n",
              " 'S',\n",
              " '40.85906611',\n",
              " '34.05164612',\n",
              " '38.96498639']"
            ]
          },
          "metadata": {},
          "execution_count": 17
        }
      ]
    },
    {
      "cell_type": "code",
      "source": [
        "df_subset_clean.iloc[0].xyz_pbe_relaxed.split()[:10]"
      ],
      "metadata": {
        "colab": {
          "base_uri": "https://localhost:8080/"
        },
        "id": "UTsqU1uVeeFl",
        "outputId": "96b2abca-05c0-4546-bfec-a298cff6a626"
      },
      "execution_count": null,
      "outputs": [
        {
          "output_type": "execute_result",
          "data": {
            "text/plain": [
              "['45',\n",
              " 'O',\n",
              " '39.55724515',\n",
              " '33.75271314',\n",
              " '38.40917207',\n",
              " 'S',\n",
              " '40.85906611',\n",
              " '34.05164612',\n",
              " '38.96498639',\n",
              " 'O']"
            ]
          },
          "metadata": {},
          "execution_count": 18
        }
      ]
    },
    {
      "cell_type": "code",
      "source": [
        "def grouper(iterable, n, fillvalue=None):\n",
        "  \"\"\"\n",
        "  This function splits the xyz array into N groups of 3 components, where N is\n",
        "  the number of atoms in the molecule\n",
        "  \"\"\"\n",
        "  args = [iter(iterable)] * n\n",
        "  return list(zip_longest(*args, fillvalue=fillvalue))"
      ],
      "metadata": {
        "id": "GfCZGdTpinHI"
      },
      "execution_count": null,
      "outputs": []
    },
    {
      "cell_type": "code",
      "source": [
        "def positions_to_dict(raw_xyz):\n",
        "  \"\"\"\n",
        "  Takes in a string of xyz atom positions and returns a dict of atom positions\n",
        "  \"\"\"\n",
        "  # We use defaultdict dict subclass because instead of raising a KeyError provides \n",
        "  # a default value for the key that does not exist. In this case, we want a list-like\n",
        "  # object\n",
        "  data_dict = defaultdict(list) # Specify what are the value types\n",
        "\n",
        "  iter_array =  [iter(raw_xyz.split()[1:])] * 4 # Multiplied by 4 because [atom name, x, y z]\n",
        "  grouped_xyz = list(zip_longest(*iter_array, fillvalue=None))\n",
        "\n",
        "  for i, element in enumerate(grouped_xyz):\n",
        "    data_dict[element[0]].append(list(element[1:]))\n",
        "  \n",
        "  return dict(data_dict)"
      ],
      "metadata": {
        "id": "HLZdU7jLCroc"
      },
      "execution_count": null,
      "outputs": []
    },
    {
      "cell_type": "code",
      "source": [
        "df_subset_clean['xyz_pbe_relaxed'] = df_subset_clean['xyz_pbe_relaxed'].apply(positions_to_dict)"
      ],
      "metadata": {
        "id": "hGoFBQEKEGb1"
      },
      "execution_count": null,
      "outputs": []
    },
    {
      "cell_type": "markdown",
      "source": [
        "### 2.4: Getting some insights of the data"
      ],
      "metadata": {
        "id": "7ZDWlZXnS07S"
      }
    },
    {
      "cell_type": "code",
      "source": [
        "# Tagging each molecule with the contained atom species\n",
        "df_subset_clean['species'] = df_subset_clean['xyz_pbe_relaxed'].apply(lambda x:\n",
        "                                                                      set(x.keys()))"
      ],
      "metadata": {
        "id": "xRQT9KsQ7M-6"
      },
      "execution_count": null,
      "outputs": []
    },
    {
      "cell_type": "code",
      "source": [
        "df_subset_clean.head()"
      ],
      "metadata": {
        "colab": {
          "base_uri": "https://localhost:8080/",
          "height": 530
        },
        "id": "bb0eTIlp-_si",
        "outputId": "e013d0d4-22c0-4a11-a2a0-9a8d0ec846b3"
      },
      "execution_count": null,
      "outputs": [
        {
          "output_type": "execute_result",
          "data": {
            "text/plain": [
              "  refcode_csd                                   canonical_smiles  \\\n",
              "0      ABAFEQ  Cc1ccc(cc1)S(=O)(=O)N[C@H](c1nnc(o1)SCc1ccc(cc...   \n",
              "1      ABEDOC  N#CC(=C(c1ccccc1)c1ccccc1)[C@H](c1ccccc1)NS(=O...   \n",
              "2      LODZOT                         n1ccc(cc1)c1nnc(o1)c1cccs1   \n",
              "3      LUSREW                    CC/C=C(/S(=O)(=O)c1ccc(cc1)C)\\F   \n",
              "4    NOMBEA01                OC(=O)c1cc(N(=O)=O)c(c(c1)N(=O)=O)C   \n",
              "\n",
              "   number_of_atoms                                    xyz_pbe_relaxed  \\\n",
              "0               45  {'O': [['39.55724515', '33.75271314', '38.4091...   \n",
              "1               55  {'C': [['8.74281024', '13.44863575', '23.16378...   \n",
              "2               23  {'N': [['23.84904338', '42.50577669', '35.0388...   \n",
              "3               28  {'C': [['36.52340453', '39.64067030', '25.1692...   \n",
              "4               22  {'C': [['3.95256786', '17.67855833', '24.82877...   \n",
              "\n",
              "   total_energy_pbe                                               mol  \\\n",
              "0     -63908.261677  <rdkit.Chem.rdchem.Mol object at 0x7f5aae12fc90>   \n",
              "1     -47344.131203  <rdkit.Chem.rdchem.Mol object at 0x7f5aae12fb10>   \n",
              "2     -28915.979909  <rdkit.Chem.rdchem.Mol object at 0x7f5aae135450>   \n",
              "3     -29310.525400  <rdkit.Chem.rdchem.Mol object at 0x7f5aae135570>   \n",
              "4     -23659.206412  <rdkit.Chem.rdchem.Mol object at 0x7f5aae135510>   \n",
              "\n",
              "               species  \n",
              "0  {O, C, S, N, H, Cl}  \n",
              "1      {O, C, S, N, H}  \n",
              "2      {O, C, S, N, H}  \n",
              "3      {O, F, C, S, H}  \n",
              "4         {N, C, H, O}  "
            ],
            "text/html": [
              "\n",
              "  <div id=\"df-c798be71-00c7-4f9c-928b-bd572b16445a\">\n",
              "    <div class=\"colab-df-container\">\n",
              "      <div>\n",
              "<style scoped>\n",
              "    .dataframe tbody tr th:only-of-type {\n",
              "        vertical-align: middle;\n",
              "    }\n",
              "\n",
              "    .dataframe tbody tr th {\n",
              "        vertical-align: top;\n",
              "    }\n",
              "\n",
              "    .dataframe thead th {\n",
              "        text-align: right;\n",
              "    }\n",
              "</style>\n",
              "<table border=\"1\" class=\"dataframe\">\n",
              "  <thead>\n",
              "    <tr style=\"text-align: right;\">\n",
              "      <th></th>\n",
              "      <th>refcode_csd</th>\n",
              "      <th>canonical_smiles</th>\n",
              "      <th>number_of_atoms</th>\n",
              "      <th>xyz_pbe_relaxed</th>\n",
              "      <th>total_energy_pbe</th>\n",
              "      <th>mol</th>\n",
              "      <th>species</th>\n",
              "    </tr>\n",
              "  </thead>\n",
              "  <tbody>\n",
              "    <tr>\n",
              "      <th>0</th>\n",
              "      <td>ABAFEQ</td>\n",
              "      <td>Cc1ccc(cc1)S(=O)(=O)N[C@H](c1nnc(o1)SCc1ccc(cc...</td>\n",
              "      <td>45</td>\n",
              "      <td>{'O': [['39.55724515', '33.75271314', '38.4091...</td>\n",
              "      <td>-63908.261677</td>\n",
              "      <td>&lt;rdkit.Chem.rdchem.Mol object at 0x7f5aae12fc90&gt;</td>\n",
              "      <td>{O, C, S, N, H, Cl}</td>\n",
              "    </tr>\n",
              "    <tr>\n",
              "      <th>1</th>\n",
              "      <td>ABEDOC</td>\n",
              "      <td>N#CC(=C(c1ccccc1)c1ccccc1)[C@H](c1ccccc1)NS(=O...</td>\n",
              "      <td>55</td>\n",
              "      <td>{'C': [['8.74281024', '13.44863575', '23.16378...</td>\n",
              "      <td>-47344.131203</td>\n",
              "      <td>&lt;rdkit.Chem.rdchem.Mol object at 0x7f5aae12fb10&gt;</td>\n",
              "      <td>{O, C, S, N, H}</td>\n",
              "    </tr>\n",
              "    <tr>\n",
              "      <th>2</th>\n",
              "      <td>LODZOT</td>\n",
              "      <td>n1ccc(cc1)c1nnc(o1)c1cccs1</td>\n",
              "      <td>23</td>\n",
              "      <td>{'N': [['23.84904338', '42.50577669', '35.0388...</td>\n",
              "      <td>-28915.979909</td>\n",
              "      <td>&lt;rdkit.Chem.rdchem.Mol object at 0x7f5aae135450&gt;</td>\n",
              "      <td>{O, C, S, N, H}</td>\n",
              "    </tr>\n",
              "    <tr>\n",
              "      <th>3</th>\n",
              "      <td>LUSREW</td>\n",
              "      <td>CC/C=C(/S(=O)(=O)c1ccc(cc1)C)\\F</td>\n",
              "      <td>28</td>\n",
              "      <td>{'C': [['36.52340453', '39.64067030', '25.1692...</td>\n",
              "      <td>-29310.525400</td>\n",
              "      <td>&lt;rdkit.Chem.rdchem.Mol object at 0x7f5aae135570&gt;</td>\n",
              "      <td>{O, F, C, S, H}</td>\n",
              "    </tr>\n",
              "    <tr>\n",
              "      <th>4</th>\n",
              "      <td>NOMBEA01</td>\n",
              "      <td>OC(=O)c1cc(N(=O)=O)c(c(c1)N(=O)=O)C</td>\n",
              "      <td>22</td>\n",
              "      <td>{'C': [['3.95256786', '17.67855833', '24.82877...</td>\n",
              "      <td>-23659.206412</td>\n",
              "      <td>&lt;rdkit.Chem.rdchem.Mol object at 0x7f5aae135510&gt;</td>\n",
              "      <td>{N, C, H, O}</td>\n",
              "    </tr>\n",
              "  </tbody>\n",
              "</table>\n",
              "</div>\n",
              "      <button class=\"colab-df-convert\" onclick=\"convertToInteractive('df-c798be71-00c7-4f9c-928b-bd572b16445a')\"\n",
              "              title=\"Convert this dataframe to an interactive table.\"\n",
              "              style=\"display:none;\">\n",
              "        \n",
              "  <svg xmlns=\"http://www.w3.org/2000/svg\" height=\"24px\"viewBox=\"0 0 24 24\"\n",
              "       width=\"24px\">\n",
              "    <path d=\"M0 0h24v24H0V0z\" fill=\"none\"/>\n",
              "    <path d=\"M18.56 5.44l.94 2.06.94-2.06 2.06-.94-2.06-.94-.94-2.06-.94 2.06-2.06.94zm-11 1L8.5 8.5l.94-2.06 2.06-.94-2.06-.94L8.5 2.5l-.94 2.06-2.06.94zm10 10l.94 2.06.94-2.06 2.06-.94-2.06-.94-.94-2.06-.94 2.06-2.06.94z\"/><path d=\"M17.41 7.96l-1.37-1.37c-.4-.4-.92-.59-1.43-.59-.52 0-1.04.2-1.43.59L10.3 9.45l-7.72 7.72c-.78.78-.78 2.05 0 2.83L4 21.41c.39.39.9.59 1.41.59.51 0 1.02-.2 1.41-.59l7.78-7.78 2.81-2.81c.8-.78.8-2.07 0-2.86zM5.41 20L4 18.59l7.72-7.72 1.47 1.35L5.41 20z\"/>\n",
              "  </svg>\n",
              "      </button>\n",
              "      \n",
              "  <style>\n",
              "    .colab-df-container {\n",
              "      display:flex;\n",
              "      flex-wrap:wrap;\n",
              "      gap: 12px;\n",
              "    }\n",
              "\n",
              "    .colab-df-convert {\n",
              "      background-color: #E8F0FE;\n",
              "      border: none;\n",
              "      border-radius: 50%;\n",
              "      cursor: pointer;\n",
              "      display: none;\n",
              "      fill: #1967D2;\n",
              "      height: 32px;\n",
              "      padding: 0 0 0 0;\n",
              "      width: 32px;\n",
              "    }\n",
              "\n",
              "    .colab-df-convert:hover {\n",
              "      background-color: #E2EBFA;\n",
              "      box-shadow: 0px 1px 2px rgba(60, 64, 67, 0.3), 0px 1px 3px 1px rgba(60, 64, 67, 0.15);\n",
              "      fill: #174EA6;\n",
              "    }\n",
              "\n",
              "    [theme=dark] .colab-df-convert {\n",
              "      background-color: #3B4455;\n",
              "      fill: #D2E3FC;\n",
              "    }\n",
              "\n",
              "    [theme=dark] .colab-df-convert:hover {\n",
              "      background-color: #434B5C;\n",
              "      box-shadow: 0px 1px 3px 1px rgba(0, 0, 0, 0.15);\n",
              "      filter: drop-shadow(0px 1px 2px rgba(0, 0, 0, 0.3));\n",
              "      fill: #FFFFFF;\n",
              "    }\n",
              "  </style>\n",
              "\n",
              "      <script>\n",
              "        const buttonEl =\n",
              "          document.querySelector('#df-c798be71-00c7-4f9c-928b-bd572b16445a button.colab-df-convert');\n",
              "        buttonEl.style.display =\n",
              "          google.colab.kernel.accessAllowed ? 'block' : 'none';\n",
              "\n",
              "        async function convertToInteractive(key) {\n",
              "          const element = document.querySelector('#df-c798be71-00c7-4f9c-928b-bd572b16445a');\n",
              "          const dataTable =\n",
              "            await google.colab.kernel.invokeFunction('convertToInteractive',\n",
              "                                                     [key], {});\n",
              "          if (!dataTable) return;\n",
              "\n",
              "          const docLinkHtml = 'Like what you see? Visit the ' +\n",
              "            '<a target=\"_blank\" href=https://colab.research.google.com/notebooks/data_table.ipynb>data table notebook</a>'\n",
              "            + ' to learn more about interactive tables.';\n",
              "          element.innerHTML = '';\n",
              "          dataTable['output_type'] = 'display_data';\n",
              "          await google.colab.output.renderOutput(dataTable, element);\n",
              "          const docLink = document.createElement('div');\n",
              "          docLink.innerHTML = docLinkHtml;\n",
              "          element.appendChild(docLink);\n",
              "        }\n",
              "      </script>\n",
              "    </div>\n",
              "  </div>\n",
              "  "
            ]
          },
          "metadata": {},
          "execution_count": 23
        }
      ]
    },
    {
      "cell_type": "code",
      "source": [
        "unique_species = list(set.union(*df_subset_clean.species.to_numpy()))"
      ],
      "metadata": {
        "id": "eYCV5rkhAxoq"
      },
      "execution_count": null,
      "outputs": []
    },
    {
      "cell_type": "code",
      "source": [
        "unique_atomics = list(zip(unique_species,  \n",
        "                          ase.Atoms(unique_species).get_atomic_numbers()))\n",
        "unique_atomics"
      ],
      "metadata": {
        "colab": {
          "base_uri": "https://localhost:8080/"
        },
        "id": "Knc3hkpDJLW5",
        "outputId": "bf616c2b-186e-4e09-ebf6-319a9559f6e9"
      },
      "execution_count": null,
      "outputs": [
        {
          "output_type": "execute_result",
          "data": {
            "text/plain": [
              "[('Br', 35),\n",
              " ('Se', 34),\n",
              " ('B', 5),\n",
              " ('F', 9),\n",
              " ('C', 6),\n",
              " ('As', 33),\n",
              " ('Si', 14),\n",
              " ('S', 16),\n",
              " ('N', 7),\n",
              " ('H', 1),\n",
              " ('O', 8),\n",
              " ('I', 53),\n",
              " ('Te', 52),\n",
              " ('P', 15),\n",
              " ('Cl', 17),\n",
              " ('Li', 3)]"
            ]
          },
          "metadata": {},
          "execution_count": 25
        }
      ]
    },
    {
      "cell_type": "code",
      "source": [
        "# Sort by atomic number\n",
        "unique_atomics_sorted = sorted(unique_atomics, key=lambda t: t[1])\n",
        "unique_atomics_sorted"
      ],
      "metadata": {
        "colab": {
          "base_uri": "https://localhost:8080/"
        },
        "id": "Q4iq5EtOIxu5",
        "outputId": "fe6beddf-8972-4dbd-e8ca-539b75e68ed4"
      },
      "execution_count": null,
      "outputs": [
        {
          "output_type": "execute_result",
          "data": {
            "text/plain": [
              "[('H', 1),\n",
              " ('Li', 3),\n",
              " ('B', 5),\n",
              " ('C', 6),\n",
              " ('N', 7),\n",
              " ('O', 8),\n",
              " ('F', 9),\n",
              " ('Si', 14),\n",
              " ('P', 15),\n",
              " ('S', 16),\n",
              " ('Cl', 17),\n",
              " ('As', 33),\n",
              " ('Se', 34),\n",
              " ('Br', 35),\n",
              " ('Te', 52),\n",
              " ('I', 53)]"
            ]
          },
          "metadata": {},
          "execution_count": 26
        }
      ]
    },
    {
      "cell_type": "code",
      "source": [
        "unique_species_sorted = list(zip(*unique_atomics_sorted))\n",
        "unique_species_sorted"
      ],
      "metadata": {
        "colab": {
          "base_uri": "https://localhost:8080/"
        },
        "id": "K50CO84YJfVk",
        "outputId": "ff076504-7553-49a2-9d9e-99566c3c1ad4"
      },
      "execution_count": null,
      "outputs": [
        {
          "output_type": "execute_result",
          "data": {
            "text/plain": [
              "[('H',\n",
              "  'Li',\n",
              "  'B',\n",
              "  'C',\n",
              "  'N',\n",
              "  'O',\n",
              "  'F',\n",
              "  'Si',\n",
              "  'P',\n",
              "  'S',\n",
              "  'Cl',\n",
              "  'As',\n",
              "  'Se',\n",
              "  'Br',\n",
              "  'Te',\n",
              "  'I'),\n",
              " (1, 3, 5, 6, 7, 8, 9, 14, 15, 16, 17, 33, 34, 35, 52, 53)]"
            ]
          },
          "metadata": {},
          "execution_count": 27
        }
      ]
    },
    {
      "cell_type": "code",
      "source": [
        "# Creating dict with species frequency\n",
        "unique_frequencies = []\n",
        "for element in unique_species_sorted[0]:\n",
        "  mask = df_subset_clean.species.apply(lambda x: element in x)\n",
        "  unique_frequencies.append(list(mask).count(True))\n",
        "frequencies = dict(zip(unique_species_sorted[0], unique_frequencies))\n",
        "frequencies"
      ],
      "metadata": {
        "colab": {
          "base_uri": "https://localhost:8080/"
        },
        "id": "ev02ldAEC1yu",
        "outputId": "9f9e8a1d-ad7b-47f0-eeb8-b0c274cdf530"
      },
      "execution_count": null,
      "outputs": [
        {
          "output_type": "execute_result",
          "data": {
            "text/plain": [
              "{'H': 60745,\n",
              " 'Li': 7,\n",
              " 'B': 488,\n",
              " 'C': 61012,\n",
              " 'N': 40415,\n",
              " 'O': 49621,\n",
              " 'F': 4184,\n",
              " 'Si': 2598,\n",
              " 'P': 3594,\n",
              " 'S': 14869,\n",
              " 'Cl': 6943,\n",
              " 'As': 136,\n",
              " 'Se': 815,\n",
              " 'Br': 4320,\n",
              " 'Te': 121,\n",
              " 'I': 827}"
            ]
          },
          "metadata": {},
          "execution_count": 28
        }
      ]
    },
    {
      "cell_type": "code",
      "source": [
        "# Setting seaborn plotting context\n",
        "custom_params = {\"axes.spines.right\": False, \"axes.spines.top\": False}\n",
        "sns.set_theme(style=\"ticks\", rc=custom_params)"
      ],
      "metadata": {
        "id": "GWBeqjvgPmI-"
      },
      "execution_count": null,
      "outputs": []
    },
    {
      "cell_type": "code",
      "source": [
        "fig, ax = plt.subplots(figsize=(10,8))\n",
        "plt.bar(x = frequencies.keys(), height = frequencies.values(), \n",
        "        color = '#3498DB', alpha = 1, width = 1)\n",
        "ax.grid(True)\n",
        "plt.ylabel('Frequency');\n",
        "plt.xlabel('Atomic species');\n",
        "plt.savefig('species_frequency.png', dpi = 600, bbox_inches = 'tight')\n",
        "plt.show()"
      ],
      "metadata": {
        "colab": {
          "base_uri": "https://localhost:8080/",
          "height": 499
        },
        "id": "uruSqkZtFErq",
        "outputId": "360866be-1d37-4f3f-ac6d-73adc96972e1"
      },
      "execution_count": null,
      "outputs": [
        {
          "output_type": "display_data",
          "data": {
            "text/plain": [
              "<Figure size 720x576 with 1 Axes>"
            ],
            "image/png": "[encoded data removed]"
          },
          "metadata": {}
        }
      ]
    },
    {
      "cell_type": "code",
      "source": [
        "fig, ax = plt.subplots(figsize=(10,8))\n",
        "df_subset_clean.number_of_atoms.hist(color ='#3498DB')\n",
        "ax.grid(True);\n",
        "ax.set_xlabel('Atoms per molecule');\n",
        "ax.set_ylabel('Frequency');\n",
        "plt.savefig('atom_count.png', dpi = 600, bbox_inches = 'tight')\n",
        "plt.show()"
      ],
      "metadata": {
        "colab": {
          "base_uri": "https://localhost:8080/",
          "height": 499
        },
        "id": "kZpoOu_OTKe8",
        "outputId": "63c5a5fe-4676-4bca-f6de-010e57c13439"
      },
      "execution_count": null,
      "outputs": [
        {
          "output_type": "display_data",
          "data": {
            "text/plain": [
              "<Figure size 720x576 with 1 Axes>"
            ],
            "image/png": "[encoded data removed]"
          },
          "metadata": {}
        }
      ]
    },
    {
      "cell_type": "code",
      "source": [
        "fig, ax = plt.subplots(figsize=(10,8))\n",
        "ax.boxplot(df_subset_clean.number_of_atoms, vert = False)\n",
        "ax.set_xlabel('Atoms per molecule');\n",
        "plt.savefig('atom_number_outliers.png', dpi = 600, bbox_inches = 'tight')\n",
        "plt.show()"
      ],
      "metadata": {
        "colab": {
          "base_uri": "https://localhost:8080/",
          "height": 502
        },
        "id": "McPb5mgviQ1H",
        "outputId": "4304fafa-ccbf-41eb-ed7e-15d68aeb1809"
      },
      "execution_count": null,
      "outputs": [
        {
          "output_type": "display_data",
          "data": {
            "text/plain": [
              "<Figure size 720x576 with 1 Axes>"
            ],
            "image/png": "[encoded data removed]"
          },
          "metadata": {}
        }
      ]
    },
    {
      "cell_type": "code",
      "source": [
        "# To contain the size of the coulomb matrix descriptor within a reasonable value,\n",
        "# outliers are going to be removed from the dataset\n",
        "\n",
        "df_subset_clean.number_of_atoms.describe()"
      ],
      "metadata": {
        "colab": {
          "base_uri": "https://localhost:8080/"
        },
        "id": "og7eQaG-i9Z9",
        "outputId": "8ab44bbb-2da0-4c8d-bf26-ab9c46dee2d4"
      },
      "execution_count": null,
      "outputs": [
        {
          "output_type": "execute_result",
          "data": {
            "text/plain": [
              "count    61037.000000\n",
              "mean        41.691466\n",
              "std         16.836468\n",
              "min          2.000000\n",
              "25%         30.000000\n",
              "50%         39.000000\n",
              "75%         49.000000\n",
              "max        174.000000\n",
              "Name: number_of_atoms, dtype: float64"
            ]
          },
          "metadata": {},
          "execution_count": 33
        }
      ]
    },
    {
      "cell_type": "code",
      "source": [
        "# Percentiles\n",
        "q1, q3 = np.percentile(df_subset_clean.number_of_atoms.values, [25, 75])\n",
        "iqr = q3 - q1\n",
        "upper = q3 + 1.5*iqr\n",
        "lower = q1 - 1.5*iqr\n",
        "q1, q3, iqr, upper, lower"
      ],
      "metadata": {
        "colab": {
          "base_uri": "https://localhost:8080/"
        },
        "id": "elsIARSWktqi",
        "outputId": "4034966f-f572-4835-aef4-7a5b30ca532b"
      },
      "execution_count": null,
      "outputs": [
        {
          "output_type": "execute_result",
          "data": {
            "text/plain": [
              "(30.0, 49.0, 19.0, 77.5, 1.5)"
            ]
          },
          "metadata": {},
          "execution_count": 34
        }
      ]
    },
    {
      "cell_type": "code",
      "source": [
        "# New box plot without outliers\n",
        "mask = (df_subset_clean.number_of_atoms > lower) & (df_subset_clean.number_of_atoms < upper)\n",
        "new = df_subset_clean.loc[mask].reset_index(drop = True)\n",
        "len(df_subset_clean), len(new)"
      ],
      "metadata": {
        "colab": {
          "base_uri": "https://localhost:8080/"
        },
        "id": "V94ZgdZ2lUQ2",
        "outputId": "a9cd104c-3bb8-415c-fe45-b41aea9a4df2"
      },
      "execution_count": null,
      "outputs": [
        {
          "output_type": "execute_result",
          "data": {
            "text/plain": [
              "(61037, 58672)"
            ]
          },
          "metadata": {},
          "execution_count": 35
        }
      ]
    },
    {
      "cell_type": "code",
      "source": [
        "new.number_of_atoms.max()"
      ],
      "metadata": {
        "colab": {
          "base_uri": "https://localhost:8080/"
        },
        "id": "jzrrPVU2uEKm",
        "outputId": "03a9bfa5-97ef-4a5e-ce2f-1aedf2baf494"
      },
      "execution_count": null,
      "outputs": [
        {
          "output_type": "execute_result",
          "data": {
            "text/plain": [
              "77"
            ]
          },
          "metadata": {},
          "execution_count": 36
        }
      ]
    },
    {
      "cell_type": "code",
      "source": [
        "# New dataset boxplot\n",
        "fig, ax = plt.subplots(figsize=(10,8))\n",
        "ax.boxplot(new.number_of_atoms, vert = False)\n",
        "ax.set_xlabel('Atoms per molecule');\n",
        "plt.savefig('atom_number_clean.png', dpi = 600, bbox_inches = 'tight')\n",
        "plt.show()"
      ],
      "metadata": {
        "colab": {
          "base_uri": "https://localhost:8080/",
          "height": 502
        },
        "id": "MB9s36lht1od",
        "outputId": "a8723203-8eec-4899-9624-4b3bc92c5369"
      },
      "execution_count": null,
      "outputs": [
        {
          "output_type": "display_data",
          "data": {
            "text/plain": [
              "<Figure size 720x576 with 1 Axes>"
            ],
            "image/png": "[encoded data removed]"
          },
          "metadata": {}
        }
      ]
    },
    {
      "cell_type": "code",
      "source": [
        "# New distribution\n",
        "fig, ax = plt.subplots(figsize=(10,8))\n",
        "new.number_of_atoms.hist(color ='#3498DB')\n",
        "ax.grid(True);\n",
        "ax.set_xlabel('Atoms per molecule');\n",
        "ax.set_ylabel('Frequency');\n",
        "plt.savefig('atom_count_clean.png', dpi = 600, bbox_inches = 'tight')\n",
        "plt.show()"
      ],
      "metadata": {
        "colab": {
          "base_uri": "https://localhost:8080/",
          "height": 497
        },
        "id": "Kb1C91PFu_SD",
        "outputId": "6aacc324-3a3c-472c-9b85-1fcbff229898"
      },
      "execution_count": null,
      "outputs": [
        {
          "output_type": "display_data",
          "data": {
            "text/plain": [
              "<Figure size 720x576 with 1 Axes>"
            ],
            "image/png": "[encoded data removed]"
          },
          "metadata": {}
        }
      ]
    },
    {
      "cell_type": "markdown",
      "source": [
        "Now the number of atoms per molecule has a distribution which looks more like a gaussian."
      ],
      "metadata": {
        "id": "yAlCVMTWvaeh"
      }
    },
    {
      "cell_type": "code",
      "source": [
        "new.number_of_atoms.describe()"
      ],
      "metadata": {
        "colab": {
          "base_uri": "https://localhost:8080/"
        },
        "id": "OgWoXvMkwMIS",
        "outputId": "a412bb23-81f0-4875-be48-a6638a2a05e7"
      },
      "execution_count": null,
      "outputs": [
        {
          "output_type": "execute_result",
          "data": {
            "text/plain": [
              "count    58672.000000\n",
              "mean        39.711668\n",
              "std         13.670603\n",
              "min          2.000000\n",
              "25%         30.000000\n",
              "50%         38.000000\n",
              "75%         48.000000\n",
              "max         77.000000\n",
              "Name: number_of_atoms, dtype: float64"
            ]
          },
          "metadata": {},
          "execution_count": 39
        }
      ]
    },
    {
      "cell_type": "code",
      "source": [
        "# Assign the new dataframe to the old one\n",
        "df_subset_clean = new"
      ],
      "metadata": {
        "id": "Vg18aZ4vwt3m"
      },
      "execution_count": null,
      "outputs": []
    },
    {
      "cell_type": "markdown",
      "source": [
        "### 2.5: Enriching the data with more features"
      ],
      "metadata": {
        "id": "AJtt4WlOg1wg"
      }
    },
    {
      "cell_type": "code",
      "source": [
        "df_subset_clean['tpsa'] = df_subset_clean['mol'].apply(lambda x: Descriptors.TPSA(x)) #https://en.wikipedia.org/wiki/Polar_surface_area\n",
        "df_subset_clean['mol_w'] = df_subset_clean['mol'].apply(lambda x: Descriptors.ExactMolWt(x)) # https://en.wikipedia.org/wiki/Molecular_mass\n",
        "df_subset_clean['num_valence_electrons'] = df_subset_clean['mol'].apply(lambda x: Descriptors.NumValenceElectrons(x)) # https://en.wikipedia.org/wiki/Valence_electron\n",
        "df_subset_clean['num_heteroatoms'] = df_subset_clean['mol'].apply(lambda x: Descriptors.NumHeteroatoms(x))"
      ],
      "metadata": {
        "id": "d8wWUKkDgJUo"
      },
      "execution_count": null,
      "outputs": []
    },
    {
      "cell_type": "code",
      "source": [
        "df_subset_clean.head(2)"
      ],
      "metadata": {
        "colab": {
          "base_uri": "https://localhost:8080/",
          "height": 280
        },
        "id": "ggZude06gf1D",
        "outputId": "f72bcde8-9877-45c0-e183-903b61e1fadf"
      },
      "execution_count": null,
      "outputs": [
        {
          "output_type": "execute_result",
          "data": {
            "text/plain": [
              "  refcode_csd                                   canonical_smiles  \\\n",
              "0      ABAFEQ  Cc1ccc(cc1)S(=O)(=O)N[C@H](c1nnc(o1)SCc1ccc(cc...   \n",
              "1      ABEDOC  N#CC(=C(c1ccccc1)c1ccccc1)[C@H](c1ccccc1)NS(=O...   \n",
              "\n",
              "   number_of_atoms                                    xyz_pbe_relaxed  \\\n",
              "0               45  {'O': [['39.55724515', '33.75271314', '38.4091...   \n",
              "1               55  {'C': [['8.74281024', '13.44863575', '23.16378...   \n",
              "\n",
              "   total_energy_pbe                                               mol  \\\n",
              "0     -63908.261677  <rdkit.Chem.rdchem.Mol object at 0x7f5aae12fc90>   \n",
              "1     -47344.131203  <rdkit.Chem.rdchem.Mol object at 0x7f5aae12fb10>   \n",
              "\n",
              "               species   tpsa       mol_w  num_valence_electrons  \\\n",
              "0  {O, C, S, N, H, Cl}  85.09  423.047811                    142   \n",
              "1      {O, C, S, N, H}  69.96  450.140199                    162   \n",
              "\n",
              "   num_heteroatoms  \n",
              "0                9  \n",
              "1                5  "
            ],
            "text/html": [
              "\n",
              "  <div id=\"df-52f42637-4796-425d-9e5f-daa32423482d\">\n",
              "    <div class=\"colab-df-container\">\n",
              "      <div>\n",
              "<style scoped>\n",
              "    .dataframe tbody tr th:only-of-type {\n",
              "        vertical-align: middle;\n",
              "    }\n",
              "\n",
              "    .dataframe tbody tr th {\n",
              "        vertical-align: top;\n",
              "    }\n",
              "\n",
              "    .dataframe thead th {\n",
              "        text-align: right;\n",
              "    }\n",
              "</style>\n",
              "<table border=\"1\" class=\"dataframe\">\n",
              "  <thead>\n",
              "    <tr style=\"text-align: right;\">\n",
              "      <th></th>\n",
              "      <th>refcode_csd</th>\n",
              "      <th>canonical_smiles</th>\n",
              "      <th>number_of_atoms</th>\n",
              "      <th>xyz_pbe_relaxed</th>\n",
              "      <th>total_energy_pbe</th>\n",
              "      <th>mol</th>\n",
              "      <th>species</th>\n",
              "      <th>tpsa</th>\n",
              "      <th>mol_w</th>\n",
              "      <th>num_valence_electrons</th>\n",
              "      <th>num_heteroatoms</th>\n",
              "    </tr>\n",
              "  </thead>\n",
              "  <tbody>\n",
              "    <tr>\n",
              "      <th>0</th>\n",
              "      <td>ABAFEQ</td>\n",
              "      <td>Cc1ccc(cc1)S(=O)(=O)N[C@H](c1nnc(o1)SCc1ccc(cc...</td>\n",
              "      <td>45</td>\n",
              "      <td>{'O': [['39.55724515', '33.75271314', '38.4091...</td>\n",
              "      <td>-63908.261677</td>\n",
              "      <td>&lt;rdkit.Chem.rdchem.Mol object at 0x7f5aae12fc90&gt;</td>\n",
              "      <td>{O, C, S, N, H, Cl}</td>\n",
              "      <td>85.09</td>\n",
              "      <td>423.047811</td>\n",
              "      <td>142</td>\n",
              "      <td>9</td>\n",
              "    </tr>\n",
              "    <tr>\n",
              "      <th>1</th>\n",
              "      <td>ABEDOC</td>\n",
              "      <td>N#CC(=C(c1ccccc1)c1ccccc1)[C@H](c1ccccc1)NS(=O...</td>\n",
              "      <td>55</td>\n",
              "      <td>{'C': [['8.74281024', '13.44863575', '23.16378...</td>\n",
              "      <td>-47344.131203</td>\n",
              "      <td>&lt;rdkit.Chem.rdchem.Mol object at 0x7f5aae12fb10&gt;</td>\n",
              "      <td>{O, C, S, N, H}</td>\n",
              "      <td>69.96</td>\n",
              "      <td>450.140199</td>\n",
              "      <td>162</td>\n",
              "      <td>5</td>\n",
              "    </tr>\n",
              "  </tbody>\n",
              "</table>\n",
              "</div>\n",
              "      <button class=\"colab-df-convert\" onclick=\"convertToInteractive('df-52f42637-4796-425d-9e5f-daa32423482d')\"\n",
              "              title=\"Convert this dataframe to an interactive table.\"\n",
              "              style=\"display:none;\">\n",
              "        \n",
              "  <svg xmlns=\"http://www.w3.org/2000/svg\" height=\"24px\"viewBox=\"0 0 24 24\"\n",
              "       width=\"24px\">\n",
              "    <path d=\"M0 0h24v24H0V0z\" fill=\"none\"/>\n",
              "    <path d=\"M18.56 5.44l.94 2.06.94-2.06 2.06-.94-2.06-.94-.94-2.06-.94 2.06-2.06.94zm-11 1L8.5 8.5l.94-2.06 2.06-.94-2.06-.94L8.5 2.5l-.94 2.06-2.06.94zm10 10l.94 2.06.94-2.06 2.06-.94-2.06-.94-.94-2.06-.94 2.06-2.06.94z\"/><path d=\"M17.41 7.96l-1.37-1.37c-.4-.4-.92-.59-1.43-.59-.52 0-1.04.2-1.43.59L10.3 9.45l-7.72 7.72c-.78.78-.78 2.05 0 2.83L4 21.41c.39.39.9.59 1.41.59.51 0 1.02-.2 1.41-.59l7.78-7.78 2.81-2.81c.8-.78.8-2.07 0-2.86zM5.41 20L4 18.59l7.72-7.72 1.47 1.35L5.41 20z\"/>\n",
              "  </svg>\n",
              "      </button>\n",
              "      \n",
              "  <style>\n",
              "    .colab-df-container {\n",
              "      display:flex;\n",
              "      flex-wrap:wrap;\n",
              "      gap: 12px;\n",
              "    }\n",
              "\n",
              "    .colab-df-convert {\n",
              "      background-color: #E8F0FE;\n",
              "      border: none;\n",
              "      border-radius: 50%;\n",
              "      cursor: pointer;\n",
              "      display: none;\n",
              "      fill: #1967D2;\n",
              "      height: 32px;\n",
              "      padding: 0 0 0 0;\n",
              "      width: 32px;\n",
              "    }\n",
              "\n",
              "    .colab-df-convert:hover {\n",
              "      background-color: #E2EBFA;\n",
              "      box-shadow: 0px 1px 2px rgba(60, 64, 67, 0.3), 0px 1px 3px 1px rgba(60, 64, 67, 0.15);\n",
              "      fill: #174EA6;\n",
              "    }\n",
              "\n",
              "    [theme=dark] .colab-df-convert {\n",
              "      background-color: #3B4455;\n",
              "      fill: #D2E3FC;\n",
              "    }\n",
              "\n",
              "    [theme=dark] .colab-df-convert:hover {\n",
              "      background-color: #434B5C;\n",
              "      box-shadow: 0px 1px 3px 1px rgba(0, 0, 0, 0.15);\n",
              "      filter: drop-shadow(0px 1px 2px rgba(0, 0, 0, 0.3));\n",
              "      fill: #FFFFFF;\n",
              "    }\n",
              "  </style>\n",
              "\n",
              "      <script>\n",
              "        const buttonEl =\n",
              "          document.querySelector('#df-52f42637-4796-425d-9e5f-daa32423482d button.colab-df-convert');\n",
              "        buttonEl.style.display =\n",
              "          google.colab.kernel.accessAllowed ? 'block' : 'none';\n",
              "\n",
              "        async function convertToInteractive(key) {\n",
              "          const element = document.querySelector('#df-52f42637-4796-425d-9e5f-daa32423482d');\n",
              "          const dataTable =\n",
              "            await google.colab.kernel.invokeFunction('convertToInteractive',\n",
              "                                                     [key], {});\n",
              "          if (!dataTable) return;\n",
              "\n",
              "          const docLinkHtml = 'Like what you see? Visit the ' +\n",
              "            '<a target=\"_blank\" href=https://colab.research.google.com/notebooks/data_table.ipynb>data table notebook</a>'\n",
              "            + ' to learn more about interactive tables.';\n",
              "          element.innerHTML = '';\n",
              "          dataTable['output_type'] = 'display_data';\n",
              "          await google.colab.output.renderOutput(dataTable, element);\n",
              "          const docLink = document.createElement('div');\n",
              "          docLink.innerHTML = docLinkHtml;\n",
              "          element.appendChild(docLink);\n",
              "        }\n",
              "      </script>\n",
              "    </div>\n",
              "  </div>\n",
              "  "
            ]
          },
          "metadata": {},
          "execution_count": 42
        }
      ]
    },
    {
      "cell_type": "code",
      "source": [
        "# Plotting some random molecules of the dataset\n",
        "dopts = rdMolDraw2D.MolDrawOptions()\n",
        "filename = 'mymolecules'\n",
        "\n",
        "number_of_molecules = 6\n",
        "to_draw = random.sample(range(0, len(df_subset_clean)), number_of_molecules)\n",
        "\n",
        "mols = df_subset_clean[\"mol\"][to_draw]\n",
        "img = Draw.MolsToGridImage(mols, molsPerRow=3, useSVG=True,\n",
        "                           legends=list(df[\"canonical_smiles\"][to_draw].values),\n",
        "                           drawOptions=dopts)\n",
        "\n",
        "# Saving the file\n",
        "if filename is not None:\n",
        "    if not filename.endswith('.svg'):\n",
        "        filename += '.svg'\n",
        "    with open(filename, 'w') as f:\n",
        "        f.write(img)"
      ],
      "metadata": {
        "id": "aSKg8KHppcTs"
      },
      "execution_count": null,
      "outputs": []
    },
    {
      "cell_type": "markdown",
      "source": [
        "## Step 3: Deep Learning"
      ],
      "metadata": {
        "id": "kvXDDaU4bsJ_"
      }
    },
    {
      "cell_type": "markdown",
      "source": [
        "###3.1: Preliminary steps"
      ],
      "metadata": {
        "id": "eElpC5V_cTzb"
      }
    },
    {
      "cell_type": "markdown",
      "source": [
        "#### a) Embedding SMILES for DL processing\n",
        "TODO: Put this process in a preprocessing Keras layer"
      ],
      "metadata": {
        "id": "PNUUZgMzIe1l"
      }
    },
    {
      "cell_type": "markdown",
      "source": [
        "First, we're going to embed the molecules using a pre-trained model"
      ],
      "metadata": {
        "id": "oHAZJUhCij-0"
      }
    },
    {
      "cell_type": "code",
      "source": [
        "import requests\n",
        "\n",
        "url = 'https://github.com/samoturk/mol2vec_notebooks/raw/master/Notebooks/model_300dim.pkl'\n",
        "file_to_download = requests.get(url, allow_redirects=True)\n",
        "\n",
        "open('model_300dim.pkl', 'wb').write(file_to_download.content)"
      ],
      "metadata": {
        "colab": {
          "base_uri": "https://localhost:8080/"
        },
        "id": "Ckima9lhjme-",
        "outputId": "af94102a-7a00-4141-fa31-7cdc625872a3"
      },
      "execution_count": null,
      "outputs": [
        {
          "output_type": "execute_result",
          "data": {
            "text/plain": [
              "26567327"
            ]
          },
          "metadata": {},
          "execution_count": 44
        }
      ]
    },
    {
      "cell_type": "code",
      "source": [
        "from mol2vec.features import mol2alt_sentence, mol2sentence, MolSentence, DfVec, sentences2vec"
      ],
      "metadata": {
        "id": "QhILeKUWjsa2"
      },
      "execution_count": null,
      "outputs": []
    },
    {
      "cell_type": "code",
      "source": [
        "#Loading pre-trained model via word2vec\n",
        "from gensim.models import word2vec  # https://radimrehurek.com/gensim/index.html#install\n",
        "w2vec_model = word2vec.Word2Vec.load('model_300dim.pkl') # Download from https://github.com/samoturk/mol2vec_notebo"
      ],
      "metadata": {
        "id": "DV8CMiAEjvvs"
      },
      "execution_count": null,
      "outputs": []
    },
    {
      "cell_type": "code",
      "source": [
        "#Constructing sentences\n",
        "df_subset_clean['sentence'] = df_subset_clean.apply(lambda x: MolSentence(mol2alt_sentence(x['mol'], 1)), axis=1)\n",
        "\n",
        "#Extracting embeddings to a numpy.array\n",
        "#Note that we always should mark unseen='UNK' in sentence2vec() so that model is taught how to handle unknown substructures\n",
        "df_subset_clean['mol2vec'] = [DfVec(x) for x in sentences2vec(df_subset_clean['sentence'], w2vec_model, unseen='UNK')]"
      ],
      "metadata": {
        "id": "wKuIqDxwj_JL"
      },
      "execution_count": null,
      "outputs": []
    },
    {
      "cell_type": "code",
      "source": [
        "df_subset_clean['mol2vec']=df_subset_clean['mol2vec'].apply(lambda x: x.vec)"
      ],
      "metadata": {
        "id": "iJxnw1FAkWwA"
      },
      "execution_count": null,
      "outputs": []
    },
    {
      "cell_type": "code",
      "source": [
        "df_subset_clean.columns.values.tolist()"
      ],
      "metadata": {
        "colab": {
          "base_uri": "https://localhost:8080/"
        },
        "id": "FdG7qYEwkxdb",
        "outputId": "ab3a5ddc-d23b-4a64-d934-421c14099fab"
      },
      "execution_count": null,
      "outputs": [
        {
          "output_type": "execute_result",
          "data": {
            "text/plain": [
              "['refcode_csd',\n",
              " 'canonical_smiles',\n",
              " 'number_of_atoms',\n",
              " 'xyz_pbe_relaxed',\n",
              " 'total_energy_pbe',\n",
              " 'mol',\n",
              " 'species',\n",
              " 'tpsa',\n",
              " 'mol_w',\n",
              " 'num_valence_electrons',\n",
              " 'num_heteroatoms',\n",
              " 'sentence',\n",
              " 'mol2vec']"
            ]
          },
          "metadata": {},
          "execution_count": 49
        }
      ]
    },
    {
      "cell_type": "code",
      "source": [
        "final_dataset_columns=['xyz_pbe_relaxed',\n",
        " 'tpsa',\n",
        " 'mol_w',\n",
        " 'num_valence_electrons',\n",
        " 'num_heteroatoms',\n",
        " 'number_of_atoms',\n",
        " 'mol2vec',\n",
        "'total_energy_pbe']\n",
        "\n",
        "final_dataset = df_subset_clean[final_dataset_columns]\n",
        "final_dataset.head(2)"
      ],
      "metadata": {
        "colab": {
          "base_uri": "https://localhost:8080/",
          "height": 298
        },
        "id": "DnlpmwidlI2q",
        "outputId": "f1736513-4f73-4d7a-c1c2-c39b6c7e44c9"
      },
      "execution_count": null,
      "outputs": [
        {
          "output_type": "execute_result",
          "data": {
            "text/plain": [
              "                                     xyz_pbe_relaxed   tpsa       mol_w  \\\n",
              "0  {'O': [['39.55724515', '33.75271314', '38.4091...  85.09  423.047811   \n",
              "1  {'C': [['8.74281024', '13.44863575', '23.16378...  69.96  450.140199   \n",
              "\n",
              "   num_valence_electrons  num_heteroatoms  number_of_atoms  \\\n",
              "0                    142                9               45   \n",
              "1                    162                5               55   \n",
              "\n",
              "                                             mol2vec  total_energy_pbe  \n",
              "0  [-9.885212, 7.283, -11.909391, 2.714392, -7.30...     -63908.261677  \n",
              "1  [-10.063227, 10.888024, -20.65452, 0.42244783,...     -47344.131203  "
            ],
            "text/html": [
              "\n",
              "  <div id=\"df-e0d2b90e-8dd9-4fc2-92da-f8377b1f5b03\">\n",
              "    <div class=\"colab-df-container\">\n",
              "      <div>\n",
              "<style scoped>\n",
              "    .dataframe tbody tr th:only-of-type {\n",
              "        vertical-align: middle;\n",
              "    }\n",
              "\n",
              "    .dataframe tbody tr th {\n",
              "        vertical-align: top;\n",
              "    }\n",
              "\n",
              "    .dataframe thead th {\n",
              "        text-align: right;\n",
              "    }\n",
              "</style>\n",
              "<table border=\"1\" class=\"dataframe\">\n",
              "  <thead>\n",
              "    <tr style=\"text-align: right;\">\n",
              "      <th></th>\n",
              "      <th>xyz_pbe_relaxed</th>\n",
              "      <th>tpsa</th>\n",
              "      <th>mol_w</th>\n",
              "      <th>num_valence_electrons</th>\n",
              "      <th>num_heteroatoms</th>\n",
              "      <th>number_of_atoms</th>\n",
              "      <th>mol2vec</th>\n",
              "      <th>total_energy_pbe</th>\n",
              "    </tr>\n",
              "  </thead>\n",
              "  <tbody>\n",
              "    <tr>\n",
              "      <th>0</th>\n",
              "      <td>{'O': [['39.55724515', '33.75271314', '38.4091...</td>\n",
              "      <td>85.09</td>\n",
              "      <td>423.047811</td>\n",
              "      <td>142</td>\n",
              "      <td>9</td>\n",
              "      <td>45</td>\n",
              "      <td>[-9.885212, 7.283, -11.909391, 2.714392, -7.30...</td>\n",
              "      <td>-63908.261677</td>\n",
              "    </tr>\n",
              "    <tr>\n",
              "      <th>1</th>\n",
              "      <td>{'C': [['8.74281024', '13.44863575', '23.16378...</td>\n",
              "      <td>69.96</td>\n",
              "      <td>450.140199</td>\n",
              "      <td>162</td>\n",
              "      <td>5</td>\n",
              "      <td>55</td>\n",
              "      <td>[-10.063227, 10.888024, -20.65452, 0.42244783,...</td>\n",
              "      <td>-47344.131203</td>\n",
              "    </tr>\n",
              "  </tbody>\n",
              "</table>\n",
              "</div>\n",
              "      <button class=\"colab-df-convert\" onclick=\"convertToInteractive('df-e0d2b90e-8dd9-4fc2-92da-f8377b1f5b03')\"\n",
              "              title=\"Convert this dataframe to an interactive table.\"\n",
              "              style=\"display:none;\">\n",
              "        \n",
              "  <svg xmlns=\"http://www.w3.org/2000/svg\" height=\"24px\"viewBox=\"0 0 24 24\"\n",
              "       width=\"24px\">\n",
              "    <path d=\"M0 0h24v24H0V0z\" fill=\"none\"/>\n",
              "    <path d=\"M18.56 5.44l.94 2.06.94-2.06 2.06-.94-2.06-.94-.94-2.06-.94 2.06-2.06.94zm-11 1L8.5 8.5l.94-2.06 2.06-.94-2.06-.94L8.5 2.5l-.94 2.06-2.06.94zm10 10l.94 2.06.94-2.06 2.06-.94-2.06-.94-.94-2.06-.94 2.06-2.06.94z\"/><path d=\"M17.41 7.96l-1.37-1.37c-.4-.4-.92-.59-1.43-.59-.52 0-1.04.2-1.43.59L10.3 9.45l-7.72 7.72c-.78.78-.78 2.05 0 2.83L4 21.41c.39.39.9.59 1.41.59.51 0 1.02-.2 1.41-.59l7.78-7.78 2.81-2.81c.8-.78.8-2.07 0-2.86zM5.41 20L4 18.59l7.72-7.72 1.47 1.35L5.41 20z\"/>\n",
              "  </svg>\n",
              "      </button>\n",
              "      \n",
              "  <style>\n",
              "    .colab-df-container {\n",
              "      display:flex;\n",
              "      flex-wrap:wrap;\n",
              "      gap: 12px;\n",
              "    }\n",
              "\n",
              "    .colab-df-convert {\n",
              "      background-color: #E8F0FE;\n",
              "      border: none;\n",
              "      border-radius: 50%;\n",
              "      cursor: pointer;\n",
              "      display: none;\n",
              "      fill: #1967D2;\n",
              "      height: 32px;\n",
              "      padding: 0 0 0 0;\n",
              "      width: 32px;\n",
              "    }\n",
              "\n",
              "    .colab-df-convert:hover {\n",
              "      background-color: #E2EBFA;\n",
              "      box-shadow: 0px 1px 2px rgba(60, 64, 67, 0.3), 0px 1px 3px 1px rgba(60, 64, 67, 0.15);\n",
              "      fill: #174EA6;\n",
              "    }\n",
              "\n",
              "    [theme=dark] .colab-df-convert {\n",
              "      background-color: #3B4455;\n",
              "      fill: #D2E3FC;\n",
              "    }\n",
              "\n",
              "    [theme=dark] .colab-df-convert:hover {\n",
              "      background-color: #434B5C;\n",
              "      box-shadow: 0px 1px 3px 1px rgba(0, 0, 0, 0.15);\n",
              "      filter: drop-shadow(0px 1px 2px rgba(0, 0, 0, 0.3));\n",
              "      fill: #FFFFFF;\n",
              "    }\n",
              "  </style>\n",
              "\n",
              "      <script>\n",
              "        const buttonEl =\n",
              "          document.querySelector('#df-e0d2b90e-8dd9-4fc2-92da-f8377b1f5b03 button.colab-df-convert');\n",
              "        buttonEl.style.display =\n",
              "          google.colab.kernel.accessAllowed ? 'block' : 'none';\n",
              "\n",
              "        async function convertToInteractive(key) {\n",
              "          const element = document.querySelector('#df-e0d2b90e-8dd9-4fc2-92da-f8377b1f5b03');\n",
              "          const dataTable =\n",
              "            await google.colab.kernel.invokeFunction('convertToInteractive',\n",
              "                                                     [key], {});\n",
              "          if (!dataTable) return;\n",
              "\n",
              "          const docLinkHtml = 'Like what you see? Visit the ' +\n",
              "            '<a target=\"_blank\" href=https://colab.research.google.com/notebooks/data_table.ipynb>data table notebook</a>'\n",
              "            + ' to learn more about interactive tables.';\n",
              "          element.innerHTML = '';\n",
              "          dataTable['output_type'] = 'display_data';\n",
              "          await google.colab.output.renderOutput(dataTable, element);\n",
              "          const docLink = document.createElement('div');\n",
              "          docLink.innerHTML = docLinkHtml;\n",
              "          element.appendChild(docLink);\n",
              "        }\n",
              "      </script>\n",
              "    </div>\n",
              "  </div>\n",
              "  "
            ]
          },
          "metadata": {},
          "execution_count": 50
        }
      ]
    },
    {
      "cell_type": "code",
      "source": [
        "# DFT calculations are expensive, so we would like to built a model capable of infering the molecule energy from their atom positions and species"
      ],
      "metadata": {
        "id": "MEYgDXUtlwTO"
      },
      "execution_count": null,
      "outputs": []
    },
    {
      "cell_type": "markdown",
      "source": [
        "#### b) Converting molecules into ASE atoms"
      ],
      "metadata": {
        "id": "z3la9lk7I8fm"
      }
    },
    {
      "cell_type": "code",
      "source": [
        "# Step 1: Get all the atom values in the dataset\n",
        "dict_positions = final_dataset.xyz_pbe_relaxed\n",
        "species = []\n",
        "for dictionary in dict_positions:\n",
        "  for key, value in dictionary.items():\n",
        "    if key not in species:\n",
        "      species.append(key)\n",
        "\n",
        "len(species)"
      ],
      "metadata": {
        "colab": {
          "base_uri": "https://localhost:8080/"
        },
        "id": "IDzV5XGYKxrV",
        "outputId": "e4e3546d-4d0a-4e7a-814c-b7e32c5e5c8e"
      },
      "execution_count": null,
      "outputs": [
        {
          "output_type": "execute_result",
          "data": {
            "text/plain": [
              "16"
            ]
          },
          "metadata": {},
          "execution_count": 52
        }
      ]
    },
    {
      "cell_type": "code",
      "source": [
        "# Step 2: creating new column into the dataset with proper format for ase\n",
        "def dict_to_tuples (x):\n",
        "  \"\"\"\n",
        "  Takes in a dictionary of xyz and returns an array of tuples usable in Atoms.\n",
        "  \"\"\"\n",
        "  positions = []\n",
        "  names = []\n",
        "  for key, value in x.items():\n",
        "    for position in value:\n",
        "      names.append(key)\n",
        "      positions.append(tuple(map(lambda x: float(x), position)))\n",
        "  return names, positions"
      ],
      "metadata": {
        "id": "BmDiz_Z2LB02"
      },
      "execution_count": null,
      "outputs": []
    },
    {
      "cell_type": "code",
      "source": [
        "final_dataset['xyz_pbe_relaxed'] = final_dataset['xyz_pbe_relaxed'].apply(dict_to_tuples)"
      ],
      "metadata": {
        "colab": {
          "base_uri": "https://localhost:8080/"
        },
        "id": "uBqI_-h3LOkl",
        "outputId": "64d1193b-9fcc-4098-cd68-f9f93050cb69"
      },
      "execution_count": null,
      "outputs": [
        {
          "output_type": "stream",
          "name": "stderr",
          "text": [
            "/usr/local/lib/python3.7/dist-packages/ipykernel_launcher.py:1: SettingWithCopyWarning: \n",
            "A value is trying to be set on a copy of a slice from a DataFrame.\n",
            "Try using .loc[row_indexer,col_indexer] = value instead\n",
            "\n",
            "See the caveats in the documentation: https://pandas.pydata.org/pandas-docs/stable/user_guide/indexing.html#returning-a-view-versus-a-copy\n",
            "  \"\"\"Entry point for launching an IPython kernel.\n"
          ]
        }
      ]
    },
    {
      "cell_type": "code",
      "source": [
        "final_dataset.head(2)"
      ],
      "metadata": {
        "colab": {
          "base_uri": "https://localhost:8080/",
          "height": 298
        },
        "id": "dudR3kcbPk_I",
        "outputId": "0c84c134-0a4c-4963-96af-0dac75850cd5"
      },
      "execution_count": null,
      "outputs": [
        {
          "output_type": "execute_result",
          "data": {
            "text/plain": [
              "                                     xyz_pbe_relaxed   tpsa       mol_w  \\\n",
              "0  ([O, O, O, S, S, C, C, C, C, C, C, C, C, C, C,...  85.09  423.047811   \n",
              "1  ([C, C, C, C, C, C, C, C, C, C, C, C, C, C, C,...  69.96  450.140199   \n",
              "\n",
              "   num_valence_electrons  num_heteroatoms  number_of_atoms  \\\n",
              "0                    142                9               45   \n",
              "1                    162                5               55   \n",
              "\n",
              "                                             mol2vec  total_energy_pbe  \n",
              "0  [-9.885212, 7.283, -11.909391, 2.714392, -7.30...     -63908.261677  \n",
              "1  [-10.063227, 10.888024, -20.65452, 0.42244783,...     -47344.131203  "
            ],
            "text/html": [
              "\n",
              "  <div id=\"df-d2a0ec4e-70a5-4a14-9132-3006dc1405b3\">\n",
              "    <div class=\"colab-df-container\">\n",
              "      <div>\n",
              "<style scoped>\n",
              "    .dataframe tbody tr th:only-of-type {\n",
              "        vertical-align: middle;\n",
              "    }\n",
              "\n",
              "    .dataframe tbody tr th {\n",
              "        vertical-align: top;\n",
              "    }\n",
              "\n",
              "    .dataframe thead th {\n",
              "        text-align: right;\n",
              "    }\n",
              "</style>\n",
              "<table border=\"1\" class=\"dataframe\">\n",
              "  <thead>\n",
              "    <tr style=\"text-align: right;\">\n",
              "      <th></th>\n",
              "      <th>xyz_pbe_relaxed</th>\n",
              "      <th>tpsa</th>\n",
              "      <th>mol_w</th>\n",
              "      <th>num_valence_electrons</th>\n",
              "      <th>num_heteroatoms</th>\n",
              "      <th>number_of_atoms</th>\n",
              "      <th>mol2vec</th>\n",
              "      <th>total_energy_pbe</th>\n",
              "    </tr>\n",
              "  </thead>\n",
              "  <tbody>\n",
              "    <tr>\n",
              "      <th>0</th>\n",
              "      <td>([O, O, O, S, S, C, C, C, C, C, C, C, C, C, C,...</td>\n",
              "      <td>85.09</td>\n",
              "      <td>423.047811</td>\n",
              "      <td>142</td>\n",
              "      <td>9</td>\n",
              "      <td>45</td>\n",
              "      <td>[-9.885212, 7.283, -11.909391, 2.714392, -7.30...</td>\n",
              "      <td>-63908.261677</td>\n",
              "    </tr>\n",
              "    <tr>\n",
              "      <th>1</th>\n",
              "      <td>([C, C, C, C, C, C, C, C, C, C, C, C, C, C, C,...</td>\n",
              "      <td>69.96</td>\n",
              "      <td>450.140199</td>\n",
              "      <td>162</td>\n",
              "      <td>5</td>\n",
              "      <td>55</td>\n",
              "      <td>[-10.063227, 10.888024, -20.65452, 0.42244783,...</td>\n",
              "      <td>-47344.131203</td>\n",
              "    </tr>\n",
              "  </tbody>\n",
              "</table>\n",
              "</div>\n",
              "      <button class=\"colab-df-convert\" onclick=\"convertToInteractive('df-d2a0ec4e-70a5-4a14-9132-3006dc1405b3')\"\n",
              "              title=\"Convert this dataframe to an interactive table.\"\n",
              "              style=\"display:none;\">\n",
              "        \n",
              "  <svg xmlns=\"http://www.w3.org/2000/svg\" height=\"24px\"viewBox=\"0 0 24 24\"\n",
              "       width=\"24px\">\n",
              "    <path d=\"M0 0h24v24H0V0z\" fill=\"none\"/>\n",
              "    <path d=\"M18.56 5.44l.94 2.06.94-2.06 2.06-.94-2.06-.94-.94-2.06-.94 2.06-2.06.94zm-11 1L8.5 8.5l.94-2.06 2.06-.94-2.06-.94L8.5 2.5l-.94 2.06-2.06.94zm10 10l.94 2.06.94-2.06 2.06-.94-2.06-.94-.94-2.06-.94 2.06-2.06.94z\"/><path d=\"M17.41 7.96l-1.37-1.37c-.4-.4-.92-.59-1.43-.59-.52 0-1.04.2-1.43.59L10.3 9.45l-7.72 7.72c-.78.78-.78 2.05 0 2.83L4 21.41c.39.39.9.59 1.41.59.51 0 1.02-.2 1.41-.59l7.78-7.78 2.81-2.81c.8-.78.8-2.07 0-2.86zM5.41 20L4 18.59l7.72-7.72 1.47 1.35L5.41 20z\"/>\n",
              "  </svg>\n",
              "      </button>\n",
              "      \n",
              "  <style>\n",
              "    .colab-df-container {\n",
              "      display:flex;\n",
              "      flex-wrap:wrap;\n",
              "      gap: 12px;\n",
              "    }\n",
              "\n",
              "    .colab-df-convert {\n",
              "      background-color: #E8F0FE;\n",
              "      border: none;\n",
              "      border-radius: 50%;\n",
              "      cursor: pointer;\n",
              "      display: none;\n",
              "      fill: #1967D2;\n",
              "      height: 32px;\n",
              "      padding: 0 0 0 0;\n",
              "      width: 32px;\n",
              "    }\n",
              "\n",
              "    .colab-df-convert:hover {\n",
              "      background-color: #E2EBFA;\n",
              "      box-shadow: 0px 1px 2px rgba(60, 64, 67, 0.3), 0px 1px 3px 1px rgba(60, 64, 67, 0.15);\n",
              "      fill: #174EA6;\n",
              "    }\n",
              "\n",
              "    [theme=dark] .colab-df-convert {\n",
              "      background-color: #3B4455;\n",
              "      fill: #D2E3FC;\n",
              "    }\n",
              "\n",
              "    [theme=dark] .colab-df-convert:hover {\n",
              "      background-color: #434B5C;\n",
              "      box-shadow: 0px 1px 3px 1px rgba(0, 0, 0, 0.15);\n",
              "      filter: drop-shadow(0px 1px 2px rgba(0, 0, 0, 0.3));\n",
              "      fill: #FFFFFF;\n",
              "    }\n",
              "  </style>\n",
              "\n",
              "      <script>\n",
              "        const buttonEl =\n",
              "          document.querySelector('#df-d2a0ec4e-70a5-4a14-9132-3006dc1405b3 button.colab-df-convert');\n",
              "        buttonEl.style.display =\n",
              "          google.colab.kernel.accessAllowed ? 'block' : 'none';\n",
              "\n",
              "        async function convertToInteractive(key) {\n",
              "          const element = document.querySelector('#df-d2a0ec4e-70a5-4a14-9132-3006dc1405b3');\n",
              "          const dataTable =\n",
              "            await google.colab.kernel.invokeFunction('convertToInteractive',\n",
              "                                                     [key], {});\n",
              "          if (!dataTable) return;\n",
              "\n",
              "          const docLinkHtml = 'Like what you see? Visit the ' +\n",
              "            '<a target=\"_blank\" href=https://colab.research.google.com/notebooks/data_table.ipynb>data table notebook</a>'\n",
              "            + ' to learn more about interactive tables.';\n",
              "          element.innerHTML = '';\n",
              "          dataTable['output_type'] = 'display_data';\n",
              "          await google.colab.output.renderOutput(dataTable, element);\n",
              "          const docLink = document.createElement('div');\n",
              "          docLink.innerHTML = docLinkHtml;\n",
              "          element.appendChild(docLink);\n",
              "        }\n",
              "      </script>\n",
              "    </div>\n",
              "  </div>\n",
              "  "
            ]
          },
          "metadata": {},
          "execution_count": 55
        }
      ]
    },
    {
      "cell_type": "code",
      "source": [
        "# Converting this last column into Atoms objects. This function cannot be parallelized\n",
        "final_dataset['xyz_pbe_relaxed'] =  final_dataset['xyz_pbe_relaxed'].apply(lambda x: Atoms(x[0], x[1]))"
      ],
      "metadata": {
        "colab": {
          "base_uri": "https://localhost:8080/"
        },
        "id": "_r2qR1VDNdyf",
        "outputId": "56169e62-8132-4463-9e5e-f6d1d3e5ed7d"
      },
      "execution_count": null,
      "outputs": [
        {
          "output_type": "stream",
          "name": "stderr",
          "text": [
            "/usr/local/lib/python3.7/dist-packages/ipykernel_launcher.py:2: SettingWithCopyWarning: \n",
            "A value is trying to be set on a copy of a slice from a DataFrame.\n",
            "Try using .loc[row_indexer,col_indexer] = value instead\n",
            "\n",
            "See the caveats in the documentation: https://pandas.pydata.org/pandas-docs/stable/user_guide/indexing.html#returning-a-view-versus-a-copy\n",
            "  \n"
          ]
        }
      ]
    },
    {
      "cell_type": "code",
      "source": [
        "final_dataset.head(2)"
      ],
      "metadata": {
        "colab": {
          "base_uri": "https://localhost:8080/",
          "height": 298
        },
        "id": "01SG4tIeOTtP",
        "outputId": "922c0e7b-7733-41fe-aaf6-1056f020105c"
      },
      "execution_count": null,
      "outputs": [
        {
          "output_type": "execute_result",
          "data": {
            "text/plain": [
              "                                     xyz_pbe_relaxed   tpsa       mol_w  \\\n",
              "0  (Atom('O', [39.55724515, 33.75271314, 38.40917...  85.09  423.047811   \n",
              "1  (Atom('C', [8.74281024, 13.44863575, 23.163783...  69.96  450.140199   \n",
              "\n",
              "   num_valence_electrons  num_heteroatoms  number_of_atoms  \\\n",
              "0                    142                9               45   \n",
              "1                    162                5               55   \n",
              "\n",
              "                                             mol2vec  total_energy_pbe  \n",
              "0  [-9.885212, 7.283, -11.909391, 2.714392, -7.30...     -63908.261677  \n",
              "1  [-10.063227, 10.888024, -20.65452, 0.42244783,...     -47344.131203  "
            ],
            "text/html": [
              "\n",
              "  <div id=\"df-d1388a19-9785-48a6-9480-53d585c81263\">\n",
              "    <div class=\"colab-df-container\">\n",
              "      <div>\n",
              "<style scoped>\n",
              "    .dataframe tbody tr th:only-of-type {\n",
              "        vertical-align: middle;\n",
              "    }\n",
              "\n",
              "    .dataframe tbody tr th {\n",
              "        vertical-align: top;\n",
              "    }\n",
              "\n",
              "    .dataframe thead th {\n",
              "        text-align: right;\n",
              "    }\n",
              "</style>\n",
              "<table border=\"1\" class=\"dataframe\">\n",
              "  <thead>\n",
              "    <tr style=\"text-align: right;\">\n",
              "      <th></th>\n",
              "      <th>xyz_pbe_relaxed</th>\n",
              "      <th>tpsa</th>\n",
              "      <th>mol_w</th>\n",
              "      <th>num_valence_electrons</th>\n",
              "      <th>num_heteroatoms</th>\n",
              "      <th>number_of_atoms</th>\n",
              "      <th>mol2vec</th>\n",
              "      <th>total_energy_pbe</th>\n",
              "    </tr>\n",
              "  </thead>\n",
              "  <tbody>\n",
              "    <tr>\n",
              "      <th>0</th>\n",
              "      <td>(Atom('O', [39.55724515, 33.75271314, 38.40917...</td>\n",
              "      <td>85.09</td>\n",
              "      <td>423.047811</td>\n",
              "      <td>142</td>\n",
              "      <td>9</td>\n",
              "      <td>45</td>\n",
              "      <td>[-9.885212, 7.283, -11.909391, 2.714392, -7.30...</td>\n",
              "      <td>-63908.261677</td>\n",
              "    </tr>\n",
              "    <tr>\n",
              "      <th>1</th>\n",
              "      <td>(Atom('C', [8.74281024, 13.44863575, 23.163783...</td>\n",
              "      <td>69.96</td>\n",
              "      <td>450.140199</td>\n",
              "      <td>162</td>\n",
              "      <td>5</td>\n",
              "      <td>55</td>\n",
              "      <td>[-10.063227, 10.888024, -20.65452, 0.42244783,...</td>\n",
              "      <td>-47344.131203</td>\n",
              "    </tr>\n",
              "  </tbody>\n",
              "</table>\n",
              "</div>\n",
              "      <button class=\"colab-df-convert\" onclick=\"convertToInteractive('df-d1388a19-9785-48a6-9480-53d585c81263')\"\n",
              "              title=\"Convert this dataframe to an interactive table.\"\n",
              "              style=\"display:none;\">\n",
              "        \n",
              "  <svg xmlns=\"http://www.w3.org/2000/svg\" height=\"24px\"viewBox=\"0 0 24 24\"\n",
              "       width=\"24px\">\n",
              "    <path d=\"M0 0h24v24H0V0z\" fill=\"none\"/>\n",
              "    <path d=\"M18.56 5.44l.94 2.06.94-2.06 2.06-.94-2.06-.94-.94-2.06-.94 2.06-2.06.94zm-11 1L8.5 8.5l.94-2.06 2.06-.94-2.06-.94L8.5 2.5l-.94 2.06-2.06.94zm10 10l.94 2.06.94-2.06 2.06-.94-2.06-.94-.94-2.06-.94 2.06-2.06.94z\"/><path d=\"M17.41 7.96l-1.37-1.37c-.4-.4-.92-.59-1.43-.59-.52 0-1.04.2-1.43.59L10.3 9.45l-7.72 7.72c-.78.78-.78 2.05 0 2.83L4 21.41c.39.39.9.59 1.41.59.51 0 1.02-.2 1.41-.59l7.78-7.78 2.81-2.81c.8-.78.8-2.07 0-2.86zM5.41 20L4 18.59l7.72-7.72 1.47 1.35L5.41 20z\"/>\n",
              "  </svg>\n",
              "      </button>\n",
              "      \n",
              "  <style>\n",
              "    .colab-df-container {\n",
              "      display:flex;\n",
              "      flex-wrap:wrap;\n",
              "      gap: 12px;\n",
              "    }\n",
              "\n",
              "    .colab-df-convert {\n",
              "      background-color: #E8F0FE;\n",
              "      border: none;\n",
              "      border-radius: 50%;\n",
              "      cursor: pointer;\n",
              "      display: none;\n",
              "      fill: #1967D2;\n",
              "      height: 32px;\n",
              "      padding: 0 0 0 0;\n",
              "      width: 32px;\n",
              "    }\n",
              "\n",
              "    .colab-df-convert:hover {\n",
              "      background-color: #E2EBFA;\n",
              "      box-shadow: 0px 1px 2px rgba(60, 64, 67, 0.3), 0px 1px 3px 1px rgba(60, 64, 67, 0.15);\n",
              "      fill: #174EA6;\n",
              "    }\n",
              "\n",
              "    [theme=dark] .colab-df-convert {\n",
              "      background-color: #3B4455;\n",
              "      fill: #D2E3FC;\n",
              "    }\n",
              "\n",
              "    [theme=dark] .colab-df-convert:hover {\n",
              "      background-color: #434B5C;\n",
              "      box-shadow: 0px 1px 3px 1px rgba(0, 0, 0, 0.15);\n",
              "      filter: drop-shadow(0px 1px 2px rgba(0, 0, 0, 0.3));\n",
              "      fill: #FFFFFF;\n",
              "    }\n",
              "  </style>\n",
              "\n",
              "      <script>\n",
              "        const buttonEl =\n",
              "          document.querySelector('#df-d1388a19-9785-48a6-9480-53d585c81263 button.colab-df-convert');\n",
              "        buttonEl.style.display =\n",
              "          google.colab.kernel.accessAllowed ? 'block' : 'none';\n",
              "\n",
              "        async function convertToInteractive(key) {\n",
              "          const element = document.querySelector('#df-d1388a19-9785-48a6-9480-53d585c81263');\n",
              "          const dataTable =\n",
              "            await google.colab.kernel.invokeFunction('convertToInteractive',\n",
              "                                                     [key], {});\n",
              "          if (!dataTable) return;\n",
              "\n",
              "          const docLinkHtml = 'Like what you see? Visit the ' +\n",
              "            '<a target=\"_blank\" href=https://colab.research.google.com/notebooks/data_table.ipynb>data table notebook</a>'\n",
              "            + ' to learn more about interactive tables.';\n",
              "          element.innerHTML = '';\n",
              "          dataTable['output_type'] = 'display_data';\n",
              "          await google.colab.output.renderOutput(dataTable, element);\n",
              "          const docLink = document.createElement('div');\n",
              "          docLink.innerHTML = docLinkHtml;\n",
              "          element.appendChild(docLink);\n",
              "        }\n",
              "      </script>\n",
              "    </div>\n",
              "  </div>\n",
              "  "
            ]
          },
          "metadata": {},
          "execution_count": 57
        }
      ]
    },
    {
      "cell_type": "markdown",
      "source": [
        "#### c) Creating MBTR descriptor\n"
      ],
      "metadata": {
        "id": "wXiKqbVdOld_"
      }
    },
    {
      "cell_type": "code",
      "source": [
        "# Defining descriptor parameters\n",
        "k1 = {\n",
        "    \"geometry\": {\"function\": \"atomic_number\"},\n",
        "    \"grid\": {\"min\": 1, \"max\": 85, \"sigma\": 0.1, \"n\": 20}  # Max atomic number is\n",
        "                                                          # astatine\n",
        "}\n",
        "\n",
        "k2 = {\n",
        "    \"geometry\": {\"function\": \"inverse_distance\"},\n",
        "    \"grid\": {\"min\": 0.1, \"max\": 1, \"sigma\": 0.02, \"n\": 20}, # No distance smaller than 1 A\n",
        "    \"weighting\": {\"function\": \"exp\", \"r_cut\": 10, \"threshold\": 1e-3}\n",
        "}\n",
        "\n",
        "k3 = {\n",
        "    \"geometry\": {\"function\": \"cosine\"},\n",
        "    \"grid\": {\"min\": -1, \"max\": 1, \"sigma\": 0.02, \"n\": 20},\n",
        "    \"weighting\" : {\"function\": \"exp\", \"r_cut\": 10, \"threshold\": 1e-3}\n",
        "}"
      ],
      "metadata": {
        "id": "c-b4mXNvUCXN"
      },
      "execution_count": null,
      "outputs": []
    },
    {
      "cell_type": "code",
      "source": [
        "# Instantiating the descriptor and determining number of features\n",
        "mbtr = MBTR(species = species,\n",
        "            periodic = False,\n",
        "            k1 = k1,\n",
        "            k2 = k2,\n",
        "            k3 = k3,\n",
        "            flatten = False,\n",
        "            sparse = False,\n",
        "            normalization = 'l2_each')\n",
        "print(f\"Number of features: {mbtr.get_number_of_features()}\")"
      ],
      "metadata": {
        "colab": {
          "base_uri": "https://localhost:8080/"
        },
        "id": "aDse3qB1UKtZ",
        "outputId": "e30e3a6a-320a-402f-d491-fd3cb5b68ec5"
      },
      "execution_count": null,
      "outputs": [
        {
          "output_type": "stream",
          "name": "stdout",
          "text": [
            "Number of features: 46560\n"
          ]
        }
      ]
    },
    {
      "cell_type": "markdown",
      "source": [
        "#### d) Creating Coulomb Matrix descriptor"
      ],
      "metadata": {
        "id": "D8qjql5oXUJD"
      }
    },
    {
      "cell_type": "code",
      "source": [
        "final_dataset"
      ],
      "metadata": {
        "colab": {
          "base_uri": "https://localhost:8080/",
          "height": 1000
        },
        "id": "nSNOLR4-XXTS",
        "outputId": "85ea1e70-bde2-40c4-a279-233d7b5eed36"
      },
      "execution_count": null,
      "outputs": [
        {
          "output_type": "execute_result",
          "data": {
            "text/plain": [
              "                                         xyz_pbe_relaxed    tpsa       mol_w  \\\n",
              "0      (Atom('O', [39.55724515, 33.75271314, 38.40917...   85.09  423.047811   \n",
              "1      (Atom('C', [8.74281024, 13.44863575, 23.163783...   69.96  450.140199   \n",
              "2      (Atom('N', [23.84904338, 42.50577669, 35.03884...   51.81  229.030983   \n",
              "3      (Atom('C', [36.52340453, 39.6406703, 25.169233...   34.14  228.062029   \n",
              "4      (Atom('C', [3.95256786, 17.67855833, 24.828774...  123.58  226.022586   \n",
              "...                                                  ...     ...         ...   \n",
              "58667  (Atom('C', [22.26969809, 41.92804704, 35.46939...   78.90  420.251189   \n",
              "58668  (Atom('O', [33.93699398, 43.81820335, 40.73492...   61.69  308.011933   \n",
              "58669  (Atom('C', [22.97323141, 39.02044458, 27.93148...    0.00  208.125201   \n",
              "58670  (Atom('O', [56.17414946, 59.56569287, 49.15323...   92.78  576.012133   \n",
              "58671  (Atom('H', [23.16403631, 26.06955118, 20.53284...  144.35  268.080769   \n",
              "\n",
              "       num_valence_electrons  num_heteroatoms  number_of_atoms  \\\n",
              "0                        142                9               45   \n",
              "1                        162                5               55   \n",
              "2                         78                5               23   \n",
              "3                         82                4               28   \n",
              "4                         84                8               22   \n",
              "...                      ...              ...              ...   \n",
              "58667                    168                6               66   \n",
              "58668                    102                6               30   \n",
              "58669                     80                0               32   \n",
              "58670                    182               10               57   \n",
              "58671                    102                9               31   \n",
              "\n",
              "                                                 mol2vec  total_energy_pbe  \n",
              "0      [-9.885212, 7.283, -11.909391, 2.714392, -7.30...     -63908.261677  \n",
              "1      [-10.063227, 10.888024, -20.65452, 0.42244783,...     -47344.131203  \n",
              "2      [-5.338256, 3.8927343, -6.896216, -0.27919152,...     -28915.979909  \n",
              "3      [-4.85507, 5.27727, -9.770724, 2.1801903, -2.5...     -29310.525400  \n",
              "4      [-3.7424397, 6.9630003, -7.5874896, 3.2785816,...     -23659.206412  \n",
              "...                                                  ...               ...  \n",
              "58667  [-11.613864, 11.018429, -15.99478, 4.44409, -5...     -37759.078750  \n",
              "58668  [-6.1590996, 6.9757314, -8.373731, 0.45949158,...     -46914.426056  \n",
              "58669  [-10.404796, 8.853079, -10.362222, -3.2704961,...     -16847.126386  \n",
              "58670  [-10.337876, 9.518248, -17.89608, 0.178429, -7...    -134363.234235  \n",
              "58671  [-5.6385713, 7.807969, -10.580486, -2.2421367,...     -26766.630224  \n",
              "\n",
              "[58672 rows x 8 columns]"
            ],
            "text/html": [
              "\n",
              "  <div id=\"df-6fb9943b-678d-44b0-8114-669888c6e52e\">\n",
              "    <div class=\"colab-df-container\">\n",
              "      <div>\n",
              "<style scoped>\n",
              "    .dataframe tbody tr th:only-of-type {\n",
              "        vertical-align: middle;\n",
              "    }\n",
              "\n",
              "    .dataframe tbody tr th {\n",
              "        vertical-align: top;\n",
              "    }\n",
              "\n",
              "    .dataframe thead th {\n",
              "        text-align: right;\n",
              "    }\n",
              "</style>\n",
              "<table border=\"1\" class=\"dataframe\">\n",
              "  <thead>\n",
              "    <tr style=\"text-align: right;\">\n",
              "      <th></th>\n",
              "      <th>xyz_pbe_relaxed</th>\n",
              "      <th>tpsa</th>\n",
              "      <th>mol_w</th>\n",
              "      <th>num_valence_electrons</th>\n",
              "      <th>num_heteroatoms</th>\n",
              "      <th>number_of_atoms</th>\n",
              "      <th>mol2vec</th>\n",
              "      <th>total_energy_pbe</th>\n",
              "    </tr>\n",
              "  </thead>\n",
              "  <tbody>\n",
              "    <tr>\n",
              "      <th>0</th>\n",
              "      <td>(Atom('O', [39.55724515, 33.75271314, 38.40917...</td>\n",
              "      <td>85.09</td>\n",
              "      <td>423.047811</td>\n",
              "      <td>142</td>\n",
              "      <td>9</td>\n",
              "      <td>45</td>\n",
              "      <td>[-9.885212, 7.283, -11.909391, 2.714392, -7.30...</td>\n",
              "      <td>-63908.261677</td>\n",
              "    </tr>\n",
              "    <tr>\n",
              "      <th>1</th>\n",
              "      <td>(Atom('C', [8.74281024, 13.44863575, 23.163783...</td>\n",
              "      <td>69.96</td>\n",
              "      <td>450.140199</td>\n",
              "      <td>162</td>\n",
              "      <td>5</td>\n",
              "      <td>55</td>\n",
              "      <td>[-10.063227, 10.888024, -20.65452, 0.42244783,...</td>\n",
              "      <td>-47344.131203</td>\n",
              "    </tr>\n",
              "    <tr>\n",
              "      <th>2</th>\n",
              "      <td>(Atom('N', [23.84904338, 42.50577669, 35.03884...</td>\n",
              "      <td>51.81</td>\n",
              "      <td>229.030983</td>\n",
              "      <td>78</td>\n",
              "      <td>5</td>\n",
              "      <td>23</td>\n",
              "      <td>[-5.338256, 3.8927343, -6.896216, -0.27919152,...</td>\n",
              "      <td>-28915.979909</td>\n",
              "    </tr>\n",
              "    <tr>\n",
              "      <th>3</th>\n",
              "      <td>(Atom('C', [36.52340453, 39.6406703, 25.169233...</td>\n",
              "      <td>34.14</td>\n",
              "      <td>228.062029</td>\n",
              "      <td>82</td>\n",
              "      <td>4</td>\n",
              "      <td>28</td>\n",
              "      <td>[-4.85507, 5.27727, -9.770724, 2.1801903, -2.5...</td>\n",
              "      <td>-29310.525400</td>\n",
              "    </tr>\n",
              "    <tr>\n",
              "      <th>4</th>\n",
              "      <td>(Atom('C', [3.95256786, 17.67855833, 24.828774...</td>\n",
              "      <td>123.58</td>\n",
              "      <td>226.022586</td>\n",
              "      <td>84</td>\n",
              "      <td>8</td>\n",
              "      <td>22</td>\n",
              "      <td>[-3.7424397, 6.9630003, -7.5874896, 3.2785816,...</td>\n",
              "      <td>-23659.206412</td>\n",
              "    </tr>\n",
              "    <tr>\n",
              "      <th>...</th>\n",
              "      <td>...</td>\n",
              "      <td>...</td>\n",
              "      <td>...</td>\n",
              "      <td>...</td>\n",
              "      <td>...</td>\n",
              "      <td>...</td>\n",
              "      <td>...</td>\n",
              "      <td>...</td>\n",
              "    </tr>\n",
              "    <tr>\n",
              "      <th>58667</th>\n",
              "      <td>(Atom('C', [22.26969809, 41.92804704, 35.46939...</td>\n",
              "      <td>78.90</td>\n",
              "      <td>420.251189</td>\n",
              "      <td>168</td>\n",
              "      <td>6</td>\n",
              "      <td>66</td>\n",
              "      <td>[-11.613864, 11.018429, -15.99478, 4.44409, -5...</td>\n",
              "      <td>-37759.078750</td>\n",
              "    </tr>\n",
              "    <tr>\n",
              "      <th>58668</th>\n",
              "      <td>(Atom('O', [33.93699398, 43.81820335, 40.73492...</td>\n",
              "      <td>61.69</td>\n",
              "      <td>308.011933</td>\n",
              "      <td>102</td>\n",
              "      <td>6</td>\n",
              "      <td>30</td>\n",
              "      <td>[-6.1590996, 6.9757314, -8.373731, 0.45949158,...</td>\n",
              "      <td>-46914.426056</td>\n",
              "    </tr>\n",
              "    <tr>\n",
              "      <th>58669</th>\n",
              "      <td>(Atom('C', [22.97323141, 39.02044458, 27.93148...</td>\n",
              "      <td>0.00</td>\n",
              "      <td>208.125201</td>\n",
              "      <td>80</td>\n",
              "      <td>0</td>\n",
              "      <td>32</td>\n",
              "      <td>[-10.404796, 8.853079, -10.362222, -3.2704961,...</td>\n",
              "      <td>-16847.126386</td>\n",
              "    </tr>\n",
              "    <tr>\n",
              "      <th>58670</th>\n",
              "      <td>(Atom('O', [56.17414946, 59.56569287, 49.15323...</td>\n",
              "      <td>92.78</td>\n",
              "      <td>576.012133</td>\n",
              "      <td>182</td>\n",
              "      <td>10</td>\n",
              "      <td>57</td>\n",
              "      <td>[-10.337876, 9.518248, -17.89608, 0.178429, -7...</td>\n",
              "      <td>-134363.234235</td>\n",
              "    </tr>\n",
              "    <tr>\n",
              "      <th>58671</th>\n",
              "      <td>(Atom('H', [23.16403631, 26.06955118, 20.53284...</td>\n",
              "      <td>144.35</td>\n",
              "      <td>268.080769</td>\n",
              "      <td>102</td>\n",
              "      <td>9</td>\n",
              "      <td>31</td>\n",
              "      <td>[-5.6385713, 7.807969, -10.580486, -2.2421367,...</td>\n",
              "      <td>-26766.630224</td>\n",
              "    </tr>\n",
              "  </tbody>\n",
              "</table>\n",
              "<p>58672 rows × 8 columns</p>\n",
              "</div>\n",
              "      <button class=\"colab-df-convert\" onclick=\"convertToInteractive('df-6fb9943b-678d-44b0-8114-669888c6e52e')\"\n",
              "              title=\"Convert this dataframe to an interactive table.\"\n",
              "              style=\"display:none;\">\n",
              "        \n",
              "  <svg xmlns=\"http://www.w3.org/2000/svg\" height=\"24px\"viewBox=\"0 0 24 24\"\n",
              "       width=\"24px\">\n",
              "    <path d=\"M0 0h24v24H0V0z\" fill=\"none\"/>\n",
              "    <path d=\"M18.56 5.44l.94 2.06.94-2.06 2.06-.94-2.06-.94-.94-2.06-.94 2.06-2.06.94zm-11 1L8.5 8.5l.94-2.06 2.06-.94-2.06-.94L8.5 2.5l-.94 2.06-2.06.94zm10 10l.94 2.06.94-2.06 2.06-.94-2.06-.94-.94-2.06-.94 2.06-2.06.94z\"/><path d=\"M17.41 7.96l-1.37-1.37c-.4-.4-.92-.59-1.43-.59-.52 0-1.04.2-1.43.59L10.3 9.45l-7.72 7.72c-.78.78-.78 2.05 0 2.83L4 21.41c.39.39.9.59 1.41.59.51 0 1.02-.2 1.41-.59l7.78-7.78 2.81-2.81c.8-.78.8-2.07 0-2.86zM5.41 20L4 18.59l7.72-7.72 1.47 1.35L5.41 20z\"/>\n",
              "  </svg>\n",
              "      </button>\n",
              "      \n",
              "  <style>\n",
              "    .colab-df-container {\n",
              "      display:flex;\n",
              "      flex-wrap:wrap;\n",
              "      gap: 12px;\n",
              "    }\n",
              "\n",
              "    .colab-df-convert {\n",
              "      background-color: #E8F0FE;\n",
              "      border: none;\n",
              "      border-radius: 50%;\n",
              "      cursor: pointer;\n",
              "      display: none;\n",
              "      fill: #1967D2;\n",
              "      height: 32px;\n",
              "      padding: 0 0 0 0;\n",
              "      width: 32px;\n",
              "    }\n",
              "\n",
              "    .colab-df-convert:hover {\n",
              "      background-color: #E2EBFA;\n",
              "      box-shadow: 0px 1px 2px rgba(60, 64, 67, 0.3), 0px 1px 3px 1px rgba(60, 64, 67, 0.15);\n",
              "      fill: #174EA6;\n",
              "    }\n",
              "\n",
              "    [theme=dark] .colab-df-convert {\n",
              "      background-color: #3B4455;\n",
              "      fill: #D2E3FC;\n",
              "    }\n",
              "\n",
              "    [theme=dark] .colab-df-convert:hover {\n",
              "      background-color: #434B5C;\n",
              "      box-shadow: 0px 1px 3px 1px rgba(0, 0, 0, 0.15);\n",
              "      filter: drop-shadow(0px 1px 2px rgba(0, 0, 0, 0.3));\n",
              "      fill: #FFFFFF;\n",
              "    }\n",
              "  </style>\n",
              "\n",
              "      <script>\n",
              "        const buttonEl =\n",
              "          document.querySelector('#df-6fb9943b-678d-44b0-8114-669888c6e52e button.colab-df-convert');\n",
              "        buttonEl.style.display =\n",
              "          google.colab.kernel.accessAllowed ? 'block' : 'none';\n",
              "\n",
              "        async function convertToInteractive(key) {\n",
              "          const element = document.querySelector('#df-6fb9943b-678d-44b0-8114-669888c6e52e');\n",
              "          const dataTable =\n",
              "            await google.colab.kernel.invokeFunction('convertToInteractive',\n",
              "                                                     [key], {});\n",
              "          if (!dataTable) return;\n",
              "\n",
              "          const docLinkHtml = 'Like what you see? Visit the ' +\n",
              "            '<a target=\"_blank\" href=https://colab.research.google.com/notebooks/data_table.ipynb>data table notebook</a>'\n",
              "            + ' to learn more about interactive tables.';\n",
              "          element.innerHTML = '';\n",
              "          dataTable['output_type'] = 'display_data';\n",
              "          await google.colab.output.renderOutput(dataTable, element);\n",
              "          const docLink = document.createElement('div');\n",
              "          docLink.innerHTML = docLinkHtml;\n",
              "          element.appendChild(docLink);\n",
              "        }\n",
              "      </script>\n",
              "    </div>\n",
              "  </div>\n",
              "  "
            ]
          },
          "metadata": {},
          "execution_count": 60
        }
      ]
    },
    {
      "cell_type": "code",
      "source": [
        "max(final_dataset.number_of_atoms)"
      ],
      "metadata": {
        "colab": {
          "base_uri": "https://localhost:8080/"
        },
        "id": "zMvQqb5wZJih",
        "outputId": "1ba6cc8f-f757-4722-a213-615897861a43"
      },
      "execution_count": null,
      "outputs": [
        {
          "output_type": "execute_result",
          "data": {
            "text/plain": [
              "77"
            ]
          },
          "metadata": {},
          "execution_count": 61
        }
      ]
    },
    {
      "cell_type": "code",
      "source": [
        "coulomb = CoulombMatrix(max(final_dataset.number_of_atoms), permutation='sorted_l2', sigma=None, seed=None, flatten=False, sparse=False)"
      ],
      "metadata": {
        "id": "18KSroQlX4UD"
      },
      "execution_count": null,
      "outputs": []
    },
    {
      "cell_type": "code",
      "source": [
        "final_dataset['xyz_pbe_relaxed'] = final_dataset['xyz_pbe_relaxed'].apply(lambda x: coulomb.create(x, n_jobs = 0))"
      ],
      "metadata": {
        "id": "b3cq3ancZZ3k",
        "colab": {
          "base_uri": "https://localhost:8080/"
        },
        "outputId": "bc707546-191b-41a7-8d2c-6a444828b319"
      },
      "execution_count": null,
      "outputs": [
        {
          "output_type": "stream",
          "name": "stderr",
          "text": [
            "/usr/local/lib/python3.7/dist-packages/ipykernel_launcher.py:1: SettingWithCopyWarning: \n",
            "A value is trying to be set on a copy of a slice from a DataFrame.\n",
            "Try using .loc[row_indexer,col_indexer] = value instead\n",
            "\n",
            "See the caveats in the documentation: https://pandas.pydata.org/pandas-docs/stable/user_guide/indexing.html#returning-a-view-versus-a-copy\n",
            "  \"\"\"Entry point for launching an IPython kernel.\n"
          ]
        }
      ]
    },
    {
      "cell_type": "code",
      "source": [
        "final_dataset.head()"
      ],
      "metadata": {
        "colab": {
          "base_uri": "https://localhost:8080/",
          "height": 565
        },
        "id": "i4hqKQ281tMA",
        "outputId": "b7267ef5-4ce0-4777-d34b-a26bb60a9178"
      },
      "execution_count": null,
      "outputs": [
        {
          "output_type": "execute_result",
          "data": {
            "text/plain": [
              "                                     xyz_pbe_relaxed    tpsa       mol_w  \\\n",
              "0  [[448.79438598087216, 27.680258698657525, 38.7...   85.09  423.047811   \n",
              "1  [[388.0234410266618, 88.3620608430697, 88.4759...   69.96  450.140199   \n",
              "2  [[388.0234410266618, 31.899214051089785, 35.50...   51.81  229.030983   \n",
              "3  [[388.0234410266618, 54.70566279609604, 88.163...   34.14  228.062029   \n",
              "4  [[73.51669471981023, 12.068875880710928, 29.22...  123.58  226.022586   \n",
              "\n",
              "   num_valence_electrons  num_heteroatoms  number_of_atoms  \\\n",
              "0                    142                9               45   \n",
              "1                    162                5               55   \n",
              "2                     78                5               23   \n",
              "3                     82                4               28   \n",
              "4                     84                8               22   \n",
              "\n",
              "                                             mol2vec  total_energy_pbe  \n",
              "0  [-9.885212, 7.283, -11.909391, 2.714392, -7.30...     -63908.261677  \n",
              "1  [-10.063227, 10.888024, -20.65452, 0.42244783,...     -47344.131203  \n",
              "2  [-5.338256, 3.8927343, -6.896216, -0.27919152,...     -28915.979909  \n",
              "3  [-4.85507, 5.27727, -9.770724, 2.1801903, -2.5...     -29310.525400  \n",
              "4  [-3.7424397, 6.9630003, -7.5874896, 3.2785816,...     -23659.206412  "
            ],
            "text/html": [
              "\n",
              "  <div id=\"df-03024cdd-6347-4d80-87b3-31ba06e5369c\">\n",
              "    <div class=\"colab-df-container\">\n",
              "      <div>\n",
              "<style scoped>\n",
              "    .dataframe tbody tr th:only-of-type {\n",
              "        vertical-align: middle;\n",
              "    }\n",
              "\n",
              "    .dataframe tbody tr th {\n",
              "        vertical-align: top;\n",
              "    }\n",
              "\n",
              "    .dataframe thead th {\n",
              "        text-align: right;\n",
              "    }\n",
              "</style>\n",
              "<table border=\"1\" class=\"dataframe\">\n",
              "  <thead>\n",
              "    <tr style=\"text-align: right;\">\n",
              "      <th></th>\n",
              "      <th>xyz_pbe_relaxed</th>\n",
              "      <th>tpsa</th>\n",
              "      <th>mol_w</th>\n",
              "      <th>num_valence_electrons</th>\n",
              "      <th>num_heteroatoms</th>\n",
              "      <th>number_of_atoms</th>\n",
              "      <th>mol2vec</th>\n",
              "      <th>total_energy_pbe</th>\n",
              "    </tr>\n",
              "  </thead>\n",
              "  <tbody>\n",
              "    <tr>\n",
              "      <th>0</th>\n",
              "      <td>[[448.79438598087216, 27.680258698657525, 38.7...</td>\n",
              "      <td>85.09</td>\n",
              "      <td>423.047811</td>\n",
              "      <td>142</td>\n",
              "      <td>9</td>\n",
              "      <td>45</td>\n",
              "      <td>[-9.885212, 7.283, -11.909391, 2.714392, -7.30...</td>\n",
              "      <td>-63908.261677</td>\n",
              "    </tr>\n",
              "    <tr>\n",
              "      <th>1</th>\n",
              "      <td>[[388.0234410266618, 88.3620608430697, 88.4759...</td>\n",
              "      <td>69.96</td>\n",
              "      <td>450.140199</td>\n",
              "      <td>162</td>\n",
              "      <td>5</td>\n",
              "      <td>55</td>\n",
              "      <td>[-10.063227, 10.888024, -20.65452, 0.42244783,...</td>\n",
              "      <td>-47344.131203</td>\n",
              "    </tr>\n",
              "    <tr>\n",
              "      <th>2</th>\n",
              "      <td>[[388.0234410266618, 31.899214051089785, 35.50...</td>\n",
              "      <td>51.81</td>\n",
              "      <td>229.030983</td>\n",
              "      <td>78</td>\n",
              "      <td>5</td>\n",
              "      <td>23</td>\n",
              "      <td>[-5.338256, 3.8927343, -6.896216, -0.27919152,...</td>\n",
              "      <td>-28915.979909</td>\n",
              "    </tr>\n",
              "    <tr>\n",
              "      <th>3</th>\n",
              "      <td>[[388.0234410266618, 54.70566279609604, 88.163...</td>\n",
              "      <td>34.14</td>\n",
              "      <td>228.062029</td>\n",
              "      <td>82</td>\n",
              "      <td>4</td>\n",
              "      <td>28</td>\n",
              "      <td>[-4.85507, 5.27727, -9.770724, 2.1801903, -2.5...</td>\n",
              "      <td>-29310.525400</td>\n",
              "    </tr>\n",
              "    <tr>\n",
              "      <th>4</th>\n",
              "      <td>[[73.51669471981023, 12.068875880710928, 29.22...</td>\n",
              "      <td>123.58</td>\n",
              "      <td>226.022586</td>\n",
              "      <td>84</td>\n",
              "      <td>8</td>\n",
              "      <td>22</td>\n",
              "      <td>[-3.7424397, 6.9630003, -7.5874896, 3.2785816,...</td>\n",
              "      <td>-23659.206412</td>\n",
              "    </tr>\n",
              "  </tbody>\n",
              "</table>\n",
              "</div>\n",
              "      <button class=\"colab-df-convert\" onclick=\"convertToInteractive('df-03024cdd-6347-4d80-87b3-31ba06e5369c')\"\n",
              "              title=\"Convert this dataframe to an interactive table.\"\n",
              "              style=\"display:none;\">\n",
              "        \n",
              "  <svg xmlns=\"http://www.w3.org/2000/svg\" height=\"24px\"viewBox=\"0 0 24 24\"\n",
              "       width=\"24px\">\n",
              "    <path d=\"M0 0h24v24H0V0z\" fill=\"none\"/>\n",
              "    <path d=\"M18.56 5.44l.94 2.06.94-2.06 2.06-.94-2.06-.94-.94-2.06-.94 2.06-2.06.94zm-11 1L8.5 8.5l.94-2.06 2.06-.94-2.06-.94L8.5 2.5l-.94 2.06-2.06.94zm10 10l.94 2.06.94-2.06 2.06-.94-2.06-.94-.94-2.06-.94 2.06-2.06.94z\"/><path d=\"M17.41 7.96l-1.37-1.37c-.4-.4-.92-.59-1.43-.59-.52 0-1.04.2-1.43.59L10.3 9.45l-7.72 7.72c-.78.78-.78 2.05 0 2.83L4 21.41c.39.39.9.59 1.41.59.51 0 1.02-.2 1.41-.59l7.78-7.78 2.81-2.81c.8-.78.8-2.07 0-2.86zM5.41 20L4 18.59l7.72-7.72 1.47 1.35L5.41 20z\"/>\n",
              "  </svg>\n",
              "      </button>\n",
              "      \n",
              "  <style>\n",
              "    .colab-df-container {\n",
              "      display:flex;\n",
              "      flex-wrap:wrap;\n",
              "      gap: 12px;\n",
              "    }\n",
              "\n",
              "    .colab-df-convert {\n",
              "      background-color: #E8F0FE;\n",
              "      border: none;\n",
              "      border-radius: 50%;\n",
              "      cursor: pointer;\n",
              "      display: none;\n",
              "      fill: #1967D2;\n",
              "      height: 32px;\n",
              "      padding: 0 0 0 0;\n",
              "      width: 32px;\n",
              "    }\n",
              "\n",
              "    .colab-df-convert:hover {\n",
              "      background-color: #E2EBFA;\n",
              "      box-shadow: 0px 1px 2px rgba(60, 64, 67, 0.3), 0px 1px 3px 1px rgba(60, 64, 67, 0.15);\n",
              "      fill: #174EA6;\n",
              "    }\n",
              "\n",
              "    [theme=dark] .colab-df-convert {\n",
              "      background-color: #3B4455;\n",
              "      fill: #D2E3FC;\n",
              "    }\n",
              "\n",
              "    [theme=dark] .colab-df-convert:hover {\n",
              "      background-color: #434B5C;\n",
              "      box-shadow: 0px 1px 3px 1px rgba(0, 0, 0, 0.15);\n",
              "      filter: drop-shadow(0px 1px 2px rgba(0, 0, 0, 0.3));\n",
              "      fill: #FFFFFF;\n",
              "    }\n",
              "  </style>\n",
              "\n",
              "      <script>\n",
              "        const buttonEl =\n",
              "          document.querySelector('#df-03024cdd-6347-4d80-87b3-31ba06e5369c button.colab-df-convert');\n",
              "        buttonEl.style.display =\n",
              "          google.colab.kernel.accessAllowed ? 'block' : 'none';\n",
              "\n",
              "        async function convertToInteractive(key) {\n",
              "          const element = document.querySelector('#df-03024cdd-6347-4d80-87b3-31ba06e5369c');\n",
              "          const dataTable =\n",
              "            await google.colab.kernel.invokeFunction('convertToInteractive',\n",
              "                                                     [key], {});\n",
              "          if (!dataTable) return;\n",
              "\n",
              "          const docLinkHtml = 'Like what you see? Visit the ' +\n",
              "            '<a target=\"_blank\" href=https://colab.research.google.com/notebooks/data_table.ipynb>data table notebook</a>'\n",
              "            + ' to learn more about interactive tables.';\n",
              "          element.innerHTML = '';\n",
              "          dataTable['output_type'] = 'display_data';\n",
              "          await google.colab.output.renderOutput(dataTable, element);\n",
              "          const docLink = document.createElement('div');\n",
              "          docLink.innerHTML = docLinkHtml;\n",
              "          element.appendChild(docLink);\n",
              "        }\n",
              "      </script>\n",
              "    </div>\n",
              "  </div>\n",
              "  "
            ]
          },
          "metadata": {},
          "execution_count": 79
        }
      ]
    },
    {
      "cell_type": "markdown",
      "source": [],
      "metadata": {
        "id": "FHzyyzzK_2Go"
      }
    },
    {
      "cell_type": "code",
      "source": [
        "final_dataset_np = final_dataset.to_numpy()\n",
        "final_dataset_np"
      ],
      "metadata": {
        "id": "aU58dsiZzJul"
      },
      "execution_count": null,
      "outputs": []
    },
    {
      "cell_type": "code",
      "source": [
        "final_dataset_np[:, :-1]"
      ],
      "metadata": {
        "id": "SOl_w3DP12a7"
      },
      "execution_count": null,
      "outputs": []
    },
    {
      "cell_type": "code",
      "source": [
        "from sklearn.model_selection import train_test_split\n",
        "from sklearn.metrics import accuracy_score"
      ],
      "metadata": {
        "id": "6VV1BFCEDDgp"
      },
      "execution_count": null,
      "outputs": []
    },
    {
      "cell_type": "code",
      "source": [
        "# Splitting training and testing sets\n",
        "X_train, X_test, y_train, y_test = train_test_split(final_dataset_np[:, :-1], final_dataset_np[:, -1], random_state = 0)"
      ],
      "metadata": {
        "id": "K1ZDZTMl1ZFt"
      },
      "execution_count": null,
      "outputs": []
    },
    {
      "cell_type": "code",
      "source": [
        "# Saving the arrays to Google Drive\n",
        "vals_to_save = np.savez('/content/drive/MyDrive/m1507656/data_clean.npz', **{'X_train' : X_train,\n",
        "                'X_test' : X_test,\n",
        "                'y_train' : y_train,\n",
        "                'y_test' : y_test})"
      ],
      "metadata": {
        "id": "nGABzNyizcXQ"
      },
      "execution_count": null,
      "outputs": []
    },
    {
      "cell_type": "code",
      "source": [
        "# Testing if load properly\n",
        "test = np.load('/content/drive/MyDrive/m1507656/data_clean.npz', allow_pickle = True)\n",
        "test['X_train']"
      ],
      "metadata": {
        "id": "VhYDvuyt27MI",
        "colab": {
          "base_uri": "https://localhost:8080/"
        },
        "outputId": "7f61d91e-f6b9-449c-a8ee-946bebdb4854"
      },
      "execution_count": null,
      "outputs": [
        {
          "output_type": "execute_result",
          "data": {
            "text/plain": [
              "array([[array([[2539.41283766,  109.2096523 ,   60.34746597, ...,    0.        ,\n",
              "                   0.        ,    0.        ],\n",
              "               [ 109.2096523 ,   36.8581052 ,   13.02029401, ...,    0.        ,\n",
              "                   0.        ,    0.        ],\n",
              "               [  60.34746597,   13.02029401,   73.51669472, ...,    0.        ,\n",
              "                   0.        ,    0.        ],\n",
              "               ...,\n",
              "               [   0.        ,    0.        ,    0.        , ...,    0.        ,\n",
              "                   0.        ,    0.        ],\n",
              "               [   0.        ,    0.        ,    0.        , ...,    0.        ,\n",
              "                   0.        ,    0.        ],\n",
              "               [   0.        ,    0.        ,    0.        , ...,    0.        ,\n",
              "                   0.        ,    0.        ]])                                 ,\n",
              "        64.35, 243.984739628, ..., 5, 22,\n",
              "        array([ -4.7533927 ,   2.703595  ,  -5.9512    ,  -1.0334702 ,\n",
              "                -4.0429864 ,  -7.0697536 ,   4.4678574 ,  -3.2796774 ,\n",
              "                -7.128865  , -16.08193   ,  11.625955  , -16.489946  ,\n",
              "                 4.473707  , -11.12438   ,  -5.126659  ,   8.512867  ,\n",
              "                -3.4074714 ,   8.315084  ,  -0.14037818,  -8.2583885 ,\n",
              "               -15.16163   ,  10.430588  ,  -4.205212  ,  -5.445823  ,\n",
              "                 7.6881785 ,  10.035469  ,   7.355505  ,  -1.5156279 ,\n",
              "                13.171556  ,  -1.3991863 ,   7.176047  ,   0.52974594,\n",
              "                12.694393  ,   7.8926167 ,  -4.3968277 ,  -5.500026  ,\n",
              "                 3.0450783 ,   4.2566295 ,  -8.370725  ,  11.634159  ,\n",
              "                 1.9199555 , -17.20541   ,  12.667391  ,   0.41614136,\n",
              "                -4.765372  , -15.152884  , -10.896295  ,  15.596086  ,\n",
              "                13.207466  ,  15.139087  ,  -4.8977523 ,  -0.52549416,\n",
              "               -13.700242  ,   4.0889134 ,   6.957759  ,   2.1588745 ,\n",
              "                -4.504282  , -15.799207  ,   6.691639  ,   9.7686825 ,\n",
              "                 3.751415  ,  -4.53127   ,   3.5331464 ,   5.2249217 ,\n",
              "               -19.11594   ,  -0.5586164 ,  -3.110753  ,  14.49193   ,\n",
              "               -11.487438  ,   9.67031   ,  -5.3679895 ,  -1.8561196 ,\n",
              "                10.870777  ,   7.356412  ,  -2.7739556 ,   3.3931293 ,\n",
              "                 9.749069  ,   4.438156  ,  -9.736079  ,  -5.890414  ,\n",
              "                 7.336914  ,  -0.51900226,  -4.2047443 ,   0.19242352,\n",
              "                -4.9666333 ,   6.7765183 ,  -1.6485075 ,  19.883501  ,\n",
              "                -2.5930557 ,  -5.3518753 ,  18.221098  ,   0.65423656,\n",
              "               -15.908047  , -15.657495  ,  -0.06244096, -17.894543  ,\n",
              "                 7.337053  ,   9.232398  ,  -5.509847  ,  -4.0716357 ],\n",
              "              dtype=float32)                                           ],\n",
              "       [array([[388.02344103,  62.37578515,  43.6114857 , ...,   0.        ,\n",
              "                  0.        ,   0.        ],\n",
              "               [ 62.37578515, 388.02344103,  22.35680942, ...,   0.        ,\n",
              "                  0.        ,   0.        ],\n",
              "               [ 43.6114857 ,  22.35680942,  53.3587074 , ...,   0.        ,\n",
              "                  0.        ,   0.        ],\n",
              "               ...,\n",
              "               [  0.        ,   0.        ,   0.        , ...,   0.        ,\n",
              "                  0.        ,   0.        ],\n",
              "               [  0.        ,   0.        ,   0.        , ...,   0.        ,\n",
              "                  0.        ,   0.        ],\n",
              "               [  0.        ,   0.        ,   0.        , ...,   0.        ,\n",
              "                  0.        ,   0.        ]])                               ,\n",
              "        51.8, 197.008139224, ..., 5, 19,\n",
              "        array([ -3.3810098 ,   1.0781815 ,  -4.362306  ,  -2.3107374 ,\n",
              "                -3.651264  ,  -5.331506  ,   2.5604932 ,  -0.12952769,\n",
              "                -7.016097  , -15.362238  ,  14.793967  , -17.605667  ,\n",
              "                 1.6347616 ,  -8.35234   ,  -1.4687325 ,   3.7803173 ,\n",
              "                -3.958916  ,   5.436702  ,  -3.302414  ,  -4.53256   ,\n",
              "               -13.416279  ,  13.01888   ,  -3.0167873 ,  -6.200997  ,\n",
              "                 2.3467066 ,  11.958541  ,   3.4474    ,  -3.9758859 ,\n",
              "                 8.4682    ,  -1.8188578 ,   5.292922  ,  -1.2074407 ,\n",
              "                12.9965925 ,   6.0869336 ,  -1.1712229 ,  -4.464356  ,\n",
              "                 5.6052    ,   4.665459  ,  -6.967284  ,   9.48335   ,\n",
              "                 4.9716406 , -15.370659  ,  11.538376  ,  -2.8097177 ,\n",
              "                -2.4518666 , -14.053167  ,  -9.834416  ,  14.432886  ,\n",
              "                10.805982  ,   7.9274073 ,  -3.5916207 ,   1.964615  ,\n",
              "               -14.552285  ,   1.8299764 ,   4.492175  ,   1.9796162 ,\n",
              "                -3.397216  , -12.476505  ,   7.0364475 ,   8.61053   ,\n",
              "                 2.8848362 ,  -3.7669413 ,   1.2443    ,   1.0246207 ,\n",
              "               -14.127155  ,   0.42379004,  -1.3288615 ,   7.5705056 ,\n",
              "                -7.176762  ,   6.309634  ,  -1.1037616 ,  -1.735144  ,\n",
              "                 9.64327   ,   8.259421  ,  -2.400088  ,   2.029642  ,\n",
              "                10.864838  ,   2.4109006 ,  -9.219422  ,  -4.4046974 ,\n",
              "                 9.399881  ,  -4.7893624 ,  -3.8148568 ,  -1.9773202 ,\n",
              "                -5.23044   ,   9.0578985 ,  -1.9924501 ,  14.037411  ,\n",
              "                -0.6541223 ,  -3.9543605 ,  16.031084  ,   0.6951122 ,\n",
              "               -12.563528  , -14.131591  ,   0.15422617, -14.009819  ,\n",
              "                 4.699535  ,   7.18029   ,  -2.6896672 ,  -2.7549572 ],\n",
              "              dtype=float32)                                           ],\n",
              "       [array([[73.51669472, 19.3181775 , 20.27898807, ...,  0.        ,\n",
              "                 0.        ,  0.        ],\n",
              "               [19.3181775 , 53.3587074 , 30.04514739, ...,  0.        ,\n",
              "                 0.        ,  0.        ],\n",
              "               [20.27898807, 30.04514739, 36.8581052 , ...,  0.        ,\n",
              "                 0.        ,  0.        ],\n",
              "               ...,\n",
              "               [ 0.        ,  0.        ,  0.        , ...,  0.        ,\n",
              "                 0.        ,  0.        ],\n",
              "               [ 0.        ,  0.        ,  0.        , ...,  0.        ,\n",
              "                 0.        ,  0.        ],\n",
              "               [ 0.        ,  0.        ,  0.        , ...,  0.        ,\n",
              "                 0.        ,  0.        ]])                             ,\n",
              "        22.0, 213.1153641, ..., 2, 31,\n",
              "        array([ -8.59149   ,   6.895799  , -10.391485  ,  -2.5256565 ,\n",
              "                -4.825888  ,  -6.7844887 ,   9.636537  ,  -2.906058  ,\n",
              "                -8.3999405 , -21.789927  ,  22.034388  , -28.37706   ,\n",
              "                 6.2884216 , -16.948797  ,  -4.844594  ,  15.884801  ,\n",
              "                -7.8575892 ,  13.166416  ,  -1.8114399 , -12.970518  ,\n",
              "               -25.310604  ,  15.8298    ,  -5.732592  , -11.853104  ,\n",
              "                11.847906  ,  20.218891  ,  13.897789  ,  -3.740593  ,\n",
              "                19.174057  ,  -0.82089305,   8.053715  ,  -3.2137756 ,\n",
              "                20.77887   ,  13.096188  ,  -5.422578  ,  -4.488068  ,\n",
              "                -0.8174482 ,   4.773566  , -10.150084  ,  15.37556   ,\n",
              "                 3.2393732 , -22.309563  ,  20.094116  ,  -4.050199  ,\n",
              "                -8.394681  , -23.976845  , -11.608768  ,  25.033562  ,\n",
              "                21.873713  ,  21.192757  ,  -8.041456  ,  -3.7852771 ,\n",
              "               -22.212317  ,  11.930629  ,   8.218695  ,   0.6908841 ,\n",
              "                -6.49554   , -25.878208  ,  12.88513   ,  16.81658   ,\n",
              "                11.19134   ,  -6.241154  ,   2.406009  ,   9.75983   ,\n",
              "               -30.47468   ,  -2.766708  ,  -0.8099344 ,  16.390049  ,\n",
              "               -19.619537  ,  10.609693  ,  -3.7063673 ,   0.49223545,\n",
              "                13.805902  ,  15.707276  ,  -2.4053416 ,   4.186893  ,\n",
              "                16.865131  ,   1.6298684 , -15.24032   ,  -9.086103  ,\n",
              "                12.724512  ,  -3.9825737 ,  -9.940883  ,   1.5422485 ,\n",
              "                -3.3810844 ,  12.08375   ,  -4.5947533 ,  19.57333   ,\n",
              "                -1.4540457 ,  -5.950501  ,  28.567297  ,   2.1623504 ,\n",
              "               -24.197947  , -20.7894    ,  -1.1707819 , -22.046423  ,\n",
              "                12.674503  ,   9.783839  ,  -5.9324465 ,  -8.188597  ],\n",
              "              dtype=float32)                                           ],\n",
              "       ...,\n",
              "       [array([[388.02344103,  27.64721821,  47.61411225, ...,   0.        ,\n",
              "                  0.        ,   0.        ],\n",
              "               [ 27.64721821,  73.51669472,  10.82715375, ...,   0.        ,\n",
              "                  0.        ,   0.        ],\n",
              "               [ 47.61411225,  10.82715375,  73.51669472, ...,   0.        ,\n",
              "                  0.        ,   0.        ],\n",
              "               ...,\n",
              "               [  0.        ,   0.        ,   0.        , ...,   0.        ,\n",
              "                  0.        ,   0.        ],\n",
              "               [  0.        ,   0.        ,   0.        , ...,   0.        ,\n",
              "                  0.        ,   0.        ],\n",
              "               [  0.        ,   0.        ,   0.        , ...,   0.        ,\n",
              "                  0.        ,   0.        ]])                               ,\n",
              "        63.6, 188.014329736, ..., 5, 20,\n",
              "        array([-2.3790538e+00,  3.8418360e+00, -4.8026896e+00, -3.0480151e+00,\n",
              "               -2.0819480e+00, -7.0028553e+00,  1.7391906e+00, -2.5663128e+00,\n",
              "               -5.1674008e+00, -1.0692603e+01,  1.1831564e+01, -1.7298006e+01,\n",
              "                5.5551376e+00, -8.6206636e+00, -5.2095671e+00,  6.7357121e+00,\n",
              "               -1.8666728e+00,  4.8738503e+00, -1.1480249e+00, -9.4457998e+00,\n",
              "               -1.3044185e+01,  1.1519406e+01, -4.2593942e+00, -5.8733759e+00,\n",
              "                8.6655102e+00,  9.8462000e+00,  6.9006000e+00, -3.6130559e-01,\n",
              "                1.0162681e+01, -3.4796267e+00,  6.4539461e+00, -1.6319585e-01,\n",
              "                1.1920114e+01,  6.2808943e+00, -4.9903817e+00, -2.9652750e+00,\n",
              "                3.3396678e+00,  6.0977802e+00, -6.5349731e+00,  8.7173481e+00,\n",
              "                8.9981623e-02, -1.1952391e+01,  1.1698783e+01,  4.3851100e-02,\n",
              "               -4.0016484e+00, -1.1617146e+01, -9.4153700e+00,  1.7084103e+01,\n",
              "                1.3315979e+01,  1.3920077e+01, -4.5055327e+00,  8.2937503e-01,\n",
              "               -1.2742734e+01,  3.6316447e+00,  3.0140340e+00, -5.0643021e-01,\n",
              "               -6.4818358e+00, -1.3360856e+01,  6.7403159e+00,  7.5891356e+00,\n",
              "                1.7362422e+00, -2.8956141e+00,  4.2106938e+00,  3.1553864e+00,\n",
              "               -2.0407799e+01, -5.0504911e-01, -1.3218797e+00,  1.0239337e+01,\n",
              "               -1.1179787e+01,  6.3717790e+00, -3.3464394e+00, -1.7801836e-02,\n",
              "                1.0737745e+01,  5.0811148e+00, -3.1128092e+00,  2.9565759e+00,\n",
              "                9.0918179e+00,  2.5551734e+00, -7.3353505e+00, -4.4028854e+00,\n",
              "                6.0469761e+00, -3.9077613e+00, -4.3352609e+00,  1.7564648e-01,\n",
              "               -3.6175618e+00,  7.1165800e+00, -1.6682279e+00,  1.6392988e+01,\n",
              "                6.0499191e-01, -4.5165720e+00,  1.8113789e+01,  2.7294703e+00,\n",
              "               -1.3031344e+01, -1.1642165e+01,  2.2536373e+00, -1.5090077e+01,\n",
              "                9.2245140e+00,  9.3120708e+00, -5.2475262e+00, -6.3303480e+00],\n",
              "              dtype=float32)                                                   ],\n",
              "       [array([[73.51669472, 24.29416571,  9.91053758, ...,  0.        ,\n",
              "                 0.        ,  0.        ],\n",
              "               [24.29416571, 73.51669472, 16.13523658, ...,  0.        ,\n",
              "                 0.        ,  0.        ],\n",
              "               [ 9.91053758, 16.13523658, 73.51669472, ...,  0.        ,\n",
              "                 0.        ,  0.        ],\n",
              "               ...,\n",
              "               [ 0.        ,  0.        ,  0.        , ...,  0.        ,\n",
              "                 0.        ,  0.        ],\n",
              "               [ 0.        ,  0.        ,  0.        , ...,  0.        ,\n",
              "                 0.        ,  0.        ],\n",
              "               [ 0.        ,  0.        ,  0.        , ...,  0.        ,\n",
              "                 0.        ,  0.        ]])                             ,\n",
              "        62.05000000000001, 223.120843404, ..., 4, 33,\n",
              "        array([ -7.1649127 ,   8.640939  , -11.756804  ,   2.1574125 ,\n",
              "                -4.534792  ,  -7.959753  ,  10.524171  ,  -4.282213  ,\n",
              "                -9.613315  , -25.52064   ,  19.483768  , -32.611683  ,\n",
              "                 7.844796  , -21.222727  ,  -4.391317  ,  18.138887  ,\n",
              "                -6.7399607 ,  14.92412   ,  -0.7001204 , -11.506569  ,\n",
              "               -28.834862  ,  14.293776  ,  -2.3584292 , -14.233685  ,\n",
              "                14.279262  ,  19.78529   ,  13.5204    ,  -0.27262974,\n",
              "                22.966879  ,  -1.2912221 ,  11.202956  ,  -5.256584  ,\n",
              "                21.273643  ,  14.617069  ,  -5.432973  ,  -6.245925  ,\n",
              "                -3.6710713 ,   3.1655843 , -12.563198  ,  16.611013  ,\n",
              "                 1.4055095 , -24.942234  ,  24.284218  ,  -0.12529504,\n",
              "                -7.633159  , -25.039448  , -14.381694  ,  30.434435  ,\n",
              "                19.514318  ,  24.420725  , -11.758294  ,  -3.0597575 ,\n",
              "               -25.746677  ,   7.131938  ,   7.5527706 ,  -0.6373524 ,\n",
              "                -8.37914   , -26.284988  ,  14.522946  ,  18.273716  ,\n",
              "                 9.617314  ,  -2.2130806 ,   5.5833325 ,   8.160699  ,\n",
              "               -34.170578  ,   0.23003936,  -3.7158449 ,  21.618841  ,\n",
              "               -22.425398  ,  10.660686  ,  -5.1304407 ,  -0.7965093 ,\n",
              "                19.975058  ,  13.724132  ,   0.07115865,   8.632454  ,\n",
              "                17.794064  ,   5.3781705 , -16.317484  ,  -7.0037384 ,\n",
              "                11.347291  ,  -2.812044  , -13.320527  ,   0.9070044 ,\n",
              "                -1.5979218 ,   6.9475718 ,  -4.490773  ,  23.17415   ,\n",
              "                 0.741547  , -10.676196  ,  31.61321   ,  -1.5359241 ,\n",
              "               -27.085638  , -25.216255  ,   0.54579467, -23.66005   ,\n",
              "                11.175483  ,  11.141882  ,  -5.0971427 ,  -8.547547  ],\n",
              "              dtype=float32)                                           ],\n",
              "       [array([[73.51669472, 10.13311924, 38.99557357, ...,  0.        ,\n",
              "                 0.        ,  0.        ],\n",
              "               [10.13311924, 73.51669472,  8.48464927, ...,  0.        ,\n",
              "                 0.        ,  0.        ],\n",
              "               [38.99557357,  8.48464927, 36.8581052 , ...,  0.        ,\n",
              "                 0.        ,  0.        ],\n",
              "               ...,\n",
              "               [ 0.        ,  0.        ,  0.        , ...,  0.        ,\n",
              "                 0.        ,  0.        ],\n",
              "               [ 0.        ,  0.        ,  0.        , ...,  0.        ,\n",
              "                 0.        ,  0.        ],\n",
              "               [ 0.        ,  0.        ,  0.        , ...,  0.        ,\n",
              "                 0.        ,  0.        ]])                             ,\n",
              "        26.3, 226.099379688, ..., 2, 31,\n",
              "        array([ -7.000473  ,   6.824855  ,  -9.730002  ,  -0.3232506 ,\n",
              "                -4.6362576 ,  -7.6530504 ,   7.8564444 ,  -3.9122372 ,\n",
              "               -10.608148  , -22.338396  ,  18.563507  , -27.631956  ,\n",
              "                 9.518172  , -16.205145  ,  -7.4717293 ,  12.187395  ,\n",
              "                -5.861524  ,  13.455768  ,  -2.011592  , -13.364923  ,\n",
              "               -23.352898  ,  14.031355  ,  -5.6523824 , -10.721529  ,\n",
              "                10.762695  ,  15.972124  ,  10.603884  ,  -1.4611338 ,\n",
              "                18.400852  ,  -0.83618754,  10.276555  ,  -1.6862392 ,\n",
              "                18.462677  ,  13.093175  ,  -5.9400926 ,  -7.2239676 ,\n",
              "                 0.719901  ,   4.395225  , -10.825142  ,  16.569836  ,\n",
              "                 2.2501302 , -24.412403  ,  20.702925  ,   1.0968906 ,\n",
              "                -8.629703  , -22.21817   , -13.828524  ,  25.270267  ,\n",
              "                20.14576   ,  22.40531   ,  -8.732398  ,  -2.3029656 ,\n",
              "               -22.969296  ,   6.8946757 ,   9.774677  ,   1.2816615 ,\n",
              "                -6.8346334 , -24.510887  ,  11.374816  ,  15.987578  ,\n",
              "                 9.96175   ,  -4.931447  ,   6.575025  ,   7.8469214 ,\n",
              "               -26.839304  ,  -1.4049144 ,  -4.4374228 ,  19.148104  ,\n",
              "               -19.917809  ,  13.944625  ,  -3.9760308 ,  -1.966113  ,\n",
              "                15.655776  ,  13.820077  ,  -2.6929708 ,   5.413718  ,\n",
              "                15.687421  ,   4.194272  , -14.413791  ,  -8.900699  ,\n",
              "                12.000488  ,  -2.627686  ,  -6.6196127 ,   1.1845284 ,\n",
              "                -3.4016972 ,   8.435342  ,  -1.42353   ,  24.174263  ,\n",
              "                -0.3435673 ,  -6.577804  ,  26.47667   ,   0.94188666,\n",
              "               -23.790354  , -22.130209  ,  -0.329031  , -23.482573  ,\n",
              "                11.172359  ,  11.813764  ,  -4.736206  ,  -7.0632095 ],\n",
              "              dtype=float32)                                           ]],\n",
              "      dtype=object)"
            ]
          },
          "metadata": {},
          "execution_count": 73
        }
      ]
    }
  ]
}