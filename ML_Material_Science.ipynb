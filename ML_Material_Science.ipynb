{
  "nbformat": 4,
  "nbformat_minor": 0,
  "metadata": {
    "colab": {
      "provenance": [],
      "collapsed_sections": [],
      "machine_shape": "hm",
      "mount_file_id": "1unQDm2tYnnxj3WJ8AyRLNjPHsO5pIciN",
      "authorship_tag": "ABX9TyMGM8ZqleKqEIY+4k/zhQWd",
      "include_colab_link": true
    },
    "kernelspec": {
      "name": "python3",
      "display_name": "Python 3"
    },
    "language_info": {
      "name": "python"
    },
    "gpuClass": "standard"
  },
  "cells": [
    {
      "cell_type": "markdown",
      "metadata": {
        "id": "view-in-github",
        "colab_type": "text"
      },
      "source": [
        "<a href=\"https://colab.research.google.com/github/danicardonaibz/molecular_equilibrium/blob/main/ML_Material_Science.ipynb\" target=\"_parent\"><img src=\"https://colab.research.google.com/assets/colab-badge.svg\" alt=\"Open In Colab\"/></a>"
      ]
    },
    {
      "cell_type": "markdown",
      "source": [
        "# Project in machine Learning for Materials Science"
      ],
      "metadata": {
        "id": "JMpfCNoter9S"
      }
    },
    {
      "cell_type": "markdown",
      "source": [
        "https://github.com/tonyreina/chemistry/blob/main/chemistry_predict_logP_tensorflow.ipynb"
      ],
      "metadata": {
        "id": "Xxq6Ek4qdCWW"
      }
    },
    {
      "cell_type": "code",
      "source": [
        "# First we will install some dependencies\n",
        "\n",
        "%pip install --upgrade py3Dmol\n",
        "%pip install --upgrade ase\n",
        "%pip install --upgrade pubchempy\n",
        "%pip install --upgrade dscribe\n",
        "%pip install git+https://github.com/samoturk/mol2vec\n",
        "%pip install --upgrade rdkit"
      ],
      "metadata": {
        "colab": {
          "base_uri": "https://localhost:8080/"
        },
        "id": "8D90uWoMn1f0",
        "outputId": "3b8bd5a5-936f-47fd-d82b-c25d3eb3d7b4"
      },
      "execution_count": null,
      "outputs": [
        {
          "output_type": "stream",
          "name": "stdout",
          "text": [
            "Looking in indexes: https://pypi.org/simple, https://us-python.pkg.dev/colab-wheels/public/simple/\n",
            "Collecting py3Dmol\n",
            "  Downloading py3Dmol-1.8.1-py2.py3-none-any.whl (6.5 kB)\n",
            "Installing collected packages: py3Dmol\n",
            "Successfully installed py3Dmol-1.8.1\n",
            "Looking in indexes: https://pypi.org/simple, https://us-python.pkg.dev/colab-wheels/public/simple/\n",
            "Collecting ase\n",
            "  Downloading ase-3.22.1-py3-none-any.whl (2.2 MB)\n",
            "\u001b[K     |████████████████████████████████| 2.2 MB 5.4 MB/s \n",
            "\u001b[?25hRequirement already satisfied: scipy>=1.1.0 in /usr/local/lib/python3.7/dist-packages (from ase) (1.7.3)\n",
            "Requirement already satisfied: numpy>=1.15.0 in /usr/local/lib/python3.7/dist-packages (from ase) (1.21.6)\n",
            "Requirement already satisfied: matplotlib>=3.1.0 in /usr/local/lib/python3.7/dist-packages (from ase) (3.2.2)\n",
            "Requirement already satisfied: pyparsing!=2.0.4,!=2.1.2,!=2.1.6,>=2.0.1 in /usr/local/lib/python3.7/dist-packages (from matplotlib>=3.1.0->ase) (3.0.9)\n",
            "Requirement already satisfied: python-dateutil>=2.1 in /usr/local/lib/python3.7/dist-packages (from matplotlib>=3.1.0->ase) (2.8.2)\n",
            "Requirement already satisfied: cycler>=0.10 in /usr/local/lib/python3.7/dist-packages (from matplotlib>=3.1.0->ase) (0.11.0)\n",
            "Requirement already satisfied: kiwisolver>=1.0.1 in /usr/local/lib/python3.7/dist-packages (from matplotlib>=3.1.0->ase) (1.4.4)\n",
            "Requirement already satisfied: typing-extensions in /usr/local/lib/python3.7/dist-packages (from kiwisolver>=1.0.1->matplotlib>=3.1.0->ase) (4.1.1)\n",
            "Requirement already satisfied: six>=1.5 in /usr/local/lib/python3.7/dist-packages (from python-dateutil>=2.1->matplotlib>=3.1.0->ase) (1.15.0)\n",
            "Installing collected packages: ase\n",
            "Successfully installed ase-3.22.1\n",
            "Looking in indexes: https://pypi.org/simple, https://us-python.pkg.dev/colab-wheels/public/simple/\n",
            "Collecting pubchempy\n",
            "  Downloading PubChemPy-1.0.4.tar.gz (29 kB)\n",
            "Building wheels for collected packages: pubchempy\n",
            "  Building wheel for pubchempy (setup.py) ... \u001b[?25l\u001b[?25hdone\n",
            "  Created wheel for pubchempy: filename=PubChemPy-1.0.4-py3-none-any.whl size=13835 sha256=101e932a11cdbceac872efe4dee68b32b82a6a5a2a60be2ecde559a66a076062\n",
            "  Stored in directory: /root/.cache/pip/wheels/7c/3d/8c/8192697412e9899dc55bbbb08bbc1197bef333caaa2a71c448\n",
            "Successfully built pubchempy\n",
            "Installing collected packages: pubchempy\n",
            "Successfully installed pubchempy-1.0.4\n",
            "Looking in indexes: https://pypi.org/simple, https://us-python.pkg.dev/colab-wheels/public/simple/\n",
            "Collecting dscribe\n",
            "  Downloading dscribe-1.2.2.tar.gz (1.2 MB)\n",
            "\u001b[K     |████████████████████████████████| 1.2 MB 5.2 MB/s \n",
            "\u001b[?25hCollecting pybind11>=2.4\n",
            "  Using cached pybind11-2.10.1-py3-none-any.whl (216 kB)\n",
            "Requirement already satisfied: numpy in /usr/local/lib/python3.7/dist-packages (from dscribe) (1.21.6)\n",
            "Requirement already satisfied: scipy in /usr/local/lib/python3.7/dist-packages (from dscribe) (1.7.3)\n",
            "Requirement already satisfied: ase>=3.19.0 in /usr/local/lib/python3.7/dist-packages (from dscribe) (3.22.1)\n",
            "Requirement already satisfied: scikit-learn in /usr/local/lib/python3.7/dist-packages (from dscribe) (1.0.2)\n",
            "Requirement already satisfied: joblib>=1.0.0 in /usr/local/lib/python3.7/dist-packages (from dscribe) (1.2.0)\n",
            "Collecting sparse\n",
            "  Downloading sparse-0.13.0-py2.py3-none-any.whl (77 kB)\n",
            "\u001b[K     |████████████████████████████████| 77 kB 3.5 MB/s \n",
            "\u001b[?25hRequirement already satisfied: matplotlib>=3.1.0 in /usr/local/lib/python3.7/dist-packages (from ase>=3.19.0->dscribe) (3.2.2)\n",
            "Requirement already satisfied: kiwisolver>=1.0.1 in /usr/local/lib/python3.7/dist-packages (from matplotlib>=3.1.0->ase>=3.19.0->dscribe) (1.4.4)\n",
            "Requirement already satisfied: pyparsing!=2.0.4,!=2.1.2,!=2.1.6,>=2.0.1 in /usr/local/lib/python3.7/dist-packages (from matplotlib>=3.1.0->ase>=3.19.0->dscribe) (3.0.9)\n",
            "Requirement already satisfied: cycler>=0.10 in /usr/local/lib/python3.7/dist-packages (from matplotlib>=3.1.0->ase>=3.19.0->dscribe) (0.11.0)\n",
            "Requirement already satisfied: python-dateutil>=2.1 in /usr/local/lib/python3.7/dist-packages (from matplotlib>=3.1.0->ase>=3.19.0->dscribe) (2.8.2)\n",
            "Requirement already satisfied: typing-extensions in /usr/local/lib/python3.7/dist-packages (from kiwisolver>=1.0.1->matplotlib>=3.1.0->ase>=3.19.0->dscribe) (4.1.1)\n",
            "Requirement already satisfied: six>=1.5 in /usr/local/lib/python3.7/dist-packages (from python-dateutil>=2.1->matplotlib>=3.1.0->ase>=3.19.0->dscribe) (1.15.0)\n",
            "Requirement already satisfied: threadpoolctl>=2.0.0 in /usr/local/lib/python3.7/dist-packages (from scikit-learn->dscribe) (3.1.0)\n",
            "Requirement already satisfied: numba>=0.49 in /usr/local/lib/python3.7/dist-packages (from sparse->dscribe) (0.56.4)\n",
            "Requirement already satisfied: importlib-metadata in /usr/local/lib/python3.7/dist-packages (from numba>=0.49->sparse->dscribe) (4.13.0)\n",
            "Requirement already satisfied: llvmlite<0.40,>=0.39.0dev0 in /usr/local/lib/python3.7/dist-packages (from numba>=0.49->sparse->dscribe) (0.39.1)\n",
            "Requirement already satisfied: setuptools in /usr/local/lib/python3.7/dist-packages (from numba>=0.49->sparse->dscribe) (57.4.0)\n",
            "Requirement already satisfied: zipp>=0.5 in /usr/local/lib/python3.7/dist-packages (from importlib-metadata->numba>=0.49->sparse->dscribe) (3.10.0)\n",
            "Building wheels for collected packages: dscribe\n",
            "  Building wheel for dscribe (setup.py) ... \u001b[?25l\u001b[?25hdone\n",
            "  Created wheel for dscribe: filename=dscribe-1.2.2-cp37-cp37m-linux_x86_64.whl size=7782031 sha256=22657239d822a1c95c310568305f4fdd3b2e5a22e52c46507c282cf67903d0f2\n",
            "  Stored in directory: /root/.cache/pip/wheels/2f/ce/37/e93c46365db15ba05911bc77b8032eff0a1f72878915696f56\n",
            "Successfully built dscribe\n",
            "Installing collected packages: sparse, pybind11, dscribe\n",
            "Successfully installed dscribe-1.2.2 pybind11-2.10.1 sparse-0.13.0\n",
            "Looking in indexes: https://pypi.org/simple, https://us-python.pkg.dev/colab-wheels/public/simple/\n",
            "Collecting git+https://github.com/samoturk/mol2vec\n",
            "  Cloning https://github.com/samoturk/mol2vec to /tmp/pip-req-build-pllunnwz\n",
            "  Running command git clone -q https://github.com/samoturk/mol2vec /tmp/pip-req-build-pllunnwz\n",
            "Requirement already satisfied: numpy in /usr/local/lib/python3.7/dist-packages (from mol2vec==0.1) (1.21.6)\n",
            "Requirement already satisfied: gensim in /usr/local/lib/python3.7/dist-packages (from mol2vec==0.1) (3.6.0)\n",
            "Requirement already satisfied: tqdm in /usr/local/lib/python3.7/dist-packages (from mol2vec==0.1) (4.64.1)\n",
            "Requirement already satisfied: joblib in /usr/local/lib/python3.7/dist-packages (from mol2vec==0.1) (1.2.0)\n",
            "Requirement already satisfied: pandas in /usr/local/lib/python3.7/dist-packages (from mol2vec==0.1) (1.3.5)\n",
            "Requirement already satisfied: matplotlib in /usr/local/lib/python3.7/dist-packages (from mol2vec==0.1) (3.2.2)\n",
            "Requirement already satisfied: IPython in /usr/local/lib/python3.7/dist-packages (from mol2vec==0.1) (7.9.0)\n",
            "Requirement already satisfied: seaborn in /usr/local/lib/python3.7/dist-packages (from mol2vec==0.1) (0.11.2)\n",
            "Requirement already satisfied: scipy>=0.18.1 in /usr/local/lib/python3.7/dist-packages (from gensim->mol2vec==0.1) (1.7.3)\n",
            "Requirement already satisfied: six>=1.5.0 in /usr/local/lib/python3.7/dist-packages (from gensim->mol2vec==0.1) (1.15.0)\n",
            "Requirement already satisfied: smart-open>=1.2.1 in /usr/local/lib/python3.7/dist-packages (from gensim->mol2vec==0.1) (5.2.1)\n",
            "Requirement already satisfied: pickleshare in /usr/local/lib/python3.7/dist-packages (from IPython->mol2vec==0.1) (0.7.5)\n",
            "Requirement already satisfied: pygments in /usr/local/lib/python3.7/dist-packages (from IPython->mol2vec==0.1) (2.6.1)\n",
            "Requirement already satisfied: setuptools>=18.5 in /usr/local/lib/python3.7/dist-packages (from IPython->mol2vec==0.1) (57.4.0)\n",
            "Requirement already satisfied: decorator in /usr/local/lib/python3.7/dist-packages (from IPython->mol2vec==0.1) (4.4.2)\n",
            "Requirement already satisfied: prompt-toolkit<2.1.0,>=2.0.0 in /usr/local/lib/python3.7/dist-packages (from IPython->mol2vec==0.1) (2.0.10)\n",
            "Collecting jedi>=0.10\n",
            "  Downloading jedi-0.18.1-py2.py3-none-any.whl (1.6 MB)\n",
            "\u001b[K     |████████████████████████████████| 1.6 MB 5.2 MB/s \n",
            "\u001b[?25hRequirement already satisfied: pexpect in /usr/local/lib/python3.7/dist-packages (from IPython->mol2vec==0.1) (4.8.0)\n",
            "Requirement already satisfied: backcall in /usr/local/lib/python3.7/dist-packages (from IPython->mol2vec==0.1) (0.2.0)\n",
            "Requirement already satisfied: traitlets>=4.2 in /usr/local/lib/python3.7/dist-packages (from IPython->mol2vec==0.1) (5.1.1)\n",
            "Requirement already satisfied: parso<0.9.0,>=0.8.0 in /usr/local/lib/python3.7/dist-packages (from jedi>=0.10->IPython->mol2vec==0.1) (0.8.3)\n",
            "Requirement already satisfied: wcwidth in /usr/local/lib/python3.7/dist-packages (from prompt-toolkit<2.1.0,>=2.0.0->IPython->mol2vec==0.1) (0.2.5)\n",
            "Requirement already satisfied: kiwisolver>=1.0.1 in /usr/local/lib/python3.7/dist-packages (from matplotlib->mol2vec==0.1) (1.4.4)\n",
            "Requirement already satisfied: cycler>=0.10 in /usr/local/lib/python3.7/dist-packages (from matplotlib->mol2vec==0.1) (0.11.0)\n",
            "Requirement already satisfied: pyparsing!=2.0.4,!=2.1.2,!=2.1.6,>=2.0.1 in /usr/local/lib/python3.7/dist-packages (from matplotlib->mol2vec==0.1) (3.0.9)\n",
            "Requirement already satisfied: python-dateutil>=2.1 in /usr/local/lib/python3.7/dist-packages (from matplotlib->mol2vec==0.1) (2.8.2)\n",
            "Requirement already satisfied: typing-extensions in /usr/local/lib/python3.7/dist-packages (from kiwisolver>=1.0.1->matplotlib->mol2vec==0.1) (4.1.1)\n",
            "Requirement already satisfied: pytz>=2017.3 in /usr/local/lib/python3.7/dist-packages (from pandas->mol2vec==0.1) (2022.6)\n",
            "Requirement already satisfied: ptyprocess>=0.5 in /usr/local/lib/python3.7/dist-packages (from pexpect->IPython->mol2vec==0.1) (0.7.0)\n",
            "Building wheels for collected packages: mol2vec\n",
            "  Building wheel for mol2vec (setup.py) ... \u001b[?25l\u001b[?25hdone\n",
            "  Created wheel for mol2vec: filename=mol2vec-0.1-py3-none-any.whl size=14038 sha256=67ee6cd4a18d4f554deb00d9c067060f30a7cd3f4ddfa7ce4b31366fb2fdd2d7\n",
            "  Stored in directory: /tmp/pip-ephem-wheel-cache-3yjvarw5/wheels/80/d5/e1/90dc211e4a17780f99eaec43328470a70284cd731ef2a77034\n",
            "Successfully built mol2vec\n",
            "Installing collected packages: jedi, mol2vec\n",
            "Successfully installed jedi-0.18.1 mol2vec-0.1\n",
            "Looking in indexes: https://pypi.org/simple, https://us-python.pkg.dev/colab-wheels/public/simple/\n",
            "Collecting rdkit\n",
            "  Downloading rdkit-2022.9.1-cp37-cp37m-manylinux_2_17_x86_64.manylinux2014_x86_64.whl (29.5 MB)\n",
            "\u001b[K     |████████████████████████████████| 29.5 MB 1.2 MB/s \n",
            "\u001b[?25hRequirement already satisfied: numpy in /usr/local/lib/python3.7/dist-packages (from rdkit) (1.21.6)\n",
            "Requirement already satisfied: Pillow in /usr/local/lib/python3.7/dist-packages (from rdkit) (7.1.2)\n",
            "Installing collected packages: rdkit\n",
            "Successfully installed rdkit-2022.9.1\n"
          ]
        }
      ]
    },
    {
      "cell_type": "code",
      "execution_count": null,
      "metadata": {
        "id": "1kJGF0dSXX1w"
      },
      "outputs": [],
      "source": [
        "import pandas as pd\n",
        "import numpy as np\n",
        "import re\n",
        "from google.colab import drive\n",
        "from itertools import zip_longest\n",
        "from collections import defaultdict\n",
        "\n",
        "import json\n",
        "from matplotlib import pyplot as plt\n",
        "import seaborn as sns\n",
        "from rdkit import Chem\n",
        "\n",
        "import ase\n",
        "from ase import Atoms\n",
        "from dscribe.descriptors import MBTR, CoulombMatrix\n",
        "from rdkit.Chem import Descriptors\n",
        "\n",
        "from rdkit.Chem import Draw\n",
        "from rdkit.Chem.Draw import rdMolDraw2D\n",
        "\n",
        "import random\n",
        "\n",
        "import tensorflow as tf"
      ]
    },
    {
      "cell_type": "markdown",
      "source": [
        "## Step 1: Loading our data"
      ],
      "metadata": {
        "id": "baohp59He39L"
      }
    },
    {
      "cell_type": "code",
      "source": [
        "#drive.mount('/content/drive')"
      ],
      "metadata": {
        "id": "hEMCC_dnVFzX"
      },
      "execution_count": null,
      "outputs": []
    },
    {
      "cell_type": "code",
      "source": [
        "df = pd.read_json(\"/content/drive/MyDrive/m1507656/df_62k.json\", orient='split')"
      ],
      "metadata": {
        "id": "be_GNDhoXkH3"
      },
      "execution_count": null,
      "outputs": []
    },
    {
      "cell_type": "code",
      "source": [
        "df.head(4)"
      ],
      "metadata": {
        "colab": {
          "base_uri": "https://localhost:8080/",
          "height": 476
        },
        "id": "cBv5o-ygYQl-",
        "outputId": "3339f4d9-25b6-4472-e50d-ec47feaae6e8"
      },
      "execution_count": null,
      "outputs": [
        {
          "output_type": "execute_result",
          "data": {
            "text/plain": [
              "  refcode_csd                                   canonical_smiles  \\\n",
              "0      ABAFEQ  Cc1ccc(cc1)S(=O)(=O)N[C@H](c1nnc(o1)SCc1ccc(cc...   \n",
              "1      ABEDOC  N#CC(=C(c1ccccc1)c1ccccc1)[C@H](c1ccccc1)NS(=O...   \n",
              "2      LODZOT                     n1ccc(cc1)c1nnc(o1)c1cccs1\\t\\n   \n",
              "3      LUSREW                CC/C=C(/S(=O)(=O)c1ccc(cc1)C)\\F\\t\\n   \n",
              "\n",
              "                                               inchi  number_of_atoms  \\\n",
              "0  InChI=1S/C18H18ClN3O3S2/c1-12-3-9-16(10-4-12)2...               45   \n",
              "1  InChI=1S/C28H22N2O2S/c29-21-26(27(22-13-5-1-6-...               55   \n",
              "2  InChI=1S/C11H7N3OS/c1-2-9(16-7-1)11-14-13-10(1...               23   \n",
              "3  InChI=1S/C11H13FO2S/c1-3-4-11(12)15(13,14)10-7...               28   \n",
              "\n",
              "                                     xyz_pbe_relaxed  \\\n",
              "0  45\\n\\nO      39.55724515      33.75271314     ...   \n",
              "1  55\\n\\nC       8.74281024      13.44863575     ...   \n",
              "2  23\\n\\nN      23.84904338      42.50577669     ...   \n",
              "3  28\\n\\nC      36.52340453      39.64067030     ...   \n",
              "\n",
              "                                    energies_occ_pbe  \\\n",
              "0  [-2759.71553, -2416.30896, -2412.55736, -513.9...   \n",
              "1  [-2416.32097, -510.97599, -510.93427, -382.106...   \n",
              "2  [-2412.75371, -513.88451, -382.11294, -382.041...   \n",
              "3  [-2416.01387, -662.1882, -510.96036, -510.9032...   \n",
              "\n",
              "                         energies_occ_pbe0_vac_tier2  \\\n",
              "0  [-2788.05127, -2443.36662, -2439.20276, -526.4...   \n",
              "1  [-2443.36734, -523.36541, -523.31866, -392.998...   \n",
              "2  [-2439.38001, -526.39732, -393.09445, -393.002...   \n",
              "3  [-2443.06569, -676.06906, -523.38098, -523.310...   \n",
              "\n",
              "                             energies_occ_pbe0_water  \\\n",
              "0                                               None   \n",
              "1                                               None   \n",
              "2                                               None   \n",
              "3  [-2443.54535, -676.3259, -523.94531, -523.9294...   \n",
              "\n",
              "  energies_occ_pbe0_vac_tzvp energies_occ_pbe0_vac_qzvp  ...  \\\n",
              "0                       None                       None  ...   \n",
              "1                       None                       None  ...   \n",
              "2                       None                       None  ...   \n",
              "3                       None                       None  ...   \n",
              "\n",
              "  energies_unocc_gw_qzvp cbs_unocc_gw total_energy_pbe  \\\n",
              "0                   None         None    -63908.261677   \n",
              "1                   None         None    -47344.131203   \n",
              "2                   None         None    -28915.979909   \n",
              "3                   None         None    -29310.525400   \n",
              "\n",
              "  total_energy_pbe0_vac_tier2 total_energy_pbe0_water  \\\n",
              "0               -63911.485930                     NaN   \n",
              "1               -47346.537633                     NaN   \n",
              "2               -28916.826630                     NaN   \n",
              "3               -29311.929019           -29312.152528   \n",
              "\n",
              "  total_energy_pbe0_vac_tzvp total_energy_pbe0_vac_qzvp  \\\n",
              "0                        NaN                        NaN   \n",
              "1                        NaN                        NaN   \n",
              "2                        NaN                        NaN   \n",
              "3                        NaN                        NaN   \n",
              "\n",
              "                                       hirshfeld_pbe  \\\n",
              "0  [-0.27470711000000003, 0.44228032, -0.26425776...   \n",
              "1  [-0.04383635, 0.0489517, -0.04317942, 0.049465...   \n",
              "2  [-0.15366001, 0.01755584, 0.05299325, -0.04774...   \n",
              "3  [-0.10553088000000001, 0.052016810000000004, 0...   \n",
              "\n",
              "                            hirshfeld_pbe0_vac_tier2  \\\n",
              "0  [-0.29802765000000003, 0.47691104, -0.28757556...   \n",
              "1  [-0.04511281, 0.05043578, -0.04467607, 0.05086...   \n",
              "2  [-0.16233532, 0.02121239, 0.05594731, -0.06621...   \n",
              "3  [-0.10641357, 0.053639570000000004, 0.05095191...   \n",
              "\n",
              "                                hirshfeld_pbe0_water  \n",
              "0                                               None  \n",
              "1                                               None  \n",
              "2                                               None  \n",
              "3  [-0.10396546, 0.06349725, 0.0567905, 0.0529875...  \n",
              "\n",
              "[4 rows x 29 columns]"
            ],
            "text/html": [
              "\n",
              "  <div id=\"df-f02371ee-6d0b-4268-af92-97025c060f14\">\n",
              "    <div class=\"colab-df-container\">\n",
              "      <div>\n",
              "<style scoped>\n",
              "    .dataframe tbody tr th:only-of-type {\n",
              "        vertical-align: middle;\n",
              "    }\n",
              "\n",
              "    .dataframe tbody tr th {\n",
              "        vertical-align: top;\n",
              "    }\n",
              "\n",
              "    .dataframe thead th {\n",
              "        text-align: right;\n",
              "    }\n",
              "</style>\n",
              "<table border=\"1\" class=\"dataframe\">\n",
              "  <thead>\n",
              "    <tr style=\"text-align: right;\">\n",
              "      <th></th>\n",
              "      <th>refcode_csd</th>\n",
              "      <th>canonical_smiles</th>\n",
              "      <th>inchi</th>\n",
              "      <th>number_of_atoms</th>\n",
              "      <th>xyz_pbe_relaxed</th>\n",
              "      <th>energies_occ_pbe</th>\n",
              "      <th>energies_occ_pbe0_vac_tier2</th>\n",
              "      <th>energies_occ_pbe0_water</th>\n",
              "      <th>energies_occ_pbe0_vac_tzvp</th>\n",
              "      <th>energies_occ_pbe0_vac_qzvp</th>\n",
              "      <th>...</th>\n",
              "      <th>energies_unocc_gw_qzvp</th>\n",
              "      <th>cbs_unocc_gw</th>\n",
              "      <th>total_energy_pbe</th>\n",
              "      <th>total_energy_pbe0_vac_tier2</th>\n",
              "      <th>total_energy_pbe0_water</th>\n",
              "      <th>total_energy_pbe0_vac_tzvp</th>\n",
              "      <th>total_energy_pbe0_vac_qzvp</th>\n",
              "      <th>hirshfeld_pbe</th>\n",
              "      <th>hirshfeld_pbe0_vac_tier2</th>\n",
              "      <th>hirshfeld_pbe0_water</th>\n",
              "    </tr>\n",
              "  </thead>\n",
              "  <tbody>\n",
              "    <tr>\n",
              "      <th>0</th>\n",
              "      <td>ABAFEQ</td>\n",
              "      <td>Cc1ccc(cc1)S(=O)(=O)N[C@H](c1nnc(o1)SCc1ccc(cc...</td>\n",
              "      <td>InChI=1S/C18H18ClN3O3S2/c1-12-3-9-16(10-4-12)2...</td>\n",
              "      <td>45</td>\n",
              "      <td>45\\n\\nO      39.55724515      33.75271314     ...</td>\n",
              "      <td>[-2759.71553, -2416.30896, -2412.55736, -513.9...</td>\n",
              "      <td>[-2788.05127, -2443.36662, -2439.20276, -526.4...</td>\n",
              "      <td>None</td>\n",
              "      <td>None</td>\n",
              "      <td>None</td>\n",
              "      <td>...</td>\n",
              "      <td>None</td>\n",
              "      <td>None</td>\n",
              "      <td>-63908.261677</td>\n",
              "      <td>-63911.485930</td>\n",
              "      <td>NaN</td>\n",
              "      <td>NaN</td>\n",
              "      <td>NaN</td>\n",
              "      <td>[-0.27470711000000003, 0.44228032, -0.26425776...</td>\n",
              "      <td>[-0.29802765000000003, 0.47691104, -0.28757556...</td>\n",
              "      <td>None</td>\n",
              "    </tr>\n",
              "    <tr>\n",
              "      <th>1</th>\n",
              "      <td>ABEDOC</td>\n",
              "      <td>N#CC(=C(c1ccccc1)c1ccccc1)[C@H](c1ccccc1)NS(=O...</td>\n",
              "      <td>InChI=1S/C28H22N2O2S/c29-21-26(27(22-13-5-1-6-...</td>\n",
              "      <td>55</td>\n",
              "      <td>55\\n\\nC       8.74281024      13.44863575     ...</td>\n",
              "      <td>[-2416.32097, -510.97599, -510.93427, -382.106...</td>\n",
              "      <td>[-2443.36734, -523.36541, -523.31866, -392.998...</td>\n",
              "      <td>None</td>\n",
              "      <td>None</td>\n",
              "      <td>None</td>\n",
              "      <td>...</td>\n",
              "      <td>None</td>\n",
              "      <td>None</td>\n",
              "      <td>-47344.131203</td>\n",
              "      <td>-47346.537633</td>\n",
              "      <td>NaN</td>\n",
              "      <td>NaN</td>\n",
              "      <td>NaN</td>\n",
              "      <td>[-0.04383635, 0.0489517, -0.04317942, 0.049465...</td>\n",
              "      <td>[-0.04511281, 0.05043578, -0.04467607, 0.05086...</td>\n",
              "      <td>None</td>\n",
              "    </tr>\n",
              "    <tr>\n",
              "      <th>2</th>\n",
              "      <td>LODZOT</td>\n",
              "      <td>n1ccc(cc1)c1nnc(o1)c1cccs1\\t\\n</td>\n",
              "      <td>InChI=1S/C11H7N3OS/c1-2-9(16-7-1)11-14-13-10(1...</td>\n",
              "      <td>23</td>\n",
              "      <td>23\\n\\nN      23.84904338      42.50577669     ...</td>\n",
              "      <td>[-2412.75371, -513.88451, -382.11294, -382.041...</td>\n",
              "      <td>[-2439.38001, -526.39732, -393.09445, -393.002...</td>\n",
              "      <td>None</td>\n",
              "      <td>None</td>\n",
              "      <td>None</td>\n",
              "      <td>...</td>\n",
              "      <td>None</td>\n",
              "      <td>None</td>\n",
              "      <td>-28915.979909</td>\n",
              "      <td>-28916.826630</td>\n",
              "      <td>NaN</td>\n",
              "      <td>NaN</td>\n",
              "      <td>NaN</td>\n",
              "      <td>[-0.15366001, 0.01755584, 0.05299325, -0.04774...</td>\n",
              "      <td>[-0.16233532, 0.02121239, 0.05594731, -0.06621...</td>\n",
              "      <td>None</td>\n",
              "    </tr>\n",
              "    <tr>\n",
              "      <th>3</th>\n",
              "      <td>LUSREW</td>\n",
              "      <td>CC/C=C(/S(=O)(=O)c1ccc(cc1)C)\\F\\t\\n</td>\n",
              "      <td>InChI=1S/C11H13FO2S/c1-3-4-11(12)15(13,14)10-7...</td>\n",
              "      <td>28</td>\n",
              "      <td>28\\n\\nC      36.52340453      39.64067030     ...</td>\n",
              "      <td>[-2416.01387, -662.1882, -510.96036, -510.9032...</td>\n",
              "      <td>[-2443.06569, -676.06906, -523.38098, -523.310...</td>\n",
              "      <td>[-2443.54535, -676.3259, -523.94531, -523.9294...</td>\n",
              "      <td>None</td>\n",
              "      <td>None</td>\n",
              "      <td>...</td>\n",
              "      <td>None</td>\n",
              "      <td>None</td>\n",
              "      <td>-29310.525400</td>\n",
              "      <td>-29311.929019</td>\n",
              "      <td>-29312.152528</td>\n",
              "      <td>NaN</td>\n",
              "      <td>NaN</td>\n",
              "      <td>[-0.10553088000000001, 0.052016810000000004, 0...</td>\n",
              "      <td>[-0.10641357, 0.053639570000000004, 0.05095191...</td>\n",
              "      <td>[-0.10396546, 0.06349725, 0.0567905, 0.0529875...</td>\n",
              "    </tr>\n",
              "  </tbody>\n",
              "</table>\n",
              "<p>4 rows × 29 columns</p>\n",
              "</div>\n",
              "      <button class=\"colab-df-convert\" onclick=\"convertToInteractive('df-f02371ee-6d0b-4268-af92-97025c060f14')\"\n",
              "              title=\"Convert this dataframe to an interactive table.\"\n",
              "              style=\"display:none;\">\n",
              "        \n",
              "  <svg xmlns=\"http://www.w3.org/2000/svg\" height=\"24px\"viewBox=\"0 0 24 24\"\n",
              "       width=\"24px\">\n",
              "    <path d=\"M0 0h24v24H0V0z\" fill=\"none\"/>\n",
              "    <path d=\"M18.56 5.44l.94 2.06.94-2.06 2.06-.94-2.06-.94-.94-2.06-.94 2.06-2.06.94zm-11 1L8.5 8.5l.94-2.06 2.06-.94-2.06-.94L8.5 2.5l-.94 2.06-2.06.94zm10 10l.94 2.06.94-2.06 2.06-.94-2.06-.94-.94-2.06-.94 2.06-2.06.94z\"/><path d=\"M17.41 7.96l-1.37-1.37c-.4-.4-.92-.59-1.43-.59-.52 0-1.04.2-1.43.59L10.3 9.45l-7.72 7.72c-.78.78-.78 2.05 0 2.83L4 21.41c.39.39.9.59 1.41.59.51 0 1.02-.2 1.41-.59l7.78-7.78 2.81-2.81c.8-.78.8-2.07 0-2.86zM5.41 20L4 18.59l7.72-7.72 1.47 1.35L5.41 20z\"/>\n",
              "  </svg>\n",
              "      </button>\n",
              "      \n",
              "  <style>\n",
              "    .colab-df-container {\n",
              "      display:flex;\n",
              "      flex-wrap:wrap;\n",
              "      gap: 12px;\n",
              "    }\n",
              "\n",
              "    .colab-df-convert {\n",
              "      background-color: #E8F0FE;\n",
              "      border: none;\n",
              "      border-radius: 50%;\n",
              "      cursor: pointer;\n",
              "      display: none;\n",
              "      fill: #1967D2;\n",
              "      height: 32px;\n",
              "      padding: 0 0 0 0;\n",
              "      width: 32px;\n",
              "    }\n",
              "\n",
              "    .colab-df-convert:hover {\n",
              "      background-color: #E2EBFA;\n",
              "      box-shadow: 0px 1px 2px rgba(60, 64, 67, 0.3), 0px 1px 3px 1px rgba(60, 64, 67, 0.15);\n",
              "      fill: #174EA6;\n",
              "    }\n",
              "\n",
              "    [theme=dark] .colab-df-convert {\n",
              "      background-color: #3B4455;\n",
              "      fill: #D2E3FC;\n",
              "    }\n",
              "\n",
              "    [theme=dark] .colab-df-convert:hover {\n",
              "      background-color: #434B5C;\n",
              "      box-shadow: 0px 1px 3px 1px rgba(0, 0, 0, 0.15);\n",
              "      filter: drop-shadow(0px 1px 2px rgba(0, 0, 0, 0.3));\n",
              "      fill: #FFFFFF;\n",
              "    }\n",
              "  </style>\n",
              "\n",
              "      <script>\n",
              "        const buttonEl =\n",
              "          document.querySelector('#df-f02371ee-6d0b-4268-af92-97025c060f14 button.colab-df-convert');\n",
              "        buttonEl.style.display =\n",
              "          google.colab.kernel.accessAllowed ? 'block' : 'none';\n",
              "\n",
              "        async function convertToInteractive(key) {\n",
              "          const element = document.querySelector('#df-f02371ee-6d0b-4268-af92-97025c060f14');\n",
              "          const dataTable =\n",
              "            await google.colab.kernel.invokeFunction('convertToInteractive',\n",
              "                                                     [key], {});\n",
              "          if (!dataTable) return;\n",
              "\n",
              "          const docLinkHtml = 'Like what you see? Visit the ' +\n",
              "            '<a target=\"_blank\" href=https://colab.research.google.com/notebooks/data_table.ipynb>data table notebook</a>'\n",
              "            + ' to learn more about interactive tables.';\n",
              "          element.innerHTML = '';\n",
              "          dataTable['output_type'] = 'display_data';\n",
              "          await google.colab.output.renderOutput(dataTable, element);\n",
              "          const docLink = document.createElement('div');\n",
              "          docLink.innerHTML = docLinkHtml;\n",
              "          element.appendChild(docLink);\n",
              "        }\n",
              "      </script>\n",
              "    </div>\n",
              "  </div>\n",
              "  "
            ]
          },
          "metadata": {},
          "execution_count": 5
        }
      ]
    },
    {
      "cell_type": "code",
      "source": [
        "df.reset_index(inplace=True, drop = True)"
      ],
      "metadata": {
        "id": "lCwpEqGdOnSg"
      },
      "execution_count": null,
      "outputs": []
    },
    {
      "cell_type": "code",
      "source": [
        "df.columns.tolist()"
      ],
      "metadata": {
        "colab": {
          "base_uri": "https://localhost:8080/"
        },
        "id": "4OtcgTorVTuC",
        "outputId": "e00765e7-64f2-48dd-adf0-279a40cccc2e"
      },
      "execution_count": null,
      "outputs": [
        {
          "output_type": "execute_result",
          "data": {
            "text/plain": [
              "['refcode_csd',\n",
              " 'canonical_smiles',\n",
              " 'inchi',\n",
              " 'number_of_atoms',\n",
              " 'xyz_pbe_relaxed',\n",
              " 'energies_occ_pbe',\n",
              " 'energies_occ_pbe0_vac_tier2',\n",
              " 'energies_occ_pbe0_water',\n",
              " 'energies_occ_pbe0_vac_tzvp',\n",
              " 'energies_occ_pbe0_vac_qzvp',\n",
              " 'energies_occ_gw_tzvp',\n",
              " 'energies_occ_gw_qzvp',\n",
              " 'cbs_occ_gw',\n",
              " 'energies_unocc_pbe',\n",
              " 'energies_unocc_pbe0_vac_tier2',\n",
              " 'energies_unocc_pbe0_water',\n",
              " 'energies_unocc_pbe0_vac_tzvp',\n",
              " 'energies_unocc_pbe0_vac_qzvp',\n",
              " 'energies_unocc_gw_tzvp',\n",
              " 'energies_unocc_gw_qzvp',\n",
              " 'cbs_unocc_gw',\n",
              " 'total_energy_pbe',\n",
              " 'total_energy_pbe0_vac_tier2',\n",
              " 'total_energy_pbe0_water',\n",
              " 'total_energy_pbe0_vac_tzvp',\n",
              " 'total_energy_pbe0_vac_qzvp',\n",
              " 'hirshfeld_pbe',\n",
              " 'hirshfeld_pbe0_vac_tier2',\n",
              " 'hirshfeld_pbe0_water']"
            ]
          },
          "metadata": {},
          "execution_count": 7
        }
      ]
    },
    {
      "cell_type": "markdown",
      "source": [
        "## Step 2: Preprocessing the data"
      ],
      "metadata": {
        "id": "RFyE8UaxwV36"
      }
    },
    {
      "cell_type": "markdown",
      "source": [
        "### 2.1: Subsetting the dataframe"
      ],
      "metadata": {
        "id": "Y5KcarQ_UZnI"
      }
    },
    {
      "cell_type": "code",
      "source": [
        "relevant_columns = ['refcode_csd', 'canonical_smiles',  'number_of_atoms', 'xyz_pbe_relaxed', 'total_energy_pbe']\n",
        "df_subset = df[relevant_columns]\n",
        "df_subset.head()"
      ],
      "metadata": {
        "colab": {
          "base_uri": "https://localhost:8080/",
          "height": 354
        },
        "id": "wf-hhMwQUfk9",
        "outputId": "dedb26d2-4cc3-43a3-fca5-d1808481d569"
      },
      "execution_count": null,
      "outputs": [
        {
          "output_type": "execute_result",
          "data": {
            "text/plain": [
              "  refcode_csd                                   canonical_smiles  \\\n",
              "0      ABAFEQ  Cc1ccc(cc1)S(=O)(=O)N[C@H](c1nnc(o1)SCc1ccc(cc...   \n",
              "1      ABEDOC  N#CC(=C(c1ccccc1)c1ccccc1)[C@H](c1ccccc1)NS(=O...   \n",
              "2      LODZOT                     n1ccc(cc1)c1nnc(o1)c1cccs1\\t\\n   \n",
              "3      LUSREW                CC/C=C(/S(=O)(=O)c1ccc(cc1)C)\\F\\t\\n   \n",
              "4    NOMBEA01            OC(=O)c1cc(N(=O)=O)c(c(c1)N(=O)=O)C\\t\\n   \n",
              "\n",
              "   number_of_atoms                                    xyz_pbe_relaxed  \\\n",
              "0               45  45\\n\\nO      39.55724515      33.75271314     ...   \n",
              "1               55  55\\n\\nC       8.74281024      13.44863575     ...   \n",
              "2               23  23\\n\\nN      23.84904338      42.50577669     ...   \n",
              "3               28  28\\n\\nC      36.52340453      39.64067030     ...   \n",
              "4               22  22\\n\\nC 3.95256786 17.67855833 24.82877401 \\nN...   \n",
              "\n",
              "   total_energy_pbe  \n",
              "0     -63908.261677  \n",
              "1     -47344.131203  \n",
              "2     -28915.979909  \n",
              "3     -29310.525400  \n",
              "4     -23659.206412  "
            ],
            "text/html": [
              "\n",
              "  <div id=\"df-f5b4e25f-bb4d-4b11-864d-2b130a769a20\">\n",
              "    <div class=\"colab-df-container\">\n",
              "      <div>\n",
              "<style scoped>\n",
              "    .dataframe tbody tr th:only-of-type {\n",
              "        vertical-align: middle;\n",
              "    }\n",
              "\n",
              "    .dataframe tbody tr th {\n",
              "        vertical-align: top;\n",
              "    }\n",
              "\n",
              "    .dataframe thead th {\n",
              "        text-align: right;\n",
              "    }\n",
              "</style>\n",
              "<table border=\"1\" class=\"dataframe\">\n",
              "  <thead>\n",
              "    <tr style=\"text-align: right;\">\n",
              "      <th></th>\n",
              "      <th>refcode_csd</th>\n",
              "      <th>canonical_smiles</th>\n",
              "      <th>number_of_atoms</th>\n",
              "      <th>xyz_pbe_relaxed</th>\n",
              "      <th>total_energy_pbe</th>\n",
              "    </tr>\n",
              "  </thead>\n",
              "  <tbody>\n",
              "    <tr>\n",
              "      <th>0</th>\n",
              "      <td>ABAFEQ</td>\n",
              "      <td>Cc1ccc(cc1)S(=O)(=O)N[C@H](c1nnc(o1)SCc1ccc(cc...</td>\n",
              "      <td>45</td>\n",
              "      <td>45\\n\\nO      39.55724515      33.75271314     ...</td>\n",
              "      <td>-63908.261677</td>\n",
              "    </tr>\n",
              "    <tr>\n",
              "      <th>1</th>\n",
              "      <td>ABEDOC</td>\n",
              "      <td>N#CC(=C(c1ccccc1)c1ccccc1)[C@H](c1ccccc1)NS(=O...</td>\n",
              "      <td>55</td>\n",
              "      <td>55\\n\\nC       8.74281024      13.44863575     ...</td>\n",
              "      <td>-47344.131203</td>\n",
              "    </tr>\n",
              "    <tr>\n",
              "      <th>2</th>\n",
              "      <td>LODZOT</td>\n",
              "      <td>n1ccc(cc1)c1nnc(o1)c1cccs1\\t\\n</td>\n",
              "      <td>23</td>\n",
              "      <td>23\\n\\nN      23.84904338      42.50577669     ...</td>\n",
              "      <td>-28915.979909</td>\n",
              "    </tr>\n",
              "    <tr>\n",
              "      <th>3</th>\n",
              "      <td>LUSREW</td>\n",
              "      <td>CC/C=C(/S(=O)(=O)c1ccc(cc1)C)\\F\\t\\n</td>\n",
              "      <td>28</td>\n",
              "      <td>28\\n\\nC      36.52340453      39.64067030     ...</td>\n",
              "      <td>-29310.525400</td>\n",
              "    </tr>\n",
              "    <tr>\n",
              "      <th>4</th>\n",
              "      <td>NOMBEA01</td>\n",
              "      <td>OC(=O)c1cc(N(=O)=O)c(c(c1)N(=O)=O)C\\t\\n</td>\n",
              "      <td>22</td>\n",
              "      <td>22\\n\\nC 3.95256786 17.67855833 24.82877401 \\nN...</td>\n",
              "      <td>-23659.206412</td>\n",
              "    </tr>\n",
              "  </tbody>\n",
              "</table>\n",
              "</div>\n",
              "      <button class=\"colab-df-convert\" onclick=\"convertToInteractive('df-f5b4e25f-bb4d-4b11-864d-2b130a769a20')\"\n",
              "              title=\"Convert this dataframe to an interactive table.\"\n",
              "              style=\"display:none;\">\n",
              "        \n",
              "  <svg xmlns=\"http://www.w3.org/2000/svg\" height=\"24px\"viewBox=\"0 0 24 24\"\n",
              "       width=\"24px\">\n",
              "    <path d=\"M0 0h24v24H0V0z\" fill=\"none\"/>\n",
              "    <path d=\"M18.56 5.44l.94 2.06.94-2.06 2.06-.94-2.06-.94-.94-2.06-.94 2.06-2.06.94zm-11 1L8.5 8.5l.94-2.06 2.06-.94-2.06-.94L8.5 2.5l-.94 2.06-2.06.94zm10 10l.94 2.06.94-2.06 2.06-.94-2.06-.94-.94-2.06-.94 2.06-2.06.94z\"/><path d=\"M17.41 7.96l-1.37-1.37c-.4-.4-.92-.59-1.43-.59-.52 0-1.04.2-1.43.59L10.3 9.45l-7.72 7.72c-.78.78-.78 2.05 0 2.83L4 21.41c.39.39.9.59 1.41.59.51 0 1.02-.2 1.41-.59l7.78-7.78 2.81-2.81c.8-.78.8-2.07 0-2.86zM5.41 20L4 18.59l7.72-7.72 1.47 1.35L5.41 20z\"/>\n",
              "  </svg>\n",
              "      </button>\n",
              "      \n",
              "  <style>\n",
              "    .colab-df-container {\n",
              "      display:flex;\n",
              "      flex-wrap:wrap;\n",
              "      gap: 12px;\n",
              "    }\n",
              "\n",
              "    .colab-df-convert {\n",
              "      background-color: #E8F0FE;\n",
              "      border: none;\n",
              "      border-radius: 50%;\n",
              "      cursor: pointer;\n",
              "      display: none;\n",
              "      fill: #1967D2;\n",
              "      height: 32px;\n",
              "      padding: 0 0 0 0;\n",
              "      width: 32px;\n",
              "    }\n",
              "\n",
              "    .colab-df-convert:hover {\n",
              "      background-color: #E2EBFA;\n",
              "      box-shadow: 0px 1px 2px rgba(60, 64, 67, 0.3), 0px 1px 3px 1px rgba(60, 64, 67, 0.15);\n",
              "      fill: #174EA6;\n",
              "    }\n",
              "\n",
              "    [theme=dark] .colab-df-convert {\n",
              "      background-color: #3B4455;\n",
              "      fill: #D2E3FC;\n",
              "    }\n",
              "\n",
              "    [theme=dark] .colab-df-convert:hover {\n",
              "      background-color: #434B5C;\n",
              "      box-shadow: 0px 1px 3px 1px rgba(0, 0, 0, 0.15);\n",
              "      filter: drop-shadow(0px 1px 2px rgba(0, 0, 0, 0.3));\n",
              "      fill: #FFFFFF;\n",
              "    }\n",
              "  </style>\n",
              "\n",
              "      <script>\n",
              "        const buttonEl =\n",
              "          document.querySelector('#df-f5b4e25f-bb4d-4b11-864d-2b130a769a20 button.colab-df-convert');\n",
              "        buttonEl.style.display =\n",
              "          google.colab.kernel.accessAllowed ? 'block' : 'none';\n",
              "\n",
              "        async function convertToInteractive(key) {\n",
              "          const element = document.querySelector('#df-f5b4e25f-bb4d-4b11-864d-2b130a769a20');\n",
              "          const dataTable =\n",
              "            await google.colab.kernel.invokeFunction('convertToInteractive',\n",
              "                                                     [key], {});\n",
              "          if (!dataTable) return;\n",
              "\n",
              "          const docLinkHtml = 'Like what you see? Visit the ' +\n",
              "            '<a target=\"_blank\" href=https://colab.research.google.com/notebooks/data_table.ipynb>data table notebook</a>'\n",
              "            + ' to learn more about interactive tables.';\n",
              "          element.innerHTML = '';\n",
              "          dataTable['output_type'] = 'display_data';\n",
              "          await google.colab.output.renderOutput(dataTable, element);\n",
              "          const docLink = document.createElement('div');\n",
              "          docLink.innerHTML = docLinkHtml;\n",
              "          element.appendChild(docLink);\n",
              "        }\n",
              "      </script>\n",
              "    </div>\n",
              "  </div>\n",
              "  "
            ]
          },
          "metadata": {},
          "execution_count": 8
        }
      ]
    },
    {
      "cell_type": "markdown",
      "source": [
        "### 2.2: Cleaning canonical SMILES\n",
        "They happen to have \\t\\n characters to indicate end of line. These are going to be removed using a regex expression to match the rest of the strings."
      ],
      "metadata": {
        "id": "7QxMGxSOUlnb"
      }
    },
    {
      "cell_type": "code",
      "source": [
        "df_subset[\"canonical_smiles\"]"
      ],
      "metadata": {
        "colab": {
          "base_uri": "https://localhost:8080/"
        },
        "id": "lnb8A9E9fUxM",
        "outputId": "2dcb328e-9695-4973-fb02-8016fb7196ae"
      },
      "execution_count": null,
      "outputs": [
        {
          "output_type": "execute_result",
          "data": {
            "text/plain": [
              "0        Cc1ccc(cc1)S(=O)(=O)N[C@H](c1nnc(o1)SCc1ccc(cc...\n",
              "1        N#CC(=C(c1ccccc1)c1ccccc1)[C@H](c1ccccc1)NS(=O...\n",
              "2                           n1ccc(cc1)c1nnc(o1)c1cccs1\\t\\n\n",
              "3                      CC/C=C(/S(=O)(=O)c1ccc(cc1)C)\\F\\t\\n\n",
              "4                  OC(=O)c1cc(N(=O)=O)c(c(c1)N(=O)=O)C\\t\\n\n",
              "                               ...                        \n",
              "61484    COC(=O)c1c(c(C(=O)OC)c(c(c1C(C)(C)C)C(=O)OC)C(...\n",
              "61485             O=C(c1ccccc1O)N/N=C/c1ccc(c(c1)Cl)Cl\\t\\n\n",
              "61486         C1=CC=C2C[C]([CH]1)[C]1[CH]C=CC=C(C1)CC2\\t\\n\n",
              "61487    Cc1ccc(cc1)S(=O)(=O)N[C@H](C(=O)N1C(=O)OC[C@@H...\n",
              "61488    OC[C@H]1O[C@H]([C@@H]([C@@H]1O)O)c1n[nH]c2c1nc...\n",
              "Name: canonical_smiles, Length: 61489, dtype: object"
            ]
          },
          "metadata": {},
          "execution_count": 9
        }
      ]
    },
    {
      "cell_type": "code",
      "source": [
        "regex = \"\\\\t\\\\n\"\n",
        "df_subset[\"canonical_smiles\"]=df_subset[\"canonical_smiles\"].apply(lambda x: re.sub(regex, \"\", x))"
      ],
      "metadata": {
        "id": "8WMpNERkkHN0",
        "colab": {
          "base_uri": "https://localhost:8080/"
        },
        "outputId": "c2bfb9e3-3949-4a0f-c645-864596c064fd"
      },
      "execution_count": null,
      "outputs": [
        {
          "output_type": "stream",
          "name": "stderr",
          "text": [
            "/usr/local/lib/python3.7/dist-packages/ipykernel_launcher.py:2: SettingWithCopyWarning: \n",
            "A value is trying to be set on a copy of a slice from a DataFrame.\n",
            "Try using .loc[row_indexer,col_indexer] = value instead\n",
            "\n",
            "See the caveats in the documentation: https://pandas.pydata.org/pandas-docs/stable/user_guide/indexing.html#returning-a-view-versus-a-copy\n",
            "  \n"
          ]
        }
      ]
    },
    {
      "cell_type": "code",
      "source": [
        "df_subset.head(2)"
      ],
      "metadata": {
        "colab": {
          "base_uri": "https://localhost:8080/",
          "height": 191
        },
        "id": "gdG_Q2pwk_L9",
        "outputId": "5027e43e-105d-4890-8581-45dceaf4b87d"
      },
      "execution_count": null,
      "outputs": [
        {
          "output_type": "execute_result",
          "data": {
            "text/plain": [
              "  refcode_csd                                   canonical_smiles  \\\n",
              "0      ABAFEQ  Cc1ccc(cc1)S(=O)(=O)N[C@H](c1nnc(o1)SCc1ccc(cc...   \n",
              "1      ABEDOC  N#CC(=C(c1ccccc1)c1ccccc1)[C@H](c1ccccc1)NS(=O...   \n",
              "\n",
              "   number_of_atoms                                    xyz_pbe_relaxed  \\\n",
              "0               45  45\\n\\nO      39.55724515      33.75271314     ...   \n",
              "1               55  55\\n\\nC       8.74281024      13.44863575     ...   \n",
              "\n",
              "   total_energy_pbe  \n",
              "0     -63908.261677  \n",
              "1     -47344.131203  "
            ],
            "text/html": [
              "\n",
              "  <div id=\"df-9f0715ee-9334-4e1a-82ea-97da53b1a36e\">\n",
              "    <div class=\"colab-df-container\">\n",
              "      <div>\n",
              "<style scoped>\n",
              "    .dataframe tbody tr th:only-of-type {\n",
              "        vertical-align: middle;\n",
              "    }\n",
              "\n",
              "    .dataframe tbody tr th {\n",
              "        vertical-align: top;\n",
              "    }\n",
              "\n",
              "    .dataframe thead th {\n",
              "        text-align: right;\n",
              "    }\n",
              "</style>\n",
              "<table border=\"1\" class=\"dataframe\">\n",
              "  <thead>\n",
              "    <tr style=\"text-align: right;\">\n",
              "      <th></th>\n",
              "      <th>refcode_csd</th>\n",
              "      <th>canonical_smiles</th>\n",
              "      <th>number_of_atoms</th>\n",
              "      <th>xyz_pbe_relaxed</th>\n",
              "      <th>total_energy_pbe</th>\n",
              "    </tr>\n",
              "  </thead>\n",
              "  <tbody>\n",
              "    <tr>\n",
              "      <th>0</th>\n",
              "      <td>ABAFEQ</td>\n",
              "      <td>Cc1ccc(cc1)S(=O)(=O)N[C@H](c1nnc(o1)SCc1ccc(cc...</td>\n",
              "      <td>45</td>\n",
              "      <td>45\\n\\nO      39.55724515      33.75271314     ...</td>\n",
              "      <td>-63908.261677</td>\n",
              "    </tr>\n",
              "    <tr>\n",
              "      <th>1</th>\n",
              "      <td>ABEDOC</td>\n",
              "      <td>N#CC(=C(c1ccccc1)c1ccccc1)[C@H](c1ccccc1)NS(=O...</td>\n",
              "      <td>55</td>\n",
              "      <td>55\\n\\nC       8.74281024      13.44863575     ...</td>\n",
              "      <td>-47344.131203</td>\n",
              "    </tr>\n",
              "  </tbody>\n",
              "</table>\n",
              "</div>\n",
              "      <button class=\"colab-df-convert\" onclick=\"convertToInteractive('df-9f0715ee-9334-4e1a-82ea-97da53b1a36e')\"\n",
              "              title=\"Convert this dataframe to an interactive table.\"\n",
              "              style=\"display:none;\">\n",
              "        \n",
              "  <svg xmlns=\"http://www.w3.org/2000/svg\" height=\"24px\"viewBox=\"0 0 24 24\"\n",
              "       width=\"24px\">\n",
              "    <path d=\"M0 0h24v24H0V0z\" fill=\"none\"/>\n",
              "    <path d=\"M18.56 5.44l.94 2.06.94-2.06 2.06-.94-2.06-.94-.94-2.06-.94 2.06-2.06.94zm-11 1L8.5 8.5l.94-2.06 2.06-.94-2.06-.94L8.5 2.5l-.94 2.06-2.06.94zm10 10l.94 2.06.94-2.06 2.06-.94-2.06-.94-.94-2.06-.94 2.06-2.06.94z\"/><path d=\"M17.41 7.96l-1.37-1.37c-.4-.4-.92-.59-1.43-.59-.52 0-1.04.2-1.43.59L10.3 9.45l-7.72 7.72c-.78.78-.78 2.05 0 2.83L4 21.41c.39.39.9.59 1.41.59.51 0 1.02-.2 1.41-.59l7.78-7.78 2.81-2.81c.8-.78.8-2.07 0-2.86zM5.41 20L4 18.59l7.72-7.72 1.47 1.35L5.41 20z\"/>\n",
              "  </svg>\n",
              "      </button>\n",
              "      \n",
              "  <style>\n",
              "    .colab-df-container {\n",
              "      display:flex;\n",
              "      flex-wrap:wrap;\n",
              "      gap: 12px;\n",
              "    }\n",
              "\n",
              "    .colab-df-convert {\n",
              "      background-color: #E8F0FE;\n",
              "      border: none;\n",
              "      border-radius: 50%;\n",
              "      cursor: pointer;\n",
              "      display: none;\n",
              "      fill: #1967D2;\n",
              "      height: 32px;\n",
              "      padding: 0 0 0 0;\n",
              "      width: 32px;\n",
              "    }\n",
              "\n",
              "    .colab-df-convert:hover {\n",
              "      background-color: #E2EBFA;\n",
              "      box-shadow: 0px 1px 2px rgba(60, 64, 67, 0.3), 0px 1px 3px 1px rgba(60, 64, 67, 0.15);\n",
              "      fill: #174EA6;\n",
              "    }\n",
              "\n",
              "    [theme=dark] .colab-df-convert {\n",
              "      background-color: #3B4455;\n",
              "      fill: #D2E3FC;\n",
              "    }\n",
              "\n",
              "    [theme=dark] .colab-df-convert:hover {\n",
              "      background-color: #434B5C;\n",
              "      box-shadow: 0px 1px 3px 1px rgba(0, 0, 0, 0.15);\n",
              "      filter: drop-shadow(0px 1px 2px rgba(0, 0, 0, 0.3));\n",
              "      fill: #FFFFFF;\n",
              "    }\n",
              "  </style>\n",
              "\n",
              "      <script>\n",
              "        const buttonEl =\n",
              "          document.querySelector('#df-9f0715ee-9334-4e1a-82ea-97da53b1a36e button.colab-df-convert');\n",
              "        buttonEl.style.display =\n",
              "          google.colab.kernel.accessAllowed ? 'block' : 'none';\n",
              "\n",
              "        async function convertToInteractive(key) {\n",
              "          const element = document.querySelector('#df-9f0715ee-9334-4e1a-82ea-97da53b1a36e');\n",
              "          const dataTable =\n",
              "            await google.colab.kernel.invokeFunction('convertToInteractive',\n",
              "                                                     [key], {});\n",
              "          if (!dataTable) return;\n",
              "\n",
              "          const docLinkHtml = 'Like what you see? Visit the ' +\n",
              "            '<a target=\"_blank\" href=https://colab.research.google.com/notebooks/data_table.ipynb>data table notebook</a>'\n",
              "            + ' to learn more about interactive tables.';\n",
              "          element.innerHTML = '';\n",
              "          dataTable['output_type'] = 'display_data';\n",
              "          await google.colab.output.renderOutput(dataTable, element);\n",
              "          const docLink = document.createElement('div');\n",
              "          docLink.innerHTML = docLinkHtml;\n",
              "          element.appendChild(docLink);\n",
              "        }\n",
              "      </script>\n",
              "    </div>\n",
              "  </div>\n",
              "  "
            ]
          },
          "metadata": {},
          "execution_count": 11
        }
      ]
    },
    {
      "cell_type": "markdown",
      "source": [
        "###2.2: Converting SMILES strings to RD-Kit molecules"
      ],
      "metadata": {
        "id": "tb17qHIOlVTH"
      }
    },
    {
      "cell_type": "code",
      "source": [
        "df_subset[\"mol\"] = df_subset[\"canonical_smiles\"].apply(lambda x: (Chem.MolFromSmiles(x)))"
      ],
      "metadata": {
        "id": "4DNutkrXoVxM",
        "colab": {
          "base_uri": "https://localhost:8080/"
        },
        "outputId": "1fc3186b-aaed-4e6d-c0b7-f5d226c2f12d"
      },
      "execution_count": null,
      "outputs": [
        {
          "output_type": "stream",
          "name": "stderr",
          "text": [
            "/usr/local/lib/python3.7/dist-packages/ipykernel_launcher.py:1: SettingWithCopyWarning: \n",
            "A value is trying to be set on a copy of a slice from a DataFrame.\n",
            "Try using .loc[row_indexer,col_indexer] = value instead\n",
            "\n",
            "See the caveats in the documentation: https://pandas.pydata.org/pandas-docs/stable/user_guide/indexing.html#returning-a-view-versus-a-copy\n",
            "  \"\"\"Entry point for launching an IPython kernel.\n"
          ]
        }
      ]
    },
    {
      "cell_type": "markdown",
      "source": [
        "RD-Kit outputs NoneType when fails to parse a SMILES string. Thus, to prevent exceptions when applying further transformations to the dataset, conflicting molecules are going to be removed."
      ],
      "metadata": {
        "id": "Bf0dXGEyQIJq"
      }
    },
    {
      "cell_type": "code",
      "source": [
        "df_subset_clean = df_subset[df_subset['mol'].apply(lambda x: x is not None)].reset_index(drop=True)\n",
        "len(df_subset), len(df_subset_clean)"
      ],
      "metadata": {
        "colab": {
          "base_uri": "https://localhost:8080/"
        },
        "id": "3KcSngunSug8",
        "outputId": "5d12ec0d-10ca-4d27-dc24-f414b36a16aa"
      },
      "execution_count": null,
      "outputs": [
        {
          "output_type": "execute_result",
          "data": {
            "text/plain": [
              "(61489, 61037)"
            ]
          },
          "metadata": {},
          "execution_count": 13
        }
      ]
    },
    {
      "cell_type": "code",
      "source": [
        "# Adding hydrogen atoms to the molecules\n",
        "df_subset_clean['mol'] = df_subset_clean['mol'].apply(lambda x: Chem.AddHs(x))"
      ],
      "metadata": {
        "id": "biywfnWBQWnq"
      },
      "execution_count": null,
      "outputs": []
    },
    {
      "cell_type": "code",
      "source": [
        "df_subset_clean.head(2)"
      ],
      "metadata": {
        "colab": {
          "base_uri": "https://localhost:8080/",
          "height": 225
        },
        "id": "bBb9qOfYojus",
        "outputId": "e26b234f-bc28-4550-ba6b-ae3f29611e8f"
      },
      "execution_count": null,
      "outputs": [
        {
          "output_type": "execute_result",
          "data": {
            "text/plain": [
              "  refcode_csd                                   canonical_smiles  \\\n",
              "0      ABAFEQ  Cc1ccc(cc1)S(=O)(=O)N[C@H](c1nnc(o1)SCc1ccc(cc...   \n",
              "1      ABEDOC  N#CC(=C(c1ccccc1)c1ccccc1)[C@H](c1ccccc1)NS(=O...   \n",
              "\n",
              "   number_of_atoms                                    xyz_pbe_relaxed  \\\n",
              "0               45  45\\n\\nO      39.55724515      33.75271314     ...   \n",
              "1               55  55\\n\\nC       8.74281024      13.44863575     ...   \n",
              "\n",
              "   total_energy_pbe                                               mol  \n",
              "0     -63908.261677  <rdkit.Chem.rdchem.Mol object at 0x7f6eaa90a7b0>  \n",
              "1     -47344.131203  <rdkit.Chem.rdchem.Mol object at 0x7f6eaa90a940>  "
            ],
            "text/html": [
              "\n",
              "  <div id=\"df-41da7440-8ff5-4caf-9d97-a6cb9e3dba4d\">\n",
              "    <div class=\"colab-df-container\">\n",
              "      <div>\n",
              "<style scoped>\n",
              "    .dataframe tbody tr th:only-of-type {\n",
              "        vertical-align: middle;\n",
              "    }\n",
              "\n",
              "    .dataframe tbody tr th {\n",
              "        vertical-align: top;\n",
              "    }\n",
              "\n",
              "    .dataframe thead th {\n",
              "        text-align: right;\n",
              "    }\n",
              "</style>\n",
              "<table border=\"1\" class=\"dataframe\">\n",
              "  <thead>\n",
              "    <tr style=\"text-align: right;\">\n",
              "      <th></th>\n",
              "      <th>refcode_csd</th>\n",
              "      <th>canonical_smiles</th>\n",
              "      <th>number_of_atoms</th>\n",
              "      <th>xyz_pbe_relaxed</th>\n",
              "      <th>total_energy_pbe</th>\n",
              "      <th>mol</th>\n",
              "    </tr>\n",
              "  </thead>\n",
              "  <tbody>\n",
              "    <tr>\n",
              "      <th>0</th>\n",
              "      <td>ABAFEQ</td>\n",
              "      <td>Cc1ccc(cc1)S(=O)(=O)N[C@H](c1nnc(o1)SCc1ccc(cc...</td>\n",
              "      <td>45</td>\n",
              "      <td>45\\n\\nO      39.55724515      33.75271314     ...</td>\n",
              "      <td>-63908.261677</td>\n",
              "      <td>&lt;rdkit.Chem.rdchem.Mol object at 0x7f6eaa90a7b0&gt;</td>\n",
              "    </tr>\n",
              "    <tr>\n",
              "      <th>1</th>\n",
              "      <td>ABEDOC</td>\n",
              "      <td>N#CC(=C(c1ccccc1)c1ccccc1)[C@H](c1ccccc1)NS(=O...</td>\n",
              "      <td>55</td>\n",
              "      <td>55\\n\\nC       8.74281024      13.44863575     ...</td>\n",
              "      <td>-47344.131203</td>\n",
              "      <td>&lt;rdkit.Chem.rdchem.Mol object at 0x7f6eaa90a940&gt;</td>\n",
              "    </tr>\n",
              "  </tbody>\n",
              "</table>\n",
              "</div>\n",
              "      <button class=\"colab-df-convert\" onclick=\"convertToInteractive('df-41da7440-8ff5-4caf-9d97-a6cb9e3dba4d')\"\n",
              "              title=\"Convert this dataframe to an interactive table.\"\n",
              "              style=\"display:none;\">\n",
              "        \n",
              "  <svg xmlns=\"http://www.w3.org/2000/svg\" height=\"24px\"viewBox=\"0 0 24 24\"\n",
              "       width=\"24px\">\n",
              "    <path d=\"M0 0h24v24H0V0z\" fill=\"none\"/>\n",
              "    <path d=\"M18.56 5.44l.94 2.06.94-2.06 2.06-.94-2.06-.94-.94-2.06-.94 2.06-2.06.94zm-11 1L8.5 8.5l.94-2.06 2.06-.94-2.06-.94L8.5 2.5l-.94 2.06-2.06.94zm10 10l.94 2.06.94-2.06 2.06-.94-2.06-.94-.94-2.06-.94 2.06-2.06.94z\"/><path d=\"M17.41 7.96l-1.37-1.37c-.4-.4-.92-.59-1.43-.59-.52 0-1.04.2-1.43.59L10.3 9.45l-7.72 7.72c-.78.78-.78 2.05 0 2.83L4 21.41c.39.39.9.59 1.41.59.51 0 1.02-.2 1.41-.59l7.78-7.78 2.81-2.81c.8-.78.8-2.07 0-2.86zM5.41 20L4 18.59l7.72-7.72 1.47 1.35L5.41 20z\"/>\n",
              "  </svg>\n",
              "      </button>\n",
              "      \n",
              "  <style>\n",
              "    .colab-df-container {\n",
              "      display:flex;\n",
              "      flex-wrap:wrap;\n",
              "      gap: 12px;\n",
              "    }\n",
              "\n",
              "    .colab-df-convert {\n",
              "      background-color: #E8F0FE;\n",
              "      border: none;\n",
              "      border-radius: 50%;\n",
              "      cursor: pointer;\n",
              "      display: none;\n",
              "      fill: #1967D2;\n",
              "      height: 32px;\n",
              "      padding: 0 0 0 0;\n",
              "      width: 32px;\n",
              "    }\n",
              "\n",
              "    .colab-df-convert:hover {\n",
              "      background-color: #E2EBFA;\n",
              "      box-shadow: 0px 1px 2px rgba(60, 64, 67, 0.3), 0px 1px 3px 1px rgba(60, 64, 67, 0.15);\n",
              "      fill: #174EA6;\n",
              "    }\n",
              "\n",
              "    [theme=dark] .colab-df-convert {\n",
              "      background-color: #3B4455;\n",
              "      fill: #D2E3FC;\n",
              "    }\n",
              "\n",
              "    [theme=dark] .colab-df-convert:hover {\n",
              "      background-color: #434B5C;\n",
              "      box-shadow: 0px 1px 3px 1px rgba(0, 0, 0, 0.15);\n",
              "      filter: drop-shadow(0px 1px 2px rgba(0, 0, 0, 0.3));\n",
              "      fill: #FFFFFF;\n",
              "    }\n",
              "  </style>\n",
              "\n",
              "      <script>\n",
              "        const buttonEl =\n",
              "          document.querySelector('#df-41da7440-8ff5-4caf-9d97-a6cb9e3dba4d button.colab-df-convert');\n",
              "        buttonEl.style.display =\n",
              "          google.colab.kernel.accessAllowed ? 'block' : 'none';\n",
              "\n",
              "        async function convertToInteractive(key) {\n",
              "          const element = document.querySelector('#df-41da7440-8ff5-4caf-9d97-a6cb9e3dba4d');\n",
              "          const dataTable =\n",
              "            await google.colab.kernel.invokeFunction('convertToInteractive',\n",
              "                                                     [key], {});\n",
              "          if (!dataTable) return;\n",
              "\n",
              "          const docLinkHtml = 'Like what you see? Visit the ' +\n",
              "            '<a target=\"_blank\" href=https://colab.research.google.com/notebooks/data_table.ipynb>data table notebook</a>'\n",
              "            + ' to learn more about interactive tables.';\n",
              "          element.innerHTML = '';\n",
              "          dataTable['output_type'] = 'display_data';\n",
              "          await google.colab.output.renderOutput(dataTable, element);\n",
              "          const docLink = document.createElement('div');\n",
              "          docLink.innerHTML = docLinkHtml;\n",
              "          element.appendChild(docLink);\n",
              "        }\n",
              "      </script>\n",
              "    </div>\n",
              "  </div>\n",
              "  "
            ]
          },
          "metadata": {},
          "execution_count": 15
        }
      ]
    },
    {
      "cell_type": "markdown",
      "source": [
        "###2.3: Reshaping XYZ coordinates\n",
        "TODO: apply MBTR to xyz to make a proper descriptor out of the atomic positions\n"
      ],
      "metadata": {
        "id": "M-lkjnyVba9e"
      }
    },
    {
      "cell_type": "code",
      "source": [
        "df.iloc[0].xyz_pbe_relaxed"
      ],
      "metadata": {
        "colab": {
          "base_uri": "https://localhost:8080/",
          "height": 175
        },
        "id": "qNk8fHLz0Nn4",
        "outputId": "6eae4e5f-5f0a-429c-d8cb-a35fc0c911b7"
      },
      "execution_count": null,
      "outputs": [
        {
          "output_type": "execute_result",
          "data": {
            "text/plain": [
              "'45\\n\\nO      39.55724515      33.75271314      38.40917207 \\nS      40.85906611      34.05164612      38.96498639 \\nO      42.08066828      33.95284000      38.19595313 \\nC      42.32571194      32.73322762      40.89834532 \\nH      43.19968501      32.99032401      40.30295436 \\nCl      45.20041227      29.36338131      46.43043646 \\nC      41.05184934      33.09086636      40.45377016 \\nC      42.45668317      32.04677947      42.10437138 \\nH      43.45084814      31.76806349      42.45397500 \\nC      41.33623713      31.70625411      42.87422993 \\nC      40.06720668      32.07018496      42.39744704 \\nH      39.18097405      31.80058002      42.97364913 \\nC      39.91665528      32.75758494      41.19816166 \\nH      38.92751728      33.01994634      40.82523353 \\nC      41.48361320      30.98558291      44.18381422 \\nH      42.41118162      30.40352859      44.22479339 \\nH      40.63985814      30.30766109      44.36544785 \\nH      41.51361125      31.70368231      45.01623603 \\nC      43.58355603      33.58567170      46.05760995 \\nC      44.50879591      33.09126273      45.12712202 \\nC      44.58735767      30.98663420      46.29469212 \\nC      43.67416047      31.45779258      47.23763178 \\nH      43.35738436      30.81675118      48.05804802 \\nC      43.18004488      32.75463873      47.11100991 \\nH      42.46723835      33.12401865      47.85020035 \\nN      40.75043902      35.65259391      39.44466891 \\nC      41.91357542      36.39938024      39.92718967 \\nH      42.74053298      36.18343665      39.23786748 \\nC      41.59554654      37.90036812      39.88819883 \\nH      41.31036592      38.18979620      38.87024230 \\nH      42.47497764      38.47941767      40.19408535 \\nS      41.54380622      35.14894837      44.87226222 \\nO      41.49789017      35.80019430      42.30624954 \\nC      42.31697189      35.46623386      43.35107789 \\nN      43.58095681      35.45930024      43.02499490 \\nN      43.62739090      35.79899291      41.66869043 \\nC      42.40412200      35.98540807      41.28539389 \\nH      39.87281191      35.84000620      39.92875742 \\nH      40.76971134      38.14771790      40.56964680 \\nC      43.04236454      34.98075809      45.94353203 \\nH      43.78224526      35.68390108      45.54521868 \\nH      42.69364229      35.35046375      46.91564229 \\nH      44.82329787      33.72815772      44.30050633 \\nC      45.01169104      31.79751710      45.24114695 \\nH      45.73147637      31.41638123      44.51869652 \\n'"
            ],
            "application/vnd.google.colaboratory.intrinsic+json": {
              "type": "string"
            }
          },
          "metadata": {},
          "execution_count": 16
        }
      ]
    },
    {
      "cell_type": "code",
      "source": [
        "df_subset_clean.iloc[0].xyz_pbe_relaxed.split()[1:9]"
      ],
      "metadata": {
        "colab": {
          "base_uri": "https://localhost:8080/"
        },
        "id": "rMYdwdI3Z9ES",
        "outputId": "5a37526c-380e-4c93-a796-5b2a6294d45a"
      },
      "execution_count": null,
      "outputs": [
        {
          "output_type": "execute_result",
          "data": {
            "text/plain": [
              "['O',\n",
              " '39.55724515',\n",
              " '33.75271314',\n",
              " '38.40917207',\n",
              " 'S',\n",
              " '40.85906611',\n",
              " '34.05164612',\n",
              " '38.96498639']"
            ]
          },
          "metadata": {},
          "execution_count": 17
        }
      ]
    },
    {
      "cell_type": "code",
      "source": [
        "df_subset_clean.iloc[0].xyz_pbe_relaxed.split()[:10]"
      ],
      "metadata": {
        "colab": {
          "base_uri": "https://localhost:8080/"
        },
        "id": "UTsqU1uVeeFl",
        "outputId": "9404106c-e650-4eb3-d00a-50a239a61a6d"
      },
      "execution_count": null,
      "outputs": [
        {
          "output_type": "execute_result",
          "data": {
            "text/plain": [
              "['45',\n",
              " 'O',\n",
              " '39.55724515',\n",
              " '33.75271314',\n",
              " '38.40917207',\n",
              " 'S',\n",
              " '40.85906611',\n",
              " '34.05164612',\n",
              " '38.96498639',\n",
              " 'O']"
            ]
          },
          "metadata": {},
          "execution_count": 18
        }
      ]
    },
    {
      "cell_type": "code",
      "source": [
        "def grouper(iterable, n, fillvalue=None):\n",
        "  \"\"\"\n",
        "  This function splits the xyz array into N groups of 3 components, where N is\n",
        "  the number of atoms in the molecule\n",
        "  \"\"\"\n",
        "  args = [iter(iterable)] * n\n",
        "  return list(zip_longest(*args, fillvalue=fillvalue))"
      ],
      "metadata": {
        "id": "GfCZGdTpinHI"
      },
      "execution_count": null,
      "outputs": []
    },
    {
      "cell_type": "code",
      "source": [
        "def positions_to_dict(raw_xyz):\n",
        "  \"\"\"\n",
        "  Takes in a string of xyz atom positions and returns a dict of atom positions\n",
        "  \"\"\"\n",
        "  # We use defaultdict dict subclass because instead of raising a KeyError provides \n",
        "  # a default value for the key that does not exist. In this case, we want a list-like\n",
        "  # object\n",
        "  data_dict = defaultdict(list) # Specify what are the value types\n",
        "\n",
        "  iter_array =  [iter(raw_xyz.split()[1:])] * 4 # Multiplied by 4 because [atom name, x, y z]\n",
        "  grouped_xyz = list(zip_longest(*iter_array, fillvalue=None))\n",
        "\n",
        "  for i, element in enumerate(grouped_xyz):\n",
        "    data_dict[element[0]].append(list(element[1:]))\n",
        "  \n",
        "  return dict(data_dict)"
      ],
      "metadata": {
        "id": "HLZdU7jLCroc"
      },
      "execution_count": null,
      "outputs": []
    },
    {
      "cell_type": "code",
      "source": [
        "df_subset_clean['xyz_pbe_relaxed'] = df_subset_clean['xyz_pbe_relaxed'].apply(positions_to_dict)"
      ],
      "metadata": {
        "id": "hGoFBQEKEGb1"
      },
      "execution_count": null,
      "outputs": []
    },
    {
      "cell_type": "markdown",
      "source": [
        "### 2.4: Getting some insights of the data"
      ],
      "metadata": {
        "id": "7ZDWlZXnS07S"
      }
    },
    {
      "cell_type": "code",
      "source": [
        "# Tagging each molecule with the contained atom species\n",
        "df_subset_clean['species'] = df_subset_clean['xyz_pbe_relaxed'].apply(lambda x:\n",
        "                                                                      set(x.keys()))"
      ],
      "metadata": {
        "id": "xRQT9KsQ7M-6"
      },
      "execution_count": null,
      "outputs": []
    },
    {
      "cell_type": "code",
      "source": [
        "df_subset_clean.head()"
      ],
      "metadata": {
        "colab": {
          "base_uri": "https://localhost:8080/",
          "height": 530
        },
        "id": "bb0eTIlp-_si",
        "outputId": "7e8abeb9-2afb-44ea-e148-5abec1232af8"
      },
      "execution_count": null,
      "outputs": [
        {
          "output_type": "execute_result",
          "data": {
            "text/plain": [
              "  refcode_csd                                   canonical_smiles  \\\n",
              "0      ABAFEQ  Cc1ccc(cc1)S(=O)(=O)N[C@H](c1nnc(o1)SCc1ccc(cc...   \n",
              "1      ABEDOC  N#CC(=C(c1ccccc1)c1ccccc1)[C@H](c1ccccc1)NS(=O...   \n",
              "2      LODZOT                         n1ccc(cc1)c1nnc(o1)c1cccs1   \n",
              "3      LUSREW                    CC/C=C(/S(=O)(=O)c1ccc(cc1)C)\\F   \n",
              "4    NOMBEA01                OC(=O)c1cc(N(=O)=O)c(c(c1)N(=O)=O)C   \n",
              "\n",
              "   number_of_atoms                                    xyz_pbe_relaxed  \\\n",
              "0               45  {'O': [['39.55724515', '33.75271314', '38.4091...   \n",
              "1               55  {'C': [['8.74281024', '13.44863575', '23.16378...   \n",
              "2               23  {'N': [['23.84904338', '42.50577669', '35.0388...   \n",
              "3               28  {'C': [['36.52340453', '39.64067030', '25.1692...   \n",
              "4               22  {'C': [['3.95256786', '17.67855833', '24.82877...   \n",
              "\n",
              "   total_energy_pbe                                               mol  \\\n",
              "0     -63908.261677  <rdkit.Chem.rdchem.Mol object at 0x7f6eaa90a7b0>   \n",
              "1     -47344.131203  <rdkit.Chem.rdchem.Mol object at 0x7f6eaa90a940>   \n",
              "2     -28915.979909  <rdkit.Chem.rdchem.Mol object at 0x7f6eaa90a8f0>   \n",
              "3     -29310.525400  <rdkit.Chem.rdchem.Mol object at 0x7f6eaa90a8a0>   \n",
              "4     -23659.206412  <rdkit.Chem.rdchem.Mol object at 0x7f6eaa90a990>   \n",
              "\n",
              "               species  \n",
              "0  {H, C, O, Cl, N, S}  \n",
              "1      {H, C, O, N, S}  \n",
              "2      {H, C, O, N, S}  \n",
              "3      {H, C, O, F, S}  \n",
              "4         {O, C, N, H}  "
            ],
            "text/html": [
              "\n",
              "  <div id=\"df-e5c80ae5-b25f-45e6-acfb-d51dddca9f17\">\n",
              "    <div class=\"colab-df-container\">\n",
              "      <div>\n",
              "<style scoped>\n",
              "    .dataframe tbody tr th:only-of-type {\n",
              "        vertical-align: middle;\n",
              "    }\n",
              "\n",
              "    .dataframe tbody tr th {\n",
              "        vertical-align: top;\n",
              "    }\n",
              "\n",
              "    .dataframe thead th {\n",
              "        text-align: right;\n",
              "    }\n",
              "</style>\n",
              "<table border=\"1\" class=\"dataframe\">\n",
              "  <thead>\n",
              "    <tr style=\"text-align: right;\">\n",
              "      <th></th>\n",
              "      <th>refcode_csd</th>\n",
              "      <th>canonical_smiles</th>\n",
              "      <th>number_of_atoms</th>\n",
              "      <th>xyz_pbe_relaxed</th>\n",
              "      <th>total_energy_pbe</th>\n",
              "      <th>mol</th>\n",
              "      <th>species</th>\n",
              "    </tr>\n",
              "  </thead>\n",
              "  <tbody>\n",
              "    <tr>\n",
              "      <th>0</th>\n",
              "      <td>ABAFEQ</td>\n",
              "      <td>Cc1ccc(cc1)S(=O)(=O)N[C@H](c1nnc(o1)SCc1ccc(cc...</td>\n",
              "      <td>45</td>\n",
              "      <td>{'O': [['39.55724515', '33.75271314', '38.4091...</td>\n",
              "      <td>-63908.261677</td>\n",
              "      <td>&lt;rdkit.Chem.rdchem.Mol object at 0x7f6eaa90a7b0&gt;</td>\n",
              "      <td>{H, C, O, Cl, N, S}</td>\n",
              "    </tr>\n",
              "    <tr>\n",
              "      <th>1</th>\n",
              "      <td>ABEDOC</td>\n",
              "      <td>N#CC(=C(c1ccccc1)c1ccccc1)[C@H](c1ccccc1)NS(=O...</td>\n",
              "      <td>55</td>\n",
              "      <td>{'C': [['8.74281024', '13.44863575', '23.16378...</td>\n",
              "      <td>-47344.131203</td>\n",
              "      <td>&lt;rdkit.Chem.rdchem.Mol object at 0x7f6eaa90a940&gt;</td>\n",
              "      <td>{H, C, O, N, S}</td>\n",
              "    </tr>\n",
              "    <tr>\n",
              "      <th>2</th>\n",
              "      <td>LODZOT</td>\n",
              "      <td>n1ccc(cc1)c1nnc(o1)c1cccs1</td>\n",
              "      <td>23</td>\n",
              "      <td>{'N': [['23.84904338', '42.50577669', '35.0388...</td>\n",
              "      <td>-28915.979909</td>\n",
              "      <td>&lt;rdkit.Chem.rdchem.Mol object at 0x7f6eaa90a8f0&gt;</td>\n",
              "      <td>{H, C, O, N, S}</td>\n",
              "    </tr>\n",
              "    <tr>\n",
              "      <th>3</th>\n",
              "      <td>LUSREW</td>\n",
              "      <td>CC/C=C(/S(=O)(=O)c1ccc(cc1)C)\\F</td>\n",
              "      <td>28</td>\n",
              "      <td>{'C': [['36.52340453', '39.64067030', '25.1692...</td>\n",
              "      <td>-29310.525400</td>\n",
              "      <td>&lt;rdkit.Chem.rdchem.Mol object at 0x7f6eaa90a8a0&gt;</td>\n",
              "      <td>{H, C, O, F, S}</td>\n",
              "    </tr>\n",
              "    <tr>\n",
              "      <th>4</th>\n",
              "      <td>NOMBEA01</td>\n",
              "      <td>OC(=O)c1cc(N(=O)=O)c(c(c1)N(=O)=O)C</td>\n",
              "      <td>22</td>\n",
              "      <td>{'C': [['3.95256786', '17.67855833', '24.82877...</td>\n",
              "      <td>-23659.206412</td>\n",
              "      <td>&lt;rdkit.Chem.rdchem.Mol object at 0x7f6eaa90a990&gt;</td>\n",
              "      <td>{O, C, N, H}</td>\n",
              "    </tr>\n",
              "  </tbody>\n",
              "</table>\n",
              "</div>\n",
              "      <button class=\"colab-df-convert\" onclick=\"convertToInteractive('df-e5c80ae5-b25f-45e6-acfb-d51dddca9f17')\"\n",
              "              title=\"Convert this dataframe to an interactive table.\"\n",
              "              style=\"display:none;\">\n",
              "        \n",
              "  <svg xmlns=\"http://www.w3.org/2000/svg\" height=\"24px\"viewBox=\"0 0 24 24\"\n",
              "       width=\"24px\">\n",
              "    <path d=\"M0 0h24v24H0V0z\" fill=\"none\"/>\n",
              "    <path d=\"M18.56 5.44l.94 2.06.94-2.06 2.06-.94-2.06-.94-.94-2.06-.94 2.06-2.06.94zm-11 1L8.5 8.5l.94-2.06 2.06-.94-2.06-.94L8.5 2.5l-.94 2.06-2.06.94zm10 10l.94 2.06.94-2.06 2.06-.94-2.06-.94-.94-2.06-.94 2.06-2.06.94z\"/><path d=\"M17.41 7.96l-1.37-1.37c-.4-.4-.92-.59-1.43-.59-.52 0-1.04.2-1.43.59L10.3 9.45l-7.72 7.72c-.78.78-.78 2.05 0 2.83L4 21.41c.39.39.9.59 1.41.59.51 0 1.02-.2 1.41-.59l7.78-7.78 2.81-2.81c.8-.78.8-2.07 0-2.86zM5.41 20L4 18.59l7.72-7.72 1.47 1.35L5.41 20z\"/>\n",
              "  </svg>\n",
              "      </button>\n",
              "      \n",
              "  <style>\n",
              "    .colab-df-container {\n",
              "      display:flex;\n",
              "      flex-wrap:wrap;\n",
              "      gap: 12px;\n",
              "    }\n",
              "\n",
              "    .colab-df-convert {\n",
              "      background-color: #E8F0FE;\n",
              "      border: none;\n",
              "      border-radius: 50%;\n",
              "      cursor: pointer;\n",
              "      display: none;\n",
              "      fill: #1967D2;\n",
              "      height: 32px;\n",
              "      padding: 0 0 0 0;\n",
              "      width: 32px;\n",
              "    }\n",
              "\n",
              "    .colab-df-convert:hover {\n",
              "      background-color: #E2EBFA;\n",
              "      box-shadow: 0px 1px 2px rgba(60, 64, 67, 0.3), 0px 1px 3px 1px rgba(60, 64, 67, 0.15);\n",
              "      fill: #174EA6;\n",
              "    }\n",
              "\n",
              "    [theme=dark] .colab-df-convert {\n",
              "      background-color: #3B4455;\n",
              "      fill: #D2E3FC;\n",
              "    }\n",
              "\n",
              "    [theme=dark] .colab-df-convert:hover {\n",
              "      background-color: #434B5C;\n",
              "      box-shadow: 0px 1px 3px 1px rgba(0, 0, 0, 0.15);\n",
              "      filter: drop-shadow(0px 1px 2px rgba(0, 0, 0, 0.3));\n",
              "      fill: #FFFFFF;\n",
              "    }\n",
              "  </style>\n",
              "\n",
              "      <script>\n",
              "        const buttonEl =\n",
              "          document.querySelector('#df-e5c80ae5-b25f-45e6-acfb-d51dddca9f17 button.colab-df-convert');\n",
              "        buttonEl.style.display =\n",
              "          google.colab.kernel.accessAllowed ? 'block' : 'none';\n",
              "\n",
              "        async function convertToInteractive(key) {\n",
              "          const element = document.querySelector('#df-e5c80ae5-b25f-45e6-acfb-d51dddca9f17');\n",
              "          const dataTable =\n",
              "            await google.colab.kernel.invokeFunction('convertToInteractive',\n",
              "                                                     [key], {});\n",
              "          if (!dataTable) return;\n",
              "\n",
              "          const docLinkHtml = 'Like what you see? Visit the ' +\n",
              "            '<a target=\"_blank\" href=https://colab.research.google.com/notebooks/data_table.ipynb>data table notebook</a>'\n",
              "            + ' to learn more about interactive tables.';\n",
              "          element.innerHTML = '';\n",
              "          dataTable['output_type'] = 'display_data';\n",
              "          await google.colab.output.renderOutput(dataTable, element);\n",
              "          const docLink = document.createElement('div');\n",
              "          docLink.innerHTML = docLinkHtml;\n",
              "          element.appendChild(docLink);\n",
              "        }\n",
              "      </script>\n",
              "    </div>\n",
              "  </div>\n",
              "  "
            ]
          },
          "metadata": {},
          "execution_count": 23
        }
      ]
    },
    {
      "cell_type": "code",
      "source": [
        "unique_species = list(set.union(*df_subset_clean.species.to_numpy()))"
      ],
      "metadata": {
        "id": "eYCV5rkhAxoq"
      },
      "execution_count": null,
      "outputs": []
    },
    {
      "cell_type": "code",
      "source": [
        "unique_atomics = list(zip(unique_species,  \n",
        "                          ase.Atoms(unique_species).get_atomic_numbers()))\n",
        "unique_atomics"
      ],
      "metadata": {
        "colab": {
          "base_uri": "https://localhost:8080/"
        },
        "id": "Knc3hkpDJLW5",
        "outputId": "58f64ebd-7d38-4007-cc6b-f98b6a034376"
      },
      "execution_count": null,
      "outputs": [
        {
          "output_type": "execute_result",
          "data": {
            "text/plain": [
              "[('I', 53),\n",
              " ('H', 1),\n",
              " ('Br', 35),\n",
              " ('C', 6),\n",
              " ('B', 5),\n",
              " ('Se', 34),\n",
              " ('P', 15),\n",
              " ('F', 9),\n",
              " ('N', 7),\n",
              " ('Te', 52),\n",
              " ('S', 16),\n",
              " ('Li', 3),\n",
              " ('As', 33),\n",
              " ('O', 8),\n",
              " ('Cl', 17),\n",
              " ('Si', 14)]"
            ]
          },
          "metadata": {},
          "execution_count": 25
        }
      ]
    },
    {
      "cell_type": "code",
      "source": [
        "# Sort by atomic number\n",
        "unique_atomics_sorted = sorted(unique_atomics, key=lambda t: t[1])\n",
        "unique_atomics_sorted"
      ],
      "metadata": {
        "colab": {
          "base_uri": "https://localhost:8080/"
        },
        "id": "Q4iq5EtOIxu5",
        "outputId": "1dc36ebf-f9c0-4a96-e6d2-734b771461d5"
      },
      "execution_count": null,
      "outputs": [
        {
          "output_type": "execute_result",
          "data": {
            "text/plain": [
              "[('H', 1),\n",
              " ('Li', 3),\n",
              " ('B', 5),\n",
              " ('C', 6),\n",
              " ('N', 7),\n",
              " ('O', 8),\n",
              " ('F', 9),\n",
              " ('Si', 14),\n",
              " ('P', 15),\n",
              " ('S', 16),\n",
              " ('Cl', 17),\n",
              " ('As', 33),\n",
              " ('Se', 34),\n",
              " ('Br', 35),\n",
              " ('Te', 52),\n",
              " ('I', 53)]"
            ]
          },
          "metadata": {},
          "execution_count": 26
        }
      ]
    },
    {
      "cell_type": "code",
      "source": [
        "unique_species_sorted = list(zip(*unique_atomics_sorted))\n",
        "unique_species_sorted"
      ],
      "metadata": {
        "colab": {
          "base_uri": "https://localhost:8080/"
        },
        "id": "K50CO84YJfVk",
        "outputId": "8428ea58-fca8-43f1-a4e9-d3246447c32c"
      },
      "execution_count": null,
      "outputs": [
        {
          "output_type": "execute_result",
          "data": {
            "text/plain": [
              "[('H',\n",
              "  'Li',\n",
              "  'B',\n",
              "  'C',\n",
              "  'N',\n",
              "  'O',\n",
              "  'F',\n",
              "  'Si',\n",
              "  'P',\n",
              "  'S',\n",
              "  'Cl',\n",
              "  'As',\n",
              "  'Se',\n",
              "  'Br',\n",
              "  'Te',\n",
              "  'I'),\n",
              " (1, 3, 5, 6, 7, 8, 9, 14, 15, 16, 17, 33, 34, 35, 52, 53)]"
            ]
          },
          "metadata": {},
          "execution_count": 27
        }
      ]
    },
    {
      "cell_type": "code",
      "source": [
        "# Creating dict with species frequency\n",
        "unique_frequencies = []\n",
        "for element in unique_species_sorted[0]:\n",
        "  mask = df_subset_clean.species.apply(lambda x: element in x)\n",
        "  unique_frequencies.append(list(mask).count(True))\n",
        "frequencies = dict(zip(unique_species_sorted[0], unique_frequencies))\n",
        "frequencies"
      ],
      "metadata": {
        "colab": {
          "base_uri": "https://localhost:8080/"
        },
        "id": "ev02ldAEC1yu",
        "outputId": "ed91a34a-bce0-4d69-c73b-b4a9a691b9a4"
      },
      "execution_count": null,
      "outputs": [
        {
          "output_type": "execute_result",
          "data": {
            "text/plain": [
              "{'H': 60745,\n",
              " 'Li': 7,\n",
              " 'B': 488,\n",
              " 'C': 61012,\n",
              " 'N': 40415,\n",
              " 'O': 49621,\n",
              " 'F': 4184,\n",
              " 'Si': 2598,\n",
              " 'P': 3594,\n",
              " 'S': 14869,\n",
              " 'Cl': 6943,\n",
              " 'As': 136,\n",
              " 'Se': 815,\n",
              " 'Br': 4320,\n",
              " 'Te': 121,\n",
              " 'I': 827}"
            ]
          },
          "metadata": {},
          "execution_count": 28
        }
      ]
    },
    {
      "cell_type": "code",
      "source": [
        "# Setting seaborn plotting context\n",
        "custom_params = {\"axes.spines.right\": False, \"axes.spines.top\": False}\n",
        "sns.set_theme(style=\"ticks\", rc=custom_params)"
      ],
      "metadata": {
        "id": "GWBeqjvgPmI-"
      },
      "execution_count": null,
      "outputs": []
    },
    {
      "cell_type": "code",
      "source": [
        "fig, ax = plt.subplots(figsize=(10,8))\n",
        "plt.bar(x = frequencies.keys(), height = frequencies.values(), \n",
        "        color = '#3498DB', alpha = 1, width = 1)\n",
        "ax.grid(True)\n",
        "plt.ylabel('Frequency');\n",
        "plt.xlabel('Atomic species');\n",
        "plt.savefig('species_frequency.png', dpi = 600, bbox_inches = 'tight')\n",
        "plt.show()"
      ],
      "metadata": {
        "colab": {
          "base_uri": "https://localhost:8080/",
          "height": 502
        },
        "id": "uruSqkZtFErq",
        "outputId": "22cd6c7b-759f-4902-8f42-5c3deffde9e7"
      },
      "execution_count": null,
      "outputs": [
        {
          "output_type": "display_data",
          "data": {
            "text/plain": [
              "<Figure size 720x576 with 1 Axes>"
            ],
            "image/png": "[encoded data removed]"
          },
          "metadata": {}
        }
      ]
    },
    {
      "cell_type": "code",
      "source": [
        "fig, ax = plt.subplots(figsize=(10,8))\n",
        "df_subset_clean.number_of_atoms.hist(color ='#3498DB')\n",
        "ax.grid(True);\n",
        "ax.set_xlabel('Atoms per molecule');\n",
        "ax.set_ylabel('Frequency');\n",
        "plt.savefig('atom_count.png', dpi = 600, bbox_inches = 'tight')\n",
        "plt.show()"
      ],
      "metadata": {
        "colab": {
          "base_uri": "https://localhost:8080/",
          "height": 502
        },
        "id": "kZpoOu_OTKe8",
        "outputId": "a3a333c1-619c-4b76-a454-574bbb37687a"
      },
      "execution_count": null,
      "outputs": [
        {
          "output_type": "display_data",
          "data": {
            "text/plain": [
              "<Figure size 720x576 with 1 Axes>"
            ],
            "image/png": "[encoded data removed]"
          },
          "metadata": {}
        }
      ]
    },
    {
      "cell_type": "markdown",
      "source": [
        "### 2.5: Enriching the data with more features"
      ],
      "metadata": {
        "id": "AJtt4WlOg1wg"
      }
    },
    {
      "cell_type": "code",
      "source": [
        "df_subset_clean['tpsa'] = df_subset_clean['mol'].apply(lambda x: Descriptors.TPSA(x)) #https://en.wikipedia.org/wiki/Polar_surface_area\n",
        "df_subset_clean['mol_w'] = df_subset_clean['mol'].apply(lambda x: Descriptors.ExactMolWt(x)) # https://en.wikipedia.org/wiki/Molecular_mass\n",
        "df_subset_clean['num_valence_electrons'] = df_subset_clean['mol'].apply(lambda x: Descriptors.NumValenceElectrons(x)) # https://en.wikipedia.org/wiki/Valence_electron\n",
        "df_subset_clean['num_heteroatoms'] = df_subset_clean['mol'].apply(lambda x: Descriptors.NumHeteroatoms(x))"
      ],
      "metadata": {
        "id": "d8wWUKkDgJUo"
      },
      "execution_count": null,
      "outputs": []
    },
    {
      "cell_type": "code",
      "source": [
        "df_subset_clean.head(2)"
      ],
      "metadata": {
        "colab": {
          "base_uri": "https://localhost:8080/",
          "height": 280
        },
        "id": "ggZude06gf1D",
        "outputId": "ee884939-e0e9-408d-f17a-7c37bfd3e2b1"
      },
      "execution_count": null,
      "outputs": [
        {
          "output_type": "execute_result",
          "data": {
            "text/plain": [
              "  refcode_csd                                   canonical_smiles  \\\n",
              "0      ABAFEQ  Cc1ccc(cc1)S(=O)(=O)N[C@H](c1nnc(o1)SCc1ccc(cc...   \n",
              "1      ABEDOC  N#CC(=C(c1ccccc1)c1ccccc1)[C@H](c1ccccc1)NS(=O...   \n",
              "\n",
              "   number_of_atoms                                    xyz_pbe_relaxed  \\\n",
              "0               45  {'O': [['39.55724515', '33.75271314', '38.4091...   \n",
              "1               55  {'C': [['8.74281024', '13.44863575', '23.16378...   \n",
              "\n",
              "   total_energy_pbe                                               mol  \\\n",
              "0     -63908.261677  <rdkit.Chem.rdchem.Mol object at 0x7f6eaa90a7b0>   \n",
              "1     -47344.131203  <rdkit.Chem.rdchem.Mol object at 0x7f6eaa90a940>   \n",
              "\n",
              "               species   tpsa       mol_w  num_valence_electrons  \\\n",
              "0  {H, C, O, Cl, N, S}  85.09  423.047811                    142   \n",
              "1      {H, C, O, N, S}  69.96  450.140199                    162   \n",
              "\n",
              "   num_heteroatoms  \n",
              "0                9  \n",
              "1                5  "
            ],
            "text/html": [
              "\n",
              "  <div id=\"df-a2ad2378-9f00-4950-88ab-d5bec316bd6e\">\n",
              "    <div class=\"colab-df-container\">\n",
              "      <div>\n",
              "<style scoped>\n",
              "    .dataframe tbody tr th:only-of-type {\n",
              "        vertical-align: middle;\n",
              "    }\n",
              "\n",
              "    .dataframe tbody tr th {\n",
              "        vertical-align: top;\n",
              "    }\n",
              "\n",
              "    .dataframe thead th {\n",
              "        text-align: right;\n",
              "    }\n",
              "</style>\n",
              "<table border=\"1\" class=\"dataframe\">\n",
              "  <thead>\n",
              "    <tr style=\"text-align: right;\">\n",
              "      <th></th>\n",
              "      <th>refcode_csd</th>\n",
              "      <th>canonical_smiles</th>\n",
              "      <th>number_of_atoms</th>\n",
              "      <th>xyz_pbe_relaxed</th>\n",
              "      <th>total_energy_pbe</th>\n",
              "      <th>mol</th>\n",
              "      <th>species</th>\n",
              "      <th>tpsa</th>\n",
              "      <th>mol_w</th>\n",
              "      <th>num_valence_electrons</th>\n",
              "      <th>num_heteroatoms</th>\n",
              "    </tr>\n",
              "  </thead>\n",
              "  <tbody>\n",
              "    <tr>\n",
              "      <th>0</th>\n",
              "      <td>ABAFEQ</td>\n",
              "      <td>Cc1ccc(cc1)S(=O)(=O)N[C@H](c1nnc(o1)SCc1ccc(cc...</td>\n",
              "      <td>45</td>\n",
              "      <td>{'O': [['39.55724515', '33.75271314', '38.4091...</td>\n",
              "      <td>-63908.261677</td>\n",
              "      <td>&lt;rdkit.Chem.rdchem.Mol object at 0x7f6eaa90a7b0&gt;</td>\n",
              "      <td>{H, C, O, Cl, N, S}</td>\n",
              "      <td>85.09</td>\n",
              "      <td>423.047811</td>\n",
              "      <td>142</td>\n",
              "      <td>9</td>\n",
              "    </tr>\n",
              "    <tr>\n",
              "      <th>1</th>\n",
              "      <td>ABEDOC</td>\n",
              "      <td>N#CC(=C(c1ccccc1)c1ccccc1)[C@H](c1ccccc1)NS(=O...</td>\n",
              "      <td>55</td>\n",
              "      <td>{'C': [['8.74281024', '13.44863575', '23.16378...</td>\n",
              "      <td>-47344.131203</td>\n",
              "      <td>&lt;rdkit.Chem.rdchem.Mol object at 0x7f6eaa90a940&gt;</td>\n",
              "      <td>{H, C, O, N, S}</td>\n",
              "      <td>69.96</td>\n",
              "      <td>450.140199</td>\n",
              "      <td>162</td>\n",
              "      <td>5</td>\n",
              "    </tr>\n",
              "  </tbody>\n",
              "</table>\n",
              "</div>\n",
              "      <button class=\"colab-df-convert\" onclick=\"convertToInteractive('df-a2ad2378-9f00-4950-88ab-d5bec316bd6e')\"\n",
              "              title=\"Convert this dataframe to an interactive table.\"\n",
              "              style=\"display:none;\">\n",
              "        \n",
              "  <svg xmlns=\"http://www.w3.org/2000/svg\" height=\"24px\"viewBox=\"0 0 24 24\"\n",
              "       width=\"24px\">\n",
              "    <path d=\"M0 0h24v24H0V0z\" fill=\"none\"/>\n",
              "    <path d=\"M18.56 5.44l.94 2.06.94-2.06 2.06-.94-2.06-.94-.94-2.06-.94 2.06-2.06.94zm-11 1L8.5 8.5l.94-2.06 2.06-.94-2.06-.94L8.5 2.5l-.94 2.06-2.06.94zm10 10l.94 2.06.94-2.06 2.06-.94-2.06-.94-.94-2.06-.94 2.06-2.06.94z\"/><path d=\"M17.41 7.96l-1.37-1.37c-.4-.4-.92-.59-1.43-.59-.52 0-1.04.2-1.43.59L10.3 9.45l-7.72 7.72c-.78.78-.78 2.05 0 2.83L4 21.41c.39.39.9.59 1.41.59.51 0 1.02-.2 1.41-.59l7.78-7.78 2.81-2.81c.8-.78.8-2.07 0-2.86zM5.41 20L4 18.59l7.72-7.72 1.47 1.35L5.41 20z\"/>\n",
              "  </svg>\n",
              "      </button>\n",
              "      \n",
              "  <style>\n",
              "    .colab-df-container {\n",
              "      display:flex;\n",
              "      flex-wrap:wrap;\n",
              "      gap: 12px;\n",
              "    }\n",
              "\n",
              "    .colab-df-convert {\n",
              "      background-color: #E8F0FE;\n",
              "      border: none;\n",
              "      border-radius: 50%;\n",
              "      cursor: pointer;\n",
              "      display: none;\n",
              "      fill: #1967D2;\n",
              "      height: 32px;\n",
              "      padding: 0 0 0 0;\n",
              "      width: 32px;\n",
              "    }\n",
              "\n",
              "    .colab-df-convert:hover {\n",
              "      background-color: #E2EBFA;\n",
              "      box-shadow: 0px 1px 2px rgba(60, 64, 67, 0.3), 0px 1px 3px 1px rgba(60, 64, 67, 0.15);\n",
              "      fill: #174EA6;\n",
              "    }\n",
              "\n",
              "    [theme=dark] .colab-df-convert {\n",
              "      background-color: #3B4455;\n",
              "      fill: #D2E3FC;\n",
              "    }\n",
              "\n",
              "    [theme=dark] .colab-df-convert:hover {\n",
              "      background-color: #434B5C;\n",
              "      box-shadow: 0px 1px 3px 1px rgba(0, 0, 0, 0.15);\n",
              "      filter: drop-shadow(0px 1px 2px rgba(0, 0, 0, 0.3));\n",
              "      fill: #FFFFFF;\n",
              "    }\n",
              "  </style>\n",
              "\n",
              "      <script>\n",
              "        const buttonEl =\n",
              "          document.querySelector('#df-a2ad2378-9f00-4950-88ab-d5bec316bd6e button.colab-df-convert');\n",
              "        buttonEl.style.display =\n",
              "          google.colab.kernel.accessAllowed ? 'block' : 'none';\n",
              "\n",
              "        async function convertToInteractive(key) {\n",
              "          const element = document.querySelector('#df-a2ad2378-9f00-4950-88ab-d5bec316bd6e');\n",
              "          const dataTable =\n",
              "            await google.colab.kernel.invokeFunction('convertToInteractive',\n",
              "                                                     [key], {});\n",
              "          if (!dataTable) return;\n",
              "\n",
              "          const docLinkHtml = 'Like what you see? Visit the ' +\n",
              "            '<a target=\"_blank\" href=https://colab.research.google.com/notebooks/data_table.ipynb>data table notebook</a>'\n",
              "            + ' to learn more about interactive tables.';\n",
              "          element.innerHTML = '';\n",
              "          dataTable['output_type'] = 'display_data';\n",
              "          await google.colab.output.renderOutput(dataTable, element);\n",
              "          const docLink = document.createElement('div');\n",
              "          docLink.innerHTML = docLinkHtml;\n",
              "          element.appendChild(docLink);\n",
              "        }\n",
              "      </script>\n",
              "    </div>\n",
              "  </div>\n",
              "  "
            ]
          },
          "metadata": {},
          "execution_count": 33
        }
      ]
    },
    {
      "cell_type": "code",
      "source": [
        "# Plotting some random molecules of the dataset\n",
        "dopts = rdMolDraw2D.MolDrawOptions()\n",
        "filename = 'mymolecules'\n",
        "\n",
        "number_of_molecules = 6\n",
        "to_draw = random.sample(range(0, len(df_subset_clean)), number_of_molecules)\n",
        "\n",
        "mols = df_subset_clean[\"mol\"][to_draw]\n",
        "img = Draw.MolsToGridImage(mols, molsPerRow=3, useSVG=True,\n",
        "                           legends=list(df[\"canonical_smiles\"][to_draw].values),\n",
        "                           drawOptions=dopts)\n",
        "\n",
        "# Saving the file\n",
        "if filename is not None:\n",
        "    if not filename.endswith('.svg'):\n",
        "        filename += '.svg'\n",
        "    with open(filename, 'w') as f:\n",
        "        f.write(img)"
      ],
      "metadata": {
        "id": "aSKg8KHppcTs"
      },
      "execution_count": null,
      "outputs": []
    },
    {
      "cell_type": "markdown",
      "source": [
        "## Step 3: Deep Learning"
      ],
      "metadata": {
        "id": "kvXDDaU4bsJ_"
      }
    },
    {
      "cell_type": "markdown",
      "source": [
        "### 3.1: Embedding SMILES for DL processing\n",
        "TODO: Put this process in a preprocessing Keras layer"
      ],
      "metadata": {
        "id": "PNUUZgMzIe1l"
      }
    },
    {
      "cell_type": "markdown",
      "source": [
        "First, we're going to embed the molecules using a pre-trained model"
      ],
      "metadata": {
        "id": "oHAZJUhCij-0"
      }
    },
    {
      "cell_type": "code",
      "source": [
        "import requests\n",
        "\n",
        "url = 'https://github.com/samoturk/mol2vec_notebooks/raw/master/Notebooks/model_300dim.pkl'\n",
        "file_to_download = requests.get(url, allow_redirects=True)\n",
        "\n",
        "open('model_300dim.pkl', 'wb').write(file_to_download.content)"
      ],
      "metadata": {
        "colab": {
          "base_uri": "https://localhost:8080/"
        },
        "id": "Ckima9lhjme-",
        "outputId": "2e9e8ab6-4960-4b85-f04f-ceaeb27ee744"
      },
      "execution_count": null,
      "outputs": [
        {
          "output_type": "execute_result",
          "data": {
            "text/plain": [
              "26567327"
            ]
          },
          "metadata": {},
          "execution_count": 35
        }
      ]
    },
    {
      "cell_type": "code",
      "source": [
        "from mol2vec.features import mol2alt_sentence, mol2sentence, MolSentence, DfVec, sentences2vec"
      ],
      "metadata": {
        "id": "QhILeKUWjsa2"
      },
      "execution_count": null,
      "outputs": []
    },
    {
      "cell_type": "code",
      "source": [
        "#Loading pre-trained model via word2vec\n",
        "from gensim.models import word2vec  # https://radimrehurek.com/gensim/index.html#install\n",
        "w2vec_model = word2vec.Word2Vec.load('model_300dim.pkl') # Download from https://github.com/samoturk/mol2vec_notebo"
      ],
      "metadata": {
        "id": "DV8CMiAEjvvs"
      },
      "execution_count": null,
      "outputs": []
    },
    {
      "cell_type": "code",
      "source": [
        "#Constructing sentences\n",
        "df_subset_clean['sentence'] = df_subset_clean.apply(lambda x: MolSentence(mol2alt_sentence(x['mol'], 1)), axis=1)\n",
        "\n",
        "#Extracting embeddings to a numpy.array\n",
        "#Note that we always should mark unseen='UNK' in sentence2vec() so that model is taught how to handle unknown substructures\n",
        "df_subset_clean['mol2vec'] = [DfVec(x) for x in sentences2vec(df_subset_clean['sentence'], w2vec_model, unseen='UNK')]"
      ],
      "metadata": {
        "id": "wKuIqDxwj_JL"
      },
      "execution_count": null,
      "outputs": []
    },
    {
      "cell_type": "code",
      "source": [
        "df_subset_clean['mol2vec']=df_subset_clean['mol2vec'].apply(lambda x: x.vec)"
      ],
      "metadata": {
        "id": "iJxnw1FAkWwA"
      },
      "execution_count": null,
      "outputs": []
    },
    {
      "cell_type": "code",
      "source": [
        "df_subset_clean.columns.values.tolist()"
      ],
      "metadata": {
        "colab": {
          "base_uri": "https://localhost:8080/"
        },
        "id": "FdG7qYEwkxdb",
        "outputId": "c1e73a12-adbf-4dc8-e00b-37a3e1b87003"
      },
      "execution_count": null,
      "outputs": [
        {
          "output_type": "execute_result",
          "data": {
            "text/plain": [
              "['refcode_csd',\n",
              " 'canonical_smiles',\n",
              " 'number_of_atoms',\n",
              " 'xyz_pbe_relaxed',\n",
              " 'total_energy_pbe',\n",
              " 'mol',\n",
              " 'species',\n",
              " 'tpsa',\n",
              " 'mol_w',\n",
              " 'num_valence_electrons',\n",
              " 'num_heteroatoms',\n",
              " 'sentence',\n",
              " 'mol2vec']"
            ]
          },
          "metadata": {},
          "execution_count": 40
        }
      ]
    },
    {
      "cell_type": "code",
      "source": [
        "final_dataset_columns=['xyz_pbe_relaxed',\n",
        " 'tpsa',\n",
        " 'mol_w',\n",
        " 'num_valence_electrons',\n",
        " 'num_heteroatoms',\n",
        " 'number_of_atoms',\n",
        " 'mol2vec',\n",
        "'total_energy_pbe']\n",
        "\n",
        "final_dataset = df_subset_clean[final_dataset_columns]\n",
        "final_dataset.head(2)"
      ],
      "metadata": {
        "colab": {
          "base_uri": "https://localhost:8080/",
          "height": 298
        },
        "id": "DnlpmwidlI2q",
        "outputId": "dcd9c935-14aa-40ee-bfc5-a052709a873a"
      },
      "execution_count": null,
      "outputs": [
        {
          "output_type": "execute_result",
          "data": {
            "text/plain": [
              "                                     xyz_pbe_relaxed   tpsa       mol_w  \\\n",
              "0  {'O': [['39.55724515', '33.75271314', '38.4091...  85.09  423.047811   \n",
              "1  {'C': [['8.74281024', '13.44863575', '23.16378...  69.96  450.140199   \n",
              "\n",
              "   num_valence_electrons  num_heteroatoms  number_of_atoms  \\\n",
              "0                    142                9               45   \n",
              "1                    162                5               55   \n",
              "\n",
              "                                             mol2vec  total_energy_pbe  \n",
              "0  [-9.885212, 7.283, -11.909391, 2.714392, -7.30...     -63908.261677  \n",
              "1  [-10.063227, 10.888024, -20.65452, 0.42244783,...     -47344.131203  "
            ],
            "text/html": [
              "\n",
              "  <div id=\"df-d48e751e-3dbc-4758-8e76-0a0b7ef0ca7c\">\n",
              "    <div class=\"colab-df-container\">\n",
              "      <div>\n",
              "<style scoped>\n",
              "    .dataframe tbody tr th:only-of-type {\n",
              "        vertical-align: middle;\n",
              "    }\n",
              "\n",
              "    .dataframe tbody tr th {\n",
              "        vertical-align: top;\n",
              "    }\n",
              "\n",
              "    .dataframe thead th {\n",
              "        text-align: right;\n",
              "    }\n",
              "</style>\n",
              "<table border=\"1\" class=\"dataframe\">\n",
              "  <thead>\n",
              "    <tr style=\"text-align: right;\">\n",
              "      <th></th>\n",
              "      <th>xyz_pbe_relaxed</th>\n",
              "      <th>tpsa</th>\n",
              "      <th>mol_w</th>\n",
              "      <th>num_valence_electrons</th>\n",
              "      <th>num_heteroatoms</th>\n",
              "      <th>number_of_atoms</th>\n",
              "      <th>mol2vec</th>\n",
              "      <th>total_energy_pbe</th>\n",
              "    </tr>\n",
              "  </thead>\n",
              "  <tbody>\n",
              "    <tr>\n",
              "      <th>0</th>\n",
              "      <td>{'O': [['39.55724515', '33.75271314', '38.4091...</td>\n",
              "      <td>85.09</td>\n",
              "      <td>423.047811</td>\n",
              "      <td>142</td>\n",
              "      <td>9</td>\n",
              "      <td>45</td>\n",
              "      <td>[-9.885212, 7.283, -11.909391, 2.714392, -7.30...</td>\n",
              "      <td>-63908.261677</td>\n",
              "    </tr>\n",
              "    <tr>\n",
              "      <th>1</th>\n",
              "      <td>{'C': [['8.74281024', '13.44863575', '23.16378...</td>\n",
              "      <td>69.96</td>\n",
              "      <td>450.140199</td>\n",
              "      <td>162</td>\n",
              "      <td>5</td>\n",
              "      <td>55</td>\n",
              "      <td>[-10.063227, 10.888024, -20.65452, 0.42244783,...</td>\n",
              "      <td>-47344.131203</td>\n",
              "    </tr>\n",
              "  </tbody>\n",
              "</table>\n",
              "</div>\n",
              "      <button class=\"colab-df-convert\" onclick=\"convertToInteractive('df-d48e751e-3dbc-4758-8e76-0a0b7ef0ca7c')\"\n",
              "              title=\"Convert this dataframe to an interactive table.\"\n",
              "              style=\"display:none;\">\n",
              "        \n",
              "  <svg xmlns=\"http://www.w3.org/2000/svg\" height=\"24px\"viewBox=\"0 0 24 24\"\n",
              "       width=\"24px\">\n",
              "    <path d=\"M0 0h24v24H0V0z\" fill=\"none\"/>\n",
              "    <path d=\"M18.56 5.44l.94 2.06.94-2.06 2.06-.94-2.06-.94-.94-2.06-.94 2.06-2.06.94zm-11 1L8.5 8.5l.94-2.06 2.06-.94-2.06-.94L8.5 2.5l-.94 2.06-2.06.94zm10 10l.94 2.06.94-2.06 2.06-.94-2.06-.94-.94-2.06-.94 2.06-2.06.94z\"/><path d=\"M17.41 7.96l-1.37-1.37c-.4-.4-.92-.59-1.43-.59-.52 0-1.04.2-1.43.59L10.3 9.45l-7.72 7.72c-.78.78-.78 2.05 0 2.83L4 21.41c.39.39.9.59 1.41.59.51 0 1.02-.2 1.41-.59l7.78-7.78 2.81-2.81c.8-.78.8-2.07 0-2.86zM5.41 20L4 18.59l7.72-7.72 1.47 1.35L5.41 20z\"/>\n",
              "  </svg>\n",
              "      </button>\n",
              "      \n",
              "  <style>\n",
              "    .colab-df-container {\n",
              "      display:flex;\n",
              "      flex-wrap:wrap;\n",
              "      gap: 12px;\n",
              "    }\n",
              "\n",
              "    .colab-df-convert {\n",
              "      background-color: #E8F0FE;\n",
              "      border: none;\n",
              "      border-radius: 50%;\n",
              "      cursor: pointer;\n",
              "      display: none;\n",
              "      fill: #1967D2;\n",
              "      height: 32px;\n",
              "      padding: 0 0 0 0;\n",
              "      width: 32px;\n",
              "    }\n",
              "\n",
              "    .colab-df-convert:hover {\n",
              "      background-color: #E2EBFA;\n",
              "      box-shadow: 0px 1px 2px rgba(60, 64, 67, 0.3), 0px 1px 3px 1px rgba(60, 64, 67, 0.15);\n",
              "      fill: #174EA6;\n",
              "    }\n",
              "\n",
              "    [theme=dark] .colab-df-convert {\n",
              "      background-color: #3B4455;\n",
              "      fill: #D2E3FC;\n",
              "    }\n",
              "\n",
              "    [theme=dark] .colab-df-convert:hover {\n",
              "      background-color: #434B5C;\n",
              "      box-shadow: 0px 1px 3px 1px rgba(0, 0, 0, 0.15);\n",
              "      filter: drop-shadow(0px 1px 2px rgba(0, 0, 0, 0.3));\n",
              "      fill: #FFFFFF;\n",
              "    }\n",
              "  </style>\n",
              "\n",
              "      <script>\n",
              "        const buttonEl =\n",
              "          document.querySelector('#df-d48e751e-3dbc-4758-8e76-0a0b7ef0ca7c button.colab-df-convert');\n",
              "        buttonEl.style.display =\n",
              "          google.colab.kernel.accessAllowed ? 'block' : 'none';\n",
              "\n",
              "        async function convertToInteractive(key) {\n",
              "          const element = document.querySelector('#df-d48e751e-3dbc-4758-8e76-0a0b7ef0ca7c');\n",
              "          const dataTable =\n",
              "            await google.colab.kernel.invokeFunction('convertToInteractive',\n",
              "                                                     [key], {});\n",
              "          if (!dataTable) return;\n",
              "\n",
              "          const docLinkHtml = 'Like what you see? Visit the ' +\n",
              "            '<a target=\"_blank\" href=https://colab.research.google.com/notebooks/data_table.ipynb>data table notebook</a>'\n",
              "            + ' to learn more about interactive tables.';\n",
              "          element.innerHTML = '';\n",
              "          dataTable['output_type'] = 'display_data';\n",
              "          await google.colab.output.renderOutput(dataTable, element);\n",
              "          const docLink = document.createElement('div');\n",
              "          docLink.innerHTML = docLinkHtml;\n",
              "          element.appendChild(docLink);\n",
              "        }\n",
              "      </script>\n",
              "    </div>\n",
              "  </div>\n",
              "  "
            ]
          },
          "metadata": {},
          "execution_count": 41
        }
      ]
    },
    {
      "cell_type": "markdown",
      "source": [
        "# DFT calculations are expensive, so we would like to built a model capable of infering the molecule energy from their atom positions and species"
      ],
      "metadata": {
        "id": "MEYgDXUtlwTO"
      }
    },
    {
      "cell_type": "markdown",
      "source": [
        "## Converting molecules into ASE atoms"
      ],
      "metadata": {
        "id": "z3la9lk7I8fm"
      }
    },
    {
      "cell_type": "code",
      "source": [
        "# Step 1: Get all the atom values in the dataset\n",
        "dict_positions = final_dataset.xyz_pbe_relaxed\n",
        "species = []\n",
        "for dictionary in dict_positions:\n",
        "  for key, value in dictionary.items():\n",
        "    if key not in species:\n",
        "      species.append(key)\n",
        "\n",
        "len(species)"
      ],
      "metadata": {
        "colab": {
          "base_uri": "https://localhost:8080/"
        },
        "id": "IDzV5XGYKxrV",
        "outputId": "8fb2ce86-65f7-4faf-cd36-8d1a1474699d"
      },
      "execution_count": null,
      "outputs": [
        {
          "output_type": "execute_result",
          "data": {
            "text/plain": [
              "16"
            ]
          },
          "metadata": {},
          "execution_count": 42
        }
      ]
    },
    {
      "cell_type": "code",
      "source": [
        "# Step 2: creating new column into the dataset with proper format for ase\n",
        "def dict_to_tuples (x):\n",
        "  \"\"\"\n",
        "  Takes in a dictionary of xyz and returns an array of tuples usable in Atoms.\n",
        "  \"\"\"\n",
        "  positions = []\n",
        "  names = []\n",
        "  for key, value in x.items():\n",
        "    for position in value:\n",
        "      names.append(key)\n",
        "      positions.append(tuple(map(lambda x: float(x), position)))\n",
        "  return names, positions"
      ],
      "metadata": {
        "id": "BmDiz_Z2LB02"
      },
      "execution_count": null,
      "outputs": []
    },
    {
      "cell_type": "code",
      "source": [
        "final_dataset['xyz_pbe_relaxed'] = final_dataset['xyz_pbe_relaxed'].apply(dict_to_tuples)"
      ],
      "metadata": {
        "colab": {
          "base_uri": "https://localhost:8080/"
        },
        "id": "uBqI_-h3LOkl",
        "outputId": "1d6f9f36-7dc5-403a-8421-6ad6c62fe3db"
      },
      "execution_count": null,
      "outputs": [
        {
          "output_type": "stream",
          "name": "stderr",
          "text": [
            "/usr/local/lib/python3.7/dist-packages/ipykernel_launcher.py:1: SettingWithCopyWarning: \n",
            "A value is trying to be set on a copy of a slice from a DataFrame.\n",
            "Try using .loc[row_indexer,col_indexer] = value instead\n",
            "\n",
            "See the caveats in the documentation: https://pandas.pydata.org/pandas-docs/stable/user_guide/indexing.html#returning-a-view-versus-a-copy\n",
            "  \"\"\"Entry point for launching an IPython kernel.\n"
          ]
        }
      ]
    },
    {
      "cell_type": "code",
      "source": [
        "final_dataset.head(2)"
      ],
      "metadata": {
        "colab": {
          "base_uri": "https://localhost:8080/",
          "height": 298
        },
        "id": "dudR3kcbPk_I",
        "outputId": "e59d50b5-1dda-41ef-89aa-617ad78b7377"
      },
      "execution_count": null,
      "outputs": [
        {
          "output_type": "execute_result",
          "data": {
            "text/plain": [
              "                                     xyz_pbe_relaxed   tpsa       mol_w  \\\n",
              "0  ([O, O, O, S, S, C, C, C, C, C, C, C, C, C, C,...  85.09  423.047811   \n",
              "1  ([C, C, C, C, C, C, C, C, C, C, C, C, C, C, C,...  69.96  450.140199   \n",
              "\n",
              "   num_valence_electrons  num_heteroatoms  number_of_atoms  \\\n",
              "0                    142                9               45   \n",
              "1                    162                5               55   \n",
              "\n",
              "                                             mol2vec  total_energy_pbe  \n",
              "0  [-9.885212, 7.283, -11.909391, 2.714392, -7.30...     -63908.261677  \n",
              "1  [-10.063227, 10.888024, -20.65452, 0.42244783,...     -47344.131203  "
            ],
            "text/html": [
              "\n",
              "  <div id=\"df-e6e862ce-d4f9-43f2-95d4-23ce066a97f1\">\n",
              "    <div class=\"colab-df-container\">\n",
              "      <div>\n",
              "<style scoped>\n",
              "    .dataframe tbody tr th:only-of-type {\n",
              "        vertical-align: middle;\n",
              "    }\n",
              "\n",
              "    .dataframe tbody tr th {\n",
              "        vertical-align: top;\n",
              "    }\n",
              "\n",
              "    .dataframe thead th {\n",
              "        text-align: right;\n",
              "    }\n",
              "</style>\n",
              "<table border=\"1\" class=\"dataframe\">\n",
              "  <thead>\n",
              "    <tr style=\"text-align: right;\">\n",
              "      <th></th>\n",
              "      <th>xyz_pbe_relaxed</th>\n",
              "      <th>tpsa</th>\n",
              "      <th>mol_w</th>\n",
              "      <th>num_valence_electrons</th>\n",
              "      <th>num_heteroatoms</th>\n",
              "      <th>number_of_atoms</th>\n",
              "      <th>mol2vec</th>\n",
              "      <th>total_energy_pbe</th>\n",
              "    </tr>\n",
              "  </thead>\n",
              "  <tbody>\n",
              "    <tr>\n",
              "      <th>0</th>\n",
              "      <td>([O, O, O, S, S, C, C, C, C, C, C, C, C, C, C,...</td>\n",
              "      <td>85.09</td>\n",
              "      <td>423.047811</td>\n",
              "      <td>142</td>\n",
              "      <td>9</td>\n",
              "      <td>45</td>\n",
              "      <td>[-9.885212, 7.283, -11.909391, 2.714392, -7.30...</td>\n",
              "      <td>-63908.261677</td>\n",
              "    </tr>\n",
              "    <tr>\n",
              "      <th>1</th>\n",
              "      <td>([C, C, C, C, C, C, C, C, C, C, C, C, C, C, C,...</td>\n",
              "      <td>69.96</td>\n",
              "      <td>450.140199</td>\n",
              "      <td>162</td>\n",
              "      <td>5</td>\n",
              "      <td>55</td>\n",
              "      <td>[-10.063227, 10.888024, -20.65452, 0.42244783,...</td>\n",
              "      <td>-47344.131203</td>\n",
              "    </tr>\n",
              "  </tbody>\n",
              "</table>\n",
              "</div>\n",
              "      <button class=\"colab-df-convert\" onclick=\"convertToInteractive('df-e6e862ce-d4f9-43f2-95d4-23ce066a97f1')\"\n",
              "              title=\"Convert this dataframe to an interactive table.\"\n",
              "              style=\"display:none;\">\n",
              "        \n",
              "  <svg xmlns=\"http://www.w3.org/2000/svg\" height=\"24px\"viewBox=\"0 0 24 24\"\n",
              "       width=\"24px\">\n",
              "    <path d=\"M0 0h24v24H0V0z\" fill=\"none\"/>\n",
              "    <path d=\"M18.56 5.44l.94 2.06.94-2.06 2.06-.94-2.06-.94-.94-2.06-.94 2.06-2.06.94zm-11 1L8.5 8.5l.94-2.06 2.06-.94-2.06-.94L8.5 2.5l-.94 2.06-2.06.94zm10 10l.94 2.06.94-2.06 2.06-.94-2.06-.94-.94-2.06-.94 2.06-2.06.94z\"/><path d=\"M17.41 7.96l-1.37-1.37c-.4-.4-.92-.59-1.43-.59-.52 0-1.04.2-1.43.59L10.3 9.45l-7.72 7.72c-.78.78-.78 2.05 0 2.83L4 21.41c.39.39.9.59 1.41.59.51 0 1.02-.2 1.41-.59l7.78-7.78 2.81-2.81c.8-.78.8-2.07 0-2.86zM5.41 20L4 18.59l7.72-7.72 1.47 1.35L5.41 20z\"/>\n",
              "  </svg>\n",
              "      </button>\n",
              "      \n",
              "  <style>\n",
              "    .colab-df-container {\n",
              "      display:flex;\n",
              "      flex-wrap:wrap;\n",
              "      gap: 12px;\n",
              "    }\n",
              "\n",
              "    .colab-df-convert {\n",
              "      background-color: #E8F0FE;\n",
              "      border: none;\n",
              "      border-radius: 50%;\n",
              "      cursor: pointer;\n",
              "      display: none;\n",
              "      fill: #1967D2;\n",
              "      height: 32px;\n",
              "      padding: 0 0 0 0;\n",
              "      width: 32px;\n",
              "    }\n",
              "\n",
              "    .colab-df-convert:hover {\n",
              "      background-color: #E2EBFA;\n",
              "      box-shadow: 0px 1px 2px rgba(60, 64, 67, 0.3), 0px 1px 3px 1px rgba(60, 64, 67, 0.15);\n",
              "      fill: #174EA6;\n",
              "    }\n",
              "\n",
              "    [theme=dark] .colab-df-convert {\n",
              "      background-color: #3B4455;\n",
              "      fill: #D2E3FC;\n",
              "    }\n",
              "\n",
              "    [theme=dark] .colab-df-convert:hover {\n",
              "      background-color: #434B5C;\n",
              "      box-shadow: 0px 1px 3px 1px rgba(0, 0, 0, 0.15);\n",
              "      filter: drop-shadow(0px 1px 2px rgba(0, 0, 0, 0.3));\n",
              "      fill: #FFFFFF;\n",
              "    }\n",
              "  </style>\n",
              "\n",
              "      <script>\n",
              "        const buttonEl =\n",
              "          document.querySelector('#df-e6e862ce-d4f9-43f2-95d4-23ce066a97f1 button.colab-df-convert');\n",
              "        buttonEl.style.display =\n",
              "          google.colab.kernel.accessAllowed ? 'block' : 'none';\n",
              "\n",
              "        async function convertToInteractive(key) {\n",
              "          const element = document.querySelector('#df-e6e862ce-d4f9-43f2-95d4-23ce066a97f1');\n",
              "          const dataTable =\n",
              "            await google.colab.kernel.invokeFunction('convertToInteractive',\n",
              "                                                     [key], {});\n",
              "          if (!dataTable) return;\n",
              "\n",
              "          const docLinkHtml = 'Like what you see? Visit the ' +\n",
              "            '<a target=\"_blank\" href=https://colab.research.google.com/notebooks/data_table.ipynb>data table notebook</a>'\n",
              "            + ' to learn more about interactive tables.';\n",
              "          element.innerHTML = '';\n",
              "          dataTable['output_type'] = 'display_data';\n",
              "          await google.colab.output.renderOutput(dataTable, element);\n",
              "          const docLink = document.createElement('div');\n",
              "          docLink.innerHTML = docLinkHtml;\n",
              "          element.appendChild(docLink);\n",
              "        }\n",
              "      </script>\n",
              "    </div>\n",
              "  </div>\n",
              "  "
            ]
          },
          "metadata": {},
          "execution_count": 45
        }
      ]
    },
    {
      "cell_type": "code",
      "source": [
        "# Converting this last column into Atoms objects. This function cannot be parallelized\n",
        "final_dataset['xyz_pbe_relaxed'] =  final_dataset['xyz_pbe_relaxed'].apply(lambda x: Atoms(x[0], x[1]))"
      ],
      "metadata": {
        "colab": {
          "base_uri": "https://localhost:8080/"
        },
        "id": "_r2qR1VDNdyf",
        "outputId": "45c63c1a-fbf4-4e27-ed6f-bb7076277803"
      },
      "execution_count": null,
      "outputs": [
        {
          "output_type": "stream",
          "name": "stderr",
          "text": [
            "/usr/local/lib/python3.7/dist-packages/ipykernel_launcher.py:2: SettingWithCopyWarning: \n",
            "A value is trying to be set on a copy of a slice from a DataFrame.\n",
            "Try using .loc[row_indexer,col_indexer] = value instead\n",
            "\n",
            "See the caveats in the documentation: https://pandas.pydata.org/pandas-docs/stable/user_guide/indexing.html#returning-a-view-versus-a-copy\n",
            "  \n"
          ]
        }
      ]
    },
    {
      "cell_type": "code",
      "source": [
        "final_dataset.head(2)"
      ],
      "metadata": {
        "colab": {
          "base_uri": "https://localhost:8080/",
          "height": 298
        },
        "id": "01SG4tIeOTtP",
        "outputId": "787b7cd5-2fdd-4761-9d13-6523cf475df4"
      },
      "execution_count": null,
      "outputs": [
        {
          "output_type": "execute_result",
          "data": {
            "text/plain": [
              "                                     xyz_pbe_relaxed   tpsa       mol_w  \\\n",
              "0  (Atom('O', [39.55724515, 33.75271314, 38.40917...  85.09  423.047811   \n",
              "1  (Atom('C', [8.74281024, 13.44863575, 23.163783...  69.96  450.140199   \n",
              "\n",
              "   num_valence_electrons  num_heteroatoms  number_of_atoms  \\\n",
              "0                    142                9               45   \n",
              "1                    162                5               55   \n",
              "\n",
              "                                             mol2vec  total_energy_pbe  \n",
              "0  [-9.885212, 7.283, -11.909391, 2.714392, -7.30...     -63908.261677  \n",
              "1  [-10.063227, 10.888024, -20.65452, 0.42244783,...     -47344.131203  "
            ],
            "text/html": [
              "\n",
              "  <div id=\"df-07162401-39d2-4802-9107-c8891112b27c\">\n",
              "    <div class=\"colab-df-container\">\n",
              "      <div>\n",
              "<style scoped>\n",
              "    .dataframe tbody tr th:only-of-type {\n",
              "        vertical-align: middle;\n",
              "    }\n",
              "\n",
              "    .dataframe tbody tr th {\n",
              "        vertical-align: top;\n",
              "    }\n",
              "\n",
              "    .dataframe thead th {\n",
              "        text-align: right;\n",
              "    }\n",
              "</style>\n",
              "<table border=\"1\" class=\"dataframe\">\n",
              "  <thead>\n",
              "    <tr style=\"text-align: right;\">\n",
              "      <th></th>\n",
              "      <th>xyz_pbe_relaxed</th>\n",
              "      <th>tpsa</th>\n",
              "      <th>mol_w</th>\n",
              "      <th>num_valence_electrons</th>\n",
              "      <th>num_heteroatoms</th>\n",
              "      <th>number_of_atoms</th>\n",
              "      <th>mol2vec</th>\n",
              "      <th>total_energy_pbe</th>\n",
              "    </tr>\n",
              "  </thead>\n",
              "  <tbody>\n",
              "    <tr>\n",
              "      <th>0</th>\n",
              "      <td>(Atom('O', [39.55724515, 33.75271314, 38.40917...</td>\n",
              "      <td>85.09</td>\n",
              "      <td>423.047811</td>\n",
              "      <td>142</td>\n",
              "      <td>9</td>\n",
              "      <td>45</td>\n",
              "      <td>[-9.885212, 7.283, -11.909391, 2.714392, -7.30...</td>\n",
              "      <td>-63908.261677</td>\n",
              "    </tr>\n",
              "    <tr>\n",
              "      <th>1</th>\n",
              "      <td>(Atom('C', [8.74281024, 13.44863575, 23.163783...</td>\n",
              "      <td>69.96</td>\n",
              "      <td>450.140199</td>\n",
              "      <td>162</td>\n",
              "      <td>5</td>\n",
              "      <td>55</td>\n",
              "      <td>[-10.063227, 10.888024, -20.65452, 0.42244783,...</td>\n",
              "      <td>-47344.131203</td>\n",
              "    </tr>\n",
              "  </tbody>\n",
              "</table>\n",
              "</div>\n",
              "      <button class=\"colab-df-convert\" onclick=\"convertToInteractive('df-07162401-39d2-4802-9107-c8891112b27c')\"\n",
              "              title=\"Convert this dataframe to an interactive table.\"\n",
              "              style=\"display:none;\">\n",
              "        \n",
              "  <svg xmlns=\"http://www.w3.org/2000/svg\" height=\"24px\"viewBox=\"0 0 24 24\"\n",
              "       width=\"24px\">\n",
              "    <path d=\"M0 0h24v24H0V0z\" fill=\"none\"/>\n",
              "    <path d=\"M18.56 5.44l.94 2.06.94-2.06 2.06-.94-2.06-.94-.94-2.06-.94 2.06-2.06.94zm-11 1L8.5 8.5l.94-2.06 2.06-.94-2.06-.94L8.5 2.5l-.94 2.06-2.06.94zm10 10l.94 2.06.94-2.06 2.06-.94-2.06-.94-.94-2.06-.94 2.06-2.06.94z\"/><path d=\"M17.41 7.96l-1.37-1.37c-.4-.4-.92-.59-1.43-.59-.52 0-1.04.2-1.43.59L10.3 9.45l-7.72 7.72c-.78.78-.78 2.05 0 2.83L4 21.41c.39.39.9.59 1.41.59.51 0 1.02-.2 1.41-.59l7.78-7.78 2.81-2.81c.8-.78.8-2.07 0-2.86zM5.41 20L4 18.59l7.72-7.72 1.47 1.35L5.41 20z\"/>\n",
              "  </svg>\n",
              "      </button>\n",
              "      \n",
              "  <style>\n",
              "    .colab-df-container {\n",
              "      display:flex;\n",
              "      flex-wrap:wrap;\n",
              "      gap: 12px;\n",
              "    }\n",
              "\n",
              "    .colab-df-convert {\n",
              "      background-color: #E8F0FE;\n",
              "      border: none;\n",
              "      border-radius: 50%;\n",
              "      cursor: pointer;\n",
              "      display: none;\n",
              "      fill: #1967D2;\n",
              "      height: 32px;\n",
              "      padding: 0 0 0 0;\n",
              "      width: 32px;\n",
              "    }\n",
              "\n",
              "    .colab-df-convert:hover {\n",
              "      background-color: #E2EBFA;\n",
              "      box-shadow: 0px 1px 2px rgba(60, 64, 67, 0.3), 0px 1px 3px 1px rgba(60, 64, 67, 0.15);\n",
              "      fill: #174EA6;\n",
              "    }\n",
              "\n",
              "    [theme=dark] .colab-df-convert {\n",
              "      background-color: #3B4455;\n",
              "      fill: #D2E3FC;\n",
              "    }\n",
              "\n",
              "    [theme=dark] .colab-df-convert:hover {\n",
              "      background-color: #434B5C;\n",
              "      box-shadow: 0px 1px 3px 1px rgba(0, 0, 0, 0.15);\n",
              "      filter: drop-shadow(0px 1px 2px rgba(0, 0, 0, 0.3));\n",
              "      fill: #FFFFFF;\n",
              "    }\n",
              "  </style>\n",
              "\n",
              "      <script>\n",
              "        const buttonEl =\n",
              "          document.querySelector('#df-07162401-39d2-4802-9107-c8891112b27c button.colab-df-convert');\n",
              "        buttonEl.style.display =\n",
              "          google.colab.kernel.accessAllowed ? 'block' : 'none';\n",
              "\n",
              "        async function convertToInteractive(key) {\n",
              "          const element = document.querySelector('#df-07162401-39d2-4802-9107-c8891112b27c');\n",
              "          const dataTable =\n",
              "            await google.colab.kernel.invokeFunction('convertToInteractive',\n",
              "                                                     [key], {});\n",
              "          if (!dataTable) return;\n",
              "\n",
              "          const docLinkHtml = 'Like what you see? Visit the ' +\n",
              "            '<a target=\"_blank\" href=https://colab.research.google.com/notebooks/data_table.ipynb>data table notebook</a>'\n",
              "            + ' to learn more about interactive tables.';\n",
              "          element.innerHTML = '';\n",
              "          dataTable['output_type'] = 'display_data';\n",
              "          await google.colab.output.renderOutput(dataTable, element);\n",
              "          const docLink = document.createElement('div');\n",
              "          docLink.innerHTML = docLinkHtml;\n",
              "          element.appendChild(docLink);\n",
              "        }\n",
              "      </script>\n",
              "    </div>\n",
              "  </div>\n",
              "  "
            ]
          },
          "metadata": {},
          "execution_count": 47
        }
      ]
    },
    {
      "cell_type": "markdown",
      "source": [
        "## Creating MBTR descriptor\n"
      ],
      "metadata": {
        "id": "wXiKqbVdOld_"
      }
    },
    {
      "cell_type": "code",
      "source": [
        "# Defining descriptor parameters\n",
        "k1 = {\n",
        "    \"geometry\": {\"function\": \"atomic_number\"},\n",
        "    \"grid\": {\"min\": 1, \"max\": 85, \"sigma\": 0.1, \"n\": 20}  # Max atomic number is\n",
        "                                                          # astatine\n",
        "}\n",
        "\n",
        "k2 = {\n",
        "    \"geometry\": {\"function\": \"inverse_distance\"},\n",
        "    \"grid\": {\"min\": 0.1, \"max\": 1, \"sigma\": 0.02, \"n\": 20}, # No distance smaller than 1 A\n",
        "    \"weighting\": {\"function\": \"exp\", \"r_cut\": 10, \"threshold\": 1e-3}\n",
        "}\n",
        "\n",
        "k3 = {\n",
        "    \"geometry\": {\"function\": \"cosine\"},\n",
        "    \"grid\": {\"min\": -1, \"max\": 1, \"sigma\": 0.02, \"n\": 20},\n",
        "    \"weighting\" : {\"function\": \"exp\", \"r_cut\": 10, \"threshold\": 1e-3}\n",
        "}"
      ],
      "metadata": {
        "id": "c-b4mXNvUCXN"
      },
      "execution_count": null,
      "outputs": []
    },
    {
      "cell_type": "code",
      "source": [
        "# Instantiating the descriptor and determining number of features\n",
        "mbtr = MBTR(species = species,\n",
        "            periodic = False,\n",
        "            k1 = k1,\n",
        "            k2 = k2,\n",
        "            k3 = k3,\n",
        "            flatten = False,\n",
        "            sparse = False,\n",
        "            normalization = 'l2_each')\n",
        "print(f\"Number of features: {mbtr.get_number_of_features()}\")"
      ],
      "metadata": {
        "colab": {
          "base_uri": "https://localhost:8080/"
        },
        "id": "aDse3qB1UKtZ",
        "outputId": "27b17a28-afc0-4702-b42c-16263eddd22c"
      },
      "execution_count": null,
      "outputs": [
        {
          "output_type": "stream",
          "name": "stdout",
          "text": [
            "Number of features: 46560\n"
          ]
        }
      ]
    },
    {
      "cell_type": "markdown",
      "source": [
        "## Creating Coulomb Matrix descriptor"
      ],
      "metadata": {
        "id": "D8qjql5oXUJD"
      }
    },
    {
      "cell_type": "code",
      "source": [
        "final_dataset"
      ],
      "metadata": {
        "colab": {
          "base_uri": "https://localhost:8080/",
          "height": 1000
        },
        "id": "nSNOLR4-XXTS",
        "outputId": "843f3fcf-90b1-449a-bae4-287b1a038b89"
      },
      "execution_count": null,
      "outputs": [
        {
          "output_type": "execute_result",
          "data": {
            "text/plain": [
              "                                         xyz_pbe_relaxed    tpsa       mol_w  \\\n",
              "0      (Atom('O', [39.55724515, 33.75271314, 38.40917...   85.09  423.047811   \n",
              "1      (Atom('C', [8.74281024, 13.44863575, 23.163783...   69.96  450.140199   \n",
              "2      (Atom('N', [23.84904338, 42.50577669, 35.03884...   51.81  229.030983   \n",
              "3      (Atom('C', [36.52340453, 39.6406703, 25.169233...   34.14  228.062029   \n",
              "4      (Atom('C', [3.95256786, 17.67855833, 24.828774...  123.58  226.022586   \n",
              "...                                                  ...     ...         ...   \n",
              "61032  (Atom('C', [22.26969809, 41.92804704, 35.46939...   78.90  420.251189   \n",
              "61033  (Atom('O', [33.93699398, 43.81820335, 40.73492...   61.69  308.011933   \n",
              "61034  (Atom('C', [22.97323141, 39.02044458, 27.93148...    0.00  208.125201   \n",
              "61035  (Atom('O', [56.17414946, 59.56569287, 49.15323...   92.78  576.012133   \n",
              "61036  (Atom('H', [23.16403631, 26.06955118, 20.53284...  144.35  268.080769   \n",
              "\n",
              "       num_valence_electrons  num_heteroatoms  number_of_atoms  \\\n",
              "0                        142                9               45   \n",
              "1                        162                5               55   \n",
              "2                         78                5               23   \n",
              "3                         82                4               28   \n",
              "4                         84                8               22   \n",
              "...                      ...              ...              ...   \n",
              "61032                    168                6               66   \n",
              "61033                    102                6               30   \n",
              "61034                     80                0               32   \n",
              "61035                    182               10               57   \n",
              "61036                    102                9               31   \n",
              "\n",
              "                                                 mol2vec  total_energy_pbe  \n",
              "0      [-9.885212, 7.283, -11.909391, 2.714392, -7.30...     -63908.261677  \n",
              "1      [-10.063227, 10.888024, -20.65452, 0.42244783,...     -47344.131203  \n",
              "2      [-5.338256, 3.8927343, -6.896216, -0.27919152,...     -28915.979909  \n",
              "3      [-4.85507, 5.27727, -9.770724, 2.1801903, -2.5...     -29310.525400  \n",
              "4      [-3.7424397, 6.9630003, -7.5874896, 3.2785816,...     -23659.206412  \n",
              "...                                                  ...               ...  \n",
              "61032  [-11.613864, 11.018429, -15.99478, 4.44409, -5...     -37759.078750  \n",
              "61033  [-6.1590996, 6.9757314, -8.373731, 0.45949158,...     -46914.426056  \n",
              "61034  [-10.404796, 8.853079, -10.362222, -3.2704961,...     -16847.126386  \n",
              "61035  [-10.337876, 9.518248, -17.89608, 0.178429, -7...    -134363.234235  \n",
              "61036  [-5.6385713, 7.807969, -10.580486, -2.2421367,...     -26766.630224  \n",
              "\n",
              "[61037 rows x 8 columns]"
            ],
            "text/html": [
              "\n",
              "  <div id=\"df-c56ed579-5b78-43d7-82dd-7e8935bdf57d\">\n",
              "    <div class=\"colab-df-container\">\n",
              "      <div>\n",
              "<style scoped>\n",
              "    .dataframe tbody tr th:only-of-type {\n",
              "        vertical-align: middle;\n",
              "    }\n",
              "\n",
              "    .dataframe tbody tr th {\n",
              "        vertical-align: top;\n",
              "    }\n",
              "\n",
              "    .dataframe thead th {\n",
              "        text-align: right;\n",
              "    }\n",
              "</style>\n",
              "<table border=\"1\" class=\"dataframe\">\n",
              "  <thead>\n",
              "    <tr style=\"text-align: right;\">\n",
              "      <th></th>\n",
              "      <th>xyz_pbe_relaxed</th>\n",
              "      <th>tpsa</th>\n",
              "      <th>mol_w</th>\n",
              "      <th>num_valence_electrons</th>\n",
              "      <th>num_heteroatoms</th>\n",
              "      <th>number_of_atoms</th>\n",
              "      <th>mol2vec</th>\n",
              "      <th>total_energy_pbe</th>\n",
              "    </tr>\n",
              "  </thead>\n",
              "  <tbody>\n",
              "    <tr>\n",
              "      <th>0</th>\n",
              "      <td>(Atom('O', [39.55724515, 33.75271314, 38.40917...</td>\n",
              "      <td>85.09</td>\n",
              "      <td>423.047811</td>\n",
              "      <td>142</td>\n",
              "      <td>9</td>\n",
              "      <td>45</td>\n",
              "      <td>[-9.885212, 7.283, -11.909391, 2.714392, -7.30...</td>\n",
              "      <td>-63908.261677</td>\n",
              "    </tr>\n",
              "    <tr>\n",
              "      <th>1</th>\n",
              "      <td>(Atom('C', [8.74281024, 13.44863575, 23.163783...</td>\n",
              "      <td>69.96</td>\n",
              "      <td>450.140199</td>\n",
              "      <td>162</td>\n",
              "      <td>5</td>\n",
              "      <td>55</td>\n",
              "      <td>[-10.063227, 10.888024, -20.65452, 0.42244783,...</td>\n",
              "      <td>-47344.131203</td>\n",
              "    </tr>\n",
              "    <tr>\n",
              "      <th>2</th>\n",
              "      <td>(Atom('N', [23.84904338, 42.50577669, 35.03884...</td>\n",
              "      <td>51.81</td>\n",
              "      <td>229.030983</td>\n",
              "      <td>78</td>\n",
              "      <td>5</td>\n",
              "      <td>23</td>\n",
              "      <td>[-5.338256, 3.8927343, -6.896216, -0.27919152,...</td>\n",
              "      <td>-28915.979909</td>\n",
              "    </tr>\n",
              "    <tr>\n",
              "      <th>3</th>\n",
              "      <td>(Atom('C', [36.52340453, 39.6406703, 25.169233...</td>\n",
              "      <td>34.14</td>\n",
              "      <td>228.062029</td>\n",
              "      <td>82</td>\n",
              "      <td>4</td>\n",
              "      <td>28</td>\n",
              "      <td>[-4.85507, 5.27727, -9.770724, 2.1801903, -2.5...</td>\n",
              "      <td>-29310.525400</td>\n",
              "    </tr>\n",
              "    <tr>\n",
              "      <th>4</th>\n",
              "      <td>(Atom('C', [3.95256786, 17.67855833, 24.828774...</td>\n",
              "      <td>123.58</td>\n",
              "      <td>226.022586</td>\n",
              "      <td>84</td>\n",
              "      <td>8</td>\n",
              "      <td>22</td>\n",
              "      <td>[-3.7424397, 6.9630003, -7.5874896, 3.2785816,...</td>\n",
              "      <td>-23659.206412</td>\n",
              "    </tr>\n",
              "    <tr>\n",
              "      <th>...</th>\n",
              "      <td>...</td>\n",
              "      <td>...</td>\n",
              "      <td>...</td>\n",
              "      <td>...</td>\n",
              "      <td>...</td>\n",
              "      <td>...</td>\n",
              "      <td>...</td>\n",
              "      <td>...</td>\n",
              "    </tr>\n",
              "    <tr>\n",
              "      <th>61032</th>\n",
              "      <td>(Atom('C', [22.26969809, 41.92804704, 35.46939...</td>\n",
              "      <td>78.90</td>\n",
              "      <td>420.251189</td>\n",
              "      <td>168</td>\n",
              "      <td>6</td>\n",
              "      <td>66</td>\n",
              "      <td>[-11.613864, 11.018429, -15.99478, 4.44409, -5...</td>\n",
              "      <td>-37759.078750</td>\n",
              "    </tr>\n",
              "    <tr>\n",
              "      <th>61033</th>\n",
              "      <td>(Atom('O', [33.93699398, 43.81820335, 40.73492...</td>\n",
              "      <td>61.69</td>\n",
              "      <td>308.011933</td>\n",
              "      <td>102</td>\n",
              "      <td>6</td>\n",
              "      <td>30</td>\n",
              "      <td>[-6.1590996, 6.9757314, -8.373731, 0.45949158,...</td>\n",
              "      <td>-46914.426056</td>\n",
              "    </tr>\n",
              "    <tr>\n",
              "      <th>61034</th>\n",
              "      <td>(Atom('C', [22.97323141, 39.02044458, 27.93148...</td>\n",
              "      <td>0.00</td>\n",
              "      <td>208.125201</td>\n",
              "      <td>80</td>\n",
              "      <td>0</td>\n",
              "      <td>32</td>\n",
              "      <td>[-10.404796, 8.853079, -10.362222, -3.2704961,...</td>\n",
              "      <td>-16847.126386</td>\n",
              "    </tr>\n",
              "    <tr>\n",
              "      <th>61035</th>\n",
              "      <td>(Atom('O', [56.17414946, 59.56569287, 49.15323...</td>\n",
              "      <td>92.78</td>\n",
              "      <td>576.012133</td>\n",
              "      <td>182</td>\n",
              "      <td>10</td>\n",
              "      <td>57</td>\n",
              "      <td>[-10.337876, 9.518248, -17.89608, 0.178429, -7...</td>\n",
              "      <td>-134363.234235</td>\n",
              "    </tr>\n",
              "    <tr>\n",
              "      <th>61036</th>\n",
              "      <td>(Atom('H', [23.16403631, 26.06955118, 20.53284...</td>\n",
              "      <td>144.35</td>\n",
              "      <td>268.080769</td>\n",
              "      <td>102</td>\n",
              "      <td>9</td>\n",
              "      <td>31</td>\n",
              "      <td>[-5.6385713, 7.807969, -10.580486, -2.2421367,...</td>\n",
              "      <td>-26766.630224</td>\n",
              "    </tr>\n",
              "  </tbody>\n",
              "</table>\n",
              "<p>61037 rows × 8 columns</p>\n",
              "</div>\n",
              "      <button class=\"colab-df-convert\" onclick=\"convertToInteractive('df-c56ed579-5b78-43d7-82dd-7e8935bdf57d')\"\n",
              "              title=\"Convert this dataframe to an interactive table.\"\n",
              "              style=\"display:none;\">\n",
              "        \n",
              "  <svg xmlns=\"http://www.w3.org/2000/svg\" height=\"24px\"viewBox=\"0 0 24 24\"\n",
              "       width=\"24px\">\n",
              "    <path d=\"M0 0h24v24H0V0z\" fill=\"none\"/>\n",
              "    <path d=\"M18.56 5.44l.94 2.06.94-2.06 2.06-.94-2.06-.94-.94-2.06-.94 2.06-2.06.94zm-11 1L8.5 8.5l.94-2.06 2.06-.94-2.06-.94L8.5 2.5l-.94 2.06-2.06.94zm10 10l.94 2.06.94-2.06 2.06-.94-2.06-.94-.94-2.06-.94 2.06-2.06.94z\"/><path d=\"M17.41 7.96l-1.37-1.37c-.4-.4-.92-.59-1.43-.59-.52 0-1.04.2-1.43.59L10.3 9.45l-7.72 7.72c-.78.78-.78 2.05 0 2.83L4 21.41c.39.39.9.59 1.41.59.51 0 1.02-.2 1.41-.59l7.78-7.78 2.81-2.81c.8-.78.8-2.07 0-2.86zM5.41 20L4 18.59l7.72-7.72 1.47 1.35L5.41 20z\"/>\n",
              "  </svg>\n",
              "      </button>\n",
              "      \n",
              "  <style>\n",
              "    .colab-df-container {\n",
              "      display:flex;\n",
              "      flex-wrap:wrap;\n",
              "      gap: 12px;\n",
              "    }\n",
              "\n",
              "    .colab-df-convert {\n",
              "      background-color: #E8F0FE;\n",
              "      border: none;\n",
              "      border-radius: 50%;\n",
              "      cursor: pointer;\n",
              "      display: none;\n",
              "      fill: #1967D2;\n",
              "      height: 32px;\n",
              "      padding: 0 0 0 0;\n",
              "      width: 32px;\n",
              "    }\n",
              "\n",
              "    .colab-df-convert:hover {\n",
              "      background-color: #E2EBFA;\n",
              "      box-shadow: 0px 1px 2px rgba(60, 64, 67, 0.3), 0px 1px 3px 1px rgba(60, 64, 67, 0.15);\n",
              "      fill: #174EA6;\n",
              "    }\n",
              "\n",
              "    [theme=dark] .colab-df-convert {\n",
              "      background-color: #3B4455;\n",
              "      fill: #D2E3FC;\n",
              "    }\n",
              "\n",
              "    [theme=dark] .colab-df-convert:hover {\n",
              "      background-color: #434B5C;\n",
              "      box-shadow: 0px 1px 3px 1px rgba(0, 0, 0, 0.15);\n",
              "      filter: drop-shadow(0px 1px 2px rgba(0, 0, 0, 0.3));\n",
              "      fill: #FFFFFF;\n",
              "    }\n",
              "  </style>\n",
              "\n",
              "      <script>\n",
              "        const buttonEl =\n",
              "          document.querySelector('#df-c56ed579-5b78-43d7-82dd-7e8935bdf57d button.colab-df-convert');\n",
              "        buttonEl.style.display =\n",
              "          google.colab.kernel.accessAllowed ? 'block' : 'none';\n",
              "\n",
              "        async function convertToInteractive(key) {\n",
              "          const element = document.querySelector('#df-c56ed579-5b78-43d7-82dd-7e8935bdf57d');\n",
              "          const dataTable =\n",
              "            await google.colab.kernel.invokeFunction('convertToInteractive',\n",
              "                                                     [key], {});\n",
              "          if (!dataTable) return;\n",
              "\n",
              "          const docLinkHtml = 'Like what you see? Visit the ' +\n",
              "            '<a target=\"_blank\" href=https://colab.research.google.com/notebooks/data_table.ipynb>data table notebook</a>'\n",
              "            + ' to learn more about interactive tables.';\n",
              "          element.innerHTML = '';\n",
              "          dataTable['output_type'] = 'display_data';\n",
              "          await google.colab.output.renderOutput(dataTable, element);\n",
              "          const docLink = document.createElement('div');\n",
              "          docLink.innerHTML = docLinkHtml;\n",
              "          element.appendChild(docLink);\n",
              "        }\n",
              "      </script>\n",
              "    </div>\n",
              "  </div>\n",
              "  "
            ]
          },
          "metadata": {},
          "execution_count": 50
        }
      ]
    },
    {
      "cell_type": "code",
      "source": [
        "max(final_dataset.number_of_atoms)"
      ],
      "metadata": {
        "colab": {
          "base_uri": "https://localhost:8080/"
        },
        "id": "zMvQqb5wZJih",
        "outputId": "011c9ab3-0a88-4161-b3d2-61e1cefd268f"
      },
      "execution_count": null,
      "outputs": [
        {
          "output_type": "execute_result",
          "data": {
            "text/plain": [
              "174"
            ]
          },
          "metadata": {},
          "execution_count": 51
        }
      ]
    },
    {
      "cell_type": "code",
      "source": [
        "coulomb = CoulombMatrix(max(final_dataset.number_of_atoms), permutation='sorted_l2', sigma=None, seed=None, flatten=False, sparse=False)"
      ],
      "metadata": {
        "id": "18KSroQlX4UD"
      },
      "execution_count": null,
      "outputs": []
    },
    {
      "cell_type": "code",
      "source": [
        "coulomb.create(final_dataset.xyz_pbe_relaxed)"
      ],
      "metadata": {
        "id": "b3cq3ancZZ3k"
      },
      "execution_count": null,
      "outputs": []
    },
    {
      "cell_type": "markdown",
      "source": [
        "# Tensorflow analysis"
      ],
      "metadata": {
        "id": "wpkG05p7VcZx"
      }
    },
    {
      "cell_type": "markdown",
      "source": [
        "import tensorflow as tf\n",
        "import tensorflow_io as tfio\n",
        "from tensorflow.keras.utils import plot_model"
      ],
      "metadata": {
        "id": "O8V50AQPZPEt"
      }
    },
    {
      "cell_type": "markdown",
      "source": [
        "final_dataset.dtypes"
      ],
      "metadata": {
        "id": "YDn2rsi1ZWzL"
      }
    },
    {
      "cell_type": "markdown",
      "source": [
        "test_tensor = mbtr.create(final_dataset.xyz_pbe_relaxed.iloc[1])"
      ],
      "metadata": {
        "id": "2LwekvQRbGtC"
      }
    },
    {
      "cell_type": "markdown",
      "source": [
        "type(test_tensor['k3'])"
      ],
      "metadata": {
        "id": "L4Zr7Rn6cI8K"
      }
    },
    {
      "cell_type": "markdown",
      "source": [
        "def stack_dict(inputs, fun = tf.stack):\n",
        "  values = []\n",
        "  for key in sorted(inputs.keys()):\n",
        "    values.append(tf.cast(inputs[key], tf.float32))\n",
        "  return fun(values, axis = -1)"
      ],
      "metadata": {
        "id": "0N2DmIgDcQ8V"
      }
    },
    {
      "cell_type": "markdown",
      "source": [
        "tf.cast(test_tensor['k3'], tf.float32)"
      ],
      "metadata": {
        "id": "LTgpxqy2cfgh"
      }
    },
    {
      "cell_type": "markdown",
      "source": [
        "inputs = {}\n",
        "for name, column in test_tensor.items():\n",
        "  inputs[name] = tf.keras.Input(\n",
        "      shape=(1,), name=name, dtype=tf.float32)\n",
        "\n",
        "inputs"
      ],
      "metadata": {
        "id": "FfnpghXJchlw"
      }
    },
    {
      "cell_type": "markdown",
      "source": [
        "test_tensor.items()"
      ],
      "metadata": {
        "id": "5upxJXA4fIlk"
      }
    },
    {
      "cell_type": "markdown",
      "source": [
        "## Drop k3 for mbtr\n",
        "\n"
      ],
      "metadata": {
        "id": "-olxqzxYGUo9"
      }
    }
  ]
}